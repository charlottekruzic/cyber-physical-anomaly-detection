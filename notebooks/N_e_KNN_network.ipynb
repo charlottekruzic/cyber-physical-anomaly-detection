{
 "cells": [
  {
   "cell_type": "code",
   "execution_count": 1,
   "metadata": {},
   "outputs": [],
   "source": [
    "# Librairies\n",
    "import pandas as pd\n",
    "import numpy as np\n",
    "from pickleshare import PickleShareDB\n",
    "\n",
    "from sklearn.model_selection import train_test_split, GridSearchCV\n",
    "from sklearn.preprocessing import OrdinalEncoder, StandardScaler, LabelEncoder\n",
    "from sklearn.neighbors import KNeighborsClassifier\n",
    "from sklearn.utils import resample\n",
    "from sklearn.calibration import CalibratedClassifierCV\n",
    "from sklearn.metrics import precision_score, recall_score, accuracy_score, f1_score, balanced_accuracy_score, matthews_corrcoef, confusion_matrix\n",
    "import seaborn as sns\n",
    "import matplotlib.pyplot as plt\n",
    "\n",
    "import time\n",
    "import tracemalloc"
   ]
  },
  {
   "cell_type": "code",
   "execution_count": 2,
   "metadata": {},
   "outputs": [],
   "source": [
    "# Pour garantir la reproductibilité\n",
    "np.random.seed(42)  # Pour numpy"
   ]
  },
  {
   "cell_type": "markdown",
   "metadata": {},
   "source": [
    "## Chargement des données\n",
    "Nous chargeons les données depuis le fichier des données préprarées."
   ]
  },
  {
   "cell_type": "code",
   "execution_count": 3,
   "metadata": {},
   "outputs": [],
   "source": [
    "db = PickleShareDB('../prep_data/kity')"
   ]
  },
  {
   "cell_type": "code",
   "execution_count": 4,
   "metadata": {},
   "outputs": [],
   "source": [
    "# Chargement des données de classification binaire\n",
    "X_train_resampled_binary = db['binary_X_train_resampled']\n",
    "y_train_resampled_binary = db['binary_y_train_resampled']\n",
    "X_test_binary = db['binary_X_test']\n",
    "y_test_binary = db['binary_y_test']\n",
    "\n",
    "# Chargement des données de classification multi-classes\n",
    "X_train_resampled_multiclass = db['multiclass_X_train_resampled']\n",
    "y_train_resampled_multiclass = db['multiclass_y_train_resampled']\n",
    "X_test_multiclass = db['multiclass_X_test']\n",
    "y_test_multiclass = db['multiclass_y_test']\n",
    "\n",
    "# Chargement du mapping des étiquettes pour la classification multi-classes\n",
    "# Ce dictionnaire associe les étiquettes textuelles (e.g., 'normal', 'DoS') à des valeurs numériques\n",
    "label_mapping_network = db['label_mapping_network'] "
   ]
  },
  {
   "cell_type": "markdown",
   "metadata": {},
   "source": [
    "## Initialisation du modèle\n",
    "Notre dataset est considere de taille moyenne.\n",
    "Pour accélérer les recherches de voisins les plus proches, on va optimiser le modele avec KD-Tree."
   ]
  },
  {
   "cell_type": "code",
   "execution_count": 5,
   "metadata": {},
   "outputs": [],
   "source": [
    "knn = KNeighborsClassifier(\n",
    "    n_neighbors=10, \n",
    "    algorithm='kd_tree', \n",
    "    n_jobs=-1\n",
    ")"
   ]
  },
  {
   "cell_type": "markdown",
   "metadata": {},
   "source": [
    "## Entraînement du modèle et évaluation - Classification binaire"
   ]
  },
  {
   "cell_type": "code",
   "execution_count": 6,
   "metadata": {},
   "outputs": [],
   "source": [
    "# Mesurer le temps et la mémoire pour l'entraînement\n",
    "tracemalloc.start()\n",
    "start_fit_time = time.time()\n",
    "\n",
    "knn.fit(X_train_resampled_binary, y_train_resampled_binary)\n",
    "\n",
    "fit_time = time.time() - start_fit_time\n",
    "current, peak = tracemalloc.get_traced_memory()  # Mémoire actuelle et maximale utilisée\n",
    "fit_memory_usage = peak / (1024 * 1024)  # Convertir en Mo\n",
    "tracemalloc.stop()"
   ]
  },
  {
   "cell_type": "code",
   "execution_count": 7,
   "metadata": {},
   "outputs": [],
   "source": [
    "# Mesurer le temps et la mémoire pour la prediction\n",
    "tracemalloc.start()\n",
    "start_predict_time = time.time()\n",
    "\n",
    "# Prédire les étiquettes sur l'ensemble de test\n",
    "y_pred = knn.predict(X_test_binary)\n",
    "predict_time = time.time() - start_predict_time\n",
    "current, peak = tracemalloc.get_traced_memory()  # Mémoire actuelle et maximale utilisée\n",
    "predict_memory_usage = peak / (1024 * 1024)  # Convertir en Mo\n",
    "tracemalloc.stop()"
   ]
  },
  {
   "cell_type": "markdown",
   "metadata": {},
   "source": [
    "### Evaluation"
   ]
  },
  {
   "cell_type": "markdown",
   "metadata": {},
   "source": [
    "#### Métriques de classification"
   ]
  },
  {
   "cell_type": "code",
   "execution_count": 8,
   "metadata": {},
   "outputs": [],
   "source": [
    "cm = confusion_matrix(y_test_binary, y_pred)\n",
    "TN, FP, FN, TP = cm.ravel()\n",
    "\n",
    "# Métriques pour les données équilibrées\n",
    "precision = precision_score(y_test_binary, y_pred, average='binary')\n",
    "recall = recall_score(y_test_binary, y_pred, average='binary')\n",
    "tnr = TN / (TN + FP) if (TN + FP) != 0 else 0\n",
    "fpr = FP / (FP + TN) if (FP + TN) != 0 else 0\n",
    "accuracy = accuracy_score(y_test_binary, y_pred)\n",
    "\n",
    "# Métriques pour les données déséquilibrées\n",
    "f1 = f1_score(y_test_binary, y_pred, average='binary')\n",
    "balanced_acc = balanced_accuracy_score(y_test_binary, y_pred)\n",
    "mcc = matthews_corrcoef(y_test_binary, y_pred)\n",
    "\n",
    "results_KNN_label_n = {\n",
    "    'data': 'NETW',\n",
    "    'model_type': 'KNN',\n",
    "    'attack_type': 'labeln',\n",
    "    'confusion_matrix': cm,\n",
    "    'precision': precision,\n",
    "    'recall': recall,\n",
    "    'tnr': tnr,\n",
    "    'fpr': fpr,\n",
    "    'accuracy': accuracy,\n",
    "    'f1': f1,\n",
    "    'balanced_accuracy': balanced_acc,\n",
    "    'mcc': mcc,\n",
    "    'fit_time': fit_time,\n",
    "    'predict_time': predict_time,\n",
    "    'fit_memory_usage': fit_memory_usage,\n",
    "    'predict_memory_usage': predict_memory_usage\n",
    "}"
   ]
  },
  {
   "cell_type": "code",
   "execution_count": 9,
   "metadata": {},
   "outputs": [
    {
     "name": "stdout",
     "output_type": "stream",
     "text": [
      "Évaluation complète du modèle:\n",
      "data: NETW\n",
      "model_type: KNN\n",
      "attack_type: labeln\n",
      "confusion_matrix: [[62448  1032]\n",
      " [18383 25947]]\n",
      "precision: 0.9617480262426331\n",
      "recall: 0.5853146853146853\n",
      "tnr: 0.9837429111531191\n",
      "fpr: 0.01625708884688091\n",
      "accuracy: 0.8199146646878768\n",
      "f1: 0.727734227096159\n",
      "balanced_accuracy: 0.7845287982339022\n",
      "mcc: 0.6464302183342786\n",
      "fit_time: 1.790104627609253\n",
      "predict_time: 44.79987025260925\n",
      "fit_memory_usage: 54.263559341430664\n",
      "predict_memory_usage: 26.602312088012695\n"
     ]
    }
   ],
   "source": [
    "# Afficher les résultats\n",
    "print(\"Évaluation complète du modèle:\")\n",
    "for metric, value in results_KNN_label_n.items():\n",
    "    print(f\"{metric}: {value}\")\n"
   ]
  },
  {
   "cell_type": "markdown",
   "metadata": {},
   "source": [
    "##### Matrice de confusion "
   ]
  },
  {
   "cell_type": "code",
   "execution_count": 10,
   "metadata": {},
   "outputs": [
    {
     "data": {
      "image/png": "[encoded data removed]",
      "text/plain": [
       "<Figure size 640x480 with 2 Axes>"
      ]
     },
     "metadata": {},
     "output_type": "display_data"
    }
   ],
   "source": [
    "# Matrice de confusion\n",
    "sns.heatmap(cm, annot=True, fmt='d', cmap='Blues')\n",
    "plt.xlabel('Prédit')\n",
    "plt.ylabel('Réel')\n",
    "plt.title('Matrice de confusion')\n",
    "plt.show()"
   ]
  },
  {
   "cell_type": "markdown",
   "metadata": {},
   "source": [
    "### Sauvegarder les resultats"
   ]
  },
  {
   "cell_type": "code",
   "execution_count": 11,
   "metadata": {},
   "outputs": [],
   "source": [
    "db['NETW_results_KNN_labeln'] = results_KNN_label_n"
   ]
  },
  {
   "cell_type": "markdown",
   "metadata": {},
   "source": [
    "## Entraînement du modèle et évaluation - Classification multi-classes"
   ]
  },
  {
   "cell_type": "code",
   "execution_count": 12,
   "metadata": {},
   "outputs": [],
   "source": [
    "nb_class = 5\n",
    "ordered_classes = ['normal', 'DoS', 'physical fault', 'MITM', 'anomaly']"
   ]
  },
  {
   "cell_type": "code",
   "execution_count": 13,
   "metadata": {},
   "outputs": [],
   "source": [
    "# Mesurer le temps et la mémoire pour l'entraînement\n",
    "tracemalloc.start()\n",
    "start_fit_time = time.time()\n",
    "\n",
    "knn.fit(X_train_resampled_multiclass, y_train_resampled_multiclass)\n",
    "\n",
    "fit_time = time.time() - start_fit_time\n",
    "current, peak = tracemalloc.get_traced_memory()  # Mémoire actuelle et maximale utilisée\n",
    "fit_memory_usage = peak / (1024 * 1024)  # Convertir en Mo\n",
    "tracemalloc.stop()"
   ]
  },
  {
   "cell_type": "code",
   "execution_count": 14,
   "metadata": {},
   "outputs": [],
   "source": [
    "# Mesurer le temps et la mémoire pour la prediction\n",
    "tracemalloc.start()\n",
    "start_predict_time = time.time()\n",
    "\n",
    "# Prédire les étiquettes sur l'ensemble de test\n",
    "y_pred = knn.predict(X_test_multiclass)\n",
    "predict_time = time.time() - start_predict_time\n",
    "current, peak = tracemalloc.get_traced_memory()  # Mémoire actuelle et maximale utilisée\n",
    "predict_memory_usage = peak / (1024 * 1024)  # Convertir en Mo\n",
    "tracemalloc.stop()"
   ]
  },
  {
   "cell_type": "code",
   "execution_count": 15,
   "metadata": {},
   "outputs": [],
   "source": [
    "reverse_label_mapping = {v: k for k, v in label_mapping_network.items()}"
   ]
  },
  {
   "cell_type": "markdown",
   "metadata": {},
   "source": [
    "#### Métriques de classification"
   ]
  },
  {
   "cell_type": "code",
   "execution_count": 16,
   "metadata": {},
   "outputs": [
    {
     "name": "stdout",
     "output_type": "stream",
     "text": [
      "{0: {'data': 'NETW', 'model_type': 'KNN', 'attack_type': np.str_('normal'), 'confusion_matrix': array([[63121,   115,    74,   170,     0],\n",
      "       [  633, 25171,     0,     3,     1],\n",
      "       [ 7680,    11,    27,    25,     0],\n",
      "       [10531,    13,    18,   215,     0],\n",
      "       [    0,     0,     0,     0,     2]]), 'TN': np.int64(25486), 'FP': np.int64(18844), 'FN': np.int64(359), 'TP': np.int64(63121), 'precision': np.float64(0.7700969926188007), 'recall': np.float64(0.9943446754883428), 'f1': np.float64(0.8679707105778817), 'balanced_accuracy': np.float64(0.7846300413309073), 'mcc': np.float64(0.6561083522497381), 'tnr': np.float64(0.5749154071734717), 'fpr': np.float64(0.42508459282652833), 'accuracy': np.float64(0.8218810870976718), 'fit_time': 1.7523040771484375, 'predict_time': 38.57403540611267, 'fit_memory_usage': 73.19142436981201, 'predict_memory_usage': 27.275672912597656}, 1: {'data': 'NETW', 'model_type': 'KNN', 'attack_type': np.str_('DoS'), 'confusion_matrix': array([[63121,   115,    74,   170,     0],\n",
      "       [  633, 25171,     0,     3,     1],\n",
      "       [ 7680,    11,    27,    25,     0],\n",
      "       [10531,    13,    18,   215,     0],\n",
      "       [    0,     0,     0,     0,     2]]), 'TN': np.int64(81863), 'FP': np.int64(139), 'FN': np.int64(637), 'TP': np.int64(25171), 'precision': np.float64(0.9945080995653892), 'recall': np.float64(0.9753177309361438), 'f1': np.float64(0.9848194373801792), 'balanced_accuracy': np.float64(0.9868113251641769), 'mcc': np.float64(0.9801826690279044), 'tnr': np.float64(0.99830491939221), 'fpr': np.float64(0.0016950806077900538), 'accuracy': np.float64(0.9928021519339579), 'fit_time': 1.7523040771484375, 'predict_time': 38.57403540611267, 'fit_memory_usage': 73.19142436981201, 'predict_memory_usage': 27.275672912597656}, 2: {'data': 'NETW', 'model_type': 'KNN', 'attack_type': np.str_('physical fault'), 'confusion_matrix': array([[63121,   115,    74,   170,     0],\n",
      "       [  633, 25171,     0,     3,     1],\n",
      "       [ 7680,    11,    27,    25,     0],\n",
      "       [10531,    13,    18,   215,     0],\n",
      "       [    0,     0,     0,     0,     2]]), 'TN': np.int64(99975), 'FP': np.int64(92), 'FN': np.int64(7716), 'TP': np.int64(27), 'precision': np.float64(0.226890756302521), 'recall': np.float64(0.003487020534676482), 'f1': np.float64(0.006868481302467566), 'balanced_accuracy': np.float64(0.5012838182609824), 'mcc': np.float64(0.019965051207395744), 'tnr': np.float64(0.9990806159872885), 'fpr': np.float64(0.0009193840127114833), 'accuracy': np.float64(0.9275762916241536), 'fit_time': 1.7523040771484375, 'predict_time': 38.57403540611267, 'fit_memory_usage': 73.19142436981201, 'predict_memory_usage': 27.275672912597656}, 3: {'data': 'NETW', 'model_type': 'KNN', 'attack_type': np.str_('MITM'), 'confusion_matrix': array([[63121,   115,    74,   170,     0],\n",
      "       [  633, 25171,     0,     3,     1],\n",
      "       [ 7680,    11,    27,    25,     0],\n",
      "       [10531,    13,    18,   215,     0],\n",
      "       [    0,     0,     0,     0,     2]]), 'TN': np.int64(96835), 'FP': np.int64(198), 'FN': np.int64(10562), 'TP': np.int64(215), 'precision': np.float64(0.5205811138014528), 'recall': np.float64(0.019949893291268443), 'f1': np.float64(0.03842716711349419), 'balanced_accuracy': np.float64(0.5089546751915928), 'mcc': np.float64(0.08695957392269181), 'tnr': np.float64(0.9979594570919171), 'fpr': np.float64(0.002040542908082817), 'accuracy': np.float64(0.9001947871254986), 'fit_time': 1.7523040771484375, 'predict_time': 38.57403540611267, 'fit_memory_usage': 73.19142436981201, 'predict_memory_usage': 27.275672912597656}, 4: {'data': 'NETW', 'model_type': 'KNN', 'attack_type': np.str_('anomaly'), 'confusion_matrix': array([[63121,   115,    74,   170,     0],\n",
      "       [  633, 25171,     0,     3,     1],\n",
      "       [ 7680,    11,    27,    25,     0],\n",
      "       [10531,    13,    18,   215,     0],\n",
      "       [    0,     0,     0,     0,     2]]), 'TN': np.int64(107807), 'FP': np.int64(1), 'FN': np.int64(0), 'TP': np.int64(2), 'precision': np.float64(0.6666666666666666), 'recall': np.float64(1.0), 'f1': np.float64(0.8), 'balanced_accuracy': np.float64(0.9999953621252597), 'mcc': np.float64(0.8164927941100764), 'tnr': np.float64(0.9999907242505195), 'fpr': np.float64(9.27574948055803e-06), 'accuracy': np.float64(0.9999907244225953), 'fit_time': 1.7523040771484375, 'predict_time': 38.57403540611267, 'fit_memory_usage': 73.19142436981201, 'predict_memory_usage': 27.275672912597656}}\n"
     ]
    }
   ],
   "source": [
    "cm = confusion_matrix(y_test_multiclass, y_pred)\n",
    "\n",
    "# Dictionnaire pour stocker les résultats de chaque classe\n",
    "class_results = {}\n",
    "\n",
    "for class_label in range(nb_class):\n",
    "    # Extraire la matrice de confusion pour la classe spécifique\n",
    "    TP = cm[class_label, class_label]\n",
    "    FP = sum(cm[:, class_label]) - TP\n",
    "    FN = sum(cm[class_label, :]) - TP\n",
    "    TN = cm.sum() - (TP + FP + FN)\n",
    "\n",
    "    # Calcul des métriques pour chaque classe\n",
    "    precision = precision_score(y_test_multiclass, y_pred, average=None)[class_label]\n",
    "    recall_tpr = recall_score(y_test_multiclass, y_pred, average=None)[class_label]\n",
    "    tnr = TN / (TN + FP) if (TN + FP) != 0 else 0\n",
    "    fpr = FP / (FP + TN) if (FP + TN) != 0 else 0\n",
    "    accuracy = (TP + TN) / (TP + TN + FP + FN)\n",
    "    f1 = f1_score(y_test_multiclass, y_pred, average=None)[class_label]\n",
    "    balanced_acc = (recall_tpr + tnr) / 2\n",
    "    mcc = (TP * TN - FP * FN) / np.sqrt((TP + FP) * (TP + FN) * (TN + FP) * (TN + FN)) if (TP + FP) * (TP + FN) * (TN + FP) * (TN + FN) != 0 else 0\n",
    "\n",
    "\n",
    "# Stocker les résultats dans le dictionnaire\n",
    "    class_results[class_label] = {\n",
    "        'data': 'NETW',\n",
    "        'model_type': 'KNN',\n",
    "        'attack_type': reverse_label_mapping[class_label],\n",
    "        'confusion_matrix': cm,\n",
    "        'TN': TN,\n",
    "        'FP': FP,\n",
    "        'FN': FN,\n",
    "        'TP': TP,\n",
    "        'precision': precision,\n",
    "        'recall': recall_tpr,\n",
    "        'f1': f1,\n",
    "        'balanced_accuracy': balanced_acc,\n",
    "        'mcc': mcc,\n",
    "        'tnr': tnr,\n",
    "        'fpr': fpr,\n",
    "        'accuracy': accuracy,\n",
    "        'fit_time': fit_time,\n",
    "        'predict_time': predict_time,\n",
    "        'fit_memory_usage': fit_memory_usage,\n",
    "        'predict_memory_usage': predict_memory_usage\n",
    "    }\n",
    "\n",
    "# Afficher ou enregistrer les résultats pour chaque classe\n",
    "print(class_results)"
   ]
  },
  {
   "cell_type": "code",
   "execution_count": 17,
   "metadata": {},
   "outputs": [
    {
     "name": "stdout",
     "output_type": "stream",
     "text": [
      "[0.77009699 0.9945081  0.22689076 0.52058111 0.66666667]\n",
      "Résultats pour la classe 0: 0.7700969926188007\n",
      "avec calcul : 0.7700969926188007\n",
      "Résultats pour la classe 1: 0.9945080995653892\n",
      "avec calcul : 0.9945080995653892\n",
      "Résultats pour la classe 2: 0.226890756302521\n",
      "avec calcul : 0.226890756302521\n",
      "Résultats pour la classe 3: 0.5205811138014528\n",
      "avec calcul : 0.5205811138014528\n",
      "Résultats pour la classe 4: 0.6666666666666666\n",
      "avec calcul : 0.6666666666666666\n"
     ]
    }
   ],
   "source": [
    "# vérif\n",
    "print(precision_score(y_test_multiclass, y_pred, average=None))\n",
    "for i in range(nb_class):\n",
    "    print(f\"Résultats pour la classe {i}: {class_results[i]['precision']}\")\n",
    "    print(f\"avec calcul : {class_results[i]['TP'] / (class_results[i]['TP'] + class_results[i]['FP'])}\")"
   ]
  },
  {
   "cell_type": "code",
   "execution_count": 18,
   "metadata": {},
   "outputs": [
    {
     "name": "stdout",
     "output_type": "stream",
     "text": [
      "test tpr 0.9753177309361438\n",
      "0.9753177309361438\n"
     ]
    }
   ],
   "source": [
    "tp = class_results[1]['TP']\n",
    "fn = class_results[1]['FN']\n",
    "print(\"test tpr\", tp / (tp + fn))\n",
    "print(class_results[1]['recall'])"
   ]
  },
  {
   "cell_type": "markdown",
   "metadata": {},
   "source": [
    "##### Matrice de confusion "
   ]
  },
  {
   "cell_type": "code",
   "execution_count": 19,
   "metadata": {},
   "outputs": [
    {
     "data": {
      "image/png": "[encoded data removed]",
      "text/plain": [
       "<Figure size 640x480 with 2 Axes>"
      ]
     },
     "metadata": {},
     "output_type": "display_data"
    }
   ],
   "source": [
    "# Matrice de confusion\n",
    "sns.heatmap(cm, annot=True, fmt='d', cmap='Blues', xticklabels=ordered_classes, yticklabels=ordered_classes)\n",
    "plt.xlabel('Prédit')\n",
    "plt.ylabel('Réel')\n",
    "plt.title('Matrice de confusion')\n",
    "plt.show()"
   ]
  },
  {
   "cell_type": "markdown",
   "metadata": {},
   "source": [
    "### Sauvegarder les resultats"
   ]
  },
  {
   "cell_type": "code",
   "execution_count": 20,
   "metadata": {},
   "outputs": [],
   "source": [
    "# sauvegarder les données \n",
    "\n",
    "for i in range(1, nb_class):\n",
    "    class_results[i]['model'] = f'KNN - label - {reverse_label_mapping[i]}'\n",
    "    db[f'NETW_results_KNN_{reverse_label_mapping[i]}'] = class_results[i]"
   ]
  }
 ],
 "metadata": {
  "kernelspec": {
   "display_name": "Python 3",
   "language": "python",
   "name": "python3"
  },
  "language_info": {
   "codemirror_mode": {
    "name": "ipython",
    "version": 3
   },
   "file_extension": ".py",
   "mimetype": "text/x-python",
   "name": "python",
   "nbconvert_exporter": "python",
   "pygments_lexer": "ipython3",
   "version": "3.11.2"
  }
 },
 "nbformat": 4,
 "nbformat_minor": 2
}
