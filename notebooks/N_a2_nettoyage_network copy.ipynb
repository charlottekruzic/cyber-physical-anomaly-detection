{
 "cells": [
  {
   "cell_type": "markdown",
   "metadata": {},
   "source": [
    "# Nettoyage des données network"
   ]
  },
  {
   "cell_type": "markdown",
   "metadata": {},
   "source": [
    "Ce notebook ne contient que la préparation des données, afin d'obtenir les données préparées plus rapidement.  \n",
    "C'est un copier-coller des parties Nettoyage du notebook `a_preparation_network.ipynb`, sans les vérifications.  \n",
    "Les explications des choix de préparation sont dans l'autre notebook."
   ]
  },
  {
   "cell_type": "code",
   "execution_count": 1,
   "metadata": {},
   "outputs": [],
   "source": [
    "import pandas as pd\n",
    "import os\n",
    "from pickleshare import PickleShareDB\n",
    "import numpy as np"
   ]
  },
  {
   "cell_type": "markdown",
   "metadata": {},
   "source": [
    "## Chargement des données"
   ]
  },
  {
   "cell_type": "code",
   "execution_count": 2,
   "metadata": {},
   "outputs": [],
   "source": [
    "df_net_1 = pd.read_csv('../datasets/Network datatset/csv/attack_1.csv')\n",
    "df_net_2 = pd.read_csv('../datasets/Network datatset/csv/attack_2.csv')\n",
    "df_net_3 = pd.read_csv('../datasets/Network datatset/csv/attack_3.csv')\n",
    "df_net_4 = pd.read_csv('../datasets/Network datatset/csv/attack_4.csv')\n",
    "df_net_norm = pd.read_csv('../datasets/Network datatset/csv/normal.csv')"
   ]
  },
  {
   "cell_type": "markdown",
   "metadata": {},
   "source": [
    "## Enregistrement et ouverture avec PickleShare si besoin"
   ]
  },
  {
   "cell_type": "markdown",
   "metadata": {},
   "source": [
    "Vous pouvez exécuter la partie du code ci-dessous pour enregistrer les fichiers dans la base de données PickleShare.  \n",
    "Ensuite vous redémarrez le noyau et chargez les données depuis la base de données.  \n",
    "Cela permet de ne pas utiliser la fonction d'ouverture des fichiers csv de pandas, et de moins saturer la RAM."
   ]
  },
  {
   "cell_type": "code",
   "execution_count": 3,
   "metadata": {},
   "outputs": [],
   "source": [
    "\n",
    "data_dir = '../prep_data' \n",
    "os.makedirs(data_dir, exist_ok=True)\n",
    "db = PickleShareDB(os.path.join(data_dir, 'kity'))\n",
    "\n",
    "db['net_attack_1'] = df_net_1\n",
    "db['net_attack_2'] = df_net_2\n",
    "db['net_attack_3'] = df_net_3\n",
    "db['net_attack_4'] = df_net_4\n",
    "db['net_norm'] = df_net_norm\n"
   ]
  }
 ],
 "metadata": {
  "kernelspec": {
   "display_name": "Python 3",
   "language": "python",
   "name": "python3"
  },
  "language_info": {
   "codemirror_mode": {
    "name": "ipython",
    "version": 3
   },
   "file_extension": ".py",
   "mimetype": "text/x-python",
   "name": "python",
   "nbconvert_exporter": "python",
   "pygments_lexer": "ipython3",
   "version": "3.10.12"
  }
 },
 "nbformat": 4,
 "nbformat_minor": 2
}
