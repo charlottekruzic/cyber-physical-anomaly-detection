{
 "cells": [
  {
   "cell_type": "markdown",
   "metadata": {},
   "source": [
    "# Enregistrement de tables de variances expliquées"
   ]
  },
  {
   "cell_type": "markdown",
   "metadata": {},
   "source": [
    "Ce notebook permet d'enregistrer les tables de variances expliquées pour streamlite."
   ]
  },
  {
   "cell_type": "code",
   "execution_count": 1,
   "metadata": {},
   "outputs": [],
   "source": [
    "from pickleshare import PickleShareDB\n",
    "import pandas as pd\n",
    "import numpy as np\n",
    "from sklearn.preprocessing import StandardScaler, OrdinalEncoder\n",
    "from sklearn.decomposition import PCA\n",
    "import matplotlib.pyplot as plt"
   ]
  },
  {
   "cell_type": "markdown",
   "metadata": {},
   "source": [
    "## Chargement des données"
   ]
  },
  {
   "cell_type": "markdown",
   "metadata": {},
   "source": [
    "Nous chargeons les données depuis le fichier des données préparées."
   ]
  },
  {
   "cell_type": "code",
   "execution_count": 2,
   "metadata": {},
   "outputs": [],
   "source": [
    "db = PickleShareDB('../prep_data/kity')"
   ]
  },
  {
   "cell_type": "code",
   "execution_count": 3,
   "metadata": {},
   "outputs": [],
   "source": [
    "df = [db['net_attack_1_clean'], db['net_attack_2_clean'], db['net_attack_3_clean'], db['net_attack_4_clean']]\n",
    "df = pd.concat(df, axis=0, ignore_index=True)"
   ]
  },
  {
   "cell_type": "code",
   "execution_count": null,
   "metadata": {},
   "outputs": [
    {
     "name": "stderr",
     "output_type": "stream",
     "text": [
      "C:\\Users\\charl\\AppData\\Local\\Temp\\ipykernel_28376\\2042881810.py:1: DeprecationWarning: DataFrameGroupBy.apply operated on the grouping columns. This behavior is deprecated, and in a future version of pandas the grouping columns will be excluded from the operation. Either pass `include_groups=False` to exclude the groupings or explicitly select the grouping columns after groupby to silence this warning.\n",
      "  df = df.groupby('label', group_keys=False).apply(\n"
     ]
    }
   ],
   "source": [
    "df = df.groupby('label', group_keys=False).apply(\n",
    "    lambda x: x.sample(frac=0.25, random_state=42)\n",
    ")"
   ]
  },
  {
   "cell_type": "markdown",
   "metadata": {},
   "source": [
    "## Préparation des données"
   ]
  },
  {
   "cell_type": "code",
   "execution_count": 5,
   "metadata": {},
   "outputs": [],
   "source": [
    "def preparation(df):\n",
    "    df = df.drop(columns=['Time'])\n",
    "    scaler = StandardScaler()\n",
    "    df[['n_pkt_src', 'n_pkt_dst', 'size']] = scaler.fit_transform(df[['n_pkt_src', 'n_pkt_dst', 'size']])\n",
    "    labels = df[['label', 'label_n']]\n",
    "    df = df.drop(columns=['label', 'label_n'])\n",
    "    df = pd.get_dummies(df, columns=['flags',  'proto', 'modbus_fn', 'modbus_response', 'dport', 'sport'], prefix=['flags', 'proto', 'modbus_fn', 'modbus_response', 'dport', 'sport'])\n",
    "    ordinal_encoder = OrdinalEncoder()\n",
    "    df[['ip_s', 'ip_d', 'mac_s', 'mac_d']] = ordinal_encoder.fit_transform(df[['ip_s', 'ip_d', 'mac_s', 'mac_d']])\n",
    "    scaler = StandardScaler()\n",
    "    df[['ip_s', 'ip_d', 'mac_s', 'mac_d']] = scaler.fit_transform(df[['ip_s', 'ip_d', 'mac_s', 'mac_d']])\n",
    "    df.drop(columns=['modbus_fn_inconnue', 'flags_inconnue',  'modbus_response_inconnue'], inplace=True) #'sport_inconnu', 'dport_inconnu',\n",
    "    for col in df.columns:\n",
    "        if df[col].dtype == 'bool':\n",
    "            df[col] = df[col].astype(float)\n",
    "    return df, labels"
   ]
  },
  {
   "cell_type": "code",
   "execution_count": 7,
   "metadata": {},
   "outputs": [],
   "source": [
    "df, labels =  preparation(df)"
   ]
  },
  {
   "cell_type": "markdown",
   "metadata": {},
   "source": [
    "## Réduction de dimensions : PCA"
   ]
  },
  {
   "cell_type": "markdown",
   "metadata": {},
   "source": [
    "### Variance expliquée par les dimensions"
   ]
  },
  {
   "cell_type": "code",
   "execution_count": 8,
   "metadata": {},
   "outputs": [],
   "source": [
    "def pca(df, name):\n",
    "    pca = PCA()\n",
    "    df_pca = pca.fit(df)\n",
    "    variance_expliquee = (pca.explained_variance_ratio_ * 100).round(2)\n",
    "    #variance_expliquee = variance_expliquee.round(2)\n",
    "\n",
    "    variance_table = pd.DataFrame({\n",
    "        \"Composante\": [f\"PC{i+1}\" for i in range(len(variance_expliquee))],\n",
    "        \"Pourcentage de Variance Expliquée\": variance_expliquee,\n",
    "        \"Total\": variance_expliquee.cumsum()\n",
    "    })\n",
    "\n",
    "    db['pca_variance_table_'+ name] = variance_table"
   ]
  },
  {
   "cell_type": "code",
   "execution_count": 9,
   "metadata": {},
   "outputs": [],
   "source": [
    "#pca(df, 'all')\n",
    "pca(df, 'df_net')"
   ]
  },
  {
   "cell_type": "markdown",
   "metadata": {},
   "source": [
    "Le nombre de dimensions minimum permettant de conserver au moins 90% de l'information :\n",
    "- df_1 : 6 dimensions (PC6  2.65  91.94)\n",
    "- df_2 : 6 dimensions (PC6  2.26  91.29)\n",
    "- df_3 : 4 dimensions (PC4  2.33  91.95)\n",
    "- df_4 : 6 dimensions (PC6  2.62  90.53)\n",
    "- df_norm : pas d'interêt\n",
    "- all : 6 dimensions (PC6  2.22  91.00)"
   ]
  }
 ],
 "metadata": {
  "kernelspec": {
   "display_name": "Python 3",
   "language": "python",
   "name": "python3"
  },
  "language_info": {
   "codemirror_mode": {
    "name": "ipython",
    "version": 3
   },
   "file_extension": ".py",
   "mimetype": "text/x-python",
   "name": "python",
   "nbconvert_exporter": "python",
   "pygments_lexer": "ipython3",
   "version": "3.12.1"
  }
 },
 "nbformat": 4,
 "nbformat_minor": 2
}
