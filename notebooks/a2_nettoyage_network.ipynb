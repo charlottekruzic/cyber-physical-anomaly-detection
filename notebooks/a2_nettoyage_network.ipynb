{
 "cells": [
  {
   "cell_type": "markdown",
   "metadata": {},
   "source": [
    "# Préparation des données network"
   ]
  },
  {
   "cell_type": "code",
   "execution_count": 1,
   "metadata": {},
   "outputs": [],
   "source": [
    "import pandas as pd\n",
    "import os\n",
    "from pickleshare import PickleShareDB"
   ]
  },
  {
   "cell_type": "markdown",
   "metadata": {},
   "source": [
    "## Chargement des données"
   ]
  },
  {
   "cell_type": "code",
   "execution_count": 2,
   "metadata": {},
   "outputs": [],
   "source": [
    "df_net_1_load = pd.read_csv('../datasets/Network datatset/csv/attack_1.csv')\n",
    "df_net_2_load = pd.read_csv('../datasets/Network datatset/csv/attack_2.csv')\n",
    "df_net_3_load = pd.read_csv('../datasets/Network datatset/csv/attack_3.csv')\n",
    "df_net_4_load = pd.read_csv('../datasets/Network datatset/csv/attack_4.csv')\n",
    "df_net_norm_load = pd.read_csv('../datasets/Network datatset/csv/normal.csv')"
   ]
  },
  {
   "cell_type": "code",
   "execution_count": 3,
   "metadata": {},
   "outputs": [],
   "source": [
    "df_net_1 = df_net_1_load.copy()\n",
    "df_net_2 = df_net_2_load.copy()\n",
    "df_net_3 = df_net_3_load.copy()\n",
    "df_net_4 = df_net_4_load.copy()\n",
    "df_net_norm = df_net_norm_load.copy()"
   ]
  },
  {
   "cell_type": "markdown",
   "metadata": {},
   "source": [
    "## Enregistrement et ouverture avec PickleShare si besoin"
   ]
  },
  {
   "cell_type": "code",
   "execution_count": 4,
   "metadata": {},
   "outputs": [
    {
     "data": {
      "text/plain": [
       "\"\\ndata_dir = '../prep_data' \\nos.makedirs(data_dir, exist_ok=True)\\ndb = PickleShareDB(os.path.join(data_dir, 'kity'))\\n\\ndb['net_attack_1'] = df_net_1_load\\ndb['net_attack_2'] = df_net_2_load\\ndb['net_attack_3'] = df_net_3_load\\ndb['net_attack_4'] = df_net_4_load\\ndb['net_norm'] = df_net_norm_load\\n\""
      ]
     },
     "execution_count": 4,
     "metadata": {},
     "output_type": "execute_result"
    }
   ],
   "source": [
    "\"\"\"\n",
    "data_dir = '../prep_data' \n",
    "os.makedirs(data_dir, exist_ok=True)\n",
    "db = PickleShareDB(os.path.join(data_dir, 'kity'))\n",
    "\n",
    "db['net_attack_1'] = df_net_1_load\n",
    "db['net_attack_2'] = df_net_2_load\n",
    "db['net_attack_3'] = df_net_3_load\n",
    "db['net_attack_4'] = df_net_4_load\n",
    "db['net_norm'] = df_net_norm_load\n",
    "\"\"\""
   ]
  },
  {
   "cell_type": "code",
   "execution_count": 5,
   "metadata": {},
   "outputs": [
    {
     "data": {
      "text/plain": [
       "\"\\ndf_net_1 = db['net_attack_1']\\ndf_net_2 = db['net_attack_2']\\ndf_net_3 = db['net_attack_3']\\ndf_net_4 = db['net_attack_4']\\ndf_net_norm = db['net_norm']\\n\""
      ]
     },
     "execution_count": 5,
     "metadata": {},
     "output_type": "execute_result"
    }
   ],
   "source": [
    "\"\"\"\n",
    "df_net_1 = db['net_attack_1']\n",
    "df_net_2 = db['net_attack_2']\n",
    "df_net_3 = db['net_attack_3']\n",
    "df_net_4 = db['net_attack_4']\n",
    "df_net_norm = db['net_norm']\n",
    "\"\"\""
   ]
  },
  {
   "cell_type": "markdown",
   "metadata": {},
   "source": [
    "## Nettoyage (1)"
   ]
  },
  {
   "cell_type": "code",
   "execution_count": 6,
   "metadata": {},
   "outputs": [],
   "source": [
    "df_all = [df_net_1, df_net_2, df_net_3, df_net_4, df_net_norm]\n",
    "df_nom = ['df_net_1', 'df_net_2', 'df_net_3', 'df_net_4', 'df_net_norm']"
   ]
  },
  {
   "cell_type": "markdown",
   "metadata": {},
   "source": [
    "### Harmonisation noms colonnes"
   ]
  },
  {
   "cell_type": "code",
   "execution_count": 7,
   "metadata": {},
   "outputs": [],
   "source": [
    "for df in df_all:\n",
    "    df.columns = df.columns.str.strip()"
   ]
  },
  {
   "cell_type": "markdown",
   "metadata": {},
   "source": [
    "### Ordre colonnes"
   ]
  },
  {
   "cell_type": "code",
   "execution_count": 8,
   "metadata": {},
   "outputs": [],
   "source": [
    "columns_order = ['Time', 'mac_s', 'mac_d', 'ip_s', 'ip_d', 'sport', 'dport', 'proto', 'flags', 'size', 'modbus_fn', 'n_pkt_src', 'n_pkt_dst', 'modbus_response', 'label_n', 'label']\n",
    "df_all = [df[columns_order] for df in df_all]"
   ]
  },
  {
   "cell_type": "markdown",
   "metadata": {},
   "source": [
    "## Nettoyage (2)"
   ]
  },
  {
   "cell_type": "markdown",
   "metadata": {},
   "source": [
    "### Modification des types"
   ]
  },
  {
   "cell_type": "code",
   "execution_count": 9,
   "metadata": {},
   "outputs": [],
   "source": [
    "for i, df in enumerate(df_all):\n",
    "    df['label_n'] = df['label_n'].astype('bool')\n",
    "    df['label'] = df['label'].astype('category')"
   ]
  },
  {
   "cell_type": "code",
   "execution_count": 10,
   "metadata": {},
   "outputs": [],
   "source": [
    "columns_to_convert = ['sport', 'dport', 'flags', 'n_pkt_src', 'n_pkt_dst']\n",
    "\n",
    "for i in range(len(df_all)):\n",
    "    for col in columns_to_convert:\n",
    "        df_all[i][col] = df_all[i][col].astype('Int64') # ok pour les valeurs manquantes"
   ]
  },
  {
   "cell_type": "code",
   "execution_count": 11,
   "metadata": {},
   "outputs": [],
   "source": [
    "for i in range(len(df_all)):\n",
    "    df_all[i]['Time'] = pd.to_datetime(df_all[i]['Time'], format='mixed')"
   ]
  },
  {
   "cell_type": "markdown",
   "metadata": {},
   "source": [
    "## Nettoyage (3)"
   ]
  },
  {
   "cell_type": "markdown",
   "metadata": {},
   "source": [
    "### Discrétisation des ports"
   ]
  },
  {
   "cell_type": "code",
   "execution_count": 12,
   "metadata": {},
   "outputs": [],
   "source": [
    "def get_categorie_ports(port):\n",
    "    if pd.isna(port):\n",
    "        return \"inconnu\" # remplacement des valeurs manquantes\n",
    "    if port < 1024:\n",
    "        return \"system_ports\"\n",
    "    elif port <= 49151:\n",
    "        return \"user_ports\"\n",
    "    else:\n",
    "        return \"dynamic/private_ports\""
   ]
  },
  {
   "cell_type": "code",
   "execution_count": 13,
   "metadata": {},
   "outputs": [],
   "source": [
    "for i in range(len(df_all)):\n",
    "    for col in ['sport', 'dport']:\n",
    "        df_all[i][col] = df_all[i][col].apply(get_categorie_ports).astype('category')"
   ]
  },
  {
   "cell_type": "markdown",
   "metadata": {},
   "source": [
    "### Transformation des flags en catégories"
   ]
  },
  {
   "cell_type": "code",
   "execution_count": 14,
   "metadata": {},
   "outputs": [],
   "source": [
    "for i, df in enumerate(df_all):\n",
    "    df['flags'] = df['flags'].astype('category')"
   ]
  },
  {
   "cell_type": "markdown",
   "metadata": {},
   "source": [
    "### One-hot de la colonne flags (faire plus tard)"
   ]
  },
  {
   "cell_type": "code",
   "execution_count": 15,
   "metadata": {},
   "outputs": [],
   "source": [
    "#for i in range(len(df_all)):\n",
    "#    df_all[i] = pd.get_dummies(df_all[i], columns=['flags'], prefix='flag')"
   ]
  },
  {
   "cell_type": "code",
   "execution_count": 16,
   "metadata": {},
   "outputs": [],
   "source": [
    "#df_all[0].head()"
   ]
  },
  {
   "cell_type": "markdown",
   "metadata": {},
   "source": [
    "Les colonnes créée ne sont pas forcément les même en fonction des datasets, car toutes les valeurs n'ètaient pas présentent dans tous les datasets.  \n",
    "Nous ajoutons donc des colonnes avec False si elles n'y sont pas."
   ]
  },
  {
   "cell_type": "markdown",
   "metadata": {},
   "source": [
    "#### Ajout des colonnes non créées"
   ]
  },
  {
   "cell_type": "code",
   "execution_count": 17,
   "metadata": {},
   "outputs": [],
   "source": [
    "#all_columns = set()\n",
    "#for df in df_all:\n",
    "#    flag_columns = [col for col in df.columns if col.startswith('flag')]\n",
    "#    all_columns.update(flag_columns)\n",
    "#all_columns = list(all_columns)"
   ]
  },
  {
   "cell_type": "code",
   "execution_count": 18,
   "metadata": {},
   "outputs": [],
   "source": [
    "#print(all_columns)"
   ]
  },
  {
   "cell_type": "code",
   "execution_count": 19,
   "metadata": {},
   "outputs": [],
   "source": [
    "#for i in range(len(df_all)):\n",
    "#    manquantes = set(all_columns) - set(df_all[i].columns)\n",
    "#    \n",
    "#    for col in manquantes:\n",
    "#        df_all[i][col] = False\n",
    "#    \n",
    "#    df_all[i] = df_all[i].reindex(columns=list(df_all[i].columns) + [col for col in all_columns if col not in df_all[i].columns])"
   ]
  },
  {
   "cell_type": "code",
   "execution_count": 20,
   "metadata": {},
   "outputs": [],
   "source": [
    "# Check si les flags avec des valeurs manquantes ont bien des False dans toutes les colonnes\n",
    "#columns_to_check = ['flag_0', 'flag_10100', 'flag_10', 'flag_10000', 'flag_11000010', 'flag_11001', 'flag_11000', 'flag_1', 'flag_101001', 'flag_10010', 'flag_100', 'flag_10001']\n",
    "#\n",
    "#for i in range(len(df_all)):\n",
    "#    df = df_all[i]\n",
    "#    false_count = (~df[columns_to_check].any(axis=1)).sum()\n",
    "#    print(f\"{df_nom[i]} : {false_count} = False\")"
   ]
  },
  {
   "cell_type": "code",
   "execution_count": 21,
   "metadata": {},
   "outputs": [],
   "source": [
    "#df_all[0].head()"
   ]
  },
  {
   "cell_type": "markdown",
   "metadata": {},
   "source": [
    "## Nettoyage (4)"
   ]
  },
  {
   "cell_type": "code",
   "execution_count": 22,
   "metadata": {},
   "outputs": [],
   "source": [
    "for df in df_all:\n",
    "    for col in ['ip_s', 'ip_d', 'modbus_fn', 'modbus_response']:\n",
    "        df[col] = df[col].fillna(\"inconnue\")\n",
    "    for col in ['n_pkt_src', 'n_pkt_dst']: # La colonne redevient de type float\n",
    "        df[col] = df[col].fillna(df[col].median())\n",
    "    for col in ['flags']:\n",
    "        df[col] = df[col].cat.add_categories('inconnue')\n",
    "        df[col] = df[col].fillna('inconnue')"
   ]
  },
  {
   "cell_type": "markdown",
   "metadata": {},
   "source": [
    "## Enregistrement des données dans les datasets"
   ]
  },
  {
   "cell_type": "code",
   "execution_count": 23,
   "metadata": {},
   "outputs": [],
   "source": [
    "df_net_1 = df_all[0]\n",
    "df_net_2 = df_all[1]\n",
    "df_net_3 = df_all[2]\n",
    "df_net_4 = df_all[3]\n",
    "df_net_norm = df_all[4]"
   ]
  },
  {
   "cell_type": "code",
   "execution_count": 24,
   "metadata": {},
   "outputs": [
    {
     "data": {
      "text/html": [
       "<div>\n",
       "<style scoped>\n",
       "    .dataframe tbody tr th:only-of-type {\n",
       "        vertical-align: middle;\n",
       "    }\n",
       "\n",
       "    .dataframe tbody tr th {\n",
       "        vertical-align: top;\n",
       "    }\n",
       "\n",
       "    .dataframe thead th {\n",
       "        text-align: right;\n",
       "    }\n",
       "</style>\n",
       "<table border=\"1\" class=\"dataframe\">\n",
       "  <thead>\n",
       "    <tr style=\"text-align: right;\">\n",
       "      <th></th>\n",
       "      <th>Time</th>\n",
       "      <th>mac_s</th>\n",
       "      <th>mac_d</th>\n",
       "      <th>ip_s</th>\n",
       "      <th>ip_d</th>\n",
       "      <th>sport</th>\n",
       "      <th>dport</th>\n",
       "      <th>proto</th>\n",
       "      <th>flags</th>\n",
       "      <th>size</th>\n",
       "      <th>modbus_fn</th>\n",
       "      <th>n_pkt_src</th>\n",
       "      <th>n_pkt_dst</th>\n",
       "      <th>modbus_response</th>\n",
       "      <th>label_n</th>\n",
       "      <th>label</th>\n",
       "    </tr>\n",
       "  </thead>\n",
       "  <tbody>\n",
       "    <tr>\n",
       "      <th>0</th>\n",
       "      <td>2021-04-09 18:23:28.385003</td>\n",
       "      <td>74:46:a0:bd:a7:1b</td>\n",
       "      <td>0a:fe:ec:47:74:fb</td>\n",
       "      <td>84.3.251.20</td>\n",
       "      <td>84.3.251.102</td>\n",
       "      <td>dynamic/private_ports</td>\n",
       "      <td>system_ports</td>\n",
       "      <td>Modbus</td>\n",
       "      <td>11000</td>\n",
       "      <td>66</td>\n",
       "      <td>Read Coils Request</td>\n",
       "      <td>0</td>\n",
       "      <td>0</td>\n",
       "      <td>inconnue</td>\n",
       "      <td>False</td>\n",
       "      <td>normal</td>\n",
       "    </tr>\n",
       "    <tr>\n",
       "      <th>1</th>\n",
       "      <td>2021-04-09 18:23:28.385005</td>\n",
       "      <td>74:46:a0:bd:a7:1b</td>\n",
       "      <td>e6:3f:ac:c9:a8:8c</td>\n",
       "      <td>84.3.251.20</td>\n",
       "      <td>84.3.251.101</td>\n",
       "      <td>dynamic/private_ports</td>\n",
       "      <td>system_ports</td>\n",
       "      <td>Modbus</td>\n",
       "      <td>11000</td>\n",
       "      <td>66</td>\n",
       "      <td>Read Coils Request</td>\n",
       "      <td>1</td>\n",
       "      <td>0</td>\n",
       "      <td>inconnue</td>\n",
       "      <td>False</td>\n",
       "      <td>normal</td>\n",
       "    </tr>\n",
       "    <tr>\n",
       "      <th>2</th>\n",
       "      <td>2021-04-09 18:23:28.385006</td>\n",
       "      <td>74:46:a0:bd:a7:1b</td>\n",
       "      <td>fa:00:bc:90:d7:fa</td>\n",
       "      <td>84.3.251.20</td>\n",
       "      <td>84.3.251.103</td>\n",
       "      <td>dynamic/private_ports</td>\n",
       "      <td>system_ports</td>\n",
       "      <td>Modbus</td>\n",
       "      <td>11000</td>\n",
       "      <td>66</td>\n",
       "      <td>Read Coils Request</td>\n",
       "      <td>2</td>\n",
       "      <td>0</td>\n",
       "      <td>inconnue</td>\n",
       "      <td>False</td>\n",
       "      <td>normal</td>\n",
       "    </tr>\n",
       "    <tr>\n",
       "      <th>3</th>\n",
       "      <td>2021-04-09 18:23:28.385484</td>\n",
       "      <td>0a:fe:ec:47:74:fb</td>\n",
       "      <td>74:46:a0:bd:a7:1b</td>\n",
       "      <td>84.3.251.102</td>\n",
       "      <td>84.3.251.20</td>\n",
       "      <td>system_ports</td>\n",
       "      <td>dynamic/private_ports</td>\n",
       "      <td>Modbus</td>\n",
       "      <td>11000</td>\n",
       "      <td>64</td>\n",
       "      <td>Read Coils Response</td>\n",
       "      <td>0</td>\n",
       "      <td>0</td>\n",
       "      <td>[0]</td>\n",
       "      <td>False</td>\n",
       "      <td>normal</td>\n",
       "    </tr>\n",
       "    <tr>\n",
       "      <th>4</th>\n",
       "      <td>2021-04-09 18:23:28.385486</td>\n",
       "      <td>fa:00:bc:90:d7:fa</td>\n",
       "      <td>74:46:a0:bd:a7:1b</td>\n",
       "      <td>84.3.251.103</td>\n",
       "      <td>84.3.251.20</td>\n",
       "      <td>system_ports</td>\n",
       "      <td>dynamic/private_ports</td>\n",
       "      <td>Modbus</td>\n",
       "      <td>11000</td>\n",
       "      <td>64</td>\n",
       "      <td>Read Coils Response</td>\n",
       "      <td>0</td>\n",
       "      <td>1</td>\n",
       "      <td>[0]</td>\n",
       "      <td>False</td>\n",
       "      <td>normal</td>\n",
       "    </tr>\n",
       "  </tbody>\n",
       "</table>\n",
       "</div>"
      ],
      "text/plain": [
       "                        Time              mac_s              mac_d  \\\n",
       "0 2021-04-09 18:23:28.385003  74:46:a0:bd:a7:1b  0a:fe:ec:47:74:fb   \n",
       "1 2021-04-09 18:23:28.385005  74:46:a0:bd:a7:1b  e6:3f:ac:c9:a8:8c   \n",
       "2 2021-04-09 18:23:28.385006  74:46:a0:bd:a7:1b  fa:00:bc:90:d7:fa   \n",
       "3 2021-04-09 18:23:28.385484  0a:fe:ec:47:74:fb  74:46:a0:bd:a7:1b   \n",
       "4 2021-04-09 18:23:28.385486  fa:00:bc:90:d7:fa  74:46:a0:bd:a7:1b   \n",
       "\n",
       "           ip_s          ip_d                  sport                  dport  \\\n",
       "0   84.3.251.20  84.3.251.102  dynamic/private_ports           system_ports   \n",
       "1   84.3.251.20  84.3.251.101  dynamic/private_ports           system_ports   \n",
       "2   84.3.251.20  84.3.251.103  dynamic/private_ports           system_ports   \n",
       "3  84.3.251.102   84.3.251.20           system_ports  dynamic/private_ports   \n",
       "4  84.3.251.103   84.3.251.20           system_ports  dynamic/private_ports   \n",
       "\n",
       "    proto  flags  size            modbus_fn  n_pkt_src  n_pkt_dst  \\\n",
       "0  Modbus  11000    66   Read Coils Request          0          0   \n",
       "1  Modbus  11000    66   Read Coils Request          1          0   \n",
       "2  Modbus  11000    66   Read Coils Request          2          0   \n",
       "3  Modbus  11000    64  Read Coils Response          0          0   \n",
       "4  Modbus  11000    64  Read Coils Response          0          1   \n",
       "\n",
       "  modbus_response  label_n   label  \n",
       "0        inconnue    False  normal  \n",
       "1        inconnue    False  normal  \n",
       "2        inconnue    False  normal  \n",
       "3             [0]    False  normal  \n",
       "4             [0]    False  normal  "
      ]
     },
     "execution_count": 24,
     "metadata": {},
     "output_type": "execute_result"
    }
   ],
   "source": [
    "df_net_1.head()"
   ]
  },
  {
   "cell_type": "markdown",
   "metadata": {},
   "source": [
    "## Enregistrement dans PickleShare"
   ]
  },
  {
   "cell_type": "code",
   "execution_count": 25,
   "metadata": {},
   "outputs": [],
   "source": [
    "data_dir = '../prep_data' \n",
    "os.makedirs(data_dir, exist_ok=True)\n",
    "db = PickleShareDB(os.path.join(data_dir, 'kity'))\n",
    "\n",
    "db['net_attack_1_clean'] = df_net_1\n",
    "db['net_attack_2_clean'] = df_net_2\n",
    "db['net_attack_3_clean'] = df_net_3\n",
    "db['net_attack_4_clean'] = df_net_4\n",
    "db['net_norm_clean'] = df_net_norm"
   ]
  }
 ],
 "metadata": {
  "kernelspec": {
   "display_name": "Python 3",
   "language": "python",
   "name": "python3"
  },
  "language_info": {
   "codemirror_mode": {
    "name": "ipython",
    "version": 3
   },
   "file_extension": ".py",
   "mimetype": "text/x-python",
   "name": "python",
   "nbconvert_exporter": "python",
   "pygments_lexer": "ipython3",
   "version": "3.12.1"
  }
 },
 "nbformat": 4,
 "nbformat_minor": 2
}
