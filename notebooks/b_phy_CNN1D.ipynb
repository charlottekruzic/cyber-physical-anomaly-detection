{
 "cells": [
  {
   "cell_type": "code",
   "execution_count": 1,
   "metadata": {},
   "outputs": [],
   "source": [
    "import pandas as pd\n",
    "import numpy as np\n",
    "from pickleshare import PickleShareDB\n",
    "from sklearn.preprocessing import MinMaxScaler\n",
    "from sklearn.preprocessing import LabelEncoder\n",
    "from sklearn.model_selection import train_test_split\n",
    "from tensorflow.keras.callbacks import EarlyStopping\n",
    "from tensorflow.keras.models import Sequential\n",
    "from tensorflow.keras.layers import Conv1D, MaxPooling1D, Flatten, Dense\n",
    "from sklearn.metrics import precision_score, recall_score, accuracy_score, f1_score\n",
    "from sklearn.metrics import confusion_matrix, matthews_corrcoef, balanced_accuracy_score\n",
    "import time\n",
    "import tracemalloc"
   ]
  },
  {
   "cell_type": "code",
   "execution_count": 2,
   "metadata": {},
   "outputs": [],
   "source": [
    "import os\n",
    "import tensorflow as tf\n",
    "# Pour garantir la reproductibilité de TensorFlow\n",
    "tf.random.set_seed(42)  # Pour TensorFlow\n",
    "np.random.seed(42)  # Pour numpy\n",
    "import random\n",
    "random.seed(42)  # Pour random (Python standard library)\n"
   ]
  },
  {
   "cell_type": "code",
   "execution_count": 3,
   "metadata": {},
   "outputs": [],
   "source": [
    "# charger les données de prep_data\n",
    "\n",
    "data_dir = '../prep_data' \n",
    "db = PickleShareDB(os.path.join(data_dir, 'kity'))\n",
    "\n",
    "if 'df_phy_1' in db:\n",
    "    df_phy_1 = db['df_phy_1']\n",
    "else:\n",
    "    print(\"df_phy_1 n'est pas trouvé dans la base de données.\")\n",
    "if 'df_phy_2' in db:\n",
    "    df_phy_2 = db['df_phy_2']\n",
    "else:\n",
    "    print(\"df_phy_2 n'est pas trouvé dans la base de données.\")\n",
    "if 'df_phy_3' in db:\n",
    "    df_phy_3 = db['df_phy_3']\n",
    "else:\n",
    "    print(\"df_phy_3 n'est pas trouvé dans la base de données.\")\n",
    "if 'df_phy_4' in db:\n",
    "    df_phy_4 = db['df_phy_4']\n",
    "else:\n",
    "    print(\"df_phy_4 n'est pas trouvé dans la base de données.\")\n",
    "if 'df_phy_norm' in db:\n",
    "    df_phy_norm = db['df_phy_norm']\n",
    "else:\n",
    "    print(\"df_phy_norm n'est pas trouvé dans la base de données.\")\n",
    "if 'df_phy_attack' in db:\n",
    "    df_phy_attack = db['df_phy_attack']\n",
    "if 'df_phy_all' in db:\n",
    "    df_phy_all = db['df_phy_all']\n",
    "else:\n",
    "    print(\"df_phy_all n'est pas trouvé dans la base de données.\")\n",
    "if 'dict_dfs' in db:\n",
    "    dict_dfs = db['dict_dfs']\n",
    "else:\n",
    "    print(\"dict_dfs n'est pas trouvé dans la base de données.\")\n"
   ]
  },
  {
   "cell_type": "code",
   "execution_count": 4,
   "metadata": {},
   "outputs": [
    {
     "name": "stdout",
     "output_type": "stream",
     "text": [
      "<class 'pandas.core.frame.DataFrame'>\n",
      "RangeIndex: 2420 entries, 0 to 2419\n",
      "Data columns (total 29 columns):\n",
      " #   Column         Non-Null Count  Dtype         \n",
      "---  ------         --------------  -----         \n",
      " 0   Time           2420 non-null   datetime64[ns]\n",
      " 1   Tank_1         2420 non-null   int64         \n",
      " 2   Tank_2         2420 non-null   int64         \n",
      " 3   Tank_3         2420 non-null   int64         \n",
      " 4   Tank_4         2420 non-null   int64         \n",
      " 5   Tank_5         2420 non-null   int64         \n",
      " 6   Tank_6         2420 non-null   int64         \n",
      " 7   Tank_7         2420 non-null   int64         \n",
      " 8   Tank_8         2420 non-null   int64         \n",
      " 9   Pump_1         2420 non-null   bool          \n",
      " 10  Pump_2         2420 non-null   bool          \n",
      " 11  Pump_4         2420 non-null   bool          \n",
      " 12  Pump_5         2420 non-null   bool          \n",
      " 13  Pump_6         2420 non-null   bool          \n",
      " 14  Flow_sensor_1  2420 non-null   category      \n",
      " 15  Flow_sensor_2  2420 non-null   bool          \n",
      " 16  Flow_sensor_4  2420 non-null   int64         \n",
      " 17  Valv_10        2420 non-null   bool          \n",
      " 18  Valv_11        2420 non-null   bool          \n",
      " 19  Valv_12        2420 non-null   bool          \n",
      " 20  Valv_13        2420 non-null   bool          \n",
      " 21  Valv_14        2420 non-null   bool          \n",
      " 22  Valv_15        2420 non-null   bool          \n",
      " 23  Valv_17        2420 non-null   bool          \n",
      " 24  Valv_18        2420 non-null   bool          \n",
      " 25  Valv_20        2420 non-null   bool          \n",
      " 26  Valv_22        2420 non-null   bool          \n",
      " 27  Label_n        2420 non-null   bool          \n",
      " 28  Label          2420 non-null   category      \n",
      "dtypes: bool(17), category(2), datetime64[ns](1), int64(9)\n",
      "memory usage: 234.1 KB\n"
     ]
    }
   ],
   "source": [
    "df_phy_1.info()"
   ]
  },
  {
   "cell_type": "code",
   "execution_count": 5,
   "metadata": {},
   "outputs": [
    {
     "data": {
      "text/html": [
       "<div>\n",
       "<style scoped>\n",
       "    .dataframe tbody tr th:only-of-type {\n",
       "        vertical-align: middle;\n",
       "    }\n",
       "\n",
       "    .dataframe tbody tr th {\n",
       "        vertical-align: top;\n",
       "    }\n",
       "\n",
       "    .dataframe thead th {\n",
       "        text-align: right;\n",
       "    }\n",
       "</style>\n",
       "<table border=\"1\" class=\"dataframe\">\n",
       "  <thead>\n",
       "    <tr style=\"text-align: right;\">\n",
       "      <th></th>\n",
       "      <th>Time</th>\n",
       "      <th>Tank_1</th>\n",
       "      <th>Tank_2</th>\n",
       "      <th>Tank_3</th>\n",
       "      <th>Tank_4</th>\n",
       "      <th>Tank_5</th>\n",
       "      <th>Tank_6</th>\n",
       "      <th>Tank_7</th>\n",
       "      <th>Tank_8</th>\n",
       "      <th>Pump_1</th>\n",
       "      <th>...</th>\n",
       "      <th>Valv_12</th>\n",
       "      <th>Valv_13</th>\n",
       "      <th>Valv_14</th>\n",
       "      <th>Valv_15</th>\n",
       "      <th>Valv_17</th>\n",
       "      <th>Valv_18</th>\n",
       "      <th>Valv_20</th>\n",
       "      <th>Valv_22</th>\n",
       "      <th>Label_n</th>\n",
       "      <th>Label</th>\n",
       "    </tr>\n",
       "  </thead>\n",
       "  <tbody>\n",
       "    <tr>\n",
       "      <th>0</th>\n",
       "      <td>2021-04-09 18:23:28</td>\n",
       "      <td>0</td>\n",
       "      <td>0</td>\n",
       "      <td>0</td>\n",
       "      <td>0</td>\n",
       "      <td>0</td>\n",
       "      <td>0</td>\n",
       "      <td>0</td>\n",
       "      <td>0</td>\n",
       "      <td>False</td>\n",
       "      <td>...</td>\n",
       "      <td>False</td>\n",
       "      <td>False</td>\n",
       "      <td>False</td>\n",
       "      <td>False</td>\n",
       "      <td>False</td>\n",
       "      <td>False</td>\n",
       "      <td>False</td>\n",
       "      <td>False</td>\n",
       "      <td>False</td>\n",
       "      <td>normal</td>\n",
       "    </tr>\n",
       "    <tr>\n",
       "      <th>1</th>\n",
       "      <td>2021-04-09 18:23:29</td>\n",
       "      <td>0</td>\n",
       "      <td>0</td>\n",
       "      <td>0</td>\n",
       "      <td>0</td>\n",
       "      <td>0</td>\n",
       "      <td>0</td>\n",
       "      <td>0</td>\n",
       "      <td>0</td>\n",
       "      <td>False</td>\n",
       "      <td>...</td>\n",
       "      <td>False</td>\n",
       "      <td>False</td>\n",
       "      <td>False</td>\n",
       "      <td>False</td>\n",
       "      <td>False</td>\n",
       "      <td>False</td>\n",
       "      <td>False</td>\n",
       "      <td>False</td>\n",
       "      <td>False</td>\n",
       "      <td>normal</td>\n",
       "    </tr>\n",
       "    <tr>\n",
       "      <th>2</th>\n",
       "      <td>2021-04-09 18:23:30</td>\n",
       "      <td>0</td>\n",
       "      <td>0</td>\n",
       "      <td>0</td>\n",
       "      <td>0</td>\n",
       "      <td>0</td>\n",
       "      <td>0</td>\n",
       "      <td>0</td>\n",
       "      <td>0</td>\n",
       "      <td>False</td>\n",
       "      <td>...</td>\n",
       "      <td>False</td>\n",
       "      <td>False</td>\n",
       "      <td>False</td>\n",
       "      <td>False</td>\n",
       "      <td>False</td>\n",
       "      <td>False</td>\n",
       "      <td>False</td>\n",
       "      <td>False</td>\n",
       "      <td>False</td>\n",
       "      <td>normal</td>\n",
       "    </tr>\n",
       "    <tr>\n",
       "      <th>3</th>\n",
       "      <td>2021-04-09 18:23:31</td>\n",
       "      <td>0</td>\n",
       "      <td>0</td>\n",
       "      <td>0</td>\n",
       "      <td>0</td>\n",
       "      <td>0</td>\n",
       "      <td>0</td>\n",
       "      <td>0</td>\n",
       "      <td>0</td>\n",
       "      <td>False</td>\n",
       "      <td>...</td>\n",
       "      <td>False</td>\n",
       "      <td>False</td>\n",
       "      <td>False</td>\n",
       "      <td>False</td>\n",
       "      <td>False</td>\n",
       "      <td>False</td>\n",
       "      <td>False</td>\n",
       "      <td>False</td>\n",
       "      <td>False</td>\n",
       "      <td>normal</td>\n",
       "    </tr>\n",
       "    <tr>\n",
       "      <th>4</th>\n",
       "      <td>2021-04-09 18:23:32</td>\n",
       "      <td>0</td>\n",
       "      <td>0</td>\n",
       "      <td>0</td>\n",
       "      <td>0</td>\n",
       "      <td>0</td>\n",
       "      <td>0</td>\n",
       "      <td>0</td>\n",
       "      <td>0</td>\n",
       "      <td>True</td>\n",
       "      <td>...</td>\n",
       "      <td>False</td>\n",
       "      <td>False</td>\n",
       "      <td>False</td>\n",
       "      <td>False</td>\n",
       "      <td>False</td>\n",
       "      <td>False</td>\n",
       "      <td>False</td>\n",
       "      <td>False</td>\n",
       "      <td>False</td>\n",
       "      <td>normal</td>\n",
       "    </tr>\n",
       "  </tbody>\n",
       "</table>\n",
       "<p>5 rows × 29 columns</p>\n",
       "</div>"
      ],
      "text/plain": [
       "                 Time  Tank_1  Tank_2  Tank_3  Tank_4  Tank_5  Tank_6  Tank_7  \\\n",
       "0 2021-04-09 18:23:28       0       0       0       0       0       0       0   \n",
       "1 2021-04-09 18:23:29       0       0       0       0       0       0       0   \n",
       "2 2021-04-09 18:23:30       0       0       0       0       0       0       0   \n",
       "3 2021-04-09 18:23:31       0       0       0       0       0       0       0   \n",
       "4 2021-04-09 18:23:32       0       0       0       0       0       0       0   \n",
       "\n",
       "   Tank_8  Pump_1  ...  Valv_12  Valv_13  Valv_14  Valv_15 Valv_17  Valv_18  \\\n",
       "0       0   False  ...    False    False    False    False   False    False   \n",
       "1       0   False  ...    False    False    False    False   False    False   \n",
       "2       0   False  ...    False    False    False    False   False    False   \n",
       "3       0   False  ...    False    False    False    False   False    False   \n",
       "4       0    True  ...    False    False    False    False   False    False   \n",
       "\n",
       "   Valv_20  Valv_22  Label_n   Label  \n",
       "0    False    False    False  normal  \n",
       "1    False    False    False  normal  \n",
       "2    False    False    False  normal  \n",
       "3    False    False    False  normal  \n",
       "4    False    False    False  normal  \n",
       "\n",
       "[5 rows x 29 columns]"
      ]
     },
     "execution_count": 5,
     "metadata": {},
     "output_type": "execute_result"
    }
   ],
   "source": [
    "df_phy_1.head()"
   ]
  },
  {
   "cell_type": "code",
   "execution_count": 6,
   "metadata": {},
   "outputs": [],
   "source": [
    "# 5 séries temporelles multivariées\n",
    "# créer des fenêtres temporelles sur chaque jeu de données sans essayer de les fusionner sur les dates \n",
    "# chaque dataset aura ses propres fenêtres glissantes\n",
    "# supprimer la colonne de temps\n",
    "# ensuite diviser en X et y (Label et Label_n, on chercher à prédire l'un ou l'autre)"
   ]
  },
  {
   "cell_type": "code",
   "execution_count": 7,
   "metadata": {},
   "outputs": [],
   "source": [
    "cnn_1D_df_phy_1 = df_phy_1.drop(columns=['Time'])\n",
    "cnn_1D_df_phy_2 = df_phy_2.drop(columns=['Time'])\n",
    "cnn_1D_df_phy_3 = df_phy_3.drop(columns=['Time'])\n",
    "cnn_1D_df_phy_4 = df_phy_4.drop(columns=['Time'])\n",
    "cnn_1D_df_phy_norm = df_phy_norm.drop(columns=['Time'])"
   ]
  },
  {
   "cell_type": "code",
   "execution_count": 8,
   "metadata": {},
   "outputs": [],
   "source": [
    "# Diviser en X (features) et y (labels)\n",
    "X_phy_1 = cnn_1D_df_phy_1.drop(columns=['Label', 'Label_n'])  \n",
    "y_label_phy_1 = cnn_1D_df_phy_1['Label']                      \n",
    "y_label_n_phy_1 = cnn_1D_df_phy_1['Label_n']                  \n",
    "\n",
    "X_phy_2 = cnn_1D_df_phy_2.drop(columns=['Label', 'Label_n'])  \n",
    "y_label_phy_2 = cnn_1D_df_phy_2['Label']                      \n",
    "y_label_n_phy_2 = cnn_1D_df_phy_2['Label_n']      \n",
    "\n",
    "X_phy_3 = cnn_1D_df_phy_3.drop(columns=['Label', 'Label_n'])\n",
    "y_label_phy_3 = cnn_1D_df_phy_3['Label']\n",
    "y_label_n_phy_3 = cnn_1D_df_phy_3['Label_n']\n",
    "\n",
    "X_phy_4 = cnn_1D_df_phy_4.drop(columns=['Label', 'Label_n'])\n",
    "y_label_phy_4 = cnn_1D_df_phy_4['Label']\n",
    "y_label_n_phy_4 = cnn_1D_df_phy_4['Label_n']\n",
    "\n",
    "X_phy_norm = cnn_1D_df_phy_norm.drop(columns=['Label', 'Label_n'])\n",
    "y_label_phy_norm = cnn_1D_df_phy_norm['Label']\n",
    "y_label_n_phy_norm = cnn_1D_df_phy_norm['Label_n']"
   ]
  },
  {
   "cell_type": "code",
   "execution_count": 9,
   "metadata": {},
   "outputs": [],
   "source": [
    "# on va concaténer les données, mais la fin d'un dataset n'est pas lié au début du suivant\n",
    "# on ajoute juste une colonne pour identifier le dataset d'origine\n",
    "X_phy_1['dataset_id'] = 'dataset_1'\n",
    "X_phy_2['dataset_id'] = 'dataset_2'\n",
    "X_phy_3['dataset_id'] = 'dataset_3'\n",
    "X_phy_4['dataset_id'] = 'dataset_4'\n",
    "X_phy_norm['dataset_id'] = 'dataset_norm'\n",
    "\n",
    "X_phy_1['dataset_id'] = X_phy_1['dataset_id'].astype('category')\n",
    "X_phy_2['dataset_id'] = X_phy_2['dataset_id'].astype('category')\n",
    "X_phy_3['dataset_id'] = X_phy_3['dataset_id'].astype('category')\n",
    "X_phy_4['dataset_id'] = X_phy_4['dataset_id'].astype('category')\n",
    "X_phy_norm['dataset_id'] = X_phy_norm['dataset_id'].astype('category')\n"
   ]
  },
  {
   "cell_type": "code",
   "execution_count": 10,
   "metadata": {},
   "outputs": [],
   "source": [
    "# Normaliser : MinMaxScaler nous permet de préparer nos données de manière efficace,\n",
    "# garantissant que chaque feature contribut de manière égale au processus d'apprentissage"
   ]
  },
  {
   "cell_type": "code",
   "execution_count": 11,
   "metadata": {},
   "outputs": [],
   "source": [
    "# Fonction pour normaliser uniquement les colonnes numériques d'un DataFrame\n",
    "def normalize_numeric_columns(df):\n",
    "    scaler = MinMaxScaler()\n",
    "    numeric_cols = df.select_dtypes(include=['int64']).columns  # Sélectionne les colonnes numériques\n",
    "    df[numeric_cols] = scaler.fit_transform(df[numeric_cols])  # Applique le scaler uniquement sur les colonnes numériques\n",
    "    return df\n",
    "\n",
    "# Appliquez la normalisation sur chaque DataFrame individuellement\n",
    "X_phy_1 = normalize_numeric_columns(X_phy_1)\n",
    "X_phy_2 = normalize_numeric_columns(X_phy_2)\n",
    "X_phy_3 = normalize_numeric_columns(X_phy_3)\n",
    "X_phy_4 = normalize_numeric_columns(X_phy_4)\n",
    "X_phy_norm = normalize_numeric_columns(X_phy_norm)\n"
   ]
  },
  {
   "cell_type": "code",
   "execution_count": 12,
   "metadata": {},
   "outputs": [
    {
     "data": {
      "text/plain": [
       "{'Flow_sensor_1', 'dataset_id'}"
      ]
     },
     "execution_count": 12,
     "metadata": {},
     "output_type": "execute_result"
    }
   ],
   "source": [
    "cat_cols = [df.select_dtypes(include=['category']).columns for df in [X_phy_1, X_phy_2, X_phy_3, X_phy_4, X_phy_norm]]  \n",
    "cat_cols = set(cat_cols[0])  \n",
    "cat_cols"
   ]
  },
  {
   "cell_type": "code",
   "execution_count": 13,
   "metadata": {},
   "outputs": [
    {
     "data": {
      "text/plain": [
       "{'Flow_sensor_1': [0, 100, 4000],\n",
       " 'dataset_id': ['dataset_1',\n",
       "  'dataset_2',\n",
       "  'dataset_4',\n",
       "  'dataset_norm',\n",
       "  'dataset_3']}"
      ]
     },
     "execution_count": 13,
     "metadata": {},
     "output_type": "execute_result"
    }
   ],
   "source": [
    "# extraire tous les catégories pour les colonnes catégorielles \n",
    "\n",
    "def extract_categories(df):\n",
    "    return {col: list(df[col].cat.categories) for col in df.select_dtypes(include=['category']).columns}\n",
    "\n",
    "cat_dict_phy_1 = extract_categories(X_phy_1)\n",
    "cat_dict_phy_2 = extract_categories(X_phy_2)\n",
    "cat_dict_phy_3 = extract_categories(X_phy_3)\n",
    "cat_dict_phy_4 = extract_categories(X_phy_4)\n",
    "cat_dict_phy_norm = extract_categories(X_phy_norm)\n",
    "\n",
    "# fusionner les catégories de tous les datasets\n",
    "cat_dict_all = {}\n",
    "for cat_dict in [cat_dict_phy_1, cat_dict_phy_2, cat_dict_phy_3, cat_dict_phy_4, cat_dict_phy_norm]:\n",
    "    for key, value in cat_dict.items():\n",
    "        if key not in cat_dict_all:\n",
    "            cat_dict_all[key] = value\n",
    "        else:\n",
    "            cat_dict_all[key] = list(set(cat_dict_all[key] + value))\n",
    "cat_dict_all"
   ]
  },
  {
   "cell_type": "code",
   "execution_count": 14,
   "metadata": {},
   "outputs": [],
   "source": [
    "# Fonction pour appliquer le One-Hot Encoding tout en gardant les mêmes colonnes\n",
    "def apply_one_hot_encoding(df, cat_dict_all):\n",
    "    for col, categories in cat_dict_all.items():\n",
    "        if col in df.columns:  # Appliquer le One-Hot uniquement aux colonnes présentes\n",
    "            # Convertir la colonne en Categorical avec les catégories globales\n",
    "            df[col] = pd.Categorical(df[col], categories=categories)\n",
    "            \n",
    "            # Créer un DataFrame avec le One-Hot Encoding en utilisant les catégories globales\n",
    "            dummies = pd.get_dummies(df[col], prefix=col)\n",
    "            \n",
    "            # Ajouter les colonnes dummies et supprimer la colonne originale\n",
    "            df = pd.concat([df, dummies], axis=1).drop(col, axis=1)\n",
    "    \n",
    "    return df\n",
    "\n",
    "# Appliquer One-Hot Encoding pour chaque dataframe\n",
    "X_phy_1 = apply_one_hot_encoding(X_phy_1, cat_dict_all)\n",
    "X_phy_2 = apply_one_hot_encoding(X_phy_2, cat_dict_all)\n",
    "X_phy_3 = apply_one_hot_encoding(X_phy_3, cat_dict_all)\n",
    "X_phy_4 = apply_one_hot_encoding(X_phy_4, cat_dict_all)\n",
    "X_phy_norm = apply_one_hot_encoding(X_phy_norm, cat_dict_all)\n"
   ]
  },
  {
   "cell_type": "code",
   "execution_count": 15,
   "metadata": {},
   "outputs": [
    {
     "name": "stdout",
     "output_type": "stream",
     "text": [
      "(2420, 33)\n",
      "(2104, 33)\n",
      "(1254, 33)\n",
      "(1717, 33)\n",
      "(3428, 33)\n"
     ]
    }
   ],
   "source": [
    "# vérif de la taille des données\n",
    "print(X_phy_1.shape)\n",
    "print(X_phy_2.shape)\n",
    "print(X_phy_3.shape)\n",
    "print(X_phy_4.shape)\n",
    "print(X_phy_norm.shape)"
   ]
  },
  {
   "cell_type": "code",
   "execution_count": 16,
   "metadata": {},
   "outputs": [
    {
     "name": "stdout",
     "output_type": "stream",
     "text": [
      "<class 'pandas.core.frame.DataFrame'>\n",
      "RangeIndex: 2420 entries, 0 to 2419\n",
      "Data columns (total 33 columns):\n",
      " #   Column                   Non-Null Count  Dtype  \n",
      "---  ------                   --------------  -----  \n",
      " 0   Tank_1                   2420 non-null   float64\n",
      " 1   Tank_2                   2420 non-null   float64\n",
      " 2   Tank_3                   2420 non-null   float64\n",
      " 3   Tank_4                   2420 non-null   float64\n",
      " 4   Tank_5                   2420 non-null   float64\n",
      " 5   Tank_6                   2420 non-null   float64\n",
      " 6   Tank_7                   2420 non-null   float64\n",
      " 7   Tank_8                   2420 non-null   float64\n",
      " 8   Pump_1                   2420 non-null   bool   \n",
      " 9   Pump_2                   2420 non-null   bool   \n",
      " 10  Pump_4                   2420 non-null   bool   \n",
      " 11  Pump_5                   2420 non-null   bool   \n",
      " 12  Pump_6                   2420 non-null   bool   \n",
      " 13  Flow_sensor_2            2420 non-null   bool   \n",
      " 14  Flow_sensor_4            2420 non-null   float64\n",
      " 15  Valv_10                  2420 non-null   bool   \n",
      " 16  Valv_11                  2420 non-null   bool   \n",
      " 17  Valv_12                  2420 non-null   bool   \n",
      " 18  Valv_13                  2420 non-null   bool   \n",
      " 19  Valv_14                  2420 non-null   bool   \n",
      " 20  Valv_15                  2420 non-null   bool   \n",
      " 21  Valv_17                  2420 non-null   bool   \n",
      " 22  Valv_18                  2420 non-null   bool   \n",
      " 23  Valv_20                  2420 non-null   bool   \n",
      " 24  Valv_22                  2420 non-null   bool   \n",
      " 25  Flow_sensor_1_0          2420 non-null   bool   \n",
      " 26  Flow_sensor_1_100        2420 non-null   bool   \n",
      " 27  Flow_sensor_1_4000       2420 non-null   bool   \n",
      " 28  dataset_id_dataset_1     2420 non-null   bool   \n",
      " 29  dataset_id_dataset_2     2420 non-null   bool   \n",
      " 30  dataset_id_dataset_4     2420 non-null   bool   \n",
      " 31  dataset_id_dataset_norm  2420 non-null   bool   \n",
      " 32  dataset_id_dataset_3     2420 non-null   bool   \n",
      "dtypes: bool(24), float64(9)\n",
      "memory usage: 227.0 KB\n",
      "None\n",
      "\n",
      "<class 'pandas.core.frame.DataFrame'>\n",
      "RangeIndex: 3428 entries, 0 to 3427\n",
      "Data columns (total 33 columns):\n",
      " #   Column                   Non-Null Count  Dtype  \n",
      "---  ------                   --------------  -----  \n",
      " 0   Tank_1                   3428 non-null   float64\n",
      " 1   Tank_2                   3428 non-null   float64\n",
      " 2   Tank_3                   3428 non-null   float64\n",
      " 3   Tank_4                   3428 non-null   float64\n",
      " 4   Tank_5                   3428 non-null   float64\n",
      " 5   Tank_6                   3428 non-null   float64\n",
      " 6   Tank_7                   3428 non-null   float64\n",
      " 7   Tank_8                   3428 non-null   float64\n",
      " 8   Pump_1                   3428 non-null   bool   \n",
      " 9   Pump_2                   3428 non-null   bool   \n",
      " 10  Pump_4                   3428 non-null   bool   \n",
      " 11  Pump_5                   3428 non-null   bool   \n",
      " 12  Pump_6                   3428 non-null   bool   \n",
      " 13  Flow_sensor_2            3428 non-null   bool   \n",
      " 14  Flow_sensor_4            3428 non-null   float64\n",
      " 15  Valv_10                  3428 non-null   bool   \n",
      " 16  Valv_11                  3428 non-null   bool   \n",
      " 17  Valv_12                  3428 non-null   bool   \n",
      " 18  Valv_13                  3428 non-null   bool   \n",
      " 19  Valv_14                  3428 non-null   bool   \n",
      " 20  Valv_15                  3428 non-null   bool   \n",
      " 21  Valv_17                  3428 non-null   bool   \n",
      " 22  Valv_18                  3428 non-null   bool   \n",
      " 23  Valv_20                  3428 non-null   bool   \n",
      " 24  Valv_22                  3428 non-null   bool   \n",
      " 25  Flow_sensor_1_0          3428 non-null   bool   \n",
      " 26  Flow_sensor_1_100        3428 non-null   bool   \n",
      " 27  Flow_sensor_1_4000       3428 non-null   bool   \n",
      " 28  dataset_id_dataset_1     3428 non-null   bool   \n",
      " 29  dataset_id_dataset_2     3428 non-null   bool   \n",
      " 30  dataset_id_dataset_4     3428 non-null   bool   \n",
      " 31  dataset_id_dataset_norm  3428 non-null   bool   \n",
      " 32  dataset_id_dataset_3     3428 non-null   bool   \n",
      "dtypes: bool(24), float64(9)\n",
      "memory usage: 321.5 KB\n",
      "None\n"
     ]
    }
   ],
   "source": [
    "# vérif info\n",
    "print(X_phy_1.info())\n",
    "print()\n",
    "print(X_phy_norm.info())"
   ]
  },
  {
   "cell_type": "code",
   "execution_count": 17,
   "metadata": {},
   "outputs": [
    {
     "name": "stdout",
     "output_type": "stream",
     "text": [
      "Flow_sensor_1_100\n",
      "False    2104\n",
      "Name: count, dtype: int64\n",
      "dataset_id_dataset_1\n",
      "False    1254\n",
      "Name: count, dtype: int64\n",
      "dataset_id_dataset_3\n",
      "True    1254\n",
      "Name: count, dtype: int64\n"
     ]
    }
   ],
   "source": [
    "print(X_phy_2.value_counts('Flow_sensor_1_100'))\n",
    "# que des False -> ok\n",
    "\n",
    "print(X_phy_3.value_counts('dataset_id_dataset_1'))\n",
    "# que False -> ok\n",
    "\n",
    "print(X_phy_3.value_counts('dataset_id_dataset_3'))\n",
    "# que True -> ok"
   ]
  },
  {
   "cell_type": "code",
   "execution_count": 18,
   "metadata": {},
   "outputs": [
    {
     "data": {
      "text/plain": [
       "{}"
      ]
     },
     "execution_count": 18,
     "metadata": {},
     "output_type": "execute_result"
    }
   ],
   "source": [
    "# Fonction pour récupérer les valeurs uniques de chaque colonne catégorielle à travers tous les datasets\n",
    "def get_unique_values_all_labels(*dfs):\n",
    "    unique_values = {}\n",
    "    \n",
    "    # Combiner tous les datasets\n",
    "    combined_df = pd.concat(dfs, ignore_index=True)\n",
    "    \n",
    "    # Identifier les colonnes catégorielles\n",
    "    for col in combined_df.select_dtypes(include=['object']).columns:\n",
    "        # Ajouter les valeurs uniques de chaque colonne catégorielle\n",
    "        unique_values[col] = combined_df[col].unique()\n",
    "    \n",
    "    return unique_values\n",
    "\n",
    "unique_values = get_unique_values_all_labels(X_phy_1, X_phy_2, X_phy_3, X_phy_4, X_phy_norm)\n",
    "unique_values\n",
    "\n",
    "# plus rien -> ok"
   ]
  },
  {
   "cell_type": "code",
   "execution_count": 19,
   "metadata": {},
   "outputs": [
    {
     "name": "stdout",
     "output_type": "stream",
     "text": [
      "Label\n",
      "normal            1610\n",
      "MITM               533\n",
      "physical fault     277\n",
      "Name: count, dtype: int64\n",
      "Label\n",
      "normal            1798\n",
      "physical fault     123\n",
      "MITM                96\n",
      "DoS                 80\n",
      "scan                 7\n",
      "Name: count, dtype: int64\n"
     ]
    }
   ],
   "source": [
    "print(y_label_phy_1.value_counts())\n",
    "print(y_label_phy_2.value_counts())"
   ]
  },
  {
   "cell_type": "code",
   "execution_count": 20,
   "metadata": {},
   "outputs": [
    {
     "name": "stdout",
     "output_type": "stream",
     "text": [
      "Label\n",
      "normal            8906\n",
      "MITM              1008\n",
      "physical fault     685\n",
      "DoS                310\n",
      "scan                14\n",
      "Name: count, dtype: int64\n",
      "{'normal': 0, 'DoS': 1, 'MITM': 2, 'physical fault': 3, 'scan': 4}\n"
     ]
    }
   ],
   "source": [
    "# Concaténer les labels de tous les datasets\n",
    "all_labels = pd.concat([y_label_phy_1, y_label_phy_2, y_label_phy_3, y_label_phy_4, y_label_phy_norm], ignore_index=True)\n",
    "print(all_labels.value_counts())\n",
    "\n",
    "# Définir explicitement l'ordre des classes, avec 'normal' en premier\n",
    "ordered_classes = ['normal', 'DoS', 'MITM', 'physical fault', 'scan']\n",
    "nb_class = 5\n",
    "\n",
    "# Créer un LabelEncoder et assigner directement l'ordre des classes\n",
    "label_encoder = LabelEncoder()\n",
    "# Assigner les classes manuellement : on force l'ordre pour que normal soit à 0\n",
    "label_encoder.classes_ = np.array(ordered_classes)\n",
    "\n",
    "# Récupérer la correspondance entre les labels d'origine et les labels encodés\n",
    "label_mapping = {label: encoded for label, encoded in zip(label_encoder.classes_, range(len(label_encoder.classes_)))}\n",
    "print(label_mapping)\n",
    "\n",
    "# Appliquer la transformation sur les datasets\n",
    "y_label_phy_1_encoder = label_encoder.transform(df_phy_1['Label'])\n",
    "y_label_phy_2_encoder = label_encoder.transform(df_phy_2['Label'])\n",
    "y_label_phy_3_encoder = label_encoder.transform(df_phy_3['Label'])\n",
    "y_label_phy_4_encoder = label_encoder.transform(df_phy_4['Label'])\n",
    "y_label_phy_norm_encoder = label_encoder.transform(df_phy_norm['Label'])\n",
    "\n",
    "# Convertir en DataFrame\n",
    "y_label_phy_1_df_enc = pd.DataFrame(y_label_phy_1_encoder, columns=['encoded_label'])\n",
    "y_label_phy_2_df_enc = pd.DataFrame(y_label_phy_2_encoder, columns=['encoded_label'])\n",
    "y_label_phy_3_df_enc = pd.DataFrame(y_label_phy_3_encoder, columns=['encoded_label'])\n",
    "y_label_phy_4_df_enc = pd.DataFrame(y_label_phy_4_encoder, columns=['encoded_label'])\n",
    "y_label_phy_norm_df_enc = pd.DataFrame(y_label_phy_norm_encoder, columns=['encoded_label'])"
   ]
  },
  {
   "cell_type": "code",
   "execution_count": 21,
   "metadata": {},
   "outputs": [
    {
     "name": "stdout",
     "output_type": "stream",
     "text": [
      "Label\n",
      "normal            1610\n",
      "MITM               533\n",
      "physical fault     277\n",
      "Name: count, dtype: int64\n",
      "encoded_label\n",
      "0    1610\n",
      "2     533\n",
      "3     277\n",
      "Name: count, dtype: int64\n"
     ]
    }
   ],
   "source": [
    "# Affichage pour vérifier\n",
    "print(y_label_phy_1.value_counts())\n",
    "print(y_label_phy_1_df_enc['encoded_label'].value_counts())\n",
    "# ok -> on écrase y_label_phy_1"
   ]
  },
  {
   "cell_type": "code",
   "execution_count": 22,
   "metadata": {},
   "outputs": [],
   "source": [
    "y_label_phy_1 = y_label_phy_1_df_enc\n",
    "y_label_phy_2 = y_label_phy_2_df_enc\n",
    "y_label_phy_3 = y_label_phy_3_df_enc\n",
    "y_label_phy_4 = y_label_phy_4_df_enc\n",
    "y_label_phy_norm = y_label_phy_norm_df_enc"
   ]
  },
  {
   "cell_type": "code",
   "execution_count": 23,
   "metadata": {},
   "outputs": [
    {
     "name": "stdout",
     "output_type": "stream",
     "text": [
      "(2420, 33)\n",
      "(2420,)\n",
      "(2420, 1)\n"
     ]
    }
   ],
   "source": [
    "print(X_phy_1.shape)\n",
    "print(y_label_n_phy_1.shape)\n",
    "print(y_label_phy_1.shape)"
   ]
  },
  {
   "cell_type": "markdown",
   "metadata": {},
   "source": [
    "## Modélisation pour essayer de détecter les attaques "
   ]
  },
  {
   "cell_type": "markdown",
   "metadata": {},
   "source": [
    "### Prédiction de Label_n "
   ]
  },
  {
   "cell_type": "code",
   "execution_count": 24,
   "metadata": {},
   "outputs": [],
   "source": [
    "def create_sliding_windows(X, y, window_size):\n",
    "    X_windows = []\n",
    "    y_windows = []\n",
    "\n",
    "    for i in range(len(X) - window_size):\n",
    "        X_windows.append(X.iloc[i:i + window_size])  \n",
    "        y_windows.append(y.iloc[i + window_size])   \n",
    "\n",
    "    return np.array(X_windows), np.array(y_windows)"
   ]
  },
  {
   "cell_type": "code",
   "execution_count": 25,
   "metadata": {},
   "outputs": [],
   "source": [
    "window_size = 10 # déterminer 10 secondes \n",
    "\n",
    "# Créer des fenêtres glissantes pour X et y\n",
    "X_windows_phy_1, y_windows_label_n_phy_1 = create_sliding_windows(X_phy_1, y_label_n_phy_1, window_size)\n",
    "X_windows_phy_2, y_windows_label_n_phy_2 = create_sliding_windows(X_phy_2, y_label_n_phy_2, window_size)\n",
    "X_windows_phy_3, y_windows_label_n_phy_3 = create_sliding_windows(X_phy_3, y_label_n_phy_3, window_size)\n",
    "X_windows_phy_4, y_windows_label_n_phy_4 = create_sliding_windows(X_phy_4, y_label_n_phy_4, window_size)\n",
    "X_windows_phy_norm, y_windows_label_n_phy_norm = create_sliding_windows(X_phy_norm, y_label_n_phy_norm, window_size)"
   ]
  },
  {
   "cell_type": "code",
   "execution_count": 26,
   "metadata": {},
   "outputs": [
    {
     "name": "stdout",
     "output_type": "stream",
     "text": [
      "(2410, 10, 33)\n",
      "(2410,)\n",
      "(2094, 10, 33)\n",
      "(2094,)\n",
      "(1244, 10, 33)\n",
      "(1244,)\n",
      "(1707, 10, 33)\n",
      "(1707,)\n",
      "(3418, 10, 33)\n",
      "(3418,)\n"
     ]
    }
   ],
   "source": [
    "# Vérifier la forme des données\n",
    "print(X_windows_phy_1.shape)  # (nombre d'échantillons, window_size, nombre de features)\n",
    "print(y_windows_label_n_phy_1.shape)  # (nombre d'échantillons,)\n",
    "\n",
    "print(X_windows_phy_2.shape)\n",
    "print(y_windows_label_n_phy_2.shape)\n",
    "\n",
    "print(X_windows_phy_3.shape)\n",
    "print(y_windows_label_n_phy_3.shape)\n",
    "\n",
    "print(X_windows_phy_4.shape)\n",
    "print(y_windows_label_n_phy_4.shape)\n",
    "\n",
    "print(X_windows_phy_norm.shape)\n",
    "print(y_windows_label_n_phy_norm.shape)"
   ]
  },
  {
   "cell_type": "code",
   "execution_count": 27,
   "metadata": {},
   "outputs": [
    {
     "name": "stdout",
     "output_type": "stream",
     "text": [
      "Shape of X_all: (10873, 10, 33)\n",
      "Shape of y_all: (10873,)\n"
     ]
    }
   ],
   "source": [
    "# concaténer les données\n",
    "\n",
    "X_all = np.concatenate([X_windows_phy_1, X_windows_phy_2, X_windows_phy_3, X_windows_phy_4, X_windows_phy_norm], axis=0)\n",
    "y_all = np.concatenate([y_windows_label_n_phy_1, y_windows_label_n_phy_2, y_windows_label_n_phy_3, y_windows_label_n_phy_4, y_windows_label_n_phy_norm], axis=0)\n",
    "\n",
    "# Vérifier la forme des données après concaténation\n",
    "print(\"Shape of X_all:\", X_all.shape)  # (nombre d'échantillons, window_size, nombre de features)\n",
    "print(\"Shape of y_all:\", y_all.shape)  # (nombre d'échantillons,)"
   ]
  },
  {
   "cell_type": "code",
   "execution_count": 28,
   "metadata": {},
   "outputs": [],
   "source": [
    "# Convertir les colonnes booléennes de X_train et X_test en float32\n",
    "X_all = X_all.astype('float64')\n",
    "y_all = y_all.astype('float64')"
   ]
  },
  {
   "cell_type": "code",
   "execution_count": 29,
   "metadata": {},
   "outputs": [],
   "source": [
    "# division en train et test\n",
    "X_train, X_test, y_train, y_test = train_test_split(X_all, y_all, test_size=0.2, random_state=42)"
   ]
  },
  {
   "cell_type": "code",
   "execution_count": 30,
   "metadata": {},
   "outputs": [
    {
     "name": "stdout",
     "output_type": "stream",
     "text": [
      "<class 'numpy.ndarray'> float64\n",
      "<class 'numpy.ndarray'> float64\n"
     ]
    }
   ],
   "source": [
    "print(type(X_train), X_train.dtype)\n",
    "print(type(y_train), y_train.dtype)"
   ]
  },
  {
   "cell_type": "code",
   "execution_count": 31,
   "metadata": {},
   "outputs": [
    {
     "name": "stderr",
     "output_type": "stream",
     "text": [
      "c:\\Users\\charl\\AppData\\Local\\Programs\\Python\\Python312\\Lib\\site-packages\\keras\\src\\layers\\convolutional\\base_conv.py:99: UserWarning: Do not pass an `input_shape`/`input_dim` argument to a layer. When using Sequential models, prefer using an `Input(shape)` object as the first layer in the model instead.\n",
      "  super().__init__(\n"
     ]
    }
   ],
   "source": [
    "# Définir et entraîner le modèle CNN 1D\n",
    "model = Sequential()\n",
    "\n",
    "# Ajouter une couche Conv1D\n",
    "model.add(Conv1D(filters=64, kernel_size=3, activation='relu', input_shape=(X_train.shape[1], X_train.shape[2])))\n",
    "model.add(MaxPooling1D(pool_size=2))\n",
    "\n",
    "# Ajouter d'autres couches convolutives si nécessaire\n",
    "model.add(Conv1D(filters=128, kernel_size=3, activation='relu'))\n",
    "model.add(MaxPooling1D(pool_size=2))\n",
    "\n",
    "# Aplatir les sorties pour les couches fully connected\n",
    "model.add(Flatten())\n",
    "\n",
    "# Ajouter une couche Dense pour la classification binaire\n",
    "model.add(Dense(64, activation='relu'))\n",
    "model.add(Dense(1, activation='sigmoid'))  # Une sortie avec activation sigmoïde pour classification binaire\n",
    "\n",
    "# Compiler le modèle : binary_crossentropy pour une classification binaire\n",
    "model.compile(optimizer='adam', loss='binary_crossentropy', metrics=['accuracy'])\n",
    "\n",
    "# Mise en place de l'EarlyStopping\n",
    "early_stopping = EarlyStopping(monitor='val_loss', patience=10, restore_best_weights=True)"
   ]
  },
  {
   "cell_type": "code",
   "execution_count": 32,
   "metadata": {},
   "outputs": [
    {
     "name": "stdout",
     "output_type": "stream",
     "text": [
      "Epoch 1/100\n",
      "\u001b[1m272/272\u001b[0m \u001b[32m━━━━━━━━━━━━━━━━━━━━\u001b[0m\u001b[37m\u001b[0m \u001b[1m9s\u001b[0m 10ms/step - accuracy: 0.8324 - loss: 0.3865 - val_accuracy: 0.9044 - val_loss: 0.2357\n",
      "Epoch 2/100\n",
      "\u001b[1m272/272\u001b[0m \u001b[32m━━━━━━━━━━━━━━━━━━━━\u001b[0m\u001b[37m\u001b[0m \u001b[1m2s\u001b[0m 6ms/step - accuracy: 0.8922 - loss: 0.2300 - val_accuracy: 0.9126 - val_loss: 0.1932\n",
      "Epoch 3/100\n",
      "\u001b[1m272/272\u001b[0m \u001b[32m━━━━━━━━━━━━━━━━━━━━\u001b[0m\u001b[37m\u001b[0m \u001b[1m1s\u001b[0m 4ms/step - accuracy: 0.9143 - loss: 0.1840 - val_accuracy: 0.9255 - val_loss: 0.1584\n",
      "Epoch 4/100\n",
      "\u001b[1m272/272\u001b[0m \u001b[32m━━━━━━━━━━━━━━━━━━━━\u001b[0m\u001b[37m\u001b[0m \u001b[1m1s\u001b[0m 5ms/step - accuracy: 0.9294 - loss: 0.1538 - val_accuracy: 0.9421 - val_loss: 0.1322\n",
      "Epoch 5/100\n",
      "\u001b[1m272/272\u001b[0m \u001b[32m━━━━━━━━━━━━━━━━━━━━\u001b[0m\u001b[37m\u001b[0m \u001b[1m3s\u001b[0m 10ms/step - accuracy: 0.9372 - loss: 0.1347 - val_accuracy: 0.9517 - val_loss: 0.1132\n",
      "Epoch 6/100\n",
      "\u001b[1m272/272\u001b[0m \u001b[32m━━━━━━━━━━━━━━━━━━━━\u001b[0m\u001b[37m\u001b[0m \u001b[1m3s\u001b[0m 10ms/step - accuracy: 0.9459 - loss: 0.1185 - val_accuracy: 0.9536 - val_loss: 0.1071\n",
      "Epoch 7/100\n",
      "\u001b[1m272/272\u001b[0m \u001b[32m━━━━━━━━━━━━━━━━━━━━\u001b[0m\u001b[37m\u001b[0m \u001b[1m2s\u001b[0m 7ms/step - accuracy: 0.9554 - loss: 0.1057 - val_accuracy: 0.9559 - val_loss: 0.1041\n",
      "Epoch 8/100\n",
      "\u001b[1m272/272\u001b[0m \u001b[32m━━━━━━━━━━━━━━━━━━━━\u001b[0m\u001b[37m\u001b[0m \u001b[1m3s\u001b[0m 10ms/step - accuracy: 0.9603 - loss: 0.0983 - val_accuracy: 0.9623 - val_loss: 0.1008\n",
      "Epoch 9/100\n",
      "\u001b[1m272/272\u001b[0m \u001b[32m━━━━━━━━━━━━━━━━━━━━\u001b[0m\u001b[37m\u001b[0m \u001b[1m2s\u001b[0m 5ms/step - accuracy: 0.9636 - loss: 0.0908 - val_accuracy: 0.9637 - val_loss: 0.0893\n",
      "Epoch 10/100\n",
      "\u001b[1m272/272\u001b[0m \u001b[32m━━━━━━━━━━━━━━━━━━━━\u001b[0m\u001b[37m\u001b[0m \u001b[1m2s\u001b[0m 6ms/step - accuracy: 0.9657 - loss: 0.0852 - val_accuracy: 0.9632 - val_loss: 0.0846\n",
      "Epoch 11/100\n",
      "\u001b[1m272/272\u001b[0m \u001b[32m━━━━━━━━━━━━━━━━━━━━\u001b[0m\u001b[37m\u001b[0m \u001b[1m2s\u001b[0m 9ms/step - accuracy: 0.9631 - loss: 0.0840 - val_accuracy: 0.9664 - val_loss: 0.0783\n",
      "Epoch 12/100\n",
      "\u001b[1m272/272\u001b[0m \u001b[32m━━━━━━━━━━━━━━━━━━━━\u001b[0m\u001b[37m\u001b[0m \u001b[1m3s\u001b[0m 10ms/step - accuracy: 0.9678 - loss: 0.0757 - val_accuracy: 0.9710 - val_loss: 0.0859\n",
      "Epoch 13/100\n",
      "\u001b[1m272/272\u001b[0m \u001b[32m━━━━━━━━━━━━━━━━━━━━\u001b[0m\u001b[37m\u001b[0m \u001b[1m2s\u001b[0m 9ms/step - accuracy: 0.9702 - loss: 0.0732 - val_accuracy: 0.9729 - val_loss: 0.0749\n",
      "Epoch 14/100\n",
      "\u001b[1m272/272\u001b[0m \u001b[32m━━━━━━━━━━━━━━━━━━━━\u001b[0m\u001b[37m\u001b[0m \u001b[1m1s\u001b[0m 5ms/step - accuracy: 0.9721 - loss: 0.0672 - val_accuracy: 0.9651 - val_loss: 0.0860\n",
      "Epoch 15/100\n",
      "\u001b[1m272/272\u001b[0m \u001b[32m━━━━━━━━━━━━━━━━━━━━\u001b[0m\u001b[37m\u001b[0m \u001b[1m3s\u001b[0m 9ms/step - accuracy: 0.9725 - loss: 0.0672 - val_accuracy: 0.9766 - val_loss: 0.0605\n",
      "Epoch 16/100\n",
      "\u001b[1m272/272\u001b[0m \u001b[32m━━━━━━━━━━━━━━━━━━━━\u001b[0m\u001b[37m\u001b[0m \u001b[1m2s\u001b[0m 6ms/step - accuracy: 0.9713 - loss: 0.0688 - val_accuracy: 0.9697 - val_loss: 0.0786\n",
      "Epoch 17/100\n",
      "\u001b[1m272/272\u001b[0m \u001b[32m━━━━━━━━━━━━━━━━━━━━\u001b[0m\u001b[37m\u001b[0m \u001b[1m1s\u001b[0m 4ms/step - accuracy: 0.9738 - loss: 0.0623 - val_accuracy: 0.9807 - val_loss: 0.0678\n",
      "Epoch 18/100\n",
      "\u001b[1m272/272\u001b[0m \u001b[32m━━━━━━━━━━━━━━━━━━━━\u001b[0m\u001b[37m\u001b[0m \u001b[1m2s\u001b[0m 7ms/step - accuracy: 0.9781 - loss: 0.0588 - val_accuracy: 0.9692 - val_loss: 0.0847\n",
      "Epoch 19/100\n",
      "\u001b[1m272/272\u001b[0m \u001b[32m━━━━━━━━━━━━━━━━━━━━\u001b[0m\u001b[37m\u001b[0m \u001b[1m2s\u001b[0m 7ms/step - accuracy: 0.9753 - loss: 0.0587 - val_accuracy: 0.9798 - val_loss: 0.0618\n",
      "Epoch 20/100\n",
      "\u001b[1m272/272\u001b[0m \u001b[32m━━━━━━━━━━━━━━━━━━━━\u001b[0m\u001b[37m\u001b[0m \u001b[1m2s\u001b[0m 6ms/step - accuracy: 0.9805 - loss: 0.0548 - val_accuracy: 0.9784 - val_loss: 0.0706\n",
      "Epoch 21/100\n",
      "\u001b[1m272/272\u001b[0m \u001b[32m━━━━━━━━━━━━━━━━━━━━\u001b[0m\u001b[37m\u001b[0m \u001b[1m2s\u001b[0m 8ms/step - accuracy: 0.9754 - loss: 0.0586 - val_accuracy: 0.9798 - val_loss: 0.0608\n",
      "Epoch 22/100\n",
      "\u001b[1m272/272\u001b[0m \u001b[32m━━━━━━━━━━━━━━━━━━━━\u001b[0m\u001b[37m\u001b[0m \u001b[1m1s\u001b[0m 4ms/step - accuracy: 0.9810 - loss: 0.0549 - val_accuracy: 0.9766 - val_loss: 0.0668\n",
      "Epoch 23/100\n",
      "\u001b[1m272/272\u001b[0m \u001b[32m━━━━━━━━━━━━━━━━━━━━\u001b[0m\u001b[37m\u001b[0m \u001b[1m3s\u001b[0m 9ms/step - accuracy: 0.9827 - loss: 0.0515 - val_accuracy: 0.9807 - val_loss: 0.0607\n",
      "Epoch 24/100\n",
      "\u001b[1m272/272\u001b[0m \u001b[32m━━━━━━━━━━━━━━━━━━━━\u001b[0m\u001b[37m\u001b[0m \u001b[1m2s\u001b[0m 6ms/step - accuracy: 0.9836 - loss: 0.0494 - val_accuracy: 0.9766 - val_loss: 0.0699\n",
      "Epoch 25/100\n",
      "\u001b[1m272/272\u001b[0m \u001b[32m━━━━━━━━━━━━━━━━━━━━\u001b[0m\u001b[37m\u001b[0m \u001b[1m1s\u001b[0m 4ms/step - accuracy: 0.9832 - loss: 0.0445 - val_accuracy: 0.9834 - val_loss: 0.0539\n",
      "Epoch 26/100\n",
      "\u001b[1m272/272\u001b[0m \u001b[32m━━━━━━━━━━━━━━━━━━━━\u001b[0m\u001b[37m\u001b[0m \u001b[1m2s\u001b[0m 6ms/step - accuracy: 0.9836 - loss: 0.0436 - val_accuracy: 0.9821 - val_loss: 0.0638\n",
      "Epoch 27/100\n",
      "\u001b[1m272/272\u001b[0m \u001b[32m━━━━━━━━━━━━━━━━━━━━\u001b[0m\u001b[37m\u001b[0m \u001b[1m2s\u001b[0m 8ms/step - accuracy: 0.9817 - loss: 0.0508 - val_accuracy: 0.9848 - val_loss: 0.0545\n",
      "Epoch 28/100\n",
      "\u001b[1m272/272\u001b[0m \u001b[32m━━━━━━━━━━━━━━━━━━━━\u001b[0m\u001b[37m\u001b[0m \u001b[1m2s\u001b[0m 6ms/step - accuracy: 0.9866 - loss: 0.0397 - val_accuracy: 0.9752 - val_loss: 0.0723\n",
      "Epoch 29/100\n",
      "\u001b[1m272/272\u001b[0m \u001b[32m━━━━━━━━━━━━━━━━━━━━\u001b[0m\u001b[37m\u001b[0m \u001b[1m2s\u001b[0m 8ms/step - accuracy: 0.9839 - loss: 0.0421 - val_accuracy: 0.9715 - val_loss: 0.0755\n",
      "Epoch 30/100\n",
      "\u001b[1m272/272\u001b[0m \u001b[32m━━━━━━━━━━━━━━━━━━━━\u001b[0m\u001b[37m\u001b[0m \u001b[1m1s\u001b[0m 5ms/step - accuracy: 0.9790 - loss: 0.0533 - val_accuracy: 0.9821 - val_loss: 0.0574\n",
      "Epoch 31/100\n",
      "\u001b[1m272/272\u001b[0m \u001b[32m━━━━━━━━━━━━━━━━━━━━\u001b[0m\u001b[37m\u001b[0m \u001b[1m2s\u001b[0m 5ms/step - accuracy: 0.9852 - loss: 0.0397 - val_accuracy: 0.9798 - val_loss: 0.0570\n",
      "Epoch 32/100\n",
      "\u001b[1m272/272\u001b[0m \u001b[32m━━━━━━━━━━━━━━━━━━━━\u001b[0m\u001b[37m\u001b[0m \u001b[1m2s\u001b[0m 8ms/step - accuracy: 0.9838 - loss: 0.0422 - val_accuracy: 0.9807 - val_loss: 0.0584\n",
      "Epoch 33/100\n",
      "\u001b[1m272/272\u001b[0m \u001b[32m━━━━━━━━━━━━━━━━━━━━\u001b[0m\u001b[37m\u001b[0m \u001b[1m1s\u001b[0m 4ms/step - accuracy: 0.9858 - loss: 0.0426 - val_accuracy: 0.9848 - val_loss: 0.0504\n",
      "Epoch 34/100\n",
      "\u001b[1m272/272\u001b[0m \u001b[32m━━━━━━━━━━━━━━━━━━━━\u001b[0m\u001b[37m\u001b[0m \u001b[1m2s\u001b[0m 6ms/step - accuracy: 0.9886 - loss: 0.0330 - val_accuracy: 0.9743 - val_loss: 0.0605\n",
      "Epoch 35/100\n",
      "\u001b[1m272/272\u001b[0m \u001b[32m━━━━━━━━━━━━━━━━━━━━\u001b[0m\u001b[37m\u001b[0m \u001b[1m2s\u001b[0m 9ms/step - accuracy: 0.9842 - loss: 0.0413 - val_accuracy: 0.9779 - val_loss: 0.0540\n",
      "Epoch 36/100\n",
      "\u001b[1m272/272\u001b[0m \u001b[32m━━━━━━━━━━━━━━━━━━━━\u001b[0m\u001b[37m\u001b[0m \u001b[1m2s\u001b[0m 7ms/step - accuracy: 0.9864 - loss: 0.0367 - val_accuracy: 0.9793 - val_loss: 0.0541\n",
      "Epoch 37/100\n",
      "\u001b[1m272/272\u001b[0m \u001b[32m━━━━━━━━━━━━━━━━━━━━\u001b[0m\u001b[37m\u001b[0m \u001b[1m2s\u001b[0m 6ms/step - accuracy: 0.9857 - loss: 0.0415 - val_accuracy: 0.9766 - val_loss: 0.0617\n",
      "Epoch 38/100\n",
      "\u001b[1m272/272\u001b[0m \u001b[32m━━━━━━━━━━━━━━━━━━━━\u001b[0m\u001b[37m\u001b[0m \u001b[1m2s\u001b[0m 8ms/step - accuracy: 0.9862 - loss: 0.0363 - val_accuracy: 0.9793 - val_loss: 0.0586\n",
      "Epoch 39/100\n",
      "\u001b[1m272/272\u001b[0m \u001b[32m━━━━━━━━━━━━━━━━━━━━\u001b[0m\u001b[37m\u001b[0m \u001b[1m2s\u001b[0m 5ms/step - accuracy: 0.9875 - loss: 0.0375 - val_accuracy: 0.9853 - val_loss: 0.0546\n",
      "Epoch 40/100\n",
      "\u001b[1m272/272\u001b[0m \u001b[32m━━━━━━━━━━━━━━━━━━━━\u001b[0m\u001b[37m\u001b[0m \u001b[1m2s\u001b[0m 6ms/step - accuracy: 0.9869 - loss: 0.0383 - val_accuracy: 0.9834 - val_loss: 0.0559\n",
      "Epoch 41/100\n",
      "\u001b[1m272/272\u001b[0m \u001b[32m━━━━━━━━━━━━━━━━━━━━\u001b[0m\u001b[37m\u001b[0m \u001b[1m1s\u001b[0m 4ms/step - accuracy: 0.9877 - loss: 0.0398 - val_accuracy: 0.9830 - val_loss: 0.0457\n",
      "Epoch 42/100\n",
      "\u001b[1m272/272\u001b[0m \u001b[32m━━━━━━━━━━━━━━━━━━━━\u001b[0m\u001b[37m\u001b[0m \u001b[1m2s\u001b[0m 7ms/step - accuracy: 0.9869 - loss: 0.0340 - val_accuracy: 0.9825 - val_loss: 0.0526\n",
      "Epoch 43/100\n",
      "\u001b[1m272/272\u001b[0m \u001b[32m━━━━━━━━━━━━━━━━━━━━\u001b[0m\u001b[37m\u001b[0m \u001b[1m2s\u001b[0m 9ms/step - accuracy: 0.9857 - loss: 0.0360 - val_accuracy: 0.9830 - val_loss: 0.0579\n",
      "Epoch 44/100\n",
      "\u001b[1m272/272\u001b[0m \u001b[32m━━━━━━━━━━━━━━━━━━━━\u001b[0m\u001b[37m\u001b[0m \u001b[1m2s\u001b[0m 6ms/step - accuracy: 0.9865 - loss: 0.0377 - val_accuracy: 0.9802 - val_loss: 0.0522\n",
      "Epoch 45/100\n",
      "\u001b[1m272/272\u001b[0m \u001b[32m━━━━━━━━━━━━━━━━━━━━\u001b[0m\u001b[37m\u001b[0m \u001b[1m2s\u001b[0m 7ms/step - accuracy: 0.9840 - loss: 0.0389 - val_accuracy: 0.9807 - val_loss: 0.0557\n",
      "Epoch 46/100\n",
      "\u001b[1m272/272\u001b[0m \u001b[32m━━━━━━━━━━━━━━━━━━━━\u001b[0m\u001b[37m\u001b[0m \u001b[1m2s\u001b[0m 7ms/step - accuracy: 0.9907 - loss: 0.0260 - val_accuracy: 0.9816 - val_loss: 0.0592\n",
      "Epoch 47/100\n",
      "\u001b[1m272/272\u001b[0m \u001b[32m━━━━━━━━━━━━━━━━━━━━\u001b[0m\u001b[37m\u001b[0m \u001b[1m2s\u001b[0m 6ms/step - accuracy: 0.9867 - loss: 0.0338 - val_accuracy: 0.9876 - val_loss: 0.0395\n",
      "Epoch 48/100\n",
      "\u001b[1m272/272\u001b[0m \u001b[32m━━━━━━━━━━━━━━━━━━━━\u001b[0m\u001b[37m\u001b[0m \u001b[1m2s\u001b[0m 8ms/step - accuracy: 0.9860 - loss: 0.0333 - val_accuracy: 0.9807 - val_loss: 0.0427\n",
      "Epoch 49/100\n",
      "\u001b[1m272/272\u001b[0m \u001b[32m━━━━━━━━━━━━━━━━━━━━\u001b[0m\u001b[37m\u001b[0m \u001b[1m1s\u001b[0m 4ms/step - accuracy: 0.9875 - loss: 0.0316 - val_accuracy: 0.9839 - val_loss: 0.0525\n",
      "Epoch 50/100\n",
      "\u001b[1m272/272\u001b[0m \u001b[32m━━━━━━━━━━━━━━━━━━━━\u001b[0m\u001b[37m\u001b[0m \u001b[1m2s\u001b[0m 7ms/step - accuracy: 0.9889 - loss: 0.0303 - val_accuracy: 0.9825 - val_loss: 0.0478\n",
      "Epoch 51/100\n",
      "\u001b[1m272/272\u001b[0m \u001b[32m━━━━━━━━━━━━━━━━━━━━\u001b[0m\u001b[37m\u001b[0m \u001b[1m3s\u001b[0m 9ms/step - accuracy: 0.9911 - loss: 0.0260 - val_accuracy: 0.9784 - val_loss: 0.0559\n",
      "Epoch 52/100\n",
      "\u001b[1m272/272\u001b[0m \u001b[32m━━━━━━━━━━━━━━━━━━━━\u001b[0m\u001b[37m\u001b[0m \u001b[1m1s\u001b[0m 4ms/step - accuracy: 0.9867 - loss: 0.0327 - val_accuracy: 0.9811 - val_loss: 0.0671\n",
      "Epoch 53/100\n",
      "\u001b[1m272/272\u001b[0m \u001b[32m━━━━━━━━━━━━━━━━━━━━\u001b[0m\u001b[37m\u001b[0m \u001b[1m2s\u001b[0m 9ms/step - accuracy: 0.9835 - loss: 0.0399 - val_accuracy: 0.9876 - val_loss: 0.0382\n",
      "Epoch 54/100\n",
      "\u001b[1m272/272\u001b[0m \u001b[32m━━━━━━━━━━━━━━━━━━━━\u001b[0m\u001b[37m\u001b[0m \u001b[1m1s\u001b[0m 5ms/step - accuracy: 0.9904 - loss: 0.0266 - val_accuracy: 0.9857 - val_loss: 0.0400\n",
      "Epoch 55/100\n",
      "\u001b[1m272/272\u001b[0m \u001b[32m━━━━━━━━━━━━━━━━━━━━\u001b[0m\u001b[37m\u001b[0m \u001b[1m2s\u001b[0m 8ms/step - accuracy: 0.9890 - loss: 0.0318 - val_accuracy: 0.9830 - val_loss: 0.0453\n",
      "Epoch 56/100\n",
      "\u001b[1m272/272\u001b[0m \u001b[32m━━━━━━━━━━━━━━━━━━━━\u001b[0m\u001b[37m\u001b[0m \u001b[1m2s\u001b[0m 6ms/step - accuracy: 0.9881 - loss: 0.0340 - val_accuracy: 0.9903 - val_loss: 0.0329\n",
      "Epoch 57/100\n",
      "\u001b[1m272/272\u001b[0m \u001b[32m━━━━━━━━━━━━━━━━━━━━\u001b[0m\u001b[37m\u001b[0m \u001b[1m1s\u001b[0m 4ms/step - accuracy: 0.9920 - loss: 0.0277 - val_accuracy: 0.9857 - val_loss: 0.0441\n",
      "Epoch 58/100\n",
      "\u001b[1m272/272\u001b[0m \u001b[32m━━━━━━━━━━━━━━━━━━━━\u001b[0m\u001b[37m\u001b[0m \u001b[1m2s\u001b[0m 8ms/step - accuracy: 0.9873 - loss: 0.0302 - val_accuracy: 0.9876 - val_loss: 0.0438\n",
      "Epoch 59/100\n",
      "\u001b[1m272/272\u001b[0m \u001b[32m━━━━━━━━━━━━━━━━━━━━\u001b[0m\u001b[37m\u001b[0m \u001b[1m2s\u001b[0m 9ms/step - accuracy: 0.9888 - loss: 0.0287 - val_accuracy: 0.9830 - val_loss: 0.0462\n",
      "Epoch 60/100\n",
      "\u001b[1m272/272\u001b[0m \u001b[32m━━━━━━━━━━━━━━━━━━━━\u001b[0m\u001b[37m\u001b[0m \u001b[1m1s\u001b[0m 4ms/step - accuracy: 0.9917 - loss: 0.0233 - val_accuracy: 0.9848 - val_loss: 0.0458\n",
      "Epoch 61/100\n",
      "\u001b[1m272/272\u001b[0m \u001b[32m━━━━━━━━━━━━━━━━━━━━\u001b[0m\u001b[37m\u001b[0m \u001b[1m3s\u001b[0m 9ms/step - accuracy: 0.9895 - loss: 0.0244 - val_accuracy: 0.9857 - val_loss: 0.0442\n",
      "Epoch 62/100\n",
      "\u001b[1m272/272\u001b[0m \u001b[32m━━━━━━━━━━━━━━━━━━━━\u001b[0m\u001b[37m\u001b[0m \u001b[1m1s\u001b[0m 4ms/step - accuracy: 0.9889 - loss: 0.0313 - val_accuracy: 0.9857 - val_loss: 0.0516\n",
      "Epoch 63/100\n",
      "\u001b[1m272/272\u001b[0m \u001b[32m━━━━━━━━━━━━━━━━━━━━\u001b[0m\u001b[37m\u001b[0m \u001b[1m2s\u001b[0m 8ms/step - accuracy: 0.9916 - loss: 0.0238 - val_accuracy: 0.9880 - val_loss: 0.0514\n",
      "Epoch 64/100\n",
      "\u001b[1m272/272\u001b[0m \u001b[32m━━━━━━━━━━━━━━━━━━━━\u001b[0m\u001b[37m\u001b[0m \u001b[1m2s\u001b[0m 5ms/step - accuracy: 0.9895 - loss: 0.0275 - val_accuracy: 0.9839 - val_loss: 0.0473\n",
      "Epoch 65/100\n",
      "\u001b[1m272/272\u001b[0m \u001b[32m━━━━━━━━━━━━━━━━━━━━\u001b[0m\u001b[37m\u001b[0m \u001b[1m1s\u001b[0m 4ms/step - accuracy: 0.9921 - loss: 0.0231 - val_accuracy: 0.9890 - val_loss: 0.0372\n",
      "Epoch 66/100\n",
      "\u001b[1m272/272\u001b[0m \u001b[32m━━━━━━━━━━━━━━━━━━━━\u001b[0m\u001b[37m\u001b[0m \u001b[1m2s\u001b[0m 8ms/step - accuracy: 0.9906 - loss: 0.0260 - val_accuracy: 0.9880 - val_loss: 0.0446\n"
     ]
    }
   ],
   "source": [
    "# Mesurer le temps et la mémoire pour l'entraînement\n",
    "tracemalloc.start()\n",
    "start_fit_time = time.time()\n",
    "\n",
    "# Entraîner le modèle\n",
    "history = model.fit(\n",
    "    X_train, y_train,\n",
    "    epochs=100,\n",
    "    batch_size=32,\n",
    "    validation_data=(X_test, y_test),\n",
    "    callbacks=[early_stopping],\n",
    ")\n",
    "\n",
    "fit_time = time.time() - start_fit_time\n",
    "current, peak = tracemalloc.get_traced_memory()  # Mémoire actuelle et maximale utilisée\n",
    "fit_memory_usage = peak / (1024 * 1024)  # Convertir en Mo\n",
    "tracemalloc.stop()"
   ]
  },
  {
   "cell_type": "code",
   "execution_count": 33,
   "metadata": {},
   "outputs": [
    {
     "name": "stdout",
     "output_type": "stream",
     "text": [
      "\u001b[1m68/68\u001b[0m \u001b[32m━━━━━━━━━━━━━━━━━━━━\u001b[0m\u001b[37m\u001b[0m \u001b[1m1s\u001b[0m 9ms/step\n"
     ]
    }
   ],
   "source": [
    "# Mesurer le temps et la mémoire pour l'entraînement\n",
    "tracemalloc.start()\n",
    "start_predict_time = time.time()\n",
    "\n",
    "# Prédire sur le jeu de test\n",
    "y_pred_proba = model.predict(X_test)\n",
    "y_pred = (y_pred_proba > 0.5).astype(int).flatten()  # Convertir les probabilités en classes binaires (True/False)\n",
    "\n",
    "\n",
    "predict_time = time.time() - start_predict_time\n",
    "current, peak = tracemalloc.get_traced_memory()  # Mémoire actuelle et maximale utilisée\n",
    "predict_memory_usage = peak / (1024 * 1024)  # Convertir en Mo\n",
    "tracemalloc.stop()"
   ]
  },
  {
   "cell_type": "code",
   "execution_count": 34,
   "metadata": {},
   "outputs": [],
   "source": [
    "# Calculer les métriques de classification\n",
    "conf_matrix = confusion_matrix(y_test, y_pred)\n",
    "TN, FP, FN, TP = conf_matrix.ravel() # attention c'est dans cet ordre !\n",
    "\n",
    "precision = precision_score(y_test, y_pred)\n",
    "recall_tpr = recall_score(y_test, y_pred)\n",
    "tnr = TN / (TN + FP) if (TN + FP) != 0 else 0\n",
    "fpr = FP / (FP + TN) if (FP + TN) != 0 else 0\n",
    "accuracy = accuracy_score(y_test, y_pred)\n",
    "\n",
    "f1 = f1_score(y_test, y_pred)\n",
    "balanced_acc = balanced_accuracy_score(y_test, y_pred)\n",
    "mcc = matthews_corrcoef(y_test, y_pred)\n",
    "\n",
    "results_cnn1d_label_n = {\n",
    "    'data': 'PHY',\n",
    "    'model_type': 'CNN 1D',\n",
    "    'attack_type': 'labeln',\n",
    "    'confusion_matrix': conf_matrix,\n",
    "    'precision': precision,\n",
    "    'recall': recall_tpr,\n",
    "    'tnr': tnr,\n",
    "    'fpr': fpr,\n",
    "    'accuracy': accuracy,\n",
    "    'f1': f1,\n",
    "    'balanced_accuracy': balanced_acc,\n",
    "    'mcc': mcc,\n",
    "    'fit_time': fit_time,\n",
    "    'predict_time': predict_time,\n",
    "    'fit_memory_usage': fit_memory_usage,\n",
    "    'predict_memory_usage': predict_memory_usage\n",
    "}"
   ]
  },
  {
   "cell_type": "code",
   "execution_count": 35,
   "metadata": {},
   "outputs": [
    {
     "name": "stdout",
     "output_type": "stream",
     "text": [
      "Évaluation complète du modèle:\n",
      "data: PHY\n",
      "model_type: CNN 1D\n",
      "attack_type: labeln\n",
      "confusion_matrix: [[1772    9]\n",
      " [  12  382]]\n",
      "precision: 0.9769820971867008\n",
      "recall: 0.9695431472081218\n",
      "tnr: 0.9949466591802358\n",
      "fpr: 0.0050533408197641775\n",
      "accuracy: 0.9903448275862069\n",
      "f1: 0.9732484076433121\n",
      "balanced_accuracy: 0.9822449031941789\n",
      "mcc: 0.9673684273150288\n",
      "fit_time: 130.84008359909058\n",
      "predict_time: 1.103905439376831\n",
      "fit_memory_usage: 23.564919471740723\n",
      "predict_memory_usage: 5.60883903503418\n"
     ]
    }
   ],
   "source": [
    "# Afficher les résultats\n",
    "print(\"Évaluation complète du modèle:\")\n",
    "for metric, value in results_cnn1d_label_n.items():\n",
    "    print(f\"{metric}: {value}\")"
   ]
  },
  {
   "cell_type": "code",
   "execution_count": 36,
   "metadata": {},
   "outputs": [],
   "source": [
    "# sauvegarder dans PickleShareDB\n",
    "db['PHY_results_cnn1d_labeln'] = results_cnn1d_label_n"
   ]
  },
  {
   "cell_type": "markdown",
   "metadata": {},
   "source": [
    "### Prédiction de Label\n"
   ]
  },
  {
   "cell_type": "code",
   "execution_count": 37,
   "metadata": {},
   "outputs": [],
   "source": [
    "window_size = 10 \n",
    "\n",
    "# Créer des fenêtres glissantes pour X et y\n",
    "X_windows_phy_1, y_windows_label_phy_1 = create_sliding_windows(X_phy_1, y_label_phy_1, window_size)\n",
    "X_windows_phy_2, y_windows_label_phy_2 = create_sliding_windows(X_phy_2, y_label_phy_2, window_size)\n",
    "X_windows_phy_3, y_windows_label_phy_3 = create_sliding_windows(X_phy_3, y_label_phy_3, window_size)\n",
    "X_windows_phy_4, y_windows_label_phy_4 = create_sliding_windows(X_phy_4, y_label_phy_4, window_size)\n",
    "X_windows_phy_norm, y_windows_label_phy_norm = create_sliding_windows(X_phy_norm, y_label_phy_norm, window_size)"
   ]
  },
  {
   "cell_type": "code",
   "execution_count": 38,
   "metadata": {},
   "outputs": [
    {
     "name": "stdout",
     "output_type": "stream",
     "text": [
      "(2410, 10, 33)\n",
      "(2410, 1)\n",
      "(2094, 10, 33)\n",
      "(2094, 1)\n",
      "(1244, 10, 33)\n",
      "(1244, 1)\n",
      "(1707, 10, 33)\n",
      "(1707, 1)\n",
      "(3418, 10, 33)\n",
      "(3418, 1)\n"
     ]
    }
   ],
   "source": [
    "# Vérifier la forme des données\n",
    "print(X_windows_phy_1.shape)  # (nombre d'échantillons, window_size, nombre de features)\n",
    "print(y_windows_label_phy_1.shape)  # (nombre d'échantillons,)\n",
    "\n",
    "print(X_windows_phy_2.shape)\n",
    "print(y_windows_label_phy_2.shape)\n",
    "\n",
    "print(X_windows_phy_3.shape)\n",
    "print(y_windows_label_phy_3.shape)\n",
    "\n",
    "print(X_windows_phy_4.shape)\n",
    "print(y_windows_label_phy_4.shape)\n",
    "\n",
    "print(X_windows_phy_norm.shape)\n",
    "print(y_windows_label_phy_norm.shape)"
   ]
  },
  {
   "cell_type": "code",
   "execution_count": 39,
   "metadata": {},
   "outputs": [
    {
     "name": "stdout",
     "output_type": "stream",
     "text": [
      "Shape of X_all: (10873, 10, 33)\n",
      "Shape of y_all: (10873, 1)\n"
     ]
    }
   ],
   "source": [
    "# concaténer les données\n",
    "\n",
    "X_all = np.concatenate([X_windows_phy_1, X_windows_phy_2, X_windows_phy_3, X_windows_phy_4, X_windows_phy_norm], axis=0)\n",
    "y_all = np.concatenate([y_windows_label_phy_1, y_windows_label_phy_2, y_windows_label_phy_3, y_windows_label_phy_4, y_windows_label_phy_norm], axis=0)\n",
    "\n",
    "# Vérifier la forme des données après concaténation\n",
    "print(\"Shape of X_all:\", X_all.shape)  # (nombre d'échantillons, window_size, nombre de features)\n",
    "print(\"Shape of y_all:\", y_all.shape)  # (nombre d'échantillons,)"
   ]
  },
  {
   "cell_type": "code",
   "execution_count": 40,
   "metadata": {},
   "outputs": [],
   "source": [
    "# Convertir les colonnes booléennes de X_train et X_test en float32\n",
    "X_all = X_all.astype('float64')\n",
    "y_all = y_all.astype('float64')"
   ]
  },
  {
   "cell_type": "code",
   "execution_count": 41,
   "metadata": {},
   "outputs": [],
   "source": [
    "# division en train et test\n",
    "X_train, X_test, y_train, y_test = train_test_split(X_all, y_all, test_size=0.2, random_state=42)"
   ]
  },
  {
   "cell_type": "code",
   "execution_count": 42,
   "metadata": {},
   "outputs": [
    {
     "name": "stderr",
     "output_type": "stream",
     "text": [
      "c:\\Users\\charl\\AppData\\Local\\Programs\\Python\\Python312\\Lib\\site-packages\\keras\\src\\layers\\convolutional\\base_conv.py:99: UserWarning: Do not pass an `input_shape`/`input_dim` argument to a layer. When using Sequential models, prefer using an `Input(shape)` object as the first layer in the model instead.\n",
      "  super().__init__(\n"
     ]
    }
   ],
   "source": [
    "# Définir et entraîner le modèle CNN 1D\n",
    "model = Sequential()\n",
    "\n",
    "# Ajouter une couche Conv1D\n",
    "model.add(Conv1D(filters=64, kernel_size=3, activation='relu', input_shape=(X_train.shape[1], X_train.shape[2])))\n",
    "model.add(MaxPooling1D(pool_size=2))\n",
    "\n",
    "# Ajouter d'autres couches convolutives si nécessaire\n",
    "model.add(Conv1D(filters=128, kernel_size=3, activation='relu'))\n",
    "model.add(MaxPooling1D(pool_size=2))\n",
    "\n",
    "# Aplatir les sorties pour les couches fully connected\n",
    "model.add(Flatten())\n",
    "\n",
    "# Ajouter une couche Dense pour la classification multiclasse\n",
    "model.add(Dense(nb_class, activation='softmax'))  # Une sortie avec activation softmax pour classification multiclasse\n",
    "\n",
    "# Compiler le modèle : sparse_categorical_crossentropy pour une classification multiclasse\n",
    "model.compile(optimizer='adam', loss='sparse_categorical_crossentropy', metrics=['accuracy'])\n",
    "\n",
    "# Mise en place de l'EarlyStopping\n",
    "early_stopping = EarlyStopping(monitor='val_loss', patience=10, restore_best_weights=True)"
   ]
  },
  {
   "cell_type": "code",
   "execution_count": 43,
   "metadata": {},
   "outputs": [
    {
     "name": "stdout",
     "output_type": "stream",
     "text": [
      "Epoch 1/100\n",
      "\u001b[1m272/272\u001b[0m \u001b[32m━━━━━━━━━━━━━━━━━━━━\u001b[0m\u001b[37m\u001b[0m \u001b[1m5s\u001b[0m 5ms/step - accuracy: 0.7913 - loss: 0.6226 - val_accuracy: 0.8998 - val_loss: 0.2776\n",
      "Epoch 2/100\n",
      "\u001b[1m272/272\u001b[0m \u001b[32m━━━━━━━━━━━━━━━━━━━━\u001b[0m\u001b[37m\u001b[0m \u001b[1m2s\u001b[0m 8ms/step - accuracy: 0.8865 - loss: 0.2756 - val_accuracy: 0.9246 - val_loss: 0.1977\n",
      "Epoch 3/100\n",
      "\u001b[1m272/272\u001b[0m \u001b[32m━━━━━━━━━━━━━━━━━━━━\u001b[0m\u001b[37m\u001b[0m \u001b[1m1s\u001b[0m 5ms/step - accuracy: 0.9077 - loss: 0.2090 - val_accuracy: 0.9310 - val_loss: 0.1608\n",
      "Epoch 4/100\n",
      "\u001b[1m272/272\u001b[0m \u001b[32m━━━━━━━━━━━━━━━━━━━━\u001b[0m\u001b[37m\u001b[0m \u001b[1m1s\u001b[0m 3ms/step - accuracy: 0.9246 - loss: 0.1734 - val_accuracy: 0.9398 - val_loss: 0.1381\n",
      "Epoch 5/100\n",
      "\u001b[1m272/272\u001b[0m \u001b[32m━━━━━━━━━━━━━━━━━━━━\u001b[0m\u001b[37m\u001b[0m \u001b[1m2s\u001b[0m 6ms/step - accuracy: 0.9331 - loss: 0.1473 - val_accuracy: 0.9499 - val_loss: 0.1192\n",
      "Epoch 6/100\n",
      "\u001b[1m272/272\u001b[0m \u001b[32m━━━━━━━━━━━━━━━━━━━━\u001b[0m\u001b[37m\u001b[0m \u001b[1m3s\u001b[0m 9ms/step - accuracy: 0.9429 - loss: 0.1297 - val_accuracy: 0.9559 - val_loss: 0.1110\n",
      "Epoch 7/100\n",
      "\u001b[1m272/272\u001b[0m \u001b[32m━━━━━━━━━━━━━━━━━━━━\u001b[0m\u001b[37m\u001b[0m \u001b[1m2s\u001b[0m 6ms/step - accuracy: 0.9505 - loss: 0.1171 - val_accuracy: 0.9582 - val_loss: 0.1028\n",
      "Epoch 8/100\n",
      "\u001b[1m272/272\u001b[0m \u001b[32m━━━━━━━━━━━━━━━━━━━━\u001b[0m\u001b[37m\u001b[0m \u001b[1m1s\u001b[0m 5ms/step - accuracy: 0.9546 - loss: 0.1084 - val_accuracy: 0.9623 - val_loss: 0.0937\n",
      "Epoch 9/100\n",
      "\u001b[1m272/272\u001b[0m \u001b[32m━━━━━━━━━━━━━━━━━━━━\u001b[0m\u001b[37m\u001b[0m \u001b[1m2s\u001b[0m 6ms/step - accuracy: 0.9599 - loss: 0.1007 - val_accuracy: 0.9623 - val_loss: 0.0871\n",
      "Epoch 10/100\n",
      "\u001b[1m272/272\u001b[0m \u001b[32m━━━━━━━━━━━━━━━━━━━━\u001b[0m\u001b[37m\u001b[0m \u001b[1m2s\u001b[0m 6ms/step - accuracy: 0.9628 - loss: 0.0947 - val_accuracy: 0.9697 - val_loss: 0.0788\n",
      "Epoch 11/100\n",
      "\u001b[1m272/272\u001b[0m \u001b[32m━━━━━━━━━━━━━━━━━━━━\u001b[0m\u001b[37m\u001b[0m \u001b[1m2s\u001b[0m 7ms/step - accuracy: 0.9629 - loss: 0.0913 - val_accuracy: 0.9706 - val_loss: 0.0800\n",
      "Epoch 12/100\n",
      "\u001b[1m272/272\u001b[0m \u001b[32m━━━━━━━━━━━━━━━━━━━━\u001b[0m\u001b[37m\u001b[0m \u001b[1m1s\u001b[0m 4ms/step - accuracy: 0.9665 - loss: 0.0837 - val_accuracy: 0.9715 - val_loss: 0.0743\n",
      "Epoch 13/100\n",
      "\u001b[1m272/272\u001b[0m \u001b[32m━━━━━━━━━━━━━━━━━━━━\u001b[0m\u001b[37m\u001b[0m \u001b[1m1s\u001b[0m 5ms/step - accuracy: 0.9684 - loss: 0.0809 - val_accuracy: 0.9706 - val_loss: 0.0794\n",
      "Epoch 14/100\n",
      "\u001b[1m272/272\u001b[0m \u001b[32m━━━━━━━━━━━━━━━━━━━━\u001b[0m\u001b[37m\u001b[0m \u001b[1m2s\u001b[0m 9ms/step - accuracy: 0.9680 - loss: 0.0819 - val_accuracy: 0.9743 - val_loss: 0.0709\n",
      "Epoch 15/100\n",
      "\u001b[1m272/272\u001b[0m \u001b[32m━━━━━━━━━━━━━━━━━━━━\u001b[0m\u001b[37m\u001b[0m \u001b[1m2s\u001b[0m 8ms/step - accuracy: 0.9690 - loss: 0.0786 - val_accuracy: 0.9747 - val_loss: 0.0662\n",
      "Epoch 16/100\n",
      "\u001b[1m272/272\u001b[0m \u001b[32m━━━━━━━━━━━━━━━━━━━━\u001b[0m\u001b[37m\u001b[0m \u001b[1m1s\u001b[0m 4ms/step - accuracy: 0.9693 - loss: 0.0740 - val_accuracy: 0.9784 - val_loss: 0.0642\n",
      "Epoch 17/100\n",
      "\u001b[1m272/272\u001b[0m \u001b[32m━━━━━━━━━━━━━━━━━━━━\u001b[0m\u001b[37m\u001b[0m \u001b[1m2s\u001b[0m 7ms/step - accuracy: 0.9723 - loss: 0.0709 - val_accuracy: 0.9770 - val_loss: 0.0620\n",
      "Epoch 18/100\n",
      "\u001b[1m272/272\u001b[0m \u001b[32m━━━━━━━━━━━━━━━━━━━━\u001b[0m\u001b[37m\u001b[0m \u001b[1m1s\u001b[0m 5ms/step - accuracy: 0.9752 - loss: 0.0682 - val_accuracy: 0.9793 - val_loss: 0.0580\n",
      "Epoch 19/100\n",
      "\u001b[1m272/272\u001b[0m \u001b[32m━━━━━━━━━━━━━━━━━━━━\u001b[0m\u001b[37m\u001b[0m \u001b[1m2s\u001b[0m 9ms/step - accuracy: 0.9741 - loss: 0.0659 - val_accuracy: 0.9793 - val_loss: 0.0582\n",
      "Epoch 20/100\n",
      "\u001b[1m272/272\u001b[0m \u001b[32m━━━━━━━━━━━━━━━━━━━━\u001b[0m\u001b[37m\u001b[0m \u001b[1m1s\u001b[0m 3ms/step - accuracy: 0.9749 - loss: 0.0636 - val_accuracy: 0.9802 - val_loss: 0.0582\n",
      "Epoch 21/100\n",
      "\u001b[1m272/272\u001b[0m \u001b[32m━━━━━━━━━━━━━━━━━━━━\u001b[0m\u001b[37m\u001b[0m \u001b[1m1s\u001b[0m 5ms/step - accuracy: 0.9748 - loss: 0.0631 - val_accuracy: 0.9779 - val_loss: 0.0592\n",
      "Epoch 22/100\n",
      "\u001b[1m272/272\u001b[0m \u001b[32m━━━━━━━━━━━━━━━━━━━━\u001b[0m\u001b[37m\u001b[0m \u001b[1m2s\u001b[0m 9ms/step - accuracy: 0.9744 - loss: 0.0634 - val_accuracy: 0.9802 - val_loss: 0.0575\n",
      "Epoch 23/100\n",
      "\u001b[1m272/272\u001b[0m \u001b[32m━━━━━━━━━━━━━━━━━━━━\u001b[0m\u001b[37m\u001b[0m \u001b[1m2s\u001b[0m 8ms/step - accuracy: 0.9752 - loss: 0.0598 - val_accuracy: 0.9811 - val_loss: 0.0553\n",
      "Epoch 24/100\n",
      "\u001b[1m272/272\u001b[0m \u001b[32m━━━━━━━━━━━━━━━━━━━━\u001b[0m\u001b[37m\u001b[0m \u001b[1m1s\u001b[0m 3ms/step - accuracy: 0.9755 - loss: 0.0592 - val_accuracy: 0.9825 - val_loss: 0.0560\n",
      "Epoch 25/100\n",
      "\u001b[1m272/272\u001b[0m \u001b[32m━━━━━━━━━━━━━━━━━━━━\u001b[0m\u001b[37m\u001b[0m \u001b[1m1s\u001b[0m 4ms/step - accuracy: 0.9756 - loss: 0.0606 - val_accuracy: 0.9738 - val_loss: 0.0631\n",
      "Epoch 26/100\n",
      "\u001b[1m272/272\u001b[0m \u001b[32m━━━━━━━━━━━━━━━━━━━━\u001b[0m\u001b[37m\u001b[0m \u001b[1m2s\u001b[0m 8ms/step - accuracy: 0.9772 - loss: 0.0611 - val_accuracy: 0.9844 - val_loss: 0.0489\n",
      "Epoch 27/100\n",
      "\u001b[1m272/272\u001b[0m \u001b[32m━━━━━━━━━━━━━━━━━━━━\u001b[0m\u001b[37m\u001b[0m \u001b[1m2s\u001b[0m 8ms/step - accuracy: 0.9792 - loss: 0.0528 - val_accuracy: 0.9761 - val_loss: 0.0629\n",
      "Epoch 28/100\n",
      "\u001b[1m272/272\u001b[0m \u001b[32m━━━━━━━━━━━━━━━━━━━━\u001b[0m\u001b[37m\u001b[0m \u001b[1m1s\u001b[0m 5ms/step - accuracy: 0.9775 - loss: 0.0568 - val_accuracy: 0.9766 - val_loss: 0.0583\n",
      "Epoch 29/100\n",
      "\u001b[1m272/272\u001b[0m \u001b[32m━━━━━━━━━━━━━━━━━━━━\u001b[0m\u001b[37m\u001b[0m \u001b[1m2s\u001b[0m 8ms/step - accuracy: 0.9796 - loss: 0.0506 - val_accuracy: 0.9766 - val_loss: 0.0600\n",
      "Epoch 30/100\n",
      "\u001b[1m272/272\u001b[0m \u001b[32m━━━━━━━━━━━━━━━━━━━━\u001b[0m\u001b[37m\u001b[0m \u001b[1m2s\u001b[0m 9ms/step - accuracy: 0.9786 - loss: 0.0530 - val_accuracy: 0.9738 - val_loss: 0.0662\n",
      "Epoch 31/100\n",
      "\u001b[1m272/272\u001b[0m \u001b[32m━━━━━━━━━━━━━━━━━━━━\u001b[0m\u001b[37m\u001b[0m \u001b[1m2s\u001b[0m 7ms/step - accuracy: 0.9774 - loss: 0.0534 - val_accuracy: 0.9761 - val_loss: 0.0614\n",
      "Epoch 32/100\n",
      "\u001b[1m272/272\u001b[0m \u001b[32m━━━━━━━━━━━━━━━━━━━━\u001b[0m\u001b[37m\u001b[0m \u001b[1m1s\u001b[0m 3ms/step - accuracy: 0.9809 - loss: 0.0456 - val_accuracy: 0.9802 - val_loss: 0.0556\n",
      "Epoch 33/100\n",
      "\u001b[1m272/272\u001b[0m \u001b[32m━━━━━━━━━━━━━━━━━━━━\u001b[0m\u001b[37m\u001b[0m \u001b[1m1s\u001b[0m 5ms/step - accuracy: 0.9825 - loss: 0.0429 - val_accuracy: 0.9766 - val_loss: 0.0694\n",
      "Epoch 34/100\n",
      "\u001b[1m272/272\u001b[0m \u001b[32m━━━━━━━━━━━━━━━━━━━━\u001b[0m\u001b[37m\u001b[0m \u001b[1m2s\u001b[0m 6ms/step - accuracy: 0.9836 - loss: 0.0441 - val_accuracy: 0.9802 - val_loss: 0.0610\n",
      "Epoch 35/100\n",
      "\u001b[1m272/272\u001b[0m \u001b[32m━━━━━━━━━━━━━━━━━━━━\u001b[0m\u001b[37m\u001b[0m \u001b[1m2s\u001b[0m 6ms/step - accuracy: 0.9823 - loss: 0.0460 - val_accuracy: 0.9825 - val_loss: 0.0526\n",
      "Epoch 36/100\n",
      "\u001b[1m272/272\u001b[0m \u001b[32m━━━━━━━━━━━━━━━━━━━━\u001b[0m\u001b[37m\u001b[0m \u001b[1m3s\u001b[0m 5ms/step - accuracy: 0.9798 - loss: 0.0448 - val_accuracy: 0.9821 - val_loss: 0.0533\n"
     ]
    }
   ],
   "source": [
    "# Mesurer le temps et la mémoire pour l'entraînement\n",
    "tracemalloc.start()\n",
    "start_fit_time = time.time()\n",
    "\n",
    "# Entraîner le modèle\n",
    "history = model.fit(\n",
    "    X_train, y_train,\n",
    "    epochs=100,\n",
    "    batch_size=32,\n",
    "    validation_data=(X_test, y_test),\n",
    "    callbacks=[early_stopping],\n",
    ")\n",
    "\n",
    "fit_time = time.time() - start_fit_time\n",
    "current, peak = tracemalloc.get_traced_memory()  # Mémoire actuelle et maximale utilisée\n",
    "fit_memory_usage = peak / (1024 * 1024)  # Convertir en Mo\n",
    "tracemalloc.stop()"
   ]
  },
  {
   "cell_type": "code",
   "execution_count": 44,
   "metadata": {},
   "outputs": [
    {
     "name": "stdout",
     "output_type": "stream",
     "text": [
      "\u001b[1m68/68\u001b[0m \u001b[32m━━━━━━━━━━━━━━━━━━━━\u001b[0m\u001b[37m\u001b[0m \u001b[1m1s\u001b[0m 8ms/step\n"
     ]
    }
   ],
   "source": [
    "# Mesurer le temps et la mémoire pour l'entraînement\n",
    "tracemalloc.start()\n",
    "start_predict_time = time.time()\n",
    "\n",
    "# Prédire sur le jeu de test\n",
    "y_pred_proba = model.predict(X_test)\n",
    "y_pred = y_pred_proba.argmax(axis=1)  # Choisir la classe avec la probabilité la plus élevée\n",
    "\n",
    "predict_time = time.time() - start_predict_time\n",
    "current, peak = tracemalloc.get_traced_memory()  # Mémoire actuelle et maximale utilisée\n",
    "predict_memory_usage = peak / (1024 * 1024)  # Convertir en Mo\n",
    "tracemalloc.stop()"
   ]
  },
  {
   "cell_type": "code",
   "execution_count": 45,
   "metadata": {},
   "outputs": [],
   "source": [
    "# on veut connaitre les perfs pour chaque attaque :\n",
    "# évaluer pour chaque label != normal "
   ]
  },
  {
   "cell_type": "code",
   "execution_count": 46,
   "metadata": {},
   "outputs": [
    {
     "data": {
      "text/plain": [
       "{'normal': 0, 'DoS': 1, 'MITM': 2, 'physical fault': 3, 'scan': 4}"
      ]
     },
     "execution_count": 46,
     "metadata": {},
     "output_type": "execute_result"
    }
   ],
   "source": [
    "label_mapping"
   ]
  },
  {
   "cell_type": "code",
   "execution_count": 47,
   "metadata": {},
   "outputs": [],
   "source": [
    "db['label_mapping'] = label_mapping"
   ]
  },
  {
   "cell_type": "code",
   "execution_count": 48,
   "metadata": {},
   "outputs": [],
   "source": [
    "reverse_label_mapping = {v: k for k, v in label_mapping.items()}"
   ]
  },
  {
   "cell_type": "code",
   "execution_count": 49,
   "metadata": {},
   "outputs": [
    {
     "name": "stdout",
     "output_type": "stream",
     "text": [
      "{0: {'data': 'PHY', 'model_type': 'CNN 1D', 'attack_type': 'normal', 'confusion_matrix': array([[1761,    4,   12,    4,    0],\n",
      "       [   3,   61,    0,    0,    0],\n",
      "       [   2,    0,  189,    0,    0],\n",
      "       [   8,    0,    0,  130,    0],\n",
      "       [   1,    0,    0,    0,    0]], dtype=int64), 'TN': 380, 'FP': 14, 'FN': 20, 'TP': 1761, 'precision': 0.992112676056338, 'recall': 0.9887703537338574, 'f1': 0.9904386951631046, 'balanced_accuracy': 0.9766186794049998, 'mcc': 0.9476586933202081, 'tnr': 0.9644670050761421, 'fpr': 0.03553299492385787, 'accuracy': 0.984367816091954, 'fit_time': 66.48590159416199, 'predict_time': 0.979590654373169, 'fit_memory_usage': 22.104262351989746, 'predict_memory_usage': 5.601738929748535}, 1: {'data': 'PHY', 'model_type': 'CNN 1D', 'attack_type': 'DoS', 'confusion_matrix': array([[1761,    4,   12,    4,    0],\n",
      "       [   3,   61,    0,    0,    0],\n",
      "       [   2,    0,  189,    0,    0],\n",
      "       [   8,    0,    0,  130,    0],\n",
      "       [   1,    0,    0,    0,    0]], dtype=int64), 'TN': 2107, 'FP': 4, 'FN': 3, 'TP': 61, 'precision': 0.9384615384615385, 'recall': 0.953125, 'f1': 0.9457364341085271, 'balanced_accuracy': 0.975615081714827, 'mcc': 0.9441082896867338, 'tnr': 0.9981051634296542, 'fpr': 0.0018948365703458077, 'accuracy': 0.9967816091954023, 'fit_time': 66.48590159416199, 'predict_time': 0.979590654373169, 'fit_memory_usage': 22.104262351989746, 'predict_memory_usage': 5.601738929748535}, 2: {'data': 'PHY', 'model_type': 'CNN 1D', 'attack_type': 'MITM', 'confusion_matrix': array([[1761,    4,   12,    4,    0],\n",
      "       [   3,   61,    0,    0,    0],\n",
      "       [   2,    0,  189,    0,    0],\n",
      "       [   8,    0,    0,  130,    0],\n",
      "       [   1,    0,    0,    0,    0]], dtype=int64), 'TN': 1972, 'FP': 12, 'FN': 2, 'TP': 189, 'precision': 0.9402985074626866, 'recall': 0.9895287958115183, 'f1': 0.9642857142857143, 'balanced_accuracy': 0.991740204357372, 'mcc': 0.9611288812546859, 'tnr': 0.9939516129032258, 'fpr': 0.006048387096774193, 'accuracy': 0.9935632183908046, 'fit_time': 66.48590159416199, 'predict_time': 0.979590654373169, 'fit_memory_usage': 22.104262351989746, 'predict_memory_usage': 5.601738929748535}, 3: {'data': 'PHY', 'model_type': 'CNN 1D', 'attack_type': 'physical fault', 'confusion_matrix': array([[1761,    4,   12,    4,    0],\n",
      "       [   3,   61,    0,    0,    0],\n",
      "       [   2,    0,  189,    0,    0],\n",
      "       [   8,    0,    0,  130,    0],\n",
      "       [   1,    0,    0,    0,    0]], dtype=int64), 'TN': 2033, 'FP': 4, 'FN': 8, 'TP': 130, 'precision': 0.9701492537313433, 'recall': 0.9420289855072463, 'f1': 0.9558823529411765, 'balanced_accuracy': 0.9700326567202407, 'mcc': 0.9530576781546404, 'tnr': 0.9980363279332352, 'fpr': 0.0019636720667648502, 'accuracy': 0.9944827586206897, 'fit_time': 66.48590159416199, 'predict_time': 0.979590654373169, 'fit_memory_usage': 22.104262351989746, 'predict_memory_usage': 5.601738929748535}, 4: {'data': 'PHY', 'model_type': 'CNN 1D', 'attack_type': 'scan', 'confusion_matrix': array([[1761,    4,   12,    4,    0],\n",
      "       [   3,   61,    0,    0,    0],\n",
      "       [   2,    0,  189,    0,    0],\n",
      "       [   8,    0,    0,  130,    0],\n",
      "       [   1,    0,    0,    0,    0]], dtype=int64), 'TN': 2174, 'FP': 0, 'FN': 1, 'TP': 0, 'precision': 0.0, 'recall': 0.0, 'f1': 0.0, 'balanced_accuracy': 0.5, 'mcc': 0, 'tnr': 1.0, 'fpr': 0.0, 'accuracy': 0.9995402298850574, 'fit_time': 66.48590159416199, 'predict_time': 0.979590654373169, 'fit_memory_usage': 22.104262351989746, 'predict_memory_usage': 5.601738929748535}}\n"
     ]
    },
    {
     "name": "stderr",
     "output_type": "stream",
     "text": [
      "c:\\Users\\charl\\AppData\\Local\\Programs\\Python\\Python312\\Lib\\site-packages\\sklearn\\metrics\\_classification.py:1509: UndefinedMetricWarning: Precision is ill-defined and being set to 0.0 in labels with no predicted samples. Use `zero_division` parameter to control this behavior.\n",
      "  _warn_prf(average, modifier, f\"{metric.capitalize()} is\", len(result))\n",
      "c:\\Users\\charl\\AppData\\Local\\Programs\\Python\\Python312\\Lib\\site-packages\\sklearn\\metrics\\_classification.py:1509: UndefinedMetricWarning: Precision is ill-defined and being set to 0.0 in labels with no predicted samples. Use `zero_division` parameter to control this behavior.\n",
      "  _warn_prf(average, modifier, f\"{metric.capitalize()} is\", len(result))\n",
      "c:\\Users\\charl\\AppData\\Local\\Programs\\Python\\Python312\\Lib\\site-packages\\sklearn\\metrics\\_classification.py:1509: UndefinedMetricWarning: Precision is ill-defined and being set to 0.0 in labels with no predicted samples. Use `zero_division` parameter to control this behavior.\n",
      "  _warn_prf(average, modifier, f\"{metric.capitalize()} is\", len(result))\n",
      "c:\\Users\\charl\\AppData\\Local\\Programs\\Python\\Python312\\Lib\\site-packages\\sklearn\\metrics\\_classification.py:1509: UndefinedMetricWarning: Precision is ill-defined and being set to 0.0 in labels with no predicted samples. Use `zero_division` parameter to control this behavior.\n",
      "  _warn_prf(average, modifier, f\"{metric.capitalize()} is\", len(result))\n",
      "c:\\Users\\charl\\AppData\\Local\\Programs\\Python\\Python312\\Lib\\site-packages\\sklearn\\metrics\\_classification.py:1509: UndefinedMetricWarning: Precision is ill-defined and being set to 0.0 in labels with no predicted samples. Use `zero_division` parameter to control this behavior.\n",
      "  _warn_prf(average, modifier, f\"{metric.capitalize()} is\", len(result))\n"
     ]
    }
   ],
   "source": [
    "# Calcul de la confusion matrix pour tout le test\n",
    "conf_matrix = confusion_matrix(y_test, y_pred)\n",
    "\n",
    "# Dictionnaire pour stocker les résultats de chaque classe\n",
    "class_results = {}\n",
    "\n",
    "for class_label in range(nb_class):\n",
    "    # Extraire la matrice de confusion pour la classe spécifique\n",
    "    TP = conf_matrix[class_label, class_label]\n",
    "    FP = sum(conf_matrix[:, class_label]) - TP\n",
    "    FN = sum(conf_matrix[class_label, :]) - TP\n",
    "    TN = conf_matrix.sum() - (TP + FP + FN)\n",
    "\n",
    "    # Calcul des métriques pour chaque classe\n",
    "    precision = precision_score(y_test, y_pred, average=None)[class_label]\n",
    "    recall_tpr = recall_score(y_test, y_pred, average=None)[class_label]\n",
    "    tnr = TN / (TN + FP) if (TN + FP) != 0 else 0\n",
    "    fpr = FP / (FP + TN) if (FP + TN) != 0 else 0\n",
    "    accuracy = (TP + TN) / (TP + TN + FP + FN)\n",
    "    f1 = f1_score(y_test, y_pred, average=None)[class_label]\n",
    "    balanced_acc = (recall_tpr + tnr) / 2\n",
    "    mcc = (TP * TN - FP * FN) / np.sqrt((TP + FP) * (TP + FN) * (TN + FP) * (TN + FN)) if (TP + FP) * (TP + FN) * (TN + FP) * (TN + FN) != 0 else 0\n",
    "\n",
    "\n",
    "    # Stocker les résultats dans le dictionnaire\n",
    "    class_results[class_label] = {\n",
    "        'data': 'PHY',\n",
    "        'model_type': 'CNN 1D',\n",
    "        'attack_type': reverse_label_mapping[class_label],\n",
    "        'confusion_matrix': conf_matrix,\n",
    "        'TN': TN,\n",
    "        'FP': FP,\n",
    "        'FN': FN,\n",
    "        'TP': TP,\n",
    "        'precision': precision,\n",
    "        'recall': recall_tpr,\n",
    "        'f1': f1,\n",
    "        'balanced_accuracy': balanced_acc,\n",
    "        'mcc': mcc,\n",
    "        'tnr': tnr,\n",
    "        'fpr': fpr,\n",
    "        'accuracy': accuracy,\n",
    "        'fit_time': fit_time,\n",
    "        'predict_time': predict_time,\n",
    "        'fit_memory_usage': fit_memory_usage,\n",
    "        'predict_memory_usage': predict_memory_usage\n",
    "    }\n",
    "\n",
    "# Afficher ou enregistrer les résultats pour chaque classe\n",
    "print(class_results)\n"
   ]
  },
  {
   "cell_type": "code",
   "execution_count": 50,
   "metadata": {},
   "outputs": [
    {
     "name": "stdout",
     "output_type": "stream",
     "text": [
      "[0.99211268 0.93846154 0.94029851 0.97014925 0.        ]\n",
      "Résultats pour la classe 0: 0.992112676056338\n",
      "avec calcul : 0.992112676056338\n",
      "Résultats pour la classe 1: 0.9384615384615385\n",
      "avec calcul : 0.9384615384615385\n",
      "Résultats pour la classe 2: 0.9402985074626866\n",
      "avec calcul : 0.9402985074626866\n",
      "Résultats pour la classe 3: 0.9701492537313433\n",
      "avec calcul : 0.9701492537313433\n",
      "Résultats pour la classe 4: 0.0\n",
      "avec calcul : nan\n"
     ]
    },
    {
     "name": "stderr",
     "output_type": "stream",
     "text": [
      "c:\\Users\\charl\\AppData\\Local\\Programs\\Python\\Python312\\Lib\\site-packages\\sklearn\\metrics\\_classification.py:1509: UndefinedMetricWarning: Precision is ill-defined and being set to 0.0 in labels with no predicted samples. Use `zero_division` parameter to control this behavior.\n",
      "  _warn_prf(average, modifier, f\"{metric.capitalize()} is\", len(result))\n",
      "C:\\Users\\charl\\AppData\\Local\\Temp\\ipykernel_26432\\3645313826.py:5: RuntimeWarning: invalid value encountered in scalar divide\n",
      "  print(f\"avec calcul : {class_results[i]['TP'] / (class_results[i]['TP'] + class_results[i]['FP'])}\")\n"
     ]
    }
   ],
   "source": [
    "# vérif\n",
    "print(precision_score(y_test, y_pred, average=None))\n",
    "for i in range(nb_class):\n",
    "    print(f\"Résultats pour la classe {i}: {class_results[i]['precision']}\")\n",
    "    print(f\"avec calcul : {class_results[i]['TP'] / (class_results[i]['TP'] + class_results[i]['FP'])}\")\n",
    "# ok c'est bon"
   ]
  },
  {
   "cell_type": "code",
   "execution_count": 51,
   "metadata": {},
   "outputs": [
    {
     "name": "stdout",
     "output_type": "stream",
     "text": [
      "test tpr 0.953125\n",
      "0.953125\n"
     ]
    }
   ],
   "source": [
    "tp = class_results[1]['TP']\n",
    "fn = class_results[1]['FN']\n",
    "print(\"test tpr\", tp / (tp + fn))\n",
    "print(class_results[1]['recall'])\n",
    "# ok c'est bon "
   ]
  },
  {
   "cell_type": "code",
   "execution_count": 52,
   "metadata": {},
   "outputs": [],
   "source": [
    "# sauvegarder les données \n",
    "\n",
    "for i in range(1, nb_class):\n",
    "    class_results[i]['model'] = f'CNN1D - label - {reverse_label_mapping[i]}'\n",
    "    db[f'PHY_results_cnn1d_{reverse_label_mapping[i]}'] = class_results[i]"
   ]
  }
 ],
 "metadata": {
  "kernelspec": {
   "display_name": "Python 3",
   "language": "python",
   "name": "python3"
  },
  "language_info": {
   "codemirror_mode": {
    "name": "ipython",
    "version": 3
   },
   "file_extension": ".py",
   "mimetype": "text/x-python",
   "name": "python",
   "nbconvert_exporter": "python",
   "pygments_lexer": "ipython3",
   "version": "3.12.1"
  }
 },
 "nbformat": 4,
 "nbformat_minor": 2
}
