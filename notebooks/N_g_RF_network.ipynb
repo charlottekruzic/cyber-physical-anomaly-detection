{
 "cells": [
  {
   "cell_type": "code",
   "execution_count": 1,
   "metadata": {},
   "outputs": [],
   "source": [
    "import pandas as pd\n",
    "import numpy as np\n",
    "from pickleshare import PickleShareDB\n",
    "from sklearn.ensemble import RandomForestClassifier\n",
    "from sklearn.model_selection import train_test_split, GridSearchCV\n",
    "from sklearn.tree import DecisionTreeClassifier\n",
    "from sklearn.preprocessing import LabelEncoder\n",
    "from sklearn.metrics import precision_score, recall_score, f1_score, accuracy_score, balanced_accuracy_score, matthews_corrcoef, confusion_matrix\n",
    "\n",
    "import matplotlib.pyplot as plt\n",
    "import seaborn as sns\n",
    "\n",
    "import time\n",
    "import tracemalloc"
   ]
  },
  {
   "cell_type": "code",
   "execution_count": 2,
   "metadata": {},
   "outputs": [],
   "source": [
    "# Pour garantir la reproductibilité\n",
    "np.random.seed(42)  # Pour numpy"
   ]
  },
  {
   "cell_type": "markdown",
   "metadata": {},
   "source": [
    "## Chargement des données"
   ]
  },
  {
   "cell_type": "code",
   "execution_count": 3,
   "metadata": {},
   "outputs": [],
   "source": [
    "db = PickleShareDB('../prep_data/kity')"
   ]
  },
  {
   "cell_type": "code",
   "execution_count": 4,
   "metadata": {},
   "outputs": [],
   "source": [
    "# Chargement des données de classification binaire\n",
    "X_train_resampled_binary = db['binary_X_train_resampled']\n",
    "y_train_resampled_binary = db['binary_y_train_resampled']\n",
    "X_test_binary = db['binary_X_test']\n",
    "y_test_binary = db['binary_y_test']\n",
    "\n",
    "# Chargement des données de classification multi-classes\n",
    "X_train_resampled_multiclass = db['multiclass_X_train_resampled']\n",
    "y_train_resampled_multiclass = db['multiclass_y_train_resampled']\n",
    "X_test_multiclass = db['multiclass_X_test']\n",
    "y_test_multiclass = db['multiclass_y_test']\n",
    "\n",
    "# Chargement du mapping des étiquettes pour la classification multi-classes\n",
    "# Ce dictionnaire associe les étiquettes textuelles (e.g., 'normal', 'DoS') à des valeurs numériques\n",
    "label_mapping_network = db['label_mapping_network'] "
   ]
  },
  {
   "cell_type": "markdown",
   "metadata": {},
   "source": [
    "## Initialisation du modèle"
   ]
  },
  {
   "cell_type": "code",
   "execution_count": 5,
   "metadata": {},
   "outputs": [],
   "source": [
    "# Initialiser le modèle Random Forest \n",
    "rf_model = RandomForestClassifier(\n",
    "    n_estimators=100,\n",
    "    max_depth=None,\n",
    "    random_state=42,\n",
    "    n_jobs=-1\n",
    ")"
   ]
  },
  {
   "cell_type": "markdown",
   "metadata": {},
   "source": [
    "## Entraînement du modèle et évaluation - Classification binaire"
   ]
  },
  {
   "cell_type": "code",
   "execution_count": 6,
   "metadata": {},
   "outputs": [],
   "source": [
    "# Mesurer le temps et la mémoire pour l'entraînement\n",
    "tracemalloc.start()\n",
    "start_fit_time = time.time()\n",
    "\n",
    "rf_model.fit(X_train_resampled_binary, y_train_resampled_binary)\n",
    "\n",
    "fit_time = time.time() - start_fit_time\n",
    "current, peak = tracemalloc.get_traced_memory()  # Mémoire actuelle et maximale utilisée\n",
    "fit_memory_usage = peak / (1024 * 1024)  # Convertir en Mo\n",
    "tracemalloc.stop()"
   ]
  },
  {
   "cell_type": "code",
   "execution_count": 7,
   "metadata": {},
   "outputs": [],
   "source": [
    "# Mesurer le temps et la mémoire pour la prediction\n",
    "tracemalloc.start()\n",
    "start_predict_time = time.time()\n",
    "\n",
    "# Prédire les étiquettes sur l'ensemble de test\n",
    "y_pred = rf_model.predict(X_test_binary)\n",
    "predict_time = time.time() - start_predict_time\n",
    "current, peak = tracemalloc.get_traced_memory()  # Mémoire actuelle et maximale utilisée\n",
    "predict_memory_usage = peak / (1024 * 1024)  # Convertir en Mo\n",
    "tracemalloc.stop()"
   ]
  },
  {
   "cell_type": "markdown",
   "metadata": {},
   "source": [
    "### Évaluation"
   ]
  },
  {
   "cell_type": "markdown",
   "metadata": {},
   "source": [
    "#### Métriques de classification"
   ]
  },
  {
   "cell_type": "code",
   "execution_count": 8,
   "metadata": {},
   "outputs": [],
   "source": [
    "cm = confusion_matrix(y_test_binary, y_pred)\n",
    "TN, FP, FN, TP = cm.ravel()\n",
    "\n",
    "# Métriques pour les données équilibrées\n",
    "precision = precision_score(y_test_binary, y_pred, average='binary')\n",
    "recall = recall_score(y_test_binary, y_pred, average='binary')\n",
    "tnr = TN / (TN + FP) if (TN + FP) != 0 else 0\n",
    "fpr = FP / (FP + TN) if (FP + TN) != 0 else 0\n",
    "accuracy = accuracy_score(y_test_binary, y_pred)\n",
    "\n",
    "# Métriques pour les données déséquilibrées\n",
    "f1 = f1_score(y_test_binary, y_pred, average='binary')\n",
    "balanced_acc = balanced_accuracy_score(y_test_binary, y_pred)\n",
    "mcc = matthews_corrcoef(y_test_binary, y_pred)\n",
    "\n",
    "results_RF_label_n = {\n",
    "    'data': 'NETW',\n",
    "    'model_type': 'Random Forest',\n",
    "    'attack_type': 'labeln',\n",
    "    'confusion_matrix': cm,\n",
    "    'precision': precision,\n",
    "    'recall': recall,\n",
    "    'tnr': tnr,\n",
    "    'fpr': fpr,\n",
    "    'accuracy': accuracy,\n",
    "    'f1': f1,\n",
    "    'balanced_accuracy': balanced_acc,\n",
    "    'mcc': mcc,\n",
    "    'fit_time': fit_time,\n",
    "    'predict_time': predict_time,\n",
    "    'fit_memory_usage': fit_memory_usage,\n",
    "    'predict_memory_usage': predict_memory_usage\n",
    "}"
   ]
  },
  {
   "cell_type": "code",
   "execution_count": 9,
   "metadata": {},
   "outputs": [
    {
     "name": "stdout",
     "output_type": "stream",
     "text": [
      "Évaluation complète du modèle:\n",
      "data: NETW\n",
      "model_type: Random Forest\n",
      "attack_type: labeln\n",
      "confusion_matrix: [[62214  1266]\n",
      " [18207 26123]]\n",
      "precision: 0.9537770637847311\n",
      "recall: 0.5892849086397474\n",
      "tnr: 0.9800567107750473\n",
      "fpr: 0.01994328922495274\n",
      "accuracy: 0.8193766811984046\n",
      "f1: 0.7284819922196349\n",
      "balanced_accuracy: 0.7846708097073973\n",
      "mcc: 0.6435279801373618\n",
      "fit_time: 26.660938024520874\n",
      "predict_time: 0.44316697120666504\n",
      "fit_memory_usage: 432.60574436187744\n",
      "predict_memory_usage: 27.34887981414795\n"
     ]
    }
   ],
   "source": [
    "# Afficher les résultats\n",
    "print(\"Évaluation complète du modèle:\")\n",
    "for metric, value in results_RF_label_n.items():\n",
    "    print(f\"{metric}: {value}\")"
   ]
  },
  {
   "cell_type": "markdown",
   "metadata": {},
   "source": [
    "##### Matrice de confusion "
   ]
  },
  {
   "cell_type": "code",
   "execution_count": 10,
   "metadata": {},
   "outputs": [
    {
     "data": {
      "image/png": "[encoded data removed]",
      "text/plain": [
       "<Figure size 640x480 with 2 Axes>"
      ]
     },
     "metadata": {},
     "output_type": "display_data"
    }
   ],
   "source": [
    "# Matrice de confusion\n",
    "sns.heatmap(cm, annot=True, fmt='d', cmap='Blues')\n",
    "plt.xlabel('Prédit')\n",
    "plt.ylabel('Réel')\n",
    "plt.title('Matrice de confusion')\n",
    "plt.show()"
   ]
  },
  {
   "cell_type": "markdown",
   "metadata": {},
   "source": [
    "### Sauvegarder les resultats"
   ]
  },
  {
   "cell_type": "code",
   "execution_count": 11,
   "metadata": {},
   "outputs": [],
   "source": [
    "# sauvegarder dans PickleShareDB\n",
    "db['NETW_results_RF_labeln'] = results_RF_label_n"
   ]
  },
  {
   "cell_type": "markdown",
   "metadata": {},
   "source": [
    "## Entraînement du modèle et évaluation - Classification multi-classes"
   ]
  },
  {
   "cell_type": "code",
   "execution_count": 12,
   "metadata": {},
   "outputs": [],
   "source": [
    "ordered_classes = ['normal', 'DoS','physical fault', 'MITM', 'anomaly']\n",
    "nb_class = 5"
   ]
  },
  {
   "cell_type": "code",
   "execution_count": 13,
   "metadata": {},
   "outputs": [],
   "source": [
    "# Mesurer le temps et la mémoire pour l'entraînement\n",
    "tracemalloc.start()\n",
    "start_fit_time = time.time()\n",
    "\n",
    "rf_model.fit(X_train_resampled_multiclass, y_train_resampled_multiclass)\n",
    "\n",
    "fit_time = time.time() - start_fit_time\n",
    "current, peak = tracemalloc.get_traced_memory()  # Mémoire actuelle et maximale utilisée\n",
    "fit_memory_usage = peak / (1024 * 1024)  # Convertir en Mo\n",
    "tracemalloc.stop()"
   ]
  },
  {
   "cell_type": "code",
   "execution_count": 14,
   "metadata": {},
   "outputs": [],
   "source": [
    "# Mesurer le temps et la mémoire pour la prediction\n",
    "tracemalloc.start()\n",
    "start_predict_time = time.time()\n",
    "\n",
    "# Prédire les étiquettes sur l'ensemble de test\n",
    "y_pred = rf_model.predict(X_test_multiclass)\n",
    "predict_time = time.time() - start_predict_time\n",
    "current, peak = tracemalloc.get_traced_memory()  # Mémoire actuelle et maximale utilisée\n",
    "predict_memory_usage = peak / (1024 * 1024)  # Convertir en Mo\n",
    "tracemalloc.stop()"
   ]
  },
  {
   "cell_type": "code",
   "execution_count": 15,
   "metadata": {},
   "outputs": [],
   "source": [
    "reverse_label_mapping = {v: k for k, v in label_mapping_network.items()}"
   ]
  },
  {
   "cell_type": "markdown",
   "metadata": {},
   "source": [
    "### Évaluation"
   ]
  },
  {
   "cell_type": "markdown",
   "metadata": {},
   "source": [
    "#### Métriques de classification"
   ]
  },
  {
   "cell_type": "code",
   "execution_count": 16,
   "metadata": {},
   "outputs": [
    {
     "name": "stdout",
     "output_type": "stream",
     "text": [
      "{0: {'data': 'NETW', 'model_type': 'Random Forest', 'attack_type': 'normal', 'confusion_matrix': array([[63016,    76,    90,   298,     0],\n",
      "       [  568, 25232,     3,     4,     1],\n",
      "       [ 7654,     6,    37,    46,     0],\n",
      "       [10467,     8,    20,   282,     0],\n",
      "       [    0,     0,     0,     0,     2]], dtype=int64), 'TN': 25641, 'FP': 18689, 'FN': 464, 'TP': 63016, 'precision': 0.7712624686371703, 'recall': 0.9926906112161311, 'f1': 0.8680786582635948, 'balanced_accuracy': 0.7855512609430532, 'mcc': 0.6559870058059818, 'tnr': 0.5784119106699752, 'fpr': 0.42158808933002484, 'accuracy': 0.8223448659679065, 'fit_time': 30.108789443969727, 'predict_time': 0.5945103168487549, 'fit_memory_usage': 620.1185779571533, 'predict_memory_usage': 65.18820667266846}, 1: {'data': 'NETW', 'model_type': 'Random Forest', 'attack_type': 'DoS', 'confusion_matrix': array([[63016,    76,    90,   298,     0],\n",
      "       [  568, 25232,     3,     4,     1],\n",
      "       [ 7654,     6,    37,    46,     0],\n",
      "       [10467,     8,    20,   282,     0],\n",
      "       [    0,     0,     0,     0,     2]], dtype=int64), 'TN': 81912, 'FP': 90, 'FN': 576, 'TP': 25232, 'precision': 0.996445778374536, 'recall': 0.9776813391196528, 'f1': 0.9869743790338353, 'balanced_accuracy': 0.988291902456585, 'mcc': 0.9830022823818916, 'tnr': 0.9989024657935173, 'fpr': 0.0010975342064827687, 'accuracy': 0.9938224654484742, 'fit_time': 30.108789443969727, 'predict_time': 0.5945103168487549, 'fit_memory_usage': 620.1185779571533, 'predict_memory_usage': 65.18820667266846}, 2: {'data': 'NETW', 'model_type': 'Random Forest', 'attack_type': 'physical fault', 'confusion_matrix': array([[63016,    76,    90,   298,     0],\n",
      "       [  568, 25232,     3,     4,     1],\n",
      "       [ 7654,     6,    37,    46,     0],\n",
      "       [10467,     8,    20,   282,     0],\n",
      "       [    0,     0,     0,     0,     2]], dtype=int64), 'TN': 99954, 'FP': 113, 'FN': 7706, 'TP': 37, 'precision': 0.24666666666666667, 'recall': 0.004778509621593698, 'f1': 0.00937539592043583, 'balanced_accuracy': 0.5018246331073382, 'mcc': 0.025277423149523044, 'tnr': 0.9988707565930827, 'fpr': 0.0011292434069173653, 'accuracy': 0.927474260272702, 'fit_time': 30.108789443969727, 'predict_time': 0.5945103168487549, 'fit_memory_usage': 620.1185779571533, 'predict_memory_usage': 65.18820667266846}, 3: {'data': 'NETW', 'model_type': 'Random Forest', 'attack_type': 'MITM', 'confusion_matrix': array([[63016,    76,    90,   298,     0],\n",
      "       [  568, 25232,     3,     4,     1],\n",
      "       [ 7654,     6,    37,    46,     0],\n",
      "       [10467,     8,    20,   282,     0],\n",
      "       [    0,     0,     0,     0,     2]], dtype=int64), 'TN': 96685, 'FP': 348, 'FN': 10495, 'TP': 282, 'precision': 0.44761904761904764, 'recall': 0.026166836782035817, 'f1': 0.04944332427456825, 'balanced_accuracy': 0.5112902140172482, 'mcc': 0.08886151022206476, 'tnr': 0.9964135912524605, 'fpr': 0.003586408747539497, 'accuracy': 0.899424914200909, 'fit_time': 30.108789443969727, 'predict_time': 0.5945103168487549, 'fit_memory_usage': 620.1185779571533, 'predict_memory_usage': 65.18820667266846}, 4: {'data': 'NETW', 'model_type': 'Random Forest', 'attack_type': 'anomaly', 'confusion_matrix': array([[63016,    76,    90,   298,     0],\n",
      "       [  568, 25232,     3,     4,     1],\n",
      "       [ 7654,     6,    37,    46,     0],\n",
      "       [10467,     8,    20,   282,     0],\n",
      "       [    0,     0,     0,     0,     2]], dtype=int64), 'TN': 107807, 'FP': 1, 'FN': 0, 'TP': 2, 'precision': 0.6666666666666666, 'recall': 1.0, 'f1': 0.8, 'balanced_accuracy': 0.9999953621252597, 'mcc': 0.8164927941100764, 'tnr': 0.9999907242505195, 'fpr': 9.27574948055803e-06, 'accuracy': 0.9999907244225953, 'fit_time': 30.108789443969727, 'predict_time': 0.5945103168487549, 'fit_memory_usage': 620.1185779571533, 'predict_memory_usage': 65.18820667266846}}\n"
     ]
    }
   ],
   "source": [
    "cm = confusion_matrix(y_test_multiclass, y_pred)\n",
    "\n",
    "# Dictionnaire pour stocker les résultats de chaque classe\n",
    "class_results = {}\n",
    "\n",
    "for class_label in range(nb_class):\n",
    "    # Extraire la matrice de confusion pour la classe spécifique\n",
    "    TP = cm[class_label, class_label]\n",
    "    FP = sum(cm[:, class_label]) - TP\n",
    "    FN = sum(cm[class_label, :]) - TP\n",
    "    TN = cm.sum() - (TP + FP + FN)\n",
    "\n",
    "    # Calcul des métriques pour chaque classe\n",
    "    precision = precision_score(y_test_multiclass, y_pred, average=None)[class_label]\n",
    "    recall_tpr = recall_score(y_test_multiclass, y_pred, average=None)[class_label]\n",
    "    tnr = TN / (TN + FP) if (TN + FP) != 0 else 0\n",
    "    fpr = FP / (FP + TN) if (FP + TN) != 0 else 0\n",
    "    accuracy = (TP + TN) / (TP + TN + FP + FN)\n",
    "    f1 = f1_score(y_test_multiclass, y_pred, average=None)[class_label]\n",
    "    balanced_acc = (recall_tpr + tnr) / 2\n",
    "    mcc = (TP * TN - FP * FN) / np.sqrt((TP + FP) * (TP + FN) * (TN + FP) * (TN + FN)) if (TP + FP) * (TP + FN) * (TN + FP) * (TN + FN) != 0 else 0\n",
    "\n",
    "\n",
    "# Stocker les résultats dans le dictionnaire\n",
    "    class_results[class_label] = {\n",
    "        'data': 'NETW',\n",
    "        'model_type': 'Random Forest',\n",
    "        'attack_type': reverse_label_mapping[class_label],\n",
    "        'confusion_matrix': cm,\n",
    "        'TN': TN,\n",
    "        'FP': FP,\n",
    "        'FN': FN,\n",
    "        'TP': TP,\n",
    "        'precision': precision,\n",
    "        'recall': recall_tpr,\n",
    "        'f1': f1,\n",
    "        'balanced_accuracy': balanced_acc,\n",
    "        'mcc': mcc,\n",
    "        'tnr': tnr,\n",
    "        'fpr': fpr,\n",
    "        'accuracy': accuracy,\n",
    "        'fit_time': fit_time,\n",
    "        'predict_time': predict_time,\n",
    "        'fit_memory_usage': fit_memory_usage,\n",
    "        'predict_memory_usage': predict_memory_usage\n",
    "    }\n",
    "\n",
    "# Afficher ou enregistrer les résultats pour chaque classe\n",
    "print(class_results)"
   ]
  },
  {
   "cell_type": "code",
   "execution_count": 17,
   "metadata": {},
   "outputs": [
    {
     "name": "stdout",
     "output_type": "stream",
     "text": [
      "[0.77126247 0.99644578 0.24666667 0.44761905 0.66666667]\n",
      "Résultats pour la classe 0: 0.7712624686371703\n",
      "avec calcul : 0.7712624686371703\n",
      "Résultats pour la classe 1: 0.996445778374536\n",
      "avec calcul : 0.996445778374536\n",
      "Résultats pour la classe 2: 0.24666666666666667\n",
      "avec calcul : 0.24666666666666667\n",
      "Résultats pour la classe 3: 0.44761904761904764\n",
      "avec calcul : 0.44761904761904764\n",
      "Résultats pour la classe 4: 0.6666666666666666\n",
      "avec calcul : 0.6666666666666666\n"
     ]
    }
   ],
   "source": [
    "# vérif\n",
    "print(precision_score(y_test_multiclass, y_pred, average=None))\n",
    "for i in range(nb_class):\n",
    "    print(f\"Résultats pour la classe {i}: {class_results[i]['precision']}\")\n",
    "    print(f\"avec calcul : {class_results[i]['TP'] / (class_results[i]['TP'] + class_results[i]['FP'])}\")"
   ]
  },
  {
   "cell_type": "code",
   "execution_count": 18,
   "metadata": {},
   "outputs": [
    {
     "name": "stdout",
     "output_type": "stream",
     "text": [
      "test tpr 0.9776813391196528\n",
      "0.9776813391196528\n"
     ]
    }
   ],
   "source": [
    "tp = class_results[1]['TP']\n",
    "fn = class_results[1]['FN']\n",
    "print(\"test tpr\", tp / (tp + fn))\n",
    "print(class_results[1]['recall'])"
   ]
  },
  {
   "cell_type": "markdown",
   "metadata": {},
   "source": [
    "##### Matrice de confusion "
   ]
  },
  {
   "cell_type": "code",
   "execution_count": 19,
   "metadata": {},
   "outputs": [
    {
     "data": {
      "image/png": "[encoded data removed]",
      "text/plain": [
       "<Figure size 640x480 with 2 Axes>"
      ]
     },
     "metadata": {},
     "output_type": "display_data"
    }
   ],
   "source": [
    "# Matrice de confusion\n",
    "sns.heatmap(cm, annot=True, fmt='d', cmap='Blues', xticklabels=ordered_classes, yticklabels=ordered_classes)\n",
    "plt.xlabel('Prédit')\n",
    "plt.ylabel('Réel')\n",
    "plt.title('Matrice de confusion')\n",
    "plt.show()"
   ]
  },
  {
   "cell_type": "markdown",
   "metadata": {},
   "source": [
    "### Sauvegarder les resultats"
   ]
  },
  {
   "cell_type": "code",
   "execution_count": 20,
   "metadata": {},
   "outputs": [],
   "source": [
    "# sauvegarder les données \n",
    "\n",
    "for i in range(1, nb_class):\n",
    "    class_results[i]['model'] = f'RF - label - {reverse_label_mapping[i]}'\n",
    "    db[f'NETW_results_RF_{reverse_label_mapping[i]}'] = class_results[i]"
   ]
  }
 ],
 "metadata": {
  "kernelspec": {
   "display_name": "Python 3",
   "language": "python",
   "name": "python3"
  },
  "language_info": {
   "codemirror_mode": {
    "name": "ipython",
    "version": 3
   },
   "file_extension": ".py",
   "mimetype": "text/x-python",
   "name": "python",
   "nbconvert_exporter": "python",
   "pygments_lexer": "ipython3",
   "version": "3.12.1"
  }
 },
 "nbformat": 4,
 "nbformat_minor": 2
}
