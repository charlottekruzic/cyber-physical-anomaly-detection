{
 "cells": [
  {
   "cell_type": "code",
   "execution_count": 20,
   "metadata": {},
   "outputs": [],
   "source": [
    "# Librairies\n",
    "import pandas as pd\n",
    "import numpy as np\n",
    "from pickleshare import PickleShareDB\n",
    "\n",
    "from sklearn.preprocessing import OrdinalEncoder, StandardScaler, LabelEncoder\n",
    "from sklearn.neighbors import KNeighborsClassifier\n",
    "from sklearn.model_selection import train_test_split"
   ]
  },
  {
   "cell_type": "code",
   "execution_count": 21,
   "metadata": {},
   "outputs": [],
   "source": [
    "# Pour garantir la reproductibilité\n",
    "np.random.seed(42)  # Pour numpy"
   ]
  },
  {
   "cell_type": "markdown",
   "metadata": {},
   "source": [
    "## Chargement des données\n",
    "Nous chargeons les données depuis le fichier des données préprarées."
   ]
  },
  {
   "cell_type": "code",
   "execution_count": 22,
   "metadata": {},
   "outputs": [],
   "source": [
    "# Données nettoyées\n",
    "db = PickleShareDB('../prep_data/kity')\n",
    "\n",
    "# df_net_1 = db['net_attack_1_clean']\n",
    "# df_net_2 = db['net_attack_2_clean']\n",
    "# df_net_3 = db['net_attack_3_clean']\n",
    "# df_net_4 = db['net_attack_4_clean']\n",
    "# df_net_norm = db['net_norm_clean']"
   ]
  },
  {
   "cell_type": "code",
   "execution_count": 36,
   "metadata": {},
   "outputs": [],
   "source": [
    "# Création d'un dataset avec toutes les données\n",
    "df = [db['net_attack_1_clean'], db['net_attack_2_clean'], db['net_attack_3_clean'], db['net_attack_4_clean']]\n",
    "df = pd.concat(df, axis=0, ignore_index=True)"
   ]
  },
  {
   "cell_type": "code",
   "execution_count": 37,
   "metadata": {},
   "outputs": [
    {
     "name": "stderr",
     "output_type": "stream",
     "text": [
      "/tmp/ipykernel_9592/3121293707.py:2: DeprecationWarning: DataFrameGroupBy.apply operated on the grouping columns. This behavior is deprecated, and in a future version of pandas the grouping columns will be excluded from the operation. Either pass `include_groups=False` to exclude the groupings or explicitly select the grouping columns after groupby to silence this warning.\n",
      "  df = df.groupby('label', group_keys=False).apply(\n"
     ]
    }
   ],
   "source": [
    "# Stratified sampling: maintain class distribution\n",
    "df = df.groupby('label', group_keys=False).apply(\n",
    "    lambda x: x.sample(frac=0.02, random_state=42)\n",
    ")"
   ]
  },
  {
   "cell_type": "code",
   "execution_count": 38,
   "metadata": {},
   "outputs": [
    {
     "data": {
      "text/plain": [
       "label\n",
       "normal            253920\n",
       "DoS               103231\n",
       "MITM               43108\n",
       "physical fault     30970\n",
       "anomaly                8\n",
       "scan                   1\n",
       "Name: count, dtype: int64"
      ]
     },
     "execution_count": 38,
     "metadata": {},
     "output_type": "execute_result"
    }
   ],
   "source": [
    "df['label'].value_counts()"
   ]
  },
  {
   "cell_type": "code",
   "execution_count": 39,
   "metadata": {},
   "outputs": [
    {
     "name": "stdout",
     "output_type": "stream",
     "text": [
      "<class 'pandas.core.frame.DataFrame'>\n",
      "Index: 431238 entries, 21526548 to 5737630\n",
      "Data columns (total 17 columns):\n",
      " #   Column           Non-Null Count   Dtype         \n",
      "---  ------           --------------   -----         \n",
      " 0   Time             431238 non-null  datetime64[ns]\n",
      " 1   mac_s            431238 non-null  object        \n",
      " 2   mac_d            431238 non-null  object        \n",
      " 3   ip_s             431238 non-null  object        \n",
      " 4   ip_d             431238 non-null  object        \n",
      " 5   sport            431238 non-null  category      \n",
      " 6   dport            431238 non-null  category      \n",
      " 7   proto            431238 non-null  object        \n",
      " 8   flags            431238 non-null  object        \n",
      " 9   size             431238 non-null  int64         \n",
      " 10  modbus_fn        431238 non-null  object        \n",
      " 11  n_pkt_src        431238 non-null  Int64         \n",
      " 12  n_pkt_dst        431238 non-null  Int64         \n",
      " 13  modbus_response  431238 non-null  object        \n",
      " 14  label_n          431238 non-null  bool          \n",
      " 15  label            431238 non-null  object        \n",
      " 16  is_duplicate     431238 non-null  bool          \n",
      "dtypes: Int64(2), bool(2), category(2), datetime64[ns](1), int64(1), object(9)\n",
      "memory usage: 48.5+ MB\n"
     ]
    }
   ],
   "source": [
    "df.info()"
   ]
  },
  {
   "cell_type": "markdown",
   "metadata": {},
   "source": [
    "## Preparation pour les modeles"
   ]
  },
  {
   "cell_type": "markdown",
   "metadata": {},
   "source": [
    "La colonne Time, au format datetime, n'étant pas directement interprétable pour la plupart des modeles, nous la supprimons."
   ]
  },
  {
   "cell_type": "code",
   "execution_count": 40,
   "metadata": {},
   "outputs": [],
   "source": [
    "df = df.drop(columns='Time')"
   ]
  },
  {
   "cell_type": "code",
   "execution_count": 41,
   "metadata": {},
   "outputs": [
    {
     "name": "stdout",
     "output_type": "stream",
     "text": [
      " Number of unique values :\n",
      "mac_s                 9\n",
      "mac_d                10\n",
      "ip_s                  9\n",
      "ip_d                  9\n",
      "sport                 4\n",
      "dport                 4\n",
      "proto                 5\n",
      "flags                 9\n",
      "size                 23\n",
      "modbus_fn             5\n",
      "n_pkt_src           101\n",
      "n_pkt_dst           101\n",
      "modbus_response    2259\n",
      "label_n               2\n",
      "label                 6\n",
      "is_duplicate          2\n",
      "dtype: int64\n"
     ]
    }
   ],
   "source": [
    "unique_count = df.nunique()\n",
    "print(f\" Number of unique values :\\n{unique_count}\")"
   ]
  },
  {
   "cell_type": "markdown",
   "metadata": {},
   "source": [
    "On a les colonnes de types objet, categorie et numerique"
   ]
  },
  {
   "cell_type": "markdown",
   "metadata": {},
   "source": [
    "Pour les colonnes catégorielles avec peu de valeurs différentes, nous avons réalisé un One-Hot afin de transformer leurs catégories en variables binaires.  \n",
    "Cela permet de traiter correctement ces colonnes non numériques, en concervant les valeurs des catégories."
   ]
  },
  {
   "cell_type": "code",
   "execution_count": 42,
   "metadata": {},
   "outputs": [],
   "source": [
    "df = pd.get_dummies(df, columns=['flags', 'dport', 'sport', 'proto', 'modbus_fn'], prefix=['flags', 'dport', 'sport', 'proto', 'modbus_fn'])"
   ]
  },
  {
   "cell_type": "markdown",
   "metadata": {},
   "source": [
    "Pour les colonnes de type object, nous avons appliqué un encodage ordinal pour convertir les catégories en valeurs numériques, afin qu'elles soient exploitables.\n",
    "Puis nous les standardisons pour qu'elles aient le même poids que les autres colonnes numériques."
   ]
  },
  {
   "cell_type": "code",
   "execution_count": 43,
   "metadata": {},
   "outputs": [],
   "source": [
    "ordinal_encoder = OrdinalEncoder()\n",
    "df[['ip_s', 'ip_d', 'mac_s', 'mac_d']] = ordinal_encoder.fit_transform(df[['ip_s', 'ip_d', 'mac_s', 'mac_d']])\n",
    "scaler = StandardScaler()\n",
    "df[['ip_s', 'ip_d', 'mac_s', 'mac_d']] = scaler.fit_transform(df[['ip_s', 'ip_d', 'mac_s', 'mac_d']])"
   ]
  },
  {
   "cell_type": "markdown",
   "metadata": {},
   "source": [
    "Pour la colonne modbus_response, compte tenu du grand nombre de valeurs distinctes (2000+), nous avons adopté une approche différente. Nous avons conservé les catégories représentant au moins 0,1 % des données, en regroupant les catégories moins fréquentes sous une nouvelle catégorie intitulée \"other\".  Enfin, nous avons appliqué un One-Hot au résultat pour représenter ces catégories de manière explicite, comme pour les autres colonnes catégoriques."
   ]
  },
  {
   "cell_type": "code",
   "execution_count": 44,
   "metadata": {},
   "outputs": [],
   "source": [
    "df['modbus_response'] = df['modbus_response'].str.replace(r'\\[|\\]', '', regex=True)\n",
    "threshold = 0.001 * len(df)\n",
    "value_counts = df['modbus_response'].value_counts()\n",
    "frequent_categories = value_counts[value_counts > threshold].index\n",
    "df['modbus_response'] = np.where(df['modbus_response'].isin(frequent_categories), df['modbus_response'], 'autre')\n",
    "df = pd.get_dummies(df, columns=['modbus_response'], prefix=['modbus_response'])"
   ]
  },
  {
   "cell_type": "code",
   "execution_count": 32,
   "metadata": {},
   "outputs": [],
   "source": [
    "# df.drop(columns='modbus_response', inplace=True)"
   ]
  },
  {
   "cell_type": "markdown",
   "metadata": {},
   "source": [
    "Nous supprimons les colonnes créée à cause des valeurs manquantes, car elles n'ont pas d'utilitées."
   ]
  },
  {
   "cell_type": "code",
   "execution_count": 45,
   "metadata": {},
   "outputs": [],
   "source": [
    "df.drop(columns=['modbus_fn_inconnue', 'flags_inconnue', 'sport_inconnu', 'dport_inconnu', 'modbus_response_inconnue'], inplace=True)"
   ]
  },
  {
   "cell_type": "markdown",
   "metadata": {},
   "source": [
    "Nous normalisons les colonnes au format numérique."
   ]
  },
  {
   "cell_type": "code",
   "execution_count": 46,
   "metadata": {},
   "outputs": [],
   "source": [
    "scaler = StandardScaler()\n",
    "df[['n_pkt_src', 'n_pkt_dst', 'size']] = scaler.fit_transform(df[['n_pkt_src', 'n_pkt_dst', 'size']])"
   ]
  },
  {
   "cell_type": "markdown",
   "metadata": {},
   "source": [
    "Nous transformons les valeurs booléennes en float afin qu'elles soient traitées correctement."
   ]
  },
  {
   "cell_type": "code",
   "execution_count": 47,
   "metadata": {},
   "outputs": [],
   "source": [
    "for col in df.columns:\n",
    "    if df[col].dtype == 'bool' and col != 'label_n':\n",
    "        df[col] = df[col].astype(float)"
   ]
  },
  {
   "cell_type": "markdown",
   "metadata": {},
   "source": [
    "### Vérification"
   ]
  },
  {
   "cell_type": "code",
   "execution_count": 48,
   "metadata": {},
   "outputs": [
    {
     "data": {
      "text/html": [
       "<div>\n",
       "<style scoped>\n",
       "    .dataframe tbody tr th:only-of-type {\n",
       "        vertical-align: middle;\n",
       "    }\n",
       "\n",
       "    .dataframe tbody tr th {\n",
       "        vertical-align: top;\n",
       "    }\n",
       "\n",
       "    .dataframe thead th {\n",
       "        text-align: right;\n",
       "    }\n",
       "</style>\n",
       "<table border=\"1\" class=\"dataframe\">\n",
       "  <thead>\n",
       "    <tr style=\"text-align: right;\">\n",
       "      <th></th>\n",
       "      <th>mac_s</th>\n",
       "      <th>mac_d</th>\n",
       "      <th>ip_s</th>\n",
       "      <th>ip_d</th>\n",
       "      <th>size</th>\n",
       "      <th>n_pkt_src</th>\n",
       "      <th>n_pkt_dst</th>\n",
       "      <th>label_n</th>\n",
       "      <th>label</th>\n",
       "      <th>is_duplicate</th>\n",
       "      <th>...</th>\n",
       "      <th>modbus_fn_Read Coils Response</th>\n",
       "      <th>modbus_fn_Read Holding Registers</th>\n",
       "      <th>modbus_fn_Read Holding Registers Response</th>\n",
       "      <th>modbus_response_0</th>\n",
       "      <th>modbus_response_1</th>\n",
       "      <th>modbus_response_11</th>\n",
       "      <th>modbus_response_4000</th>\n",
       "      <th>modbus_response_450</th>\n",
       "      <th>modbus_response_458</th>\n",
       "      <th>modbus_response_autre</th>\n",
       "    </tr>\n",
       "  </thead>\n",
       "  <tbody>\n",
       "    <tr>\n",
       "      <th>21526548</th>\n",
       "      <td>0.419734</td>\n",
       "      <td>1.525168</td>\n",
       "      <td>0.936518</td>\n",
       "      <td>-0.922720</td>\n",
       "      <td>-0.381005</td>\n",
       "      <td>0.394144</td>\n",
       "      <td>-0.992415</td>\n",
       "      <td>True</td>\n",
       "      <td>DoS</td>\n",
       "      <td>0.0</td>\n",
       "      <td>...</td>\n",
       "      <td>0.0</td>\n",
       "      <td>1.0</td>\n",
       "      <td>0.0</td>\n",
       "      <td>0.0</td>\n",
       "      <td>0.0</td>\n",
       "      <td>0.0</td>\n",
       "      <td>0.0</td>\n",
       "      <td>0.0</td>\n",
       "      <td>0.0</td>\n",
       "      <td>0.0</td>\n",
       "    </tr>\n",
       "    <tr>\n",
       "      <th>13106703</th>\n",
       "      <td>-1.463958</td>\n",
       "      <td>-1.401431</td>\n",
       "      <td>0.216413</td>\n",
       "      <td>0.518142</td>\n",
       "      <td>2.613811</td>\n",
       "      <td>1.820428</td>\n",
       "      <td>1.870674</td>\n",
       "      <td>True</td>\n",
       "      <td>DoS</td>\n",
       "      <td>0.0</td>\n",
       "      <td>...</td>\n",
       "      <td>0.0</td>\n",
       "      <td>0.0</td>\n",
       "      <td>0.0</td>\n",
       "      <td>0.0</td>\n",
       "      <td>0.0</td>\n",
       "      <td>0.0</td>\n",
       "      <td>0.0</td>\n",
       "      <td>0.0</td>\n",
       "      <td>0.0</td>\n",
       "      <td>0.0</td>\n",
       "    </tr>\n",
       "    <tr>\n",
       "      <th>17889198</th>\n",
       "      <td>-1.934881</td>\n",
       "      <td>-1.401431</td>\n",
       "      <td>-0.863744</td>\n",
       "      <td>0.518142</td>\n",
       "      <td>-0.393415</td>\n",
       "      <td>1.496273</td>\n",
       "      <td>1.475765</td>\n",
       "      <td>True</td>\n",
       "      <td>DoS</td>\n",
       "      <td>0.0</td>\n",
       "      <td>...</td>\n",
       "      <td>0.0</td>\n",
       "      <td>0.0</td>\n",
       "      <td>0.0</td>\n",
       "      <td>0.0</td>\n",
       "      <td>0.0</td>\n",
       "      <td>0.0</td>\n",
       "      <td>0.0</td>\n",
       "      <td>0.0</td>\n",
       "      <td>0.0</td>\n",
       "      <td>0.0</td>\n",
       "    </tr>\n",
       "    <tr>\n",
       "      <th>18693138</th>\n",
       "      <td>-1.934881</td>\n",
       "      <td>-1.401431</td>\n",
       "      <td>0.936518</td>\n",
       "      <td>0.518142</td>\n",
       "      <td>-0.393415</td>\n",
       "      <td>1.723181</td>\n",
       "      <td>1.673219</td>\n",
       "      <td>True</td>\n",
       "      <td>DoS</td>\n",
       "      <td>0.0</td>\n",
       "      <td>...</td>\n",
       "      <td>0.0</td>\n",
       "      <td>0.0</td>\n",
       "      <td>0.0</td>\n",
       "      <td>0.0</td>\n",
       "      <td>0.0</td>\n",
       "      <td>0.0</td>\n",
       "      <td>0.0</td>\n",
       "      <td>0.0</td>\n",
       "      <td>0.0</td>\n",
       "      <td>0.0</td>\n",
       "    </tr>\n",
       "    <tr>\n",
       "      <th>11368320</th>\n",
       "      <td>-1.463958</td>\n",
       "      <td>0.354529</td>\n",
       "      <td>0.936518</td>\n",
       "      <td>0.878357</td>\n",
       "      <td>-0.393415</td>\n",
       "      <td>1.399026</td>\n",
       "      <td>1.442856</td>\n",
       "      <td>True</td>\n",
       "      <td>DoS</td>\n",
       "      <td>0.0</td>\n",
       "      <td>...</td>\n",
       "      <td>0.0</td>\n",
       "      <td>0.0</td>\n",
       "      <td>0.0</td>\n",
       "      <td>0.0</td>\n",
       "      <td>0.0</td>\n",
       "      <td>0.0</td>\n",
       "      <td>0.0</td>\n",
       "      <td>0.0</td>\n",
       "      <td>0.0</td>\n",
       "      <td>0.0</td>\n",
       "    </tr>\n",
       "  </tbody>\n",
       "</table>\n",
       "<p>5 rows × 40 columns</p>\n",
       "</div>"
      ],
      "text/plain": [
       "             mac_s     mac_d      ip_s      ip_d      size  n_pkt_src  \\\n",
       "21526548  0.419734  1.525168  0.936518 -0.922720 -0.381005   0.394144   \n",
       "13106703 -1.463958 -1.401431  0.216413  0.518142  2.613811   1.820428   \n",
       "17889198 -1.934881 -1.401431 -0.863744  0.518142 -0.393415   1.496273   \n",
       "18693138 -1.934881 -1.401431  0.936518  0.518142 -0.393415   1.723181   \n",
       "11368320 -1.463958  0.354529  0.936518  0.878357 -0.393415   1.399026   \n",
       "\n",
       "          n_pkt_dst  label_n label  is_duplicate  ...  \\\n",
       "21526548  -0.992415     True   DoS           0.0  ...   \n",
       "13106703   1.870674     True   DoS           0.0  ...   \n",
       "17889198   1.475765     True   DoS           0.0  ...   \n",
       "18693138   1.673219     True   DoS           0.0  ...   \n",
       "11368320   1.442856     True   DoS           0.0  ...   \n",
       "\n",
       "          modbus_fn_Read Coils Response  modbus_fn_Read Holding Registers  \\\n",
       "21526548                            0.0                               1.0   \n",
       "13106703                            0.0                               0.0   \n",
       "17889198                            0.0                               0.0   \n",
       "18693138                            0.0                               0.0   \n",
       "11368320                            0.0                               0.0   \n",
       "\n",
       "          modbus_fn_Read Holding Registers Response  modbus_response_0  \\\n",
       "21526548                                        0.0                0.0   \n",
       "13106703                                        0.0                0.0   \n",
       "17889198                                        0.0                0.0   \n",
       "18693138                                        0.0                0.0   \n",
       "11368320                                        0.0                0.0   \n",
       "\n",
       "          modbus_response_1  modbus_response_11  modbus_response_4000  \\\n",
       "21526548                0.0                 0.0                   0.0   \n",
       "13106703                0.0                 0.0                   0.0   \n",
       "17889198                0.0                 0.0                   0.0   \n",
       "18693138                0.0                 0.0                   0.0   \n",
       "11368320                0.0                 0.0                   0.0   \n",
       "\n",
       "          modbus_response_450  modbus_response_458  modbus_response_autre  \n",
       "21526548                  0.0                  0.0                    0.0  \n",
       "13106703                  0.0                  0.0                    0.0  \n",
       "17889198                  0.0                  0.0                    0.0  \n",
       "18693138                  0.0                  0.0                    0.0  \n",
       "11368320                  0.0                  0.0                    0.0  \n",
       "\n",
       "[5 rows x 40 columns]"
      ]
     },
     "execution_count": 48,
     "metadata": {},
     "output_type": "execute_result"
    }
   ],
   "source": [
    "df.head()"
   ]
  },
  {
   "cell_type": "markdown",
   "metadata": {},
   "source": [
    "## Sampling\n",
    "On va utiliser un subset de taille 500 000 pour l'entrainement.\n",
    "Ca permet de garder une partie sinificative des donnees (environ 10%), sans que le dataset soit considere comme large et devient cher au niveau de calcul."
   ]
  },
  {
   "cell_type": "code",
   "execution_count": null,
   "metadata": {},
   "outputs": [],
   "source": [
    "# sample_df = df.sample(n=500000)"
   ]
  },
  {
   "cell_type": "markdown",
   "metadata": {},
   "source": [
    "## Enregistrement dans PickleShare"
   ]
  },
  {
   "cell_type": "code",
   "execution_count": 49,
   "metadata": {},
   "outputs": [],
   "source": [
    "db['net_sample_for_models'] = df"
   ]
  }
 ],
 "metadata": {
  "kernelspec": {
   "display_name": "Python 3",
   "language": "python",
   "name": "python3"
  },
  "language_info": {
   "codemirror_mode": {
    "name": "ipython",
    "version": 3
   },
   "file_extension": ".py",
   "mimetype": "text/x-python",
   "name": "python",
   "nbconvert_exporter": "python",
   "pygments_lexer": "ipython3",
   "version": "3.11.2"
  }
 },
 "nbformat": 4,
 "nbformat_minor": 2
}
