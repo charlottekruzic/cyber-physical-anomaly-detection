{
 "cells": [
  {
   "cell_type": "code",
   "execution_count": 1,
   "metadata": {},
   "outputs": [],
   "source": [
    "# Librairies\n",
    "import pandas as pd\n",
    "import numpy as np\n",
    "from pickleshare import PickleShareDB\n",
    "\n",
    "from sklearn.model_selection import train_test_split, GridSearchCV\n",
    "from sklearn.preprocessing import OrdinalEncoder, StandardScaler, LabelEncoder\n",
    "from sklearn.neighbors import KNeighborsClassifier\n",
    "from sklearn.metrics import precision_score, recall_score, accuracy_score, f1_score, balanced_accuracy_score, matthews_corrcoef, confusion_matrix \n",
    "\n",
    "import plotly.graph_objects as go\n",
    "from plotly.subplots import make_subplots\n",
    "import plotly.subplots as sp\n",
    "from plotly.graph_objs import Bar\n",
    "import plotly.express as px\n",
    "import seaborn as sns\n",
    "import matplotlib.pyplot as plt"
   ]
  },
  {
   "cell_type": "code",
   "execution_count": 2,
   "metadata": {},
   "outputs": [],
   "source": [
    "# Pour garantir la reproductibilité\n",
    "np.random.seed(42)  # Pour numpy"
   ]
  },
  {
   "cell_type": "markdown",
   "metadata": {},
   "source": [
    "## Chargement des données\n",
    "Nous chargeons les données depuis le fichier des données préprarées."
   ]
  },
  {
   "cell_type": "code",
   "execution_count": 24,
   "metadata": {},
   "outputs": [],
   "source": [
    "db = PickleShareDB('../prep_data/kity')\n",
    "sample_df = db['net_sample_for_models']"
   ]
  },
  {
   "cell_type": "code",
   "execution_count": null,
   "metadata": {},
   "outputs": [
    {
     "name": "stderr",
     "output_type": "stream",
     "text": [
      "/tmp/ipykernel_4617/3687076143.py:2: FutureWarning: The default of observed=False is deprecated and will be changed to True in a future version of pandas. Pass observed=False to retain current behavior or observed=True to adopt the future default and silence this warning.\n",
      "  sample_df = sample_df.groupby('label', group_keys=False).apply(\n",
      "/tmp/ipykernel_4617/3687076143.py:2: DeprecationWarning: DataFrameGroupBy.apply operated on the grouping columns. This behavior is deprecated, and in a future version of pandas the grouping columns will be excluded from the operation. Either pass `include_groups=False` to exclude the groupings or explicitly select the grouping columns after groupby to silence this warning.\n",
      "  sample_df = sample_df.groupby('label', group_keys=False).apply(\n"
     ]
    }
   ],
   "source": [
    "# sample_df = db['pca_result_with_labels'] \n",
    "# sample_df = sample_df.groupby('label', group_keys=False).apply(\n",
    "#     lambda x: x.sample(frac=0.1, random_state=42)\n",
    "# )"
   ]
  },
  {
   "cell_type": "markdown",
   "metadata": {},
   "source": [
    "Le type 'scan' d'attaque a tres peu d'entrees, ce qui empeche les modeles. On supprime ce type d'attaque."
   ]
  },
  {
   "cell_type": "code",
   "execution_count": 25,
   "metadata": {},
   "outputs": [],
   "source": [
    "to_drop = sample_df[sample_df['label'] == 'scan'].index\n",
    "sample_df = sample_df.drop(to_drop)"
   ]
  },
  {
   "cell_type": "markdown",
   "metadata": {},
   "source": [
    "Nous supprimons les colonnes label et label_n pour éviter qu'elles influencent le modele, car ce sont les variables cibles et non pas des caractéristiques."
   ]
  },
  {
   "cell_type": "code",
   "execution_count": 26,
   "metadata": {},
   "outputs": [],
   "source": [
    "labels = sample_df[['label', 'label_n']]\n",
    "sample_df.drop(columns=['label', 'label_n'], inplace=True)"
   ]
  },
  {
   "cell_type": "markdown",
   "metadata": {},
   "source": [
    "## KNN\n",
    "Notre dataset est considere de taille moyenne.\n",
    "Pour accélérer les recherches de voisins les plus proches, on va optimiser le modele avec KD-Tree."
   ]
  },
  {
   "cell_type": "code",
   "execution_count": 27,
   "metadata": {},
   "outputs": [],
   "source": [
    "X = sample_df\n",
    "y_label_n = labels['label_n']\n",
    "y_label = labels['label']\n",
    "\n",
    "# Encoder les labels en int\n",
    "le = LabelEncoder()\n",
    "y_label_n_encoded = le.fit_transform(y_label_n)\n",
    "\n",
    "ordered_classes = ['normal', 'DoS','physical fault', 'MITM', 'anomaly']\n",
    "label_map = {label: idx for idx, label in enumerate(ordered_classes)}\n",
    "y_label_encoded = [label_map[label] for label in y_label]\n",
    "\n",
    "# Separer le dataset en training et test\n",
    "X_train_label_n, X_test_label_n, y_train_label_n, y_test_label_n = train_test_split(X, y_label_n_encoded, test_size=0.2, random_state=42, stratify=y_label_n_encoded)"
   ]
  },
  {
   "cell_type": "code",
   "execution_count": 28,
   "metadata": {},
   "outputs": [],
   "source": [
    "X_train_label, X_test_label, y_train_label, y_test_label = train_test_split(X, y_label_encoded, test_size=0.2, random_state=42, stratify=y_label_encoded)"
   ]
  },
  {
   "cell_type": "markdown",
   "metadata": {},
   "source": [
    "On cherche k optimal par validation croisee.\n",
    "(code commentee car prends beaucoup de temps a tourner, environ 70 minutes)"
   ]
  },
  {
   "cell_type": "code",
   "execution_count": null,
   "metadata": {},
   "outputs": [
    {
     "name": "stdout",
     "output_type": "stream",
     "text": [
      "{'n_neighbors': 14}\n"
     ]
    }
   ],
   "source": [
    "\"\"\"\n",
    "param_grid = {'n_neighbors': range(1, 20)}\n",
    "knn = KNeighborsClassifier(algorithm='kd_tree', n_jobs=-1)\n",
    "grid_search = GridSearchCV(knn, param_grid, cv=5)\n",
    "grid_search.fit(X_train, y_train)\n",
    "print(grid_search.best_params_)\n",
    "\"\"\""
   ]
  },
  {
   "cell_type": "code",
   "execution_count": 29,
   "metadata": {},
   "outputs": [],
   "source": [
    "# Initialser et entrainer le classificateur KNN pour label_n\n",
    "knn = KNeighborsClassifier(n_neighbors=10, algorithm='kd_tree', n_jobs=-1)\n",
    "knn.fit(X_train_label_n, y_train_label_n)\n",
    "\n",
    "# Predictions\n",
    "y_pred_label_n = knn.predict(X_test_label_n)"
   ]
  },
  {
   "cell_type": "code",
   "execution_count": 30,
   "metadata": {},
   "outputs": [],
   "source": [
    "# Initialser et entrainer le classificateur KNN pour label\n",
    "knn.fit(X_train_label, y_train_label)\n",
    "\n",
    "# Predictions\n",
    "y_pred_label = knn.predict(X_test_label)"
   ]
  },
  {
   "cell_type": "markdown",
   "metadata": {},
   "source": [
    "## Evaluation"
   ]
  },
  {
   "cell_type": "code",
   "execution_count": 32,
   "metadata": {},
   "outputs": [],
   "source": [
    "def tpr_tnr(y_true, y_pred):\n",
    "    cm = confusion_matrix(y_true, y_pred)\n",
    "    tn, fp, fn, tp = cm.ravel()\n",
    "    tpr = tp / (tp + fn) if (tp + fn) > 0 else 0\n",
    "    tnr = tn / (tn + fp) if (tn + fp) > 0 else 0  \n",
    "    return tpr, tnr"
   ]
  },
  {
   "cell_type": "markdown",
   "metadata": {},
   "source": [
    "### Prédiction pour label_n"
   ]
  },
  {
   "cell_type": "markdown",
   "metadata": {},
   "source": [
    "#### Données équilibrées"
   ]
  },
  {
   "cell_type": "code",
   "execution_count": 33,
   "metadata": {},
   "outputs": [
    {
     "name": "stdout",
     "output_type": "stream",
     "text": [
      "Précision : 0.95\n",
      "Rappel : 0.58\n",
      "TPR (Sensibilité) : 0.58\n",
      "TNR (Spécificité) : 0.98\n",
      "Exactitude (Accuracy) : 0.82\n"
     ]
    }
   ],
   "source": [
    "# Métriques pour les données équilibrées\n",
    "precision = precision_score(y_test_label_n, y_pred_label_n, average='binary')\n",
    "recall = recall_score(y_test_label_n, y_pred_label_n, average='binary')\n",
    "accuracy = accuracy_score(y_test_label_n, y_pred_label_n)\n",
    "tpr, tnr = tpr_tnr(y_test_label_n, y_pred_label_n)\n",
    "\n",
    "print(f\"Précision : {precision:.2f}\")\n",
    "print(f\"Rappel : {recall:.2f}\")\n",
    "print(f\"TPR (Sensibilité) : {tpr:.2f}\")\n",
    "print(f\"TNR (Spécificité) : {tnr:.2f}\")\n",
    "print(f\"Exactitude (Accuracy) : {accuracy:.2f}\")"
   ]
  },
  {
   "cell_type": "markdown",
   "metadata": {},
   "source": [
    "#### Données déséquilibrées "
   ]
  },
  {
   "cell_type": "code",
   "execution_count": 34,
   "metadata": {},
   "outputs": [
    {
     "name": "stdout",
     "output_type": "stream",
     "text": [
      "F1-Score : 0.72\n",
      "Précision équilibrée : 0.78\n",
      "Coefficient de Matthews : 0.64\n"
     ]
    }
   ],
   "source": [
    "# Métriques pour les données déséquilibrées\n",
    "f1 = f1_score(y_test_label_n, y_pred_label_n, average='binary')\n",
    "balanced_acc = balanced_accuracy_score(y_test_label_n, y_pred_label_n)\n",
    "mcc = matthews_corrcoef(y_test_label_n, y_pred_label_n)\n",
    "\n",
    "print(f\"F1-Score : {f1:.2f}\")\n",
    "print(f\"Précision équilibrée : {balanced_acc:.2f}\")\n",
    "print(f\"Coefficient de Matthews : {mcc:.2f}\")"
   ]
  },
  {
   "cell_type": "markdown",
   "metadata": {},
   "source": [
    "#### Matrice de confusion "
   ]
  },
  {
   "cell_type": "code",
   "execution_count": 35,
   "metadata": {},
   "outputs": [
    {
     "data": {
      "image/png": "[encoded data removed]",
      "text/plain": [
       "<Figure size 640x480 with 2 Axes>"
      ]
     },
     "metadata": {},
     "output_type": "display_data"
    }
   ],
   "source": [
    "# Matrice de confusion\n",
    "cm = confusion_matrix(y_test_label_n, y_pred_label_n)\n",
    "\n",
    "sns.heatmap(cm, annot=True, fmt='d', cmap='Blues')\n",
    "plt.xlabel('Prédit')\n",
    "plt.ylabel('Réel')\n",
    "plt.title('Matrice de confusion')\n",
    "plt.show()"
   ]
  },
  {
   "cell_type": "markdown",
   "metadata": {},
   "source": [
    "### Prédiction pour label"
   ]
  },
  {
   "cell_type": "markdown",
   "metadata": {},
   "source": [
    "#### Données équilibrées"
   ]
  },
  {
   "cell_type": "code",
   "execution_count": 36,
   "metadata": {},
   "outputs": [
    {
     "name": "stdout",
     "output_type": "stream",
     "text": [
      "Précision : 0.46\n",
      "Rappel : 0.40\n",
      "Exactitude (Accuracy) : 0.82\n"
     ]
    },
    {
     "name": "stderr",
     "output_type": "stream",
     "text": [
      "/usr/local/lib/python3.11/dist-packages/sklearn/metrics/_classification.py:1531: UndefinedMetricWarning: Precision is ill-defined and being set to 0.0 in labels with no predicted samples. Use `zero_division` parameter to control this behavior.\n",
      "  _warn_prf(average, modifier, f\"{metric.capitalize()} is\", len(result))\n"
     ]
    }
   ],
   "source": [
    "# Métriques pour les données équilibrées\n",
    "precision = precision_score(y_test_label, y_pred_label, average='macro')\n",
    "recall = recall_score(y_test_label, y_pred_label, average='macro')\n",
    "accuracy = accuracy_score(y_test_label, y_pred_label)\n",
    "\n",
    "print(f\"Précision : {precision:.2f}\")\n",
    "print(f\"Rappel : {recall:.2f}\")\n",
    "print(f\"Exactitude (Accuracy) : {accuracy:.2f}\")"
   ]
  },
  {
   "cell_type": "markdown",
   "metadata": {},
   "source": [
    "#### Données déséquilibrées "
   ]
  },
  {
   "cell_type": "code",
   "execution_count": 37,
   "metadata": {},
   "outputs": [
    {
     "name": "stdout",
     "output_type": "stream",
     "text": [
      "F1-Score : 0.38\n",
      "Précision équilibrée : 0.40\n",
      "Coefficient de Matthews : 0.68\n"
     ]
    }
   ],
   "source": [
    "# Métriques pour les données déséquilibrées\n",
    "f1 = f1_score(y_test_label, y_pred_label, average='macro')\n",
    "balanced_acc = balanced_accuracy_score(y_test_label, y_pred_label)\n",
    "mcc = matthews_corrcoef(y_test_label, y_pred_label)\n",
    "\n",
    "print(f\"F1-Score : {f1:.2f}\")\n",
    "print(f\"Précision équilibrée : {balanced_acc:.2f}\")\n",
    "print(f\"Coefficient de Matthews : {mcc:.2f}\")"
   ]
  },
  {
   "cell_type": "markdown",
   "metadata": {},
   "source": [
    "#### Matrice de confusion "
   ]
  },
  {
   "cell_type": "code",
   "execution_count": 38,
   "metadata": {},
   "outputs": [
    {
     "data": {
      "image/png": "[encoded data removed]",
      "text/plain": [
       "<Figure size 640x480 with 2 Axes>"
      ]
     },
     "metadata": {},
     "output_type": "display_data"
    }
   ],
   "source": [
    "# Matrice de confusion\n",
    "cm = confusion_matrix(y_test_label, y_pred_label)\n",
    "\n",
    "sns.heatmap(cm, annot=True, fmt='d', cmap='Blues')\n",
    "plt.xlabel('Prédit')\n",
    "plt.ylabel('Réel')\n",
    "plt.title('Matrice de confusion')\n",
    "plt.show()"
   ]
  }
 ],
 "metadata": {
  "kernelspec": {
   "display_name": "Python 3",
   "language": "python",
   "name": "python3"
  },
  "language_info": {
   "codemirror_mode": {
    "name": "ipython",
    "version": 3
   },
   "file_extension": ".py",
   "mimetype": "text/x-python",
   "name": "python",
   "nbconvert_exporter": "python",
   "pygments_lexer": "ipython3",
   "version": "3.11.2"
  }
 },
 "nbformat": 4,
 "nbformat_minor": 2
}
