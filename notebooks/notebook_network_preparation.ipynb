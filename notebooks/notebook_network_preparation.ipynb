{
 "cells": [
  {
   "cell_type": "markdown",
   "metadata": {},
   "source": [
    "# Observation et premières analyses des données Network"
   ]
  },
  {
   "cell_type": "code",
   "execution_count": 3,
   "metadata": {},
   "outputs": [],
   "source": [
    "# Librairies\n",
    "import pandas as pd\n",
    "import os\n",
    "from pickleshare import PickleShareDB"
   ]
  },
  {
   "cell_type": "markdown",
   "metadata": {},
   "source": [
    "## Chargement des données"
   ]
  },
  {
   "cell_type": "markdown",
   "metadata": {},
   "source": [
    "Nous chargeons les 5 fichiers de données de réseau csv."
   ]
  },
  {
   "cell_type": "code",
   "execution_count": 4,
   "metadata": {},
   "outputs": [],
   "source": [
    "df_net_1 = pd.read_csv('../datasets/Network datatset/csv/attack_1.csv')\n",
    "df_net_2 = pd.read_csv('../datasets/Network datatset/csv/attack_2.csv')\n",
    "df_net_3 = pd.read_csv('../datasets/Network datatset/csv/attack_3.csv')\n",
    "df_net_4 = pd.read_csv('../datasets/Network datatset/csv/attack_4.csv')\n",
    "df_net_norm = pd.read_csv('../datasets/Network datatset/csv/normal.csv')"
   ]
  },
  {
   "cell_type": "markdown",
   "metadata": {},
   "source": [
    "Nous commençons par observer le premier, comme ils doivent à priori avoir la même structure, pour comprendre les données que l'on a."
   ]
  },
  {
   "cell_type": "markdown",
   "metadata": {},
   "source": [
    "## Observation des données du premier fichier"
   ]
  },
  {
   "cell_type": "code",
   "execution_count": 5,
   "metadata": {},
   "outputs": [
    {
     "data": {
      "text/html": [
       "<div>\n",
       "<style scoped>\n",
       "    .dataframe tbody tr th:only-of-type {\n",
       "        vertical-align: middle;\n",
       "    }\n",
       "\n",
       "    .dataframe tbody tr th {\n",
       "        vertical-align: top;\n",
       "    }\n",
       "\n",
       "    .dataframe thead th {\n",
       "        text-align: right;\n",
       "    }\n",
       "</style>\n",
       "<table border=\"1\" class=\"dataframe\">\n",
       "  <thead>\n",
       "    <tr style=\"text-align: right;\">\n",
       "      <th></th>\n",
       "      <th>Time</th>\n",
       "      <th>mac_s</th>\n",
       "      <th>mac_d</th>\n",
       "      <th>ip_s</th>\n",
       "      <th>ip_d</th>\n",
       "      <th>sport</th>\n",
       "      <th>dport</th>\n",
       "      <th>proto</th>\n",
       "      <th>flags</th>\n",
       "      <th>size</th>\n",
       "      <th>modbus_fn</th>\n",
       "      <th>n_pkt_src</th>\n",
       "      <th>n_pkt_dst</th>\n",
       "      <th>modbus_response</th>\n",
       "      <th>label_n</th>\n",
       "      <th>label</th>\n",
       "    </tr>\n",
       "  </thead>\n",
       "  <tbody>\n",
       "    <tr>\n",
       "      <th>0</th>\n",
       "      <td>2021-04-09 18:23:28.385003</td>\n",
       "      <td>74:46:a0:bd:a7:1b</td>\n",
       "      <td>0a:fe:ec:47:74:fb</td>\n",
       "      <td>84.3.251.20</td>\n",
       "      <td>84.3.251.102</td>\n",
       "      <td>56667.0</td>\n",
       "      <td>502.0</td>\n",
       "      <td>Modbus</td>\n",
       "      <td>11000.0</td>\n",
       "      <td>66</td>\n",
       "      <td>Read Coils Request</td>\n",
       "      <td>0.0</td>\n",
       "      <td>0.0</td>\n",
       "      <td>NaN</td>\n",
       "      <td>0</td>\n",
       "      <td>normal</td>\n",
       "    </tr>\n",
       "    <tr>\n",
       "      <th>1</th>\n",
       "      <td>2021-04-09 18:23:28.385005</td>\n",
       "      <td>74:46:a0:bd:a7:1b</td>\n",
       "      <td>e6:3f:ac:c9:a8:8c</td>\n",
       "      <td>84.3.251.20</td>\n",
       "      <td>84.3.251.101</td>\n",
       "      <td>56666.0</td>\n",
       "      <td>502.0</td>\n",
       "      <td>Modbus</td>\n",
       "      <td>11000.0</td>\n",
       "      <td>66</td>\n",
       "      <td>Read Coils Request</td>\n",
       "      <td>1.0</td>\n",
       "      <td>0.0</td>\n",
       "      <td>NaN</td>\n",
       "      <td>0</td>\n",
       "      <td>normal</td>\n",
       "    </tr>\n",
       "    <tr>\n",
       "      <th>2</th>\n",
       "      <td>2021-04-09 18:23:28.385006</td>\n",
       "      <td>74:46:a0:bd:a7:1b</td>\n",
       "      <td>fa:00:bc:90:d7:fa</td>\n",
       "      <td>84.3.251.20</td>\n",
       "      <td>84.3.251.103</td>\n",
       "      <td>56668.0</td>\n",
       "      <td>502.0</td>\n",
       "      <td>Modbus</td>\n",
       "      <td>11000.0</td>\n",
       "      <td>66</td>\n",
       "      <td>Read Coils Request</td>\n",
       "      <td>2.0</td>\n",
       "      <td>0.0</td>\n",
       "      <td>NaN</td>\n",
       "      <td>0</td>\n",
       "      <td>normal</td>\n",
       "    </tr>\n",
       "    <tr>\n",
       "      <th>3</th>\n",
       "      <td>2021-04-09 18:23:28.385484</td>\n",
       "      <td>0a:fe:ec:47:74:fb</td>\n",
       "      <td>74:46:a0:bd:a7:1b</td>\n",
       "      <td>84.3.251.102</td>\n",
       "      <td>84.3.251.20</td>\n",
       "      <td>502.0</td>\n",
       "      <td>56667.0</td>\n",
       "      <td>Modbus</td>\n",
       "      <td>11000.0</td>\n",
       "      <td>64</td>\n",
       "      <td>Read Coils Response</td>\n",
       "      <td>0.0</td>\n",
       "      <td>0.0</td>\n",
       "      <td>[0]</td>\n",
       "      <td>0</td>\n",
       "      <td>normal</td>\n",
       "    </tr>\n",
       "    <tr>\n",
       "      <th>4</th>\n",
       "      <td>2021-04-09 18:23:28.385486</td>\n",
       "      <td>fa:00:bc:90:d7:fa</td>\n",
       "      <td>74:46:a0:bd:a7:1b</td>\n",
       "      <td>84.3.251.103</td>\n",
       "      <td>84.3.251.20</td>\n",
       "      <td>502.0</td>\n",
       "      <td>56668.0</td>\n",
       "      <td>Modbus</td>\n",
       "      <td>11000.0</td>\n",
       "      <td>64</td>\n",
       "      <td>Read Coils Response</td>\n",
       "      <td>0.0</td>\n",
       "      <td>1.0</td>\n",
       "      <td>[0]</td>\n",
       "      <td>0</td>\n",
       "      <td>normal</td>\n",
       "    </tr>\n",
       "  </tbody>\n",
       "</table>\n",
       "</div>"
      ],
      "text/plain": [
       "                         Time              mac_s              mac_d  \\\n",
       "0  2021-04-09 18:23:28.385003  74:46:a0:bd:a7:1b  0a:fe:ec:47:74:fb   \n",
       "1  2021-04-09 18:23:28.385005  74:46:a0:bd:a7:1b  e6:3f:ac:c9:a8:8c   \n",
       "2  2021-04-09 18:23:28.385006  74:46:a0:bd:a7:1b  fa:00:bc:90:d7:fa   \n",
       "3  2021-04-09 18:23:28.385484  0a:fe:ec:47:74:fb  74:46:a0:bd:a7:1b   \n",
       "4  2021-04-09 18:23:28.385486  fa:00:bc:90:d7:fa  74:46:a0:bd:a7:1b   \n",
       "\n",
       "           ip_s          ip_d    sport    dport   proto    flags   size  \\\n",
       "0   84.3.251.20  84.3.251.102  56667.0    502.0  Modbus  11000.0     66   \n",
       "1   84.3.251.20  84.3.251.101  56666.0    502.0  Modbus  11000.0     66   \n",
       "2   84.3.251.20  84.3.251.103  56668.0    502.0  Modbus  11000.0     66   \n",
       "3  84.3.251.102   84.3.251.20    502.0  56667.0  Modbus  11000.0     64   \n",
       "4  84.3.251.103   84.3.251.20    502.0  56668.0  Modbus  11000.0     64   \n",
       "\n",
       "             modbus_fn   n_pkt_src   n_pkt_dst  modbus_response   label_n  \\\n",
       "0   Read Coils Request         0.0         0.0              NaN         0   \n",
       "1   Read Coils Request         1.0         0.0              NaN         0   \n",
       "2   Read Coils Request         2.0         0.0              NaN         0   \n",
       "3  Read Coils Response         0.0         0.0              [0]         0   \n",
       "4  Read Coils Response         0.0         1.0              [0]         0   \n",
       "\n",
       "    label  \n",
       "0  normal  \n",
       "1  normal  \n",
       "2  normal  \n",
       "3  normal  \n",
       "4  normal  "
      ]
     },
     "execution_count": 5,
     "metadata": {},
     "output_type": "execute_result"
    }
   ],
   "source": [
    "df_net_1.head()"
   ]
  },
  {
   "cell_type": "code",
   "execution_count": 6,
   "metadata": {},
   "outputs": [
    {
     "data": {
      "text/plain": [
       "(5527409, 16)"
      ]
     },
     "execution_count": 6,
     "metadata": {},
     "output_type": "execute_result"
    }
   ],
   "source": [
    "df_net_1.shape"
   ]
  },
  {
   "cell_type": "code",
   "execution_count": 36,
   "metadata": {},
   "outputs": [
    {
     "name": "stdout",
     "output_type": "stream",
     "text": [
      "<class 'pandas.core.frame.DataFrame'>\n",
      "RangeIndex: 5527409 entries, 0 to 5527408\n",
      "Data columns (total 16 columns):\n",
      " #   Column           Dtype  \n",
      "---  ------           -----  \n",
      " 0   Time             object \n",
      " 1   mac_s            object \n",
      " 2   mac_d            object \n",
      " 3   ip_s             object \n",
      " 4   ip_d             object \n",
      " 5   sport            float64\n",
      " 6   dport            float64\n",
      " 7   proto            object \n",
      " 8   flags            float64\n",
      " 9   size             int64  \n",
      " 10  modbus_fn        object \n",
      " 11  n_pkt_src        float64\n",
      " 12  n_pkt_dst        float64\n",
      " 13  modbus_response  object \n",
      " 14  label_n          int64  \n",
      " 15  label            object \n",
      "dtypes: float64(5), int64(2), object(9)\n",
      "memory usage: 674.7+ MB\n"
     ]
    }
   ],
   "source": [
    "df_net_1.info()"
   ]
  },
  {
   "cell_type": "markdown",
   "metadata": {},
   "source": [
    "Le dataset réseau contient des informations détaillées sur le trafic Modbus :\n",
    "- adresses MAC et IP source et destination\n",
    "- les ports utilisés\n",
    "- le protocole de communication\n",
    "- des flags TCP\n",
    "- la taille des paquets \n",
    "- codes fonctionnels Modbus\n",
    "- le nombre de paquets provenant de la même source ou destination\n",
    "- la réponse du protocole Modbub\n",
    "- le label indiquant si le paquet est normal ou malveillant"
   ]
  },
  {
   "cell_type": "markdown",
   "metadata": {},
   "source": [
    "### Analyse des différentes colonnes"
   ]
  },
  {
   "cell_type": "code",
   "execution_count": 8,
   "metadata": {},
   "outputs": [
    {
     "data": {
      "text/plain": [
       " label\n",
       "normal            3687410\n",
       "MITM              1214098\n",
       "physical fault     625691\n",
       "anomaly               210\n",
       "Name: count, dtype: int64"
      ]
     },
     "execution_count": 8,
     "metadata": {},
     "output_type": "execute_result"
    }
   ],
   "source": [
    "# Colonnes label et label_n\n",
    "df_net_1[' label'].value_counts()"
   ]
  },
  {
   "cell_type": "markdown",
   "metadata": {},
   "source": [
    "- normal : pas d'attaque\n",
    "- MITM (= Man-in-the-Middle) : L'attaquant intercepte et peut modifier les communications entre deux appareils.\n",
    "- physical fault : Anomalies physiques non causée par une cyberattaque \\\n",
    "--> Normalement non détectables dans les données réseau\n",
    "- anomaly : autre anomalies non MITM et pas un défaut physique."
   ]
  },
  {
   "cell_type": "code",
   "execution_count": 9,
   "metadata": {},
   "outputs": [
    {
     "data": {
      "text/plain": [
       " label_n\n",
       "0    3687410\n",
       "1    1839999\n",
       "Name: count, dtype: int64"
      ]
     },
     "execution_count": 9,
     "metadata": {},
     "output_type": "execute_result"
    }
   ],
   "source": [
    "df_net_1[' label_n'].value_counts()"
   ]
  },
  {
   "cell_type": "code",
   "execution_count": 10,
   "metadata": {},
   "outputs": [
    {
     "name": "stdout",
     "output_type": "stream",
     "text": [
      " label           label_n\n",
      "normal          0           3687410\n",
      "MITM            1           1214098\n",
      "physical fault  1            625691\n",
      "anomaly         1               210\n",
      "Name: count, dtype: int64\n"
     ]
    }
   ],
   "source": [
    "print(df_net_1[[' label', ' label_n']].value_counts())"
   ]
  },
  {
   "cell_type": "markdown",
   "metadata": {},
   "source": [
    "normal : label_n = 0 \\\n",
    "attack : label_n = 1"
   ]
  },
  {
   "cell_type": "code",
   "execution_count": 11,
   "metadata": {},
   "outputs": [
    {
     "data": {
      "text/plain": [
       "dtype('<M8[ns]')"
      ]
     },
     "execution_count": 11,
     "metadata": {},
     "output_type": "execute_result"
    }
   ],
   "source": [
    "# Colonne Time\n",
    "df_time = pd.to_datetime(df_net_1['Time'], format=\"mixed\") # mixed : car format de la date pas toujours le même\n",
    "df_time.dtype"
   ]
  },
  {
   "cell_type": "code",
   "execution_count": 12,
   "metadata": {},
   "outputs": [
    {
     "data": {
      "text/plain": [
       "Time\n",
       "2021-04-09 18:42:37.177930    4\n",
       "2021-04-09 18:42:42.262608    4\n",
       "2021-04-09 18:42:41.847931    4\n",
       "2021-04-09 18:42:37.728146    4\n",
       "2021-04-09 18:42:30.305264    4\n",
       "                             ..\n",
       "2021-04-09 18:37:08.030770    1\n",
       "2021-04-09 18:37:08.030134    1\n",
       "2021-04-09 18:37:08.029902    1\n",
       "2021-04-09 18:37:08.029055    1\n",
       "2021-04-09 19:03:47.661291    1\n",
       "Name: count, Length: 5242099, dtype: int64"
      ]
     },
     "execution_count": 12,
     "metadata": {},
     "output_type": "execute_result"
    }
   ],
   "source": [
    "# Nombre de valeurs enregistrées pour un temps donné\n",
    "df_time.value_counts()"
   ]
  },
  {
   "cell_type": "code",
   "execution_count": 13,
   "metadata": {},
   "outputs": [
    {
     "data": {
      "text/plain": [
       "Time\n",
       "0 days 00:00:00.000001    996481\n",
       "0 days 00:00:00.000003    641614\n",
       "0 days 00:00:00.000002    608511\n",
       "0 days 00:00:00           285310\n",
       "0 days 00:00:00.000015     73069\n",
       "                           ...  \n",
       "0 days 00:00:00.003579         1\n",
       "0 days 00:00:00.003685         1\n",
       "0 days 00:00:00.003622         1\n",
       "0 days 00:00:00.002989         1\n",
       "0 days 00:00:00.011012         1\n",
       "Name: count, Length: 3399, dtype: int64"
      ]
     },
     "execution_count": 13,
     "metadata": {},
     "output_type": "execute_result"
    }
   ],
   "source": [
    "# Temps entre chaque ligne (chaque enregistrement)\n",
    "df_time.diff().value_counts()"
   ]
  },
  {
   "cell_type": "markdown",
   "metadata": {},
   "source": [
    "L'acquisition des données n'est pas à la même fréquence que celle des données physiques. En effet, les données physiques sont enregistrées toutes les 1s, tandis qu'ici, il n'y a pas d'enregistrement continue. \n",
    "\n",
    "Les données sont enregistrées lorsqu'il y a une interraction réseau."
   ]
  },
  {
   "cell_type": "markdown",
   "metadata": {},
   "source": [
    "## Comparaison des fichiers de données"
   ]
  },
  {
   "cell_type": "code",
   "execution_count": 14,
   "metadata": {},
   "outputs": [
    {
     "name": "stdout",
     "output_type": "stream",
     "text": [
      "Taille du fichier 1 :  (5527409, 16)\n",
      "Taille du fichier 2 :  (5159469, 16)\n",
      "Taille du fichier 3 :  (5862547, 16)\n",
      "Taille du fichier 4 :  (5522490, 16)\n",
      "Taille du fichier normal :  (7757289, 16)\n"
     ]
    }
   ],
   "source": [
    "# Taille des fichiers\n",
    "print(\"Taille du fichier 1 : \", df_net_1.shape)\n",
    "print(\"Taille du fichier 2 : \", df_net_2.shape)\n",
    "print(\"Taille du fichier 3 : \", df_net_3.shape)\n",
    "print(\"Taille du fichier 4 : \", df_net_4.shape)\n",
    "print(\"Taille du fichier normal : \", df_net_norm.shape)"
   ]
  },
  {
   "cell_type": "markdown",
   "metadata": {},
   "source": [
    "Les fichiers d'attaques font en moyenne la même taille, et le fichier normal est plus grand."
   ]
  },
  {
   "cell_type": "code",
   "execution_count": 15,
   "metadata": {},
   "outputs": [
    {
     "name": "stdout",
     "output_type": "stream",
     "text": [
      "Colonne n°0:\n",
      "\"Time\"  5\n",
      "\n",
      "Colonne n°1:\n",
      "\" mac_s\"  3\n",
      "\"mac_s\"  2\n",
      "\n",
      "Colonne n°2:\n",
      "\" mac_d\"  3\n",
      "\"mac_d\"  2\n",
      "\n",
      "Colonne n°3:\n",
      "\" ip_s\"  3\n",
      "\"ip_s\"  2\n",
      "\n",
      "Colonne n°4:\n",
      "\" ip_d\"  3\n",
      "\"ip_d\"  2\n",
      "\n",
      "Colonne n°5:\n",
      "\" sport\"  3\n",
      "\"sport\"  2\n",
      "\n",
      "Colonne n°6:\n",
      "\" dport\"  3\n",
      "\"dport\"  2\n",
      "\n",
      "Colonne n°7:\n",
      "\" proto\"  3\n",
      "\"proto\"  2\n",
      "\n",
      "Colonne n°8:\n",
      "\" flags\"  3\n",
      "\"flags\"  2\n",
      "\n",
      "Colonne n°9:\n",
      "\" size\"  3\n",
      "\"size\"  2\n",
      "\n",
      "Colonne n°10:\n",
      "\" modbus_fn\"  3\n",
      "\"modbus_fn\"  2\n",
      "\n",
      "Colonne n°11:\n",
      "\" n_pkt_src\"  3\n",
      "\"modbus_response\"  1\n",
      "\"n_pkt_src\"  1\n",
      "\n",
      "Colonne n°12:\n",
      "\" n_pkt_dst\"  3\n",
      "\"n_pkt_src\"  1\n",
      "\"n_pkt_dst\"  1\n",
      "\n",
      "Colonne n°13:\n",
      "\" modbus_response\"  3\n",
      "\"n_pkt_dst\"  1\n",
      "\"modbus_response\"  1\n",
      "\n",
      "Colonne n°14:\n",
      "\" label_n\"  3\n",
      "\"label_n\"  2\n",
      "\n",
      "Colonne n°15:\n",
      "\" label\"  3\n",
      "\"label\"  2\n",
      "\n"
     ]
    }
   ],
   "source": [
    "# Comparaison des noms de colonnes\n",
    "dataframes = [df_net_1, df_net_2, df_net_3, df_net_4, df_net_norm]\n",
    "\n",
    "column_names_by_index = {}\n",
    "\n",
    "for i, df in enumerate(dataframes):\n",
    "    for col_index, col_name in enumerate(df.columns):\n",
    "        if col_index not in column_names_by_index:\n",
    "            column_names_by_index[col_index] = []\n",
    "        column_names_by_index[col_index].append(col_name)\n",
    "\n",
    "for index, col_names in column_names_by_index.items():\n",
    "    col_count = pd.Series(col_names).value_counts()\n",
    "    print(f\"Colonne n°{index}:\")\n",
    "    for col_name, count in col_count.items():\n",
    "        print(f\"\\\"{col_name}\\\"  {count}\")\n",
    "    print()"
   ]
  },
  {
   "cell_type": "markdown",
   "metadata": {},
   "source": [
    "On peut voir que 3 sur 5 des noms de colonnes ont un espace au début, il faudra le supprimer par la suite. De plus, 1 des fichiers a deux colonnes inversées."
   ]
  },
  {
   "cell_type": "code",
   "execution_count": 16,
   "metadata": {},
   "outputs": [
    {
     "name": "stdout",
     "output_type": "stream",
     "text": [
      " label_n\n",
      "0    3687410\n",
      "1    1839999\n",
      "Name: count, dtype: int64 \n",
      "\n",
      " label_n\n",
      "0    4093168\n",
      "1    1066301\n",
      "Name: count, dtype: int64 \n",
      "\n",
      " label_n\n",
      "1    3791992\n",
      "0    2070555\n",
      "Name: count, dtype: int64 \n",
      "\n",
      "label_n\n",
      "0    2844877\n",
      "1    2677613\n",
      "Name: count, dtype: int64 \n",
      "\n",
      "label_n\n",
      "0    7757289\n",
      "Name: count, dtype: int64 \n",
      "\n"
     ]
    }
   ],
   "source": [
    "print(df_net_1[' label_n'].value_counts(), \"\\n\")\n",
    "print(df_net_2[' label_n'].value_counts(), \"\\n\")\n",
    "print(df_net_3[' label_n'].value_counts(),  \"\\n\")\n",
    "print(df_net_4['label_n'].value_counts(), \"\\n\")\n",
    "print(df_net_norm['label_n'].value_counts(), \"\\n\")"
   ]
  },
  {
   "cell_type": "code",
   "execution_count": 17,
   "metadata": {},
   "outputs": [
    {
     "name": "stdout",
     "output_type": "stream",
     "text": [
      " label           label_n\n",
      "normal          0           3687410\n",
      "MITM            1           1214098\n",
      "physical fault  1            625691\n",
      "anomaly         1               210\n",
      "Name: count, dtype: int64 \n",
      "\n",
      " label           label_n\n",
      "normal          0           4093168\n",
      "DoS             1            571875\n",
      "physical fault  1            277282\n",
      "MITM            1            217009\n",
      "anomaly         1               105\n",
      "scan            1                30\n",
      "Name: count, dtype: int64 \n",
      "\n",
      " label           label_n\n",
      "DoS             1           3194711\n",
      "normal          0           2070555\n",
      "physical fault  1            344244\n",
      "MITM            1            252963\n",
      "anomaly         1                74\n",
      "Name: count, dtype: int64 \n",
      "\n",
      "label           label_n\n",
      "normal          0          2844877\n",
      "DoS             1          1904956\n",
      "MITM            1           471339\n",
      "physical fault  1           301287\n",
      "scan            1               31\n",
      "Name: count, dtype: int64 \n",
      "\n",
      "label   label_n\n",
      "normal  0          7757289\n",
      "Name: count, dtype: int64 \n",
      "\n"
     ]
    }
   ],
   "source": [
    "print(df_net_1[[' label', ' label_n']].value_counts(), \"\\n\")\n",
    "print(df_net_2[[' label', ' label_n']].value_counts(), \"\\n\")\n",
    "print(df_net_3[[' label', ' label_n']].value_counts(),  \"\\n\")\n",
    "print(df_net_4[['label', 'label_n']].value_counts(), \"\\n\")\n",
    "print(df_net_norm[['label', 'label_n']].value_counts(), \"\\n\")"
   ]
  },
  {
   "cell_type": "markdown",
   "metadata": {},
   "source": [
    "Le fichier normal.csv ne contient pas de label = 1, contrairement aux fichiers d'attaque. \\\n",
    "Le fichier est donc bien un fichier représentant le fonctionnement normale des échanges réseau.\n",
    "\n",
    "On peut retrouver d'autres types d'attaques dans les 3 fichiers non analysés avant.\n",
    "- DoS (=Denial of service) : L'attaquant inonde le service de requêtes/paquets pour le surcharger et le rendre indisponible.\n",
    "- scan : L'attaquant cherche à identifier les ports ouverts et les vulnérabilités potentielles avant une attaque."
   ]
  },
  {
   "cell_type": "markdown",
   "metadata": {},
   "source": [
    "## Nettoyage des données"
   ]
  },
  {
   "cell_type": "markdown",
   "metadata": {},
   "source": [
    "### Noms colonnes"
   ]
  },
  {
   "cell_type": "code",
   "execution_count": 18,
   "metadata": {},
   "outputs": [],
   "source": [
    "# Correction des noms de colonnes (suppression des espaces)\n",
    "dataframes = [df_net_1, df_net_2, df_net_3, df_net_4, df_net_norm]\n",
    "for df in dataframes:\n",
    "    df.columns = df.columns.str.strip()"
   ]
  },
  {
   "cell_type": "code",
   "execution_count": 19,
   "metadata": {},
   "outputs": [
    {
     "name": "stdout",
     "output_type": "stream",
     "text": [
      "Colonne n°0:\n",
      "\"Time\"  5\n",
      "\n",
      "Colonne n°1:\n",
      "\"mac_s\"  5\n",
      "\n",
      "Colonne n°2:\n",
      "\"mac_d\"  5\n",
      "\n",
      "Colonne n°3:\n",
      "\"ip_s\"  5\n",
      "\n",
      "Colonne n°4:\n",
      "\"ip_d\"  5\n",
      "\n",
      "Colonne n°5:\n",
      "\"sport\"  5\n",
      "\n",
      "Colonne n°6:\n",
      "\"dport\"  5\n",
      "\n",
      "Colonne n°7:\n",
      "\"proto\"  5\n",
      "\n",
      "Colonne n°8:\n",
      "\"flags\"  5\n",
      "\n",
      "Colonne n°9:\n",
      "\"size\"  5\n",
      "\n",
      "Colonne n°10:\n",
      "\"modbus_fn\"  5\n",
      "\n",
      "Colonne n°11:\n",
      "\"n_pkt_src\"  4\n",
      "\"modbus_response\"  1\n",
      "\n",
      "Colonne n°12:\n",
      "\"n_pkt_dst\"  4\n",
      "\"n_pkt_src\"  1\n",
      "\n",
      "Colonne n°13:\n",
      "\"modbus_response\"  4\n",
      "\"n_pkt_dst\"  1\n",
      "\n",
      "Colonne n°14:\n",
      "\"label_n\"  5\n",
      "\n",
      "Colonne n°15:\n",
      "\"label\"  5\n",
      "\n"
     ]
    }
   ],
   "source": [
    "# Vérification des noms de colonnes\n",
    "dataframes = [df_net_1, df_net_2, df_net_3, df_net_4, df_net_norm]\n",
    "\n",
    "column_names_by_index = {}\n",
    "\n",
    "for i, df in enumerate(dataframes):\n",
    "    for col_index, col_name in enumerate(df.columns):\n",
    "        if col_index not in column_names_by_index:\n",
    "            column_names_by_index[col_index] = []\n",
    "        column_names_by_index[col_index].append(col_name)\n",
    "\n",
    "for index, col_names in column_names_by_index.items():\n",
    "    col_count = pd.Series(col_names).value_counts()\n",
    "    print(f\"Colonne n°{index}:\")\n",
    "    for col_name, count in col_count.items():\n",
    "        print(f\"\\\"{col_name}\\\"  {count}\")\n",
    "    print()"
   ]
  },
  {
   "cell_type": "markdown",
   "metadata": {},
   "source": [
    "### Format colonne Time"
   ]
  },
  {
   "cell_type": "code",
   "execution_count": 20,
   "metadata": {},
   "outputs": [],
   "source": [
    "# Mise en forme uniforme de la colonne Time\n",
    "dataframes = [df_net_1, df_net_2, df_net_3, df_net_4, df_net_norm]\n",
    "\n",
    "for df in dataframes:\n",
    "    df['Time'] = pd.to_datetime(df['Time'], errors='coerce')\n",
    "    df['Time'] = df['Time'].dt.strftime('%Y-%m-%d %H:%M:%S.%f')"
   ]
  },
  {
   "cell_type": "markdown",
   "metadata": {},
   "source": [
    "### Gestion des valeurs manquantes"
   ]
  },
  {
   "cell_type": "markdown",
   "metadata": {},
   "source": [
    "#### Recherche"
   ]
  },
  {
   "cell_type": "code",
   "execution_count": 21,
   "metadata": {},
   "outputs": [
    {
     "name": "stdout",
     "output_type": "stream",
     "text": [
      "Valeurs nulles dans df_net_1 :\n",
      "Time                     3\n",
      "mac_s                    0\n",
      "mac_d                    0\n",
      "ip_s                   475\n",
      "ip_d                   475\n",
      "sport                  515\n",
      "dport                  515\n",
      "proto                    0\n",
      "flags                  515\n",
      "size                     0\n",
      "modbus_fn           153123\n",
      "n_pkt_src              475\n",
      "n_pkt_dst              475\n",
      "modbus_response    2840182\n",
      "label_n                  0\n",
      "label                    0\n",
      "dtype: int64\n",
      "\n",
      "Valeurs nulles dans df_net_2 :\n",
      "Time                     3\n",
      "mac_s                    0\n",
      "mac_d                    0\n",
      "ip_s                   276\n",
      "ip_d                   276\n",
      "sport               385383\n",
      "dport               385383\n",
      "proto                    0\n",
      "flags               385383\n",
      "size                     0\n",
      "modbus_fn           539517\n",
      "n_pkt_src              276\n",
      "n_pkt_dst              276\n",
      "modbus_response    2849430\n",
      "label_n                  0\n",
      "label                    0\n",
      "dtype: int64\n",
      "\n",
      "Valeurs nulles dans df_net_3 :\n",
      "Time                     7\n",
      "mac_s                    0\n",
      "mac_d                    0\n",
      "ip_s                   189\n",
      "ip_d                   189\n",
      "sport              3066837\n",
      "dport              3066837\n",
      "proto                    0\n",
      "flags              3066837\n",
      "size                     0\n",
      "modbus_fn          3143940\n",
      "n_pkt_src              189\n",
      "n_pkt_dst              189\n",
      "modbus_response    4503169\n",
      "label_n                  0\n",
      "label                    0\n",
      "dtype: int64\n",
      "\n",
      "Valeurs nulles dans df_net_4 :\n",
      "Time                     2\n",
      "mac_s                    0\n",
      "mac_d                    0\n",
      "ip_s                   439\n",
      "ip_d                   439\n",
      "sport              1172305\n",
      "dport              1172305\n",
      "proto                    0\n",
      "flags              1172305\n",
      "size                     0\n",
      "modbus_fn          1751892\n",
      "modbus_response    3637071\n",
      "n_pkt_src              439\n",
      "n_pkt_dst              439\n",
      "label_n                  0\n",
      "label                    0\n",
      "dtype: int64\n",
      "\n",
      "Valeurs nulles dans df_net_5 :\n",
      "Time                     8\n",
      "mac_s                    0\n",
      "mac_d                    0\n",
      "ip_s                     0\n",
      "ip_d                     0\n",
      "sport                    0\n",
      "dport                    0\n",
      "proto                    0\n",
      "flags                    0\n",
      "size                     0\n",
      "modbus_fn           210243\n",
      "n_pkt_src                0\n",
      "n_pkt_dst                0\n",
      "modbus_response    3983640\n",
      "label_n                  0\n",
      "label                    0\n",
      "dtype: int64\n",
      "\n"
     ]
    }
   ],
   "source": [
    "# Affichage des valeurs null dans chaque colonnes de chaque df\n",
    "dataframes = [df_net_1, df_net_2, df_net_3, df_net_4, df_net_norm]\n",
    "\n",
    "for i, df in enumerate(dataframes, 1):\n",
    "    print(f\"Valeurs nulles dans df_net_{i} :\")\n",
    "    null_counts = df.isnull().sum()\n",
    "    print(null_counts)\n",
    "    print()"
   ]
  },
  {
   "cell_type": "markdown",
   "metadata": {},
   "source": [
    "#### Remplacement / Suppression (idées à revoir)"
   ]
  },
  {
   "cell_type": "code",
   "execution_count": 22,
   "metadata": {},
   "outputs": [],
   "source": [
    "dataframes = [df_net_1, df_net_2, df_net_3, df_net_4, df_net_norm]\n",
    "\n",
    "for df in dataframes:\n",
    "    # Suppression des lignes avec Time nul car essentiel pour l'analyse\n",
    "    df['Time'] = df['Time'].ffill()\n",
    "\n",
    "    # Remplacement des ip null par \"Inconnue\"\n",
    "    df['ip_s'] = df['ip_s'].fillna('Inconnue')\n",
    "    df['ip_d'] = df['ip_d'].fillna('Inconnue')\n",
    "\n",
    "    # Remplacement des port null par -1\n",
    "    df['sport'] = df['sport'].fillna(-1)\n",
    "    df['dport'] = df['dport'].fillna(-1)\n",
    "\n",
    "    # Remplacement des flags null par -1\n",
    "    df['flags'] = df['flags'].fillna(-1)\n",
    "\n",
    "    # Remplacement des échanges Modbus par \"Inconnu\"\n",
    "    df['modbus_fn'] = df['modbus_fn'].fillna('Inconnu')\n",
    "\n",
    "    # Remplacement du nombre de paquets par source/destination null par -1\n",
    "    df['n_pkt_src'] = df['n_pkt_src'].fillna(-1)\n",
    "    df['n_pkt_dst'] = df['n_pkt_dst'].fillna(-1)\n",
    "\n",
    "    # Remplacement des réponses de Modbus null par \"Pas de réponse\"\n",
    "    df['modbus_response'] = df['modbus_response'].fillna('Pas de réponse')\n"
   ]
  },
  {
   "cell_type": "code",
   "execution_count": 23,
   "metadata": {},
   "outputs": [
    {
     "name": "stdout",
     "output_type": "stream",
     "text": [
      "Valeurs nulles dans df_net_1 :\n",
      "Series([], dtype: int64)\n",
      "\n",
      "Valeurs nulles dans df_net_2 :\n",
      "Series([], dtype: int64)\n",
      "\n",
      "Valeurs nulles dans df_net_3 :\n",
      "Series([], dtype: int64)\n",
      "\n",
      "Valeurs nulles dans df_net_4 :\n",
      "Series([], dtype: int64)\n",
      "\n",
      "Valeurs nulles dans df_net_5 :\n",
      "Series([], dtype: int64)\n",
      "\n"
     ]
    }
   ],
   "source": [
    "# Vérification\n",
    "dataframes = [df_net_1, df_net_2, df_net_3, df_net_4, df_net_norm]\n",
    "\n",
    "for i, df in enumerate(dataframes, 1):\n",
    "    print(f\"Valeurs nulles dans df_net_{i} :\")\n",
    "    null_counts = df.isnull().sum()\n",
    "    print(null_counts[null_counts > 0]) # Affiche seulement les colonnes avec des valeurs nulles\n",
    "    print()"
   ]
  },
  {
   "cell_type": "markdown",
   "metadata": {},
   "source": [
    "### Enregistrement des données"
   ]
  },
  {
   "cell_type": "code",
   "execution_count": 26,
   "metadata": {},
   "outputs": [],
   "source": [
    "dataframes = [df_net_1, df_net_2, df_net_3, df_net_4, df_net_norm]\n",
    "\n",
    "dict_dfs = {\n",
    "    \"net_attack_1_clean\": df_net_1,\n",
    "    \"net_attack_2_clean\": df_net_2,\n",
    "    \"net_attack_3_clean\": df_net_3,\n",
    "    \"net_attack_4_clean\": df_net_4,\n",
    "    \"net_norm_clean\": df_net_norm,\n",
    "}"
   ]
  },
  {
   "cell_type": "code",
   "execution_count": 27,
   "metadata": {},
   "outputs": [],
   "source": [
    "data_dir = '../prep_data' \n",
    "os.makedirs(data_dir, exist_ok=True)\n",
    "db = PickleShareDB(os.path.join(data_dir, 'kity'))\n",
    "\n",
    "db['net_attack_1_clean'] = df_net_1\n",
    "db['net_attack_2_clean'] = df_net_2\n",
    "db['net_attack_3_clean'] = df_net_3\n",
    "db['net_attack_4_clean'] = df_net_4\n",
    "db['net_norm_clean'] = df_net_norm\n",
    "db['dict_dfs'] = dict_dfs"
   ]
  }
 ],
 "metadata": {
  "kernelspec": {
   "display_name": "Python 3",
   "language": "python",
   "name": "python3"
  },
  "language_info": {
   "codemirror_mode": {
    "name": "ipython",
    "version": 3
   },
   "file_extension": ".py",
   "mimetype": "text/x-python",
   "name": "python",
   "nbconvert_exporter": "python",
   "pygments_lexer": "ipython3",
   "version": "3.12.1"
  }
 },
 "nbformat": 4,
 "nbformat_minor": 2
}
