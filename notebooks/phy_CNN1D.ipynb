{
 "cells": [
  {
   "cell_type": "code",
   "execution_count": 52,
   "metadata": {},
   "outputs": [],
   "source": [
    "import pandas as pd\n",
    "import numpy as np\n",
    "import random\n",
    "from pickleshare import PickleShareDB\n",
    "import os \n",
    "from sklearn.preprocessing import MinMaxScaler\n",
    "from sklearn.preprocessing import LabelEncoder\n",
    "from sklearn.model_selection import train_test_split\n",
    "import tensorflow as tf\n",
    "from tensorflow.keras.callbacks import EarlyStopping\n",
    "from tensorflow.keras.models import Sequential\n",
    "from tensorflow.keras.layers import Conv1D, MaxPooling1D, Flatten, Dense\n",
    "from sklearn.metrics import precision_score, recall_score, accuracy_score, f1_score\n",
    "from sklearn.metrics import confusion_matrix, matthews_corrcoef, balanced_accuracy_score\n",
    "import time\n",
    "import memory_profiler"
   ]
  },
  {
   "cell_type": "code",
   "execution_count": 53,
   "metadata": {},
   "outputs": [],
   "source": [
    "# pour la reproductibilité \n",
    "np.random.seed(0)\n",
    "random.seed(0)\n",
    "tf.random.set_seed(0)"
   ]
  },
  {
   "cell_type": "code",
   "execution_count": 54,
   "metadata": {},
   "outputs": [],
   "source": [
    "# charger les données de prep_data\n",
    "\n",
    "data_dir = '../prep_data' \n",
    "db = PickleShareDB(os.path.join(data_dir, 'kity'))\n",
    "\n",
    "if 'df_phy_1' in db:\n",
    "    df_phy_1 = db['df_phy_1']\n",
    "else:\n",
    "    print(\"df_phy_1 n'est pas trouvé dans la base de données.\")\n",
    "if 'df_phy_2' in db:\n",
    "    df_phy_2 = db['df_phy_2']\n",
    "else:\n",
    "    print(\"df_phy_2 n'est pas trouvé dans la base de données.\")\n",
    "if 'df_phy_3' in db:\n",
    "    df_phy_3 = db['df_phy_3']\n",
    "else:\n",
    "    print(\"df_phy_3 n'est pas trouvé dans la base de données.\")\n",
    "if 'df_phy_4' in db:\n",
    "    df_phy_4 = db['df_phy_4']\n",
    "else:\n",
    "    print(\"df_phy_4 n'est pas trouvé dans la base de données.\")\n",
    "if 'df_phy_norm' in db:\n",
    "    df_phy_norm = db['df_phy_norm']\n",
    "else:\n",
    "    print(\"df_phy_norm n'est pas trouvé dans la base de données.\")\n",
    "if 'df_phy_attack' in db:\n",
    "    df_phy_attack = db['df_phy_attack']\n",
    "if 'df_phy_all' in db:\n",
    "    df_phy_all = db['df_phy_all']\n",
    "else:\n",
    "    print(\"df_phy_all n'est pas trouvé dans la base de données.\")\n",
    "if 'dict_dfs' in db:\n",
    "    dict_dfs = db['dict_dfs']\n",
    "else:\n",
    "    print(\"dict_dfs n'est pas trouvé dans la base de données.\")\n"
   ]
  },
  {
   "cell_type": "code",
   "execution_count": 55,
   "metadata": {},
   "outputs": [
    {
     "name": "stdout",
     "output_type": "stream",
     "text": [
      "<class 'pandas.core.frame.DataFrame'>\n",
      "RangeIndex: 2420 entries, 0 to 2419\n",
      "Data columns (total 29 columns):\n",
      " #   Column         Non-Null Count  Dtype         \n",
      "---  ------         --------------  -----         \n",
      " 0   Time           2420 non-null   datetime64[ns]\n",
      " 1   Tank_1         2420 non-null   int64         \n",
      " 2   Tank_2         2420 non-null   int64         \n",
      " 3   Tank_3         2420 non-null   int64         \n",
      " 4   Tank_4         2420 non-null   int64         \n",
      " 5   Tank_5         2420 non-null   int64         \n",
      " 6   Tank_6         2420 non-null   int64         \n",
      " 7   Tank_7         2420 non-null   int64         \n",
      " 8   Tank_8         2420 non-null   int64         \n",
      " 9   Pump_1         2420 non-null   bool          \n",
      " 10  Pump_2         2420 non-null   bool          \n",
      " 11  Pump_4         2420 non-null   bool          \n",
      " 12  Pump_5         2420 non-null   bool          \n",
      " 13  Pump_6         2420 non-null   bool          \n",
      " 14  Flow_sensor_1  2420 non-null   category      \n",
      " 15  Flow_sensor_2  2420 non-null   bool          \n",
      " 16  Flow_sensor_4  2420 non-null   int64         \n",
      " 17  Valv_10        2420 non-null   bool          \n",
      " 18  Valv_11        2420 non-null   bool          \n",
      " 19  Valv_12        2420 non-null   bool          \n",
      " 20  Valv_13        2420 non-null   bool          \n",
      " 21  Valv_14        2420 non-null   bool          \n",
      " 22  Valv_15        2420 non-null   bool          \n",
      " 23  Valv_17        2420 non-null   bool          \n",
      " 24  Valv_18        2420 non-null   bool          \n",
      " 25  Valv_20        2420 non-null   bool          \n",
      " 26  Valv_22        2420 non-null   bool          \n",
      " 27  Label_n        2420 non-null   bool          \n",
      " 28  Label          2420 non-null   category      \n",
      "dtypes: bool(17), category(2), datetime64[ns](1), int64(9)\n",
      "memory usage: 234.1 KB\n"
     ]
    }
   ],
   "source": [
    "df_phy_1.info()"
   ]
  },
  {
   "cell_type": "code",
   "execution_count": 56,
   "metadata": {},
   "outputs": [
    {
     "data": {
      "text/html": [
       "<div>\n",
       "<style scoped>\n",
       "    .dataframe tbody tr th:only-of-type {\n",
       "        vertical-align: middle;\n",
       "    }\n",
       "\n",
       "    .dataframe tbody tr th {\n",
       "        vertical-align: top;\n",
       "    }\n",
       "\n",
       "    .dataframe thead th {\n",
       "        text-align: right;\n",
       "    }\n",
       "</style>\n",
       "<table border=\"1\" class=\"dataframe\">\n",
       "  <thead>\n",
       "    <tr style=\"text-align: right;\">\n",
       "      <th></th>\n",
       "      <th>Time</th>\n",
       "      <th>Tank_1</th>\n",
       "      <th>Tank_2</th>\n",
       "      <th>Tank_3</th>\n",
       "      <th>Tank_4</th>\n",
       "      <th>Tank_5</th>\n",
       "      <th>Tank_6</th>\n",
       "      <th>Tank_7</th>\n",
       "      <th>Tank_8</th>\n",
       "      <th>Pump_1</th>\n",
       "      <th>...</th>\n",
       "      <th>Valv_12</th>\n",
       "      <th>Valv_13</th>\n",
       "      <th>Valv_14</th>\n",
       "      <th>Valv_15</th>\n",
       "      <th>Valv_17</th>\n",
       "      <th>Valv_18</th>\n",
       "      <th>Valv_20</th>\n",
       "      <th>Valv_22</th>\n",
       "      <th>Label_n</th>\n",
       "      <th>Label</th>\n",
       "    </tr>\n",
       "  </thead>\n",
       "  <tbody>\n",
       "    <tr>\n",
       "      <th>0</th>\n",
       "      <td>2021-04-09 18:23:28</td>\n",
       "      <td>0</td>\n",
       "      <td>0</td>\n",
       "      <td>0</td>\n",
       "      <td>0</td>\n",
       "      <td>0</td>\n",
       "      <td>0</td>\n",
       "      <td>0</td>\n",
       "      <td>0</td>\n",
       "      <td>False</td>\n",
       "      <td>...</td>\n",
       "      <td>False</td>\n",
       "      <td>False</td>\n",
       "      <td>False</td>\n",
       "      <td>False</td>\n",
       "      <td>False</td>\n",
       "      <td>False</td>\n",
       "      <td>False</td>\n",
       "      <td>False</td>\n",
       "      <td>False</td>\n",
       "      <td>normal</td>\n",
       "    </tr>\n",
       "    <tr>\n",
       "      <th>1</th>\n",
       "      <td>2021-04-09 18:23:29</td>\n",
       "      <td>0</td>\n",
       "      <td>0</td>\n",
       "      <td>0</td>\n",
       "      <td>0</td>\n",
       "      <td>0</td>\n",
       "      <td>0</td>\n",
       "      <td>0</td>\n",
       "      <td>0</td>\n",
       "      <td>False</td>\n",
       "      <td>...</td>\n",
       "      <td>False</td>\n",
       "      <td>False</td>\n",
       "      <td>False</td>\n",
       "      <td>False</td>\n",
       "      <td>False</td>\n",
       "      <td>False</td>\n",
       "      <td>False</td>\n",
       "      <td>False</td>\n",
       "      <td>False</td>\n",
       "      <td>normal</td>\n",
       "    </tr>\n",
       "    <tr>\n",
       "      <th>2</th>\n",
       "      <td>2021-04-09 18:23:30</td>\n",
       "      <td>0</td>\n",
       "      <td>0</td>\n",
       "      <td>0</td>\n",
       "      <td>0</td>\n",
       "      <td>0</td>\n",
       "      <td>0</td>\n",
       "      <td>0</td>\n",
       "      <td>0</td>\n",
       "      <td>False</td>\n",
       "      <td>...</td>\n",
       "      <td>False</td>\n",
       "      <td>False</td>\n",
       "      <td>False</td>\n",
       "      <td>False</td>\n",
       "      <td>False</td>\n",
       "      <td>False</td>\n",
       "      <td>False</td>\n",
       "      <td>False</td>\n",
       "      <td>False</td>\n",
       "      <td>normal</td>\n",
       "    </tr>\n",
       "    <tr>\n",
       "      <th>3</th>\n",
       "      <td>2021-04-09 18:23:31</td>\n",
       "      <td>0</td>\n",
       "      <td>0</td>\n",
       "      <td>0</td>\n",
       "      <td>0</td>\n",
       "      <td>0</td>\n",
       "      <td>0</td>\n",
       "      <td>0</td>\n",
       "      <td>0</td>\n",
       "      <td>False</td>\n",
       "      <td>...</td>\n",
       "      <td>False</td>\n",
       "      <td>False</td>\n",
       "      <td>False</td>\n",
       "      <td>False</td>\n",
       "      <td>False</td>\n",
       "      <td>False</td>\n",
       "      <td>False</td>\n",
       "      <td>False</td>\n",
       "      <td>False</td>\n",
       "      <td>normal</td>\n",
       "    </tr>\n",
       "    <tr>\n",
       "      <th>4</th>\n",
       "      <td>2021-04-09 18:23:32</td>\n",
       "      <td>0</td>\n",
       "      <td>0</td>\n",
       "      <td>0</td>\n",
       "      <td>0</td>\n",
       "      <td>0</td>\n",
       "      <td>0</td>\n",
       "      <td>0</td>\n",
       "      <td>0</td>\n",
       "      <td>True</td>\n",
       "      <td>...</td>\n",
       "      <td>False</td>\n",
       "      <td>False</td>\n",
       "      <td>False</td>\n",
       "      <td>False</td>\n",
       "      <td>False</td>\n",
       "      <td>False</td>\n",
       "      <td>False</td>\n",
       "      <td>False</td>\n",
       "      <td>False</td>\n",
       "      <td>normal</td>\n",
       "    </tr>\n",
       "  </tbody>\n",
       "</table>\n",
       "<p>5 rows × 29 columns</p>\n",
       "</div>"
      ],
      "text/plain": [
       "                 Time  Tank_1  Tank_2  Tank_3  Tank_4  Tank_5  Tank_6  Tank_7  \\\n",
       "0 2021-04-09 18:23:28       0       0       0       0       0       0       0   \n",
       "1 2021-04-09 18:23:29       0       0       0       0       0       0       0   \n",
       "2 2021-04-09 18:23:30       0       0       0       0       0       0       0   \n",
       "3 2021-04-09 18:23:31       0       0       0       0       0       0       0   \n",
       "4 2021-04-09 18:23:32       0       0       0       0       0       0       0   \n",
       "\n",
       "   Tank_8  Pump_1  ...  Valv_12  Valv_13  Valv_14  Valv_15 Valv_17  Valv_18  \\\n",
       "0       0   False  ...    False    False    False    False   False    False   \n",
       "1       0   False  ...    False    False    False    False   False    False   \n",
       "2       0   False  ...    False    False    False    False   False    False   \n",
       "3       0   False  ...    False    False    False    False   False    False   \n",
       "4       0    True  ...    False    False    False    False   False    False   \n",
       "\n",
       "   Valv_20  Valv_22  Label_n   Label  \n",
       "0    False    False    False  normal  \n",
       "1    False    False    False  normal  \n",
       "2    False    False    False  normal  \n",
       "3    False    False    False  normal  \n",
       "4    False    False    False  normal  \n",
       "\n",
       "[5 rows x 29 columns]"
      ]
     },
     "execution_count": 56,
     "metadata": {},
     "output_type": "execute_result"
    }
   ],
   "source": [
    "df_phy_1.head()"
   ]
  },
  {
   "cell_type": "code",
   "execution_count": 57,
   "metadata": {},
   "outputs": [],
   "source": [
    "# 5 séries temporelles multivariées\n",
    "# créer des fenêtres temporelles sur chaque jeu de données sans essayer de les fusionner sur les dates \n",
    "# chaque dataset aura ses propres fenêtres glissantes\n",
    "# supprimer la colonne de temps\n",
    "# ensuite diviser en X et y (Label et Label_n, on chercher à prédire l'un ou l'autre)"
   ]
  },
  {
   "cell_type": "code",
   "execution_count": 58,
   "metadata": {},
   "outputs": [],
   "source": [
    "cnn_1D_df_phy_1 = df_phy_1.drop(columns=['Time'])\n",
    "cnn_1D_df_phy_2 = df_phy_2.drop(columns=['Time'])\n",
    "cnn_1D_df_phy_3 = df_phy_3.drop(columns=['Time'])\n",
    "cnn_1D_df_phy_4 = df_phy_4.drop(columns=['Time'])\n",
    "cnn_1D_df_phy_norm = df_phy_norm.drop(columns=['Time'])"
   ]
  },
  {
   "cell_type": "code",
   "execution_count": 59,
   "metadata": {},
   "outputs": [],
   "source": [
    "# Diviser en X (features) et y (labels)\n",
    "X_phy_1 = cnn_1D_df_phy_1.drop(columns=['Label', 'Label_n'])  \n",
    "y_label_phy_1 = cnn_1D_df_phy_1['Label']                      \n",
    "y_label_n_phy_1 = cnn_1D_df_phy_1['Label_n']                  \n",
    "\n",
    "X_phy_2 = cnn_1D_df_phy_2.drop(columns=['Label', 'Label_n'])  \n",
    "y_label_phy_2 = cnn_1D_df_phy_2['Label']                      \n",
    "y_label_n_phy_2 = cnn_1D_df_phy_2['Label_n']      \n",
    "\n",
    "X_phy_3 = cnn_1D_df_phy_3.drop(columns=['Label', 'Label_n'])\n",
    "y_label_phy_3 = cnn_1D_df_phy_3['Label']\n",
    "y_label_n_phy_3 = cnn_1D_df_phy_3['Label_n']\n",
    "\n",
    "X_phy_4 = cnn_1D_df_phy_4.drop(columns=['Label', 'Label_n'])\n",
    "y_label_phy_4 = cnn_1D_df_phy_4['Label']\n",
    "y_label_n_phy_4 = cnn_1D_df_phy_4['Label_n']\n",
    "\n",
    "X_phy_norm = cnn_1D_df_phy_norm.drop(columns=['Label', 'Label_n'])\n",
    "y_label_phy_norm = cnn_1D_df_phy_norm['Label']\n",
    "y_label_n_phy_norm = cnn_1D_df_phy_norm['Label_n']"
   ]
  },
  {
   "cell_type": "code",
   "execution_count": 60,
   "metadata": {},
   "outputs": [],
   "source": [
    "# TODO : pas sur de ce coup là; je pense l'enlever : à voir\n",
    "\n",
    "# on va concaténer les données, mais la fin d'un dataset n'est pas lié au début du suivant\n",
    "# on ajoute juste une colonne pour identifier le dataset d'origine\n",
    "X_phy_1['dataset_id'] = 'dataset_1'\n",
    "X_phy_2['dataset_id'] = 'dataset_2'\n",
    "X_phy_3['dataset_id'] = 'dataset_3'\n",
    "X_phy_4['dataset_id'] = 'dataset_4'\n",
    "X_phy_norm['dataset_id'] = 'dataset_norm'\n",
    "\n",
    "X_phy_1['dataset_id'] = X_phy_1['dataset_id'].astype('category')\n",
    "X_phy_2['dataset_id'] = X_phy_2['dataset_id'].astype('category')\n",
    "X_phy_3['dataset_id'] = X_phy_3['dataset_id'].astype('category')\n",
    "X_phy_4['dataset_id'] = X_phy_4['dataset_id'].astype('category')\n",
    "X_phy_norm['dataset_id'] = X_phy_norm['dataset_id'].astype('category')\n"
   ]
  },
  {
   "cell_type": "code",
   "execution_count": 61,
   "metadata": {},
   "outputs": [],
   "source": [
    "# Normaliser : MinMaxScaler nous permet de préparer nos données de manière efficace,\n",
    "# garantissant que chaque feature contribut de manière égale au processus d'apprentissage"
   ]
  },
  {
   "cell_type": "code",
   "execution_count": 62,
   "metadata": {},
   "outputs": [],
   "source": [
    "# Fonction pour normaliser uniquement les colonnes numériques d'un DataFrame\n",
    "def normalize_numeric_columns(df):\n",
    "    scaler = MinMaxScaler()\n",
    "    numeric_cols = df.select_dtypes(include=['int64']).columns  # Sélectionne les colonnes numériques\n",
    "    df[numeric_cols] = scaler.fit_transform(df[numeric_cols])  # Applique le scaler uniquement sur les colonnes numériques\n",
    "    return df\n",
    "\n",
    "# Appliquez la normalisation sur chaque DataFrame individuellement\n",
    "X_phy_1 = normalize_numeric_columns(X_phy_1)\n",
    "X_phy_2 = normalize_numeric_columns(X_phy_2)\n",
    "X_phy_3 = normalize_numeric_columns(X_phy_3)\n",
    "X_phy_4 = normalize_numeric_columns(X_phy_4)\n",
    "X_phy_norm = normalize_numeric_columns(X_phy_norm)\n"
   ]
  },
  {
   "cell_type": "code",
   "execution_count": 63,
   "metadata": {},
   "outputs": [
    {
     "data": {
      "text/plain": [
       "{'Flow_sensor_1', 'dataset_id'}"
      ]
     },
     "execution_count": 63,
     "metadata": {},
     "output_type": "execute_result"
    }
   ],
   "source": [
    "cat_cols = [df.select_dtypes(include=['category']).columns for df in [X_phy_1, X_phy_2, X_phy_3, X_phy_4, X_phy_norm]]  \n",
    "cat_cols = set(cat_cols[0])  \n",
    "cat_cols"
   ]
  },
  {
   "cell_type": "code",
   "execution_count": 64,
   "metadata": {},
   "outputs": [
    {
     "data": {
      "text/plain": [
       "{'Flow_sensor_1': [0, 100, 4000],\n",
       " 'dataset_id': ['dataset_norm',\n",
       "  'dataset_1',\n",
       "  'dataset_2',\n",
       "  'dataset_4',\n",
       "  'dataset_3']}"
      ]
     },
     "execution_count": 64,
     "metadata": {},
     "output_type": "execute_result"
    }
   ],
   "source": [
    "# extraire tous les catégories pour les colonnes catégorielles \n",
    "\n",
    "def extract_categories(df):\n",
    "    return {col: list(df[col].cat.categories) for col in df.select_dtypes(include=['category']).columns}\n",
    "\n",
    "cat_dict_phy_1 = extract_categories(X_phy_1)\n",
    "cat_dict_phy_2 = extract_categories(X_phy_2)\n",
    "cat_dict_phy_3 = extract_categories(X_phy_3)\n",
    "cat_dict_phy_4 = extract_categories(X_phy_4)\n",
    "cat_dict_phy_norm = extract_categories(X_phy_norm)\n",
    "\n",
    "# fusionner les catégories de tous les datasets\n",
    "cat_dict_all = {}\n",
    "for cat_dict in [cat_dict_phy_1, cat_dict_phy_2, cat_dict_phy_3, cat_dict_phy_4, cat_dict_phy_norm]:\n",
    "    for key, value in cat_dict.items():\n",
    "        if key not in cat_dict_all:\n",
    "            cat_dict_all[key] = value\n",
    "        else:\n",
    "            cat_dict_all[key] = list(set(cat_dict_all[key] + value))\n",
    "cat_dict_all"
   ]
  },
  {
   "cell_type": "code",
   "execution_count": 65,
   "metadata": {},
   "outputs": [],
   "source": [
    "# Fonction pour appliquer le One-Hot Encoding tout en gardant les mêmes colonnes\n",
    "def apply_one_hot_encoding(df, cat_dict_all):\n",
    "    for col, categories in cat_dict_all.items():\n",
    "        if col in df.columns:  # Appliquer le One-Hot uniquement aux colonnes présentes\n",
    "            # Convertir la colonne en Categorical avec les catégories globales\n",
    "            df[col] = pd.Categorical(df[col], categories=categories)\n",
    "            \n",
    "            # Créer un DataFrame avec le One-Hot Encoding en utilisant les catégories globales\n",
    "            dummies = pd.get_dummies(df[col], prefix=col)\n",
    "            \n",
    "            # Ajouter les colonnes dummies et supprimer la colonne originale\n",
    "            df = pd.concat([df, dummies], axis=1).drop(col, axis=1)\n",
    "    \n",
    "    return df\n",
    "\n",
    "# Appliquer One-Hot Encoding pour chaque dataframe\n",
    "X_phy_1 = apply_one_hot_encoding(X_phy_1, cat_dict_all)\n",
    "X_phy_2 = apply_one_hot_encoding(X_phy_2, cat_dict_all)\n",
    "X_phy_3 = apply_one_hot_encoding(X_phy_3, cat_dict_all)\n",
    "X_phy_4 = apply_one_hot_encoding(X_phy_4, cat_dict_all)\n",
    "X_phy_norm = apply_one_hot_encoding(X_phy_norm, cat_dict_all)\n"
   ]
  },
  {
   "cell_type": "code",
   "execution_count": 66,
   "metadata": {},
   "outputs": [
    {
     "name": "stdout",
     "output_type": "stream",
     "text": [
      "(2420, 33)\n",
      "(2104, 33)\n",
      "(1254, 33)\n",
      "(1717, 33)\n",
      "(3428, 33)\n"
     ]
    }
   ],
   "source": [
    "# vérif de la taille des données\n",
    "print(X_phy_1.shape)\n",
    "print(X_phy_2.shape)\n",
    "print(X_phy_3.shape)\n",
    "print(X_phy_4.shape)\n",
    "print(X_phy_norm.shape)"
   ]
  },
  {
   "cell_type": "code",
   "execution_count": 67,
   "metadata": {},
   "outputs": [
    {
     "name": "stdout",
     "output_type": "stream",
     "text": [
      "<class 'pandas.core.frame.DataFrame'>\n",
      "RangeIndex: 2420 entries, 0 to 2419\n",
      "Data columns (total 33 columns):\n",
      " #   Column                   Non-Null Count  Dtype  \n",
      "---  ------                   --------------  -----  \n",
      " 0   Tank_1                   2420 non-null   float64\n",
      " 1   Tank_2                   2420 non-null   float64\n",
      " 2   Tank_3                   2420 non-null   float64\n",
      " 3   Tank_4                   2420 non-null   float64\n",
      " 4   Tank_5                   2420 non-null   float64\n",
      " 5   Tank_6                   2420 non-null   float64\n",
      " 6   Tank_7                   2420 non-null   float64\n",
      " 7   Tank_8                   2420 non-null   float64\n",
      " 8   Pump_1                   2420 non-null   bool   \n",
      " 9   Pump_2                   2420 non-null   bool   \n",
      " 10  Pump_4                   2420 non-null   bool   \n",
      " 11  Pump_5                   2420 non-null   bool   \n",
      " 12  Pump_6                   2420 non-null   bool   \n",
      " 13  Flow_sensor_2            2420 non-null   bool   \n",
      " 14  Flow_sensor_4            2420 non-null   float64\n",
      " 15  Valv_10                  2420 non-null   bool   \n",
      " 16  Valv_11                  2420 non-null   bool   \n",
      " 17  Valv_12                  2420 non-null   bool   \n",
      " 18  Valv_13                  2420 non-null   bool   \n",
      " 19  Valv_14                  2420 non-null   bool   \n",
      " 20  Valv_15                  2420 non-null   bool   \n",
      " 21  Valv_17                  2420 non-null   bool   \n",
      " 22  Valv_18                  2420 non-null   bool   \n",
      " 23  Valv_20                  2420 non-null   bool   \n",
      " 24  Valv_22                  2420 non-null   bool   \n",
      " 25  Flow_sensor_1_0          2420 non-null   bool   \n",
      " 26  Flow_sensor_1_100        2420 non-null   bool   \n",
      " 27  Flow_sensor_1_4000       2420 non-null   bool   \n",
      " 28  dataset_id_dataset_norm  2420 non-null   bool   \n",
      " 29  dataset_id_dataset_1     2420 non-null   bool   \n",
      " 30  dataset_id_dataset_2     2420 non-null   bool   \n",
      " 31  dataset_id_dataset_4     2420 non-null   bool   \n",
      " 32  dataset_id_dataset_3     2420 non-null   bool   \n",
      "dtypes: bool(24), float64(9)\n",
      "memory usage: 227.0 KB\n",
      "None\n",
      "\n",
      "<class 'pandas.core.frame.DataFrame'>\n",
      "RangeIndex: 3428 entries, 0 to 3427\n",
      "Data columns (total 33 columns):\n",
      " #   Column                   Non-Null Count  Dtype  \n",
      "---  ------                   --------------  -----  \n",
      " 0   Tank_1                   3428 non-null   float64\n",
      " 1   Tank_2                   3428 non-null   float64\n",
      " 2   Tank_3                   3428 non-null   float64\n",
      " 3   Tank_4                   3428 non-null   float64\n",
      " 4   Tank_5                   3428 non-null   float64\n",
      " 5   Tank_6                   3428 non-null   float64\n",
      " 6   Tank_7                   3428 non-null   float64\n",
      " 7   Tank_8                   3428 non-null   float64\n",
      " 8   Pump_1                   3428 non-null   bool   \n",
      " 9   Pump_2                   3428 non-null   bool   \n",
      " 10  Pump_4                   3428 non-null   bool   \n",
      " 11  Pump_5                   3428 non-null   bool   \n",
      " 12  Pump_6                   3428 non-null   bool   \n",
      " 13  Flow_sensor_2            3428 non-null   bool   \n",
      " 14  Flow_sensor_4            3428 non-null   float64\n",
      " 15  Valv_10                  3428 non-null   bool   \n",
      " 16  Valv_11                  3428 non-null   bool   \n",
      " 17  Valv_12                  3428 non-null   bool   \n",
      " 18  Valv_13                  3428 non-null   bool   \n",
      " 19  Valv_14                  3428 non-null   bool   \n",
      " 20  Valv_15                  3428 non-null   bool   \n",
      " 21  Valv_17                  3428 non-null   bool   \n",
      " 22  Valv_18                  3428 non-null   bool   \n",
      " 23  Valv_20                  3428 non-null   bool   \n",
      " 24  Valv_22                  3428 non-null   bool   \n",
      " 25  Flow_sensor_1_0          3428 non-null   bool   \n",
      " 26  Flow_sensor_1_100        3428 non-null   bool   \n",
      " 27  Flow_sensor_1_4000       3428 non-null   bool   \n",
      " 28  dataset_id_dataset_norm  3428 non-null   bool   \n",
      " 29  dataset_id_dataset_1     3428 non-null   bool   \n",
      " 30  dataset_id_dataset_2     3428 non-null   bool   \n",
      " 31  dataset_id_dataset_4     3428 non-null   bool   \n",
      " 32  dataset_id_dataset_3     3428 non-null   bool   \n",
      "dtypes: bool(24), float64(9)\n",
      "memory usage: 321.5 KB\n",
      "None\n"
     ]
    }
   ],
   "source": [
    "# vérif info\n",
    "print(X_phy_1.info())\n",
    "print()\n",
    "print(X_phy_norm.info())"
   ]
  },
  {
   "cell_type": "code",
   "execution_count": 68,
   "metadata": {},
   "outputs": [
    {
     "name": "stdout",
     "output_type": "stream",
     "text": [
      "Flow_sensor_1_100\n",
      "False    2104\n",
      "Name: count, dtype: int64\n",
      "dataset_id_dataset_1\n",
      "False    1254\n",
      "Name: count, dtype: int64\n",
      "dataset_id_dataset_3\n",
      "True    1254\n",
      "Name: count, dtype: int64\n"
     ]
    }
   ],
   "source": [
    "print(X_phy_2.value_counts('Flow_sensor_1_100'))\n",
    "# que des False -> ok\n",
    "\n",
    "print(X_phy_3.value_counts('dataset_id_dataset_1'))\n",
    "# que False -> ok\n",
    "\n",
    "print(X_phy_3.value_counts('dataset_id_dataset_3'))\n",
    "# que True -> ok"
   ]
  },
  {
   "cell_type": "code",
   "execution_count": 69,
   "metadata": {},
   "outputs": [
    {
     "data": {
      "text/plain": [
       "{}"
      ]
     },
     "execution_count": 69,
     "metadata": {},
     "output_type": "execute_result"
    }
   ],
   "source": [
    "# Fonction pour récupérer les valeurs uniques de chaque colonne catégorielle à travers tous les datasets\n",
    "def get_unique_values_all_labels(*dfs):\n",
    "    unique_values = {}\n",
    "    \n",
    "    # Combiner tous les datasets\n",
    "    combined_df = pd.concat(dfs, ignore_index=True)\n",
    "    \n",
    "    # Identifier les colonnes catégorielles\n",
    "    for col in combined_df.select_dtypes(include=['object']).columns:\n",
    "        # Ajouter les valeurs uniques de chaque colonne catégorielle\n",
    "        unique_values[col] = combined_df[col].unique()\n",
    "    \n",
    "    return unique_values\n",
    "\n",
    "unique_values = get_unique_values_all_labels(X_phy_1, X_phy_2, X_phy_3, X_phy_4, X_phy_norm)\n",
    "unique_values\n",
    "\n",
    "# plus rien -> ok"
   ]
  },
  {
   "cell_type": "code",
   "execution_count": 70,
   "metadata": {},
   "outputs": [
    {
     "name": "stdout",
     "output_type": "stream",
     "text": [
      "Label\n",
      "normal            1610\n",
      "MITM               533\n",
      "physical fault     277\n",
      "Name: count, dtype: int64\n",
      "Label\n",
      "normal            1798\n",
      "physical fault     123\n",
      "MITM                96\n",
      "DoS                 80\n",
      "scan                 7\n",
      "Name: count, dtype: int64\n"
     ]
    }
   ],
   "source": [
    "print(y_label_phy_1.value_counts())\n",
    "print(y_label_phy_2.value_counts())"
   ]
  },
  {
   "cell_type": "code",
   "execution_count": 71,
   "metadata": {},
   "outputs": [
    {
     "name": "stdout",
     "output_type": "stream",
     "text": [
      "Label\n",
      "normal            8906\n",
      "MITM              1008\n",
      "physical fault     685\n",
      "DoS                310\n",
      "scan                14\n",
      "Name: count, dtype: int64\n",
      "{np.str_('normal'): 0, np.str_('DoS'): 1, np.str_('MITM'): 2, np.str_('physical fault'): 3, np.str_('scan'): 4}\n"
     ]
    }
   ],
   "source": [
    "# Concaténer les labels de tous les datasets\n",
    "all_labels = pd.concat([y_label_phy_1, y_label_phy_2, y_label_phy_3, y_label_phy_4, y_label_phy_norm], ignore_index=True)\n",
    "print(all_labels.value_counts())\n",
    "\n",
    "# Définir explicitement l'ordre des classes, avec 'normal' en premier\n",
    "ordered_classes = ['normal', 'DoS', 'MITM', 'physical fault', 'scan']\n",
    "nb_class = 5\n",
    "\n",
    "# Créer un LabelEncoder et assigner directement l'ordre des classes\n",
    "label_encoder = LabelEncoder()\n",
    "# Assigner les classes manuellement : on force l'ordre pour que normal soit à 0\n",
    "label_encoder.classes_ = np.array(ordered_classes)\n",
    "\n",
    "# Récupérer la correspondance entre les labels d'origine et les labels encodés\n",
    "label_mapping = {label: encoded for label, encoded in zip(label_encoder.classes_, range(len(label_encoder.classes_)))}\n",
    "print(label_mapping)\n",
    "\n",
    "# Appliquer la transformation sur les datasets\n",
    "y_label_phy_1_encoder = label_encoder.transform(df_phy_1['Label'])\n",
    "y_label_phy_2_encoder = label_encoder.transform(df_phy_2['Label'])\n",
    "y_label_phy_3_encoder = label_encoder.transform(df_phy_3['Label'])\n",
    "y_label_phy_4_encoder = label_encoder.transform(df_phy_4['Label'])\n",
    "y_label_phy_norm_encoder = label_encoder.transform(df_phy_norm['Label'])\n",
    "\n",
    "# Convertir en DataFrame\n",
    "y_label_phy_1_df_enc = pd.DataFrame(y_label_phy_1_encoder, columns=['encoded_label'])\n",
    "y_label_phy_2_df_enc = pd.DataFrame(y_label_phy_2_encoder, columns=['encoded_label'])\n",
    "y_label_phy_3_df_enc = pd.DataFrame(y_label_phy_3_encoder, columns=['encoded_label'])\n",
    "y_label_phy_4_df_enc = pd.DataFrame(y_label_phy_4_encoder, columns=['encoded_label'])\n",
    "y_label_phy_norm_df_enc = pd.DataFrame(y_label_phy_norm_encoder, columns=['encoded_label'])"
   ]
  },
  {
   "cell_type": "code",
   "execution_count": 72,
   "metadata": {},
   "outputs": [
    {
     "name": "stdout",
     "output_type": "stream",
     "text": [
      "Label\n",
      "normal            1610\n",
      "MITM               533\n",
      "physical fault     277\n",
      "Name: count, dtype: int64\n",
      "encoded_label\n",
      "0    1610\n",
      "2     533\n",
      "3     277\n",
      "Name: count, dtype: int64\n"
     ]
    }
   ],
   "source": [
    "# Affichage pour vérifier\n",
    "print(y_label_phy_1.value_counts())\n",
    "print(y_label_phy_1_df_enc['encoded_label'].value_counts())\n",
    "# ok -> on écrase y_label_phy_1"
   ]
  },
  {
   "cell_type": "code",
   "execution_count": 73,
   "metadata": {},
   "outputs": [],
   "source": [
    "y_label_phy_1 = y_label_phy_1_df_enc\n",
    "y_label_phy_2 = y_label_phy_2_df_enc\n",
    "y_label_phy_3 = y_label_phy_3_df_enc\n",
    "y_label_phy_4 = y_label_phy_4_df_enc\n",
    "y_label_phy_norm = y_label_phy_norm_df_enc"
   ]
  },
  {
   "cell_type": "code",
   "execution_count": 74,
   "metadata": {},
   "outputs": [
    {
     "name": "stdout",
     "output_type": "stream",
     "text": [
      "(2420, 33)\n",
      "(2420,)\n",
      "(2420, 1)\n"
     ]
    }
   ],
   "source": [
    "print(X_phy_1.shape)\n",
    "print(y_label_n_phy_1.shape)\n",
    "print(y_label_phy_1.shape)"
   ]
  },
  {
   "cell_type": "markdown",
   "metadata": {},
   "source": [
    "## Modélisation pour essayer de détecter les attaques "
   ]
  },
  {
   "cell_type": "markdown",
   "metadata": {},
   "source": [
    "### Prédiction de Label_n "
   ]
  },
  {
   "cell_type": "code",
   "execution_count": 75,
   "metadata": {},
   "outputs": [],
   "source": [
    "def create_sliding_windows(X, y, window_size):\n",
    "    X_windows = []\n",
    "    y_windows = []\n",
    "\n",
    "    for i in range(len(X) - window_size):\n",
    "        X_windows.append(X.iloc[i:i + window_size])  \n",
    "        y_windows.append(y.iloc[i + window_size])   \n",
    "\n",
    "    return np.array(X_windows), np.array(y_windows)"
   ]
  },
  {
   "cell_type": "code",
   "execution_count": 76,
   "metadata": {},
   "outputs": [],
   "source": [
    "window_size = 10 # TODO : déterminer 10 secondes via viz ? sinon changer la valeur\n",
    "\n",
    "# Créer des fenêtres glissantes pour X et y\n",
    "X_windows_phy_1, y_windows_label_n_phy_1 = create_sliding_windows(X_phy_1, y_label_n_phy_1, window_size)\n",
    "X_windows_phy_2, y_windows_label_n_phy_2 = create_sliding_windows(X_phy_2, y_label_n_phy_2, window_size)\n",
    "X_windows_phy_3, y_windows_label_n_phy_3 = create_sliding_windows(X_phy_3, y_label_n_phy_3, window_size)\n",
    "X_windows_phy_4, y_windows_label_n_phy_4 = create_sliding_windows(X_phy_4, y_label_n_phy_4, window_size)\n",
    "X_windows_phy_norm, y_windows_label_n_phy_norm = create_sliding_windows(X_phy_norm, y_label_n_phy_norm, window_size)"
   ]
  },
  {
   "cell_type": "code",
   "execution_count": 77,
   "metadata": {},
   "outputs": [
    {
     "name": "stdout",
     "output_type": "stream",
     "text": [
      "(2410, 10, 33)\n",
      "(2410,)\n",
      "(2094, 10, 33)\n",
      "(2094,)\n",
      "(1244, 10, 33)\n",
      "(1244,)\n",
      "(1707, 10, 33)\n",
      "(1707,)\n",
      "(3418, 10, 33)\n",
      "(3418,)\n"
     ]
    }
   ],
   "source": [
    "# Vérifier la forme des données\n",
    "print(X_windows_phy_1.shape)  # (nombre d'échantillons, window_size, nombre de features)\n",
    "print(y_windows_label_n_phy_1.shape)  # (nombre d'échantillons,)\n",
    "\n",
    "print(X_windows_phy_2.shape)\n",
    "print(y_windows_label_n_phy_2.shape)\n",
    "\n",
    "print(X_windows_phy_3.shape)\n",
    "print(y_windows_label_n_phy_3.shape)\n",
    "\n",
    "print(X_windows_phy_4.shape)\n",
    "print(y_windows_label_n_phy_4.shape)\n",
    "\n",
    "print(X_windows_phy_norm.shape)\n",
    "print(y_windows_label_n_phy_norm.shape)"
   ]
  },
  {
   "cell_type": "code",
   "execution_count": 78,
   "metadata": {},
   "outputs": [
    {
     "name": "stdout",
     "output_type": "stream",
     "text": [
      "Shape of X_all: (10873, 10, 33)\n",
      "Shape of y_all: (10873,)\n"
     ]
    }
   ],
   "source": [
    "# concaténer les données\n",
    "\n",
    "X_all = np.concatenate([X_windows_phy_1, X_windows_phy_2, X_windows_phy_3, X_windows_phy_4, X_windows_phy_norm], axis=0)\n",
    "y_all = np.concatenate([y_windows_label_n_phy_1, y_windows_label_n_phy_2, y_windows_label_n_phy_3, y_windows_label_n_phy_4, y_windows_label_n_phy_norm], axis=0)\n",
    "\n",
    "# Vérifier la forme des données après concaténation\n",
    "print(\"Shape of X_all:\", X_all.shape)  # (nombre d'échantillons, window_size, nombre de features)\n",
    "print(\"Shape of y_all:\", y_all.shape)  # (nombre d'échantillons,)"
   ]
  },
  {
   "cell_type": "code",
   "execution_count": 79,
   "metadata": {},
   "outputs": [],
   "source": [
    "# Convertir les colonnes booléennes de X_train et X_test en float32\n",
    "X_all = X_all.astype('float64')\n",
    "y_all = y_all.astype('float64')"
   ]
  },
  {
   "cell_type": "code",
   "execution_count": 80,
   "metadata": {},
   "outputs": [],
   "source": [
    "# division en train et test\n",
    "X_train, X_test, y_train, y_test = train_test_split(X_all, y_all, test_size=0.2, random_state=42)"
   ]
  },
  {
   "cell_type": "code",
   "execution_count": 81,
   "metadata": {},
   "outputs": [
    {
     "name": "stdout",
     "output_type": "stream",
     "text": [
      "<class 'numpy.ndarray'> float64\n",
      "<class 'numpy.ndarray'> float64\n"
     ]
    }
   ],
   "source": [
    "print(type(X_train), X_train.dtype)\n",
    "print(type(y_train), y_train.dtype)"
   ]
  },
  {
   "cell_type": "code",
   "execution_count": 82,
   "metadata": {},
   "outputs": [
    {
     "name": "stderr",
     "output_type": "stream",
     "text": [
      "/home/zoe/.local/lib/python3.10/site-packages/keras/src/layers/convolutional/base_conv.py:107: UserWarning: Do not pass an `input_shape`/`input_dim` argument to a layer. When using Sequential models, prefer using an `Input(shape)` object as the first layer in the model instead.\n",
      "  super().__init__(activity_regularizer=activity_regularizer, **kwargs)\n"
     ]
    }
   ],
   "source": [
    "# Définir et entraîner le modèle CNN 1D\n",
    "model = Sequential()\n",
    "\n",
    "# Ajouter une couche Conv1D\n",
    "model.add(Conv1D(filters=64, kernel_size=3, activation='relu', input_shape=(X_train.shape[1], X_train.shape[2])))\n",
    "model.add(MaxPooling1D(pool_size=2))\n",
    "\n",
    "# Ajouter d'autres couches convolutives si nécessaire\n",
    "model.add(Conv1D(filters=128, kernel_size=3, activation='relu'))\n",
    "model.add(MaxPooling1D(pool_size=2))\n",
    "\n",
    "# Aplatir les sorties pour les couches fully connected\n",
    "model.add(Flatten())\n",
    "\n",
    "# Ajouter une couche Dense pour la classification binaire\n",
    "model.add(Dense(64, activation='relu'))\n",
    "model.add(Dense(1, activation='sigmoid'))  # Une sortie avec activation sigmoïde pour classification binaire\n",
    "\n",
    "# Compiler le modèle : binary_crossentropy pour une classification binaire\n",
    "model.compile(optimizer='adam', loss='binary_crossentropy', metrics=['accuracy'])\n",
    "\n",
    "# Mise en place de l'EarlyStopping\n",
    "early_stopping = EarlyStopping(monitor='val_loss', patience=10, restore_best_weights=True)"
   ]
  },
  {
   "cell_type": "code",
   "execution_count": 83,
   "metadata": {},
   "outputs": [
    {
     "name": "stdout",
     "output_type": "stream",
     "text": [
      "Epoch 1/100\n",
      "\u001b[1m272/272\u001b[0m \u001b[32m━━━━━━━━━━━━━━━━━━━━\u001b[0m\u001b[37m\u001b[0m \u001b[1m3s\u001b[0m 5ms/step - accuracy: 0.8340 - loss: 0.3837 - val_accuracy: 0.8699 - val_loss: 0.2725\n",
      "Epoch 2/100\n",
      "\u001b[1m272/272\u001b[0m \u001b[32m━━━━━━━━━━━━━━━━━━━━\u001b[0m\u001b[37m\u001b[0m \u001b[1m1s\u001b[0m 4ms/step - accuracy: 0.9033 - loss: 0.2196 - val_accuracy: 0.9099 - val_loss: 0.2024\n",
      "Epoch 3/100\n",
      "\u001b[1m272/272\u001b[0m \u001b[32m━━━━━━━━━━━━━━━━━━━━\u001b[0m\u001b[37m\u001b[0m \u001b[1m1s\u001b[0m 4ms/step - accuracy: 0.9242 - loss: 0.1696 - val_accuracy: 0.9241 - val_loss: 0.1710\n",
      "Epoch 4/100\n",
      "\u001b[1m272/272\u001b[0m \u001b[32m━━━━━━━━━━━━━━━━━━━━\u001b[0m\u001b[37m\u001b[0m \u001b[1m1s\u001b[0m 4ms/step - accuracy: 0.9393 - loss: 0.1432 - val_accuracy: 0.9430 - val_loss: 0.1338\n",
      "Epoch 5/100\n",
      "\u001b[1m272/272\u001b[0m \u001b[32m━━━━━━━━━━━━━━━━━━━━\u001b[0m\u001b[37m\u001b[0m \u001b[1m1s\u001b[0m 4ms/step - accuracy: 0.9474 - loss: 0.1266 - val_accuracy: 0.9517 - val_loss: 0.1153\n",
      "Epoch 6/100\n",
      "\u001b[1m272/272\u001b[0m \u001b[32m━━━━━━━━━━━━━━━━━━━━\u001b[0m\u001b[37m\u001b[0m \u001b[1m1s\u001b[0m 4ms/step - accuracy: 0.9517 - loss: 0.1133 - val_accuracy: 0.9545 - val_loss: 0.1051\n",
      "Epoch 7/100\n",
      "\u001b[1m272/272\u001b[0m \u001b[32m━━━━━━━━━━━━━━━━━━━━\u001b[0m\u001b[37m\u001b[0m \u001b[1m1s\u001b[0m 4ms/step - accuracy: 0.9558 - loss: 0.1021 - val_accuracy: 0.9513 - val_loss: 0.1094\n",
      "Epoch 8/100\n",
      "\u001b[1m272/272\u001b[0m \u001b[32m━━━━━━━━━━━━━━━━━━━━\u001b[0m\u001b[37m\u001b[0m \u001b[1m1s\u001b[0m 4ms/step - accuracy: 0.9616 - loss: 0.0942 - val_accuracy: 0.9522 - val_loss: 0.1105\n",
      "Epoch 9/100\n",
      "\u001b[1m272/272\u001b[0m \u001b[32m━━━━━━━━━━━━━━━━━━━━\u001b[0m\u001b[37m\u001b[0m \u001b[1m1s\u001b[0m 4ms/step - accuracy: 0.9624 - loss: 0.0900 - val_accuracy: 0.9586 - val_loss: 0.1011\n",
      "Epoch 10/100\n",
      "\u001b[1m272/272\u001b[0m \u001b[32m━━━━━━━━━━━━━━━━━━━━\u001b[0m\u001b[37m\u001b[0m \u001b[1m1s\u001b[0m 4ms/step - accuracy: 0.9651 - loss: 0.0815 - val_accuracy: 0.9540 - val_loss: 0.1150\n",
      "Epoch 11/100\n",
      "\u001b[1m272/272\u001b[0m \u001b[32m━━━━━━━━━━━━━━━━━━━━\u001b[0m\u001b[37m\u001b[0m \u001b[1m1s\u001b[0m 4ms/step - accuracy: 0.9685 - loss: 0.0783 - val_accuracy: 0.9572 - val_loss: 0.0904\n",
      "Epoch 12/100\n",
      "\u001b[1m272/272\u001b[0m \u001b[32m━━━━━━━━━━━━━━━━━━━━\u001b[0m\u001b[37m\u001b[0m \u001b[1m1s\u001b[0m 4ms/step - accuracy: 0.9674 - loss: 0.0807 - val_accuracy: 0.9568 - val_loss: 0.0939\n",
      "Epoch 13/100\n",
      "\u001b[1m272/272\u001b[0m \u001b[32m━━━━━━━━━━━━━━━━━━━━\u001b[0m\u001b[37m\u001b[0m \u001b[1m1s\u001b[0m 4ms/step - accuracy: 0.9707 - loss: 0.0744 - val_accuracy: 0.9632 - val_loss: 0.0914\n",
      "Epoch 14/100\n",
      "\u001b[1m272/272\u001b[0m \u001b[32m━━━━━━━━━━━━━━━━━━━━\u001b[0m\u001b[37m\u001b[0m \u001b[1m1s\u001b[0m 4ms/step - accuracy: 0.9727 - loss: 0.0672 - val_accuracy: 0.9614 - val_loss: 0.0948\n",
      "Epoch 15/100\n",
      "\u001b[1m272/272\u001b[0m \u001b[32m━━━━━━━━━━━━━━━━━━━━\u001b[0m\u001b[37m\u001b[0m \u001b[1m1s\u001b[0m 4ms/step - accuracy: 0.9705 - loss: 0.0708 - val_accuracy: 0.9669 - val_loss: 0.0771\n",
      "Epoch 16/100\n",
      "\u001b[1m272/272\u001b[0m \u001b[32m━━━━━━━━━━━━━━━━━━━━\u001b[0m\u001b[37m\u001b[0m \u001b[1m1s\u001b[0m 4ms/step - accuracy: 0.9735 - loss: 0.0618 - val_accuracy: 0.9683 - val_loss: 0.0840\n",
      "Epoch 17/100\n",
      "\u001b[1m272/272\u001b[0m \u001b[32m━━━━━━━━━━━━━━━━━━━━\u001b[0m\u001b[37m\u001b[0m \u001b[1m1s\u001b[0m 4ms/step - accuracy: 0.9741 - loss: 0.0620 - val_accuracy: 0.9720 - val_loss: 0.0753\n",
      "Epoch 18/100\n",
      "\u001b[1m272/272\u001b[0m \u001b[32m━━━━━━━━━━━━━━━━━━━━\u001b[0m\u001b[37m\u001b[0m \u001b[1m1s\u001b[0m 4ms/step - accuracy: 0.9747 - loss: 0.0588 - val_accuracy: 0.9720 - val_loss: 0.0821\n",
      "Epoch 19/100\n",
      "\u001b[1m272/272\u001b[0m \u001b[32m━━━━━━━━━━━━━━━━━━━━\u001b[0m\u001b[37m\u001b[0m \u001b[1m1s\u001b[0m 4ms/step - accuracy: 0.9769 - loss: 0.0561 - val_accuracy: 0.9660 - val_loss: 0.0887\n",
      "Epoch 20/100\n",
      "\u001b[1m272/272\u001b[0m \u001b[32m━━━━━━━━━━━━━━━━━━━━\u001b[0m\u001b[37m\u001b[0m \u001b[1m1s\u001b[0m 4ms/step - accuracy: 0.9748 - loss: 0.0602 - val_accuracy: 0.9724 - val_loss: 0.0670\n",
      "Epoch 21/100\n",
      "\u001b[1m272/272\u001b[0m \u001b[32m━━━━━━━━━━━━━━━━━━━━\u001b[0m\u001b[37m\u001b[0m \u001b[1m1s\u001b[0m 4ms/step - accuracy: 0.9761 - loss: 0.0572 - val_accuracy: 0.9743 - val_loss: 0.0695\n",
      "Epoch 22/100\n",
      "\u001b[1m272/272\u001b[0m \u001b[32m━━━━━━━━━━━━━━━━━━━━\u001b[0m\u001b[37m\u001b[0m \u001b[1m1s\u001b[0m 4ms/step - accuracy: 0.9807 - loss: 0.0483 - val_accuracy: 0.9733 - val_loss: 0.0615\n",
      "Epoch 23/100\n",
      "\u001b[1m272/272\u001b[0m \u001b[32m━━━━━━━━━━━━━━━━━━━━\u001b[0m\u001b[37m\u001b[0m \u001b[1m1s\u001b[0m 4ms/step - accuracy: 0.9750 - loss: 0.0575 - val_accuracy: 0.9687 - val_loss: 0.0836\n",
      "Epoch 24/100\n",
      "\u001b[1m272/272\u001b[0m \u001b[32m━━━━━━━━━━━━━━━━━━━━\u001b[0m\u001b[37m\u001b[0m \u001b[1m1s\u001b[0m 4ms/step - accuracy: 0.9798 - loss: 0.0483 - val_accuracy: 0.9720 - val_loss: 0.0762\n",
      "Epoch 25/100\n",
      "\u001b[1m272/272\u001b[0m \u001b[32m━━━━━━━━━━━━━━━━━━━━\u001b[0m\u001b[37m\u001b[0m \u001b[1m1s\u001b[0m 4ms/step - accuracy: 0.9802 - loss: 0.0499 - val_accuracy: 0.9733 - val_loss: 0.0675\n",
      "Epoch 26/100\n",
      "\u001b[1m272/272\u001b[0m \u001b[32m━━━━━━━━━━━━━━━━━━━━\u001b[0m\u001b[37m\u001b[0m \u001b[1m1s\u001b[0m 4ms/step - accuracy: 0.9810 - loss: 0.0481 - val_accuracy: 0.9697 - val_loss: 0.0908\n",
      "Epoch 27/100\n",
      "\u001b[1m272/272\u001b[0m \u001b[32m━━━━━━━━━━━━━━━━━━━━\u001b[0m\u001b[37m\u001b[0m \u001b[1m1s\u001b[0m 4ms/step - accuracy: 0.9800 - loss: 0.0469 - val_accuracy: 0.9761 - val_loss: 0.0607\n",
      "Epoch 28/100\n",
      "\u001b[1m272/272\u001b[0m \u001b[32m━━━━━━━━━━━━━━━━━━━━\u001b[0m\u001b[37m\u001b[0m \u001b[1m1s\u001b[0m 4ms/step - accuracy: 0.9798 - loss: 0.0474 - val_accuracy: 0.9738 - val_loss: 0.0696\n",
      "Epoch 29/100\n",
      "\u001b[1m272/272\u001b[0m \u001b[32m━━━━━━━━━━━━━━━━━━━━\u001b[0m\u001b[37m\u001b[0m \u001b[1m1s\u001b[0m 4ms/step - accuracy: 0.9795 - loss: 0.0487 - val_accuracy: 0.9775 - val_loss: 0.0580\n",
      "Epoch 30/100\n",
      "\u001b[1m272/272\u001b[0m \u001b[32m━━━━━━━━━━━━━━━━━━━━\u001b[0m\u001b[37m\u001b[0m \u001b[1m1s\u001b[0m 4ms/step - accuracy: 0.9812 - loss: 0.0423 - val_accuracy: 0.9729 - val_loss: 0.0637\n",
      "Epoch 31/100\n",
      "\u001b[1m272/272\u001b[0m \u001b[32m━━━━━━━━━━━━━━━━━━━━\u001b[0m\u001b[37m\u001b[0m \u001b[1m1s\u001b[0m 4ms/step - accuracy: 0.9791 - loss: 0.0457 - val_accuracy: 0.9770 - val_loss: 0.0572\n",
      "Epoch 32/100\n",
      "\u001b[1m272/272\u001b[0m \u001b[32m━━━━━━━━━━━━━━━━━━━━\u001b[0m\u001b[37m\u001b[0m \u001b[1m1s\u001b[0m 4ms/step - accuracy: 0.9828 - loss: 0.0361 - val_accuracy: 0.9798 - val_loss: 0.0559\n",
      "Epoch 33/100\n",
      "\u001b[1m272/272\u001b[0m \u001b[32m━━━━━━━━━━━━━━━━━━━━\u001b[0m\u001b[37m\u001b[0m \u001b[1m1s\u001b[0m 4ms/step - accuracy: 0.9816 - loss: 0.0448 - val_accuracy: 0.9752 - val_loss: 0.0557\n",
      "Epoch 34/100\n",
      "\u001b[1m272/272\u001b[0m \u001b[32m━━━━━━━━━━━━━━━━━━━━\u001b[0m\u001b[37m\u001b[0m \u001b[1m1s\u001b[0m 4ms/step - accuracy: 0.9828 - loss: 0.0463 - val_accuracy: 0.9766 - val_loss: 0.0531\n",
      "Epoch 35/100\n",
      "\u001b[1m272/272\u001b[0m \u001b[32m━━━━━━━━━━━━━━━━━━━━\u001b[0m\u001b[37m\u001b[0m \u001b[1m1s\u001b[0m 4ms/step - accuracy: 0.9834 - loss: 0.0421 - val_accuracy: 0.9784 - val_loss: 0.0606\n",
      "Epoch 36/100\n",
      "\u001b[1m272/272\u001b[0m \u001b[32m━━━━━━━━━━━━━━━━━━━━\u001b[0m\u001b[37m\u001b[0m \u001b[1m1s\u001b[0m 4ms/step - accuracy: 0.9800 - loss: 0.0469 - val_accuracy: 0.9724 - val_loss: 0.0647\n",
      "Epoch 37/100\n",
      "\u001b[1m272/272\u001b[0m \u001b[32m━━━━━━━━━━━━━━━━━━━━\u001b[0m\u001b[37m\u001b[0m \u001b[1m1s\u001b[0m 4ms/step - accuracy: 0.9826 - loss: 0.0402 - val_accuracy: 0.9766 - val_loss: 0.0606\n",
      "Epoch 38/100\n",
      "\u001b[1m272/272\u001b[0m \u001b[32m━━━━━━━━━━━━━━━━━━━━\u001b[0m\u001b[37m\u001b[0m \u001b[1m1s\u001b[0m 4ms/step - accuracy: 0.9825 - loss: 0.0408 - val_accuracy: 0.9701 - val_loss: 0.0785\n",
      "Epoch 39/100\n",
      "\u001b[1m272/272\u001b[0m \u001b[32m━━━━━━━━━━━━━━━━━━━━\u001b[0m\u001b[37m\u001b[0m \u001b[1m1s\u001b[0m 4ms/step - accuracy: 0.9838 - loss: 0.0414 - val_accuracy: 0.9770 - val_loss: 0.0525\n",
      "Epoch 40/100\n",
      "\u001b[1m272/272\u001b[0m \u001b[32m━━━━━━━━━━━━━━━━━━━━\u001b[0m\u001b[37m\u001b[0m \u001b[1m1s\u001b[0m 4ms/step - accuracy: 0.9833 - loss: 0.0412 - val_accuracy: 0.9752 - val_loss: 0.0538\n",
      "Epoch 41/100\n",
      "\u001b[1m272/272\u001b[0m \u001b[32m━━━━━━━━━━━━━━━━━━━━\u001b[0m\u001b[37m\u001b[0m \u001b[1m1s\u001b[0m 4ms/step - accuracy: 0.9836 - loss: 0.0389 - val_accuracy: 0.9710 - val_loss: 0.0762\n",
      "Epoch 42/100\n",
      "\u001b[1m272/272\u001b[0m \u001b[32m━━━━━━━━━━━━━━━━━━━━\u001b[0m\u001b[37m\u001b[0m \u001b[1m1s\u001b[0m 4ms/step - accuracy: 0.9820 - loss: 0.0467 - val_accuracy: 0.9687 - val_loss: 0.0705\n",
      "Epoch 43/100\n",
      "\u001b[1m272/272\u001b[0m \u001b[32m━━━━━━━━━━━━━━━━━━━━\u001b[0m\u001b[37m\u001b[0m \u001b[1m1s\u001b[0m 4ms/step - accuracy: 0.9835 - loss: 0.0395 - val_accuracy: 0.9747 - val_loss: 0.0608\n",
      "Epoch 44/100\n",
      "\u001b[1m272/272\u001b[0m \u001b[32m━━━━━━━━━━━━━━━━━━━━\u001b[0m\u001b[37m\u001b[0m \u001b[1m1s\u001b[0m 4ms/step - accuracy: 0.9865 - loss: 0.0357 - val_accuracy: 0.9775 - val_loss: 0.0581\n",
      "Epoch 45/100\n",
      "\u001b[1m272/272\u001b[0m \u001b[32m━━━━━━━━━━━━━━━━━━━━\u001b[0m\u001b[37m\u001b[0m \u001b[1m1s\u001b[0m 4ms/step - accuracy: 0.9860 - loss: 0.0327 - val_accuracy: 0.9761 - val_loss: 0.0684\n",
      "Epoch 46/100\n",
      "\u001b[1m272/272\u001b[0m \u001b[32m━━━━━━━━━━━━━━━━━━━━\u001b[0m\u001b[37m\u001b[0m \u001b[1m1s\u001b[0m 4ms/step - accuracy: 0.9889 - loss: 0.0331 - val_accuracy: 0.9770 - val_loss: 0.0603\n",
      "Epoch 47/100\n",
      "\u001b[1m272/272\u001b[0m \u001b[32m━━━━━━━━━━━━━━━━━━━━\u001b[0m\u001b[37m\u001b[0m \u001b[1m1s\u001b[0m 4ms/step - accuracy: 0.9853 - loss: 0.0374 - val_accuracy: 0.9775 - val_loss: 0.0591\n",
      "Epoch 48/100\n",
      "\u001b[1m272/272\u001b[0m \u001b[32m━━━━━━━━━━━━━━━━━━━━\u001b[0m\u001b[37m\u001b[0m \u001b[1m1s\u001b[0m 4ms/step - accuracy: 0.9875 - loss: 0.0338 - val_accuracy: 0.9779 - val_loss: 0.0551\n",
      "Epoch 49/100\n",
      "\u001b[1m272/272\u001b[0m \u001b[32m━━━━━━━━━━━━━━━━━━━━\u001b[0m\u001b[37m\u001b[0m \u001b[1m1s\u001b[0m 4ms/step - accuracy: 0.9855 - loss: 0.0369 - val_accuracy: 0.9802 - val_loss: 0.0602\n"
     ]
    }
   ],
   "source": [
    "# Mesurer le temps et la mémoire pour l'entraînement\n",
    "start_fit_time = time.time()\n",
    "fit_memory_before = memory_profiler.memory_usage()[0]\n",
    "\n",
    "# Entraîner le modèle\n",
    "history = model.fit(\n",
    "    X_train, y_train,\n",
    "    epochs=100,\n",
    "    batch_size=32,\n",
    "    validation_data=(X_test, y_test),\n",
    "    callbacks=[early_stopping]\n",
    ")\n",
    "\n",
    "fit_time = time.time() - start_fit_time\n",
    "fit_memory_after = memory_profiler.memory_usage()[0]\n",
    "fit_memory_usage = fit_memory_after - fit_memory_before"
   ]
  },
  {
   "cell_type": "code",
   "execution_count": 84,
   "metadata": {},
   "outputs": [
    {
     "name": "stdout",
     "output_type": "stream",
     "text": [
      "\u001b[1m68/68\u001b[0m \u001b[32m━━━━━━━━━━━━━━━━━━━━\u001b[0m\u001b[37m\u001b[0m \u001b[1m0s\u001b[0m 3ms/step\n"
     ]
    }
   ],
   "source": [
    "# Mesurer le temps et la mémoire pour la prédiction\n",
    "start_predict_time = time.time()\n",
    "pred_memory_before = memory_profiler.memory_usage()[0]\n",
    "\n",
    "# Prédire sur le jeu de test\n",
    "y_pred_proba = model.predict(X_test)\n",
    "y_pred = (y_pred_proba > 0.5).astype(int).flatten()  # Convertir les probabilités en classes binaires (True/False)\n",
    "\n",
    "predict_time = time.time() - start_predict_time\n",
    "pred_memory_after = memory_profiler.memory_usage()[0]\n",
    "predict_memory_usage = pred_memory_after - pred_memory_before"
   ]
  },
  {
   "cell_type": "code",
   "execution_count": 85,
   "metadata": {},
   "outputs": [],
   "source": [
    "# Calculer les métriques de classification\n",
    "conf_matrix = confusion_matrix(y_test, y_pred)\n",
    "TN, FP, FN, TP = conf_matrix.ravel() # attention c'est dans cet ordre !\n",
    "\n",
    "precision = precision_score(y_test, y_pred)\n",
    "recall_tpr = recall_score(y_test, y_pred)\n",
    "tnr = TN / (TN + FP) if (TN + FP) != 0 else 0\n",
    "fpr = FP / (FP + TN) if (FP + TN) != 0 else 0\n",
    "accuracy = accuracy_score(y_test, y_pred)\n",
    "\n",
    "f1 = f1_score(y_test, y_pred)\n",
    "balanced_acc = balanced_accuracy_score(y_test, y_pred)\n",
    "mcc = matthews_corrcoef(y_test, y_pred)\n",
    "\n",
    "results_cnn1d_label_n = {\n",
    "    'data': 'PHY',\n",
    "    'model_type': 'CNN 1D',\n",
    "    'attack_type': 'labeln',\n",
    "    'confusion_matrix': conf_matrix,\n",
    "    'precision': precision,\n",
    "    'recall': recall_tpr,\n",
    "    'tnr': tnr,\n",
    "    'fpr': fpr,\n",
    "    'accuracy': accuracy,\n",
    "    'f1': f1,\n",
    "    'balanced_accuracy': balanced_acc,\n",
    "    'mcc': mcc,\n",
    "    'fit_time': fit_time,\n",
    "    'predict_time': predict_time,\n",
    "    'fit_memory_usage': fit_memory_usage,\n",
    "    'predict_memory_usage': predict_memory_usage\n",
    "}"
   ]
  },
  {
   "cell_type": "code",
   "execution_count": 86,
   "metadata": {},
   "outputs": [
    {
     "name": "stdout",
     "output_type": "stream",
     "text": [
      "Évaluation complète du modèle:\n",
      "data: PHY\n",
      "model_type: CNN 1D\n",
      "attack_type: labeln\n",
      "confusion_matrix: [[1759   22]\n",
      " [  28  366]]\n",
      "precision: 0.9432989690721649\n",
      "recall: 0.9289340101522843\n",
      "tnr: 0.9876473891072431\n",
      "fpr: 0.012352610892756879\n",
      "accuracy: 0.9770114942528736\n",
      "f1: 0.9360613810741688\n",
      "balanced_accuracy: 0.9582906996297638\n",
      "mcc: 0.9220892760704508\n",
      "fit_time: 55.926172494888306\n",
      "predict_time: 0.4510812759399414\n",
      "fit_memory_usage: -28.0859375\n",
      "predict_memory_usage: 0.15625\n"
     ]
    }
   ],
   "source": [
    "# Afficher les résultats\n",
    "print(\"Évaluation complète du modèle:\")\n",
    "for metric, value in results_cnn1d_label_n.items():\n",
    "    print(f\"{metric}: {value}\")"
   ]
  },
  {
   "cell_type": "code",
   "execution_count": 87,
   "metadata": {},
   "outputs": [],
   "source": [
    "# sauvegarder dans PickleShareDB\n",
    "db['PHY_results_cnn1d_labeln'] = results_cnn1d_label_n"
   ]
  },
  {
   "cell_type": "markdown",
   "metadata": {},
   "source": [
    "### Prédiction de Label\n"
   ]
  },
  {
   "cell_type": "code",
   "execution_count": 88,
   "metadata": {},
   "outputs": [],
   "source": [
    "window_size = 10 # TODO : déterminer 10 secondes via viz ? sinon changer la valeur\n",
    "\n",
    "# Créer des fenêtres glissantes pour X et y\n",
    "X_windows_phy_1, y_windows_label_phy_1 = create_sliding_windows(X_phy_1, y_label_phy_1, window_size)\n",
    "X_windows_phy_2, y_windows_label_phy_2 = create_sliding_windows(X_phy_2, y_label_phy_2, window_size)\n",
    "X_windows_phy_3, y_windows_label_phy_3 = create_sliding_windows(X_phy_3, y_label_phy_3, window_size)\n",
    "X_windows_phy_4, y_windows_label_phy_4 = create_sliding_windows(X_phy_4, y_label_phy_4, window_size)\n",
    "X_windows_phy_norm, y_windows_label_phy_norm = create_sliding_windows(X_phy_norm, y_label_phy_norm, window_size)"
   ]
  },
  {
   "cell_type": "code",
   "execution_count": 89,
   "metadata": {},
   "outputs": [
    {
     "name": "stdout",
     "output_type": "stream",
     "text": [
      "(2410, 10, 33)\n",
      "(2410, 1)\n",
      "(2094, 10, 33)\n",
      "(2094, 1)\n",
      "(1244, 10, 33)\n",
      "(1244, 1)\n",
      "(1707, 10, 33)\n",
      "(1707, 1)\n",
      "(3418, 10, 33)\n",
      "(3418, 1)\n"
     ]
    }
   ],
   "source": [
    "# Vérifier la forme des données\n",
    "print(X_windows_phy_1.shape)  # (nombre d'échantillons, window_size, nombre de features)\n",
    "print(y_windows_label_phy_1.shape)  # (nombre d'échantillons,)\n",
    "\n",
    "print(X_windows_phy_2.shape)\n",
    "print(y_windows_label_phy_2.shape)\n",
    "\n",
    "print(X_windows_phy_3.shape)\n",
    "print(y_windows_label_phy_3.shape)\n",
    "\n",
    "print(X_windows_phy_4.shape)\n",
    "print(y_windows_label_phy_4.shape)\n",
    "\n",
    "print(X_windows_phy_norm.shape)\n",
    "print(y_windows_label_phy_norm.shape)"
   ]
  },
  {
   "cell_type": "code",
   "execution_count": 90,
   "metadata": {},
   "outputs": [
    {
     "name": "stdout",
     "output_type": "stream",
     "text": [
      "Shape of X_all: (10873, 10, 33)\n",
      "Shape of y_all: (10873, 1)\n"
     ]
    }
   ],
   "source": [
    "# concaténer les données\n",
    "\n",
    "X_all = np.concatenate([X_windows_phy_1, X_windows_phy_2, X_windows_phy_3, X_windows_phy_4, X_windows_phy_norm], axis=0)\n",
    "y_all = np.concatenate([y_windows_label_phy_1, y_windows_label_phy_2, y_windows_label_phy_3, y_windows_label_phy_4, y_windows_label_phy_norm], axis=0)\n",
    "\n",
    "# Vérifier la forme des données après concaténation\n",
    "print(\"Shape of X_all:\", X_all.shape)  # (nombre d'échantillons, window_size, nombre de features)\n",
    "print(\"Shape of y_all:\", y_all.shape)  # (nombre d'échantillons,)"
   ]
  },
  {
   "cell_type": "code",
   "execution_count": 91,
   "metadata": {},
   "outputs": [],
   "source": [
    "# Convertir les colonnes booléennes de X_train et X_test en float32\n",
    "X_all = X_all.astype('float64')\n",
    "y_all = y_all.astype('float64')"
   ]
  },
  {
   "cell_type": "code",
   "execution_count": 92,
   "metadata": {},
   "outputs": [],
   "source": [
    "# division en train et test\n",
    "X_train, X_test, y_train, y_test = train_test_split(X_all, y_all, test_size=0.2, random_state=42)"
   ]
  },
  {
   "cell_type": "code",
   "execution_count": 93,
   "metadata": {},
   "outputs": [
    {
     "name": "stderr",
     "output_type": "stream",
     "text": [
      "/home/zoe/.local/lib/python3.10/site-packages/keras/src/layers/convolutional/base_conv.py:107: UserWarning: Do not pass an `input_shape`/`input_dim` argument to a layer. When using Sequential models, prefer using an `Input(shape)` object as the first layer in the model instead.\n",
      "  super().__init__(activity_regularizer=activity_regularizer, **kwargs)\n"
     ]
    }
   ],
   "source": [
    "# Définir et entraîner le modèle CNN 1D\n",
    "model = Sequential()\n",
    "\n",
    "# Ajouter une couche Conv1D\n",
    "model.add(Conv1D(filters=64, kernel_size=3, activation='relu', input_shape=(X_train.shape[1], X_train.shape[2])))\n",
    "model.add(MaxPooling1D(pool_size=2))\n",
    "\n",
    "# Ajouter d'autres couches convolutives si nécessaire\n",
    "model.add(Conv1D(filters=128, kernel_size=3, activation='relu'))\n",
    "model.add(MaxPooling1D(pool_size=2))\n",
    "\n",
    "# Aplatir les sorties pour les couches fully connected\n",
    "model.add(Flatten())\n",
    "\n",
    "# Ajouter une couche Dense pour la classification multiclasse\n",
    "model.add(Dense(nb_class, activation='softmax'))  # Une sortie avec activation softmax pour classification multiclasse\n",
    "\n",
    "# Compiler le modèle : sparse_categorical_crossentropy pour une classification multiclasse\n",
    "model.compile(optimizer='adam', loss='sparse_categorical_crossentropy', metrics=['accuracy'])\n",
    "\n",
    "# Mise en place de l'EarlyStopping\n",
    "early_stopping = EarlyStopping(monitor='val_loss', patience=10, restore_best_weights=True)"
   ]
  },
  {
   "cell_type": "code",
   "execution_count": 94,
   "metadata": {},
   "outputs": [
    {
     "name": "stdout",
     "output_type": "stream",
     "text": [
      "Epoch 1/100\n",
      "\u001b[1m272/272\u001b[0m \u001b[32m━━━━━━━━━━━━━━━━━━━━\u001b[0m\u001b[37m\u001b[0m \u001b[1m2s\u001b[0m 5ms/step - accuracy: 0.8020 - loss: 0.6100 - val_accuracy: 0.8469 - val_loss: 0.3309\n",
      "Epoch 2/100\n",
      "\u001b[1m272/272\u001b[0m \u001b[32m━━━━━━━━━━━━━━━━━━━━\u001b[0m\u001b[37m\u001b[0m \u001b[1m1s\u001b[0m 4ms/step - accuracy: 0.8875 - loss: 0.2841 - val_accuracy: 0.8828 - val_loss: 0.2657\n",
      "Epoch 3/100\n",
      "\u001b[1m272/272\u001b[0m \u001b[32m━━━━━━━━━━━━━━━━━━━━\u001b[0m\u001b[37m\u001b[0m \u001b[1m1s\u001b[0m 4ms/step - accuracy: 0.9119 - loss: 0.2172 - val_accuracy: 0.9011 - val_loss: 0.2171\n",
      "Epoch 4/100\n",
      "\u001b[1m272/272\u001b[0m \u001b[32m━━━━━━━━━━━━━━━━━━━━\u001b[0m\u001b[37m\u001b[0m \u001b[1m1s\u001b[0m 4ms/step - accuracy: 0.9294 - loss: 0.1783 - val_accuracy: 0.9177 - val_loss: 0.1964\n",
      "Epoch 5/100\n",
      "\u001b[1m272/272\u001b[0m \u001b[32m━━━━━━━━━━━━━━━━━━━━\u001b[0m\u001b[37m\u001b[0m \u001b[1m1s\u001b[0m 4ms/step - accuracy: 0.9383 - loss: 0.1529 - val_accuracy: 0.9260 - val_loss: 0.1733\n",
      "Epoch 6/100\n",
      "\u001b[1m272/272\u001b[0m \u001b[32m━━━━━━━━━━━━━━━━━━━━\u001b[0m\u001b[37m\u001b[0m \u001b[1m1s\u001b[0m 4ms/step - accuracy: 0.9478 - loss: 0.1316 - val_accuracy: 0.9384 - val_loss: 0.1541\n",
      "Epoch 7/100\n",
      "\u001b[1m272/272\u001b[0m \u001b[32m━━━━━━━━━━━━━━━━━━━━\u001b[0m\u001b[37m\u001b[0m \u001b[1m1s\u001b[0m 4ms/step - accuracy: 0.9564 - loss: 0.1159 - val_accuracy: 0.9490 - val_loss: 0.1205\n",
      "Epoch 8/100\n",
      "\u001b[1m272/272\u001b[0m \u001b[32m━━━━━━━━━━━━━━━━━━━━\u001b[0m\u001b[37m\u001b[0m \u001b[1m1s\u001b[0m 4ms/step - accuracy: 0.9595 - loss: 0.1033 - val_accuracy: 0.9434 - val_loss: 0.1189\n",
      "Epoch 9/100\n",
      "\u001b[1m272/272\u001b[0m \u001b[32m━━━━━━━━━━━━━━━━━━━━\u001b[0m\u001b[37m\u001b[0m \u001b[1m1s\u001b[0m 4ms/step - accuracy: 0.9611 - loss: 0.0963 - val_accuracy: 0.9545 - val_loss: 0.1078\n",
      "Epoch 10/100\n",
      "\u001b[1m272/272\u001b[0m \u001b[32m━━━━━━━━━━━━━━━━━━━━\u001b[0m\u001b[37m\u001b[0m \u001b[1m1s\u001b[0m 4ms/step - accuracy: 0.9651 - loss: 0.0900 - val_accuracy: 0.9582 - val_loss: 0.0990\n",
      "Epoch 11/100\n",
      "\u001b[1m272/272\u001b[0m \u001b[32m━━━━━━━━━━━━━━━━━━━━\u001b[0m\u001b[37m\u001b[0m \u001b[1m1s\u001b[0m 4ms/step - accuracy: 0.9664 - loss: 0.0849 - val_accuracy: 0.9646 - val_loss: 0.0966\n",
      "Epoch 12/100\n",
      "\u001b[1m272/272\u001b[0m \u001b[32m━━━━━━━━━━━━━━━━━━━━\u001b[0m\u001b[37m\u001b[0m \u001b[1m1s\u001b[0m 4ms/step - accuracy: 0.9686 - loss: 0.0802 - val_accuracy: 0.9651 - val_loss: 0.0902\n",
      "Epoch 13/100\n",
      "\u001b[1m272/272\u001b[0m \u001b[32m━━━━━━━━━━━━━━━━━━━━\u001b[0m\u001b[37m\u001b[0m \u001b[1m1s\u001b[0m 4ms/step - accuracy: 0.9712 - loss: 0.0761 - val_accuracy: 0.9623 - val_loss: 0.0940\n",
      "Epoch 14/100\n",
      "\u001b[1m272/272\u001b[0m \u001b[32m━━━━━━━━━━━━━━━━━━━━\u001b[0m\u001b[37m\u001b[0m \u001b[1m1s\u001b[0m 4ms/step - accuracy: 0.9711 - loss: 0.0756 - val_accuracy: 0.9605 - val_loss: 0.0976\n",
      "Epoch 15/100\n",
      "\u001b[1m272/272\u001b[0m \u001b[32m━━━━━━━━━━━━━━━━━━━━\u001b[0m\u001b[37m\u001b[0m \u001b[1m1s\u001b[0m 4ms/step - accuracy: 0.9716 - loss: 0.0727 - val_accuracy: 0.9651 - val_loss: 0.0875\n",
      "Epoch 16/100\n",
      "\u001b[1m272/272\u001b[0m \u001b[32m━━━━━━━━━━━━━━━━━━━━\u001b[0m\u001b[37m\u001b[0m \u001b[1m1s\u001b[0m 4ms/step - accuracy: 0.9730 - loss: 0.0710 - val_accuracy: 0.9628 - val_loss: 0.0875\n",
      "Epoch 17/100\n",
      "\u001b[1m272/272\u001b[0m \u001b[32m━━━━━━━━━━━━━━━━━━━━\u001b[0m\u001b[37m\u001b[0m \u001b[1m1s\u001b[0m 4ms/step - accuracy: 0.9759 - loss: 0.0679 - val_accuracy: 0.9641 - val_loss: 0.0848\n",
      "Epoch 18/100\n",
      "\u001b[1m272/272\u001b[0m \u001b[32m━━━━━━━━━━━━━━━━━━━━\u001b[0m\u001b[37m\u001b[0m \u001b[1m1s\u001b[0m 4ms/step - accuracy: 0.9760 - loss: 0.0664 - val_accuracy: 0.9660 - val_loss: 0.0793\n",
      "Epoch 19/100\n",
      "\u001b[1m272/272\u001b[0m \u001b[32m━━━━━━━━━━━━━━━━━━━━\u001b[0m\u001b[37m\u001b[0m \u001b[1m1s\u001b[0m 4ms/step - accuracy: 0.9770 - loss: 0.0622 - val_accuracy: 0.9664 - val_loss: 0.0787\n",
      "Epoch 20/100\n",
      "\u001b[1m272/272\u001b[0m \u001b[32m━━━━━━━━━━━━━━━━━━━━\u001b[0m\u001b[37m\u001b[0m \u001b[1m1s\u001b[0m 4ms/step - accuracy: 0.9764 - loss: 0.0596 - val_accuracy: 0.9618 - val_loss: 0.0889\n",
      "Epoch 21/100\n",
      "\u001b[1m272/272\u001b[0m \u001b[32m━━━━━━━━━━━━━━━━━━━━\u001b[0m\u001b[37m\u001b[0m \u001b[1m1s\u001b[0m 4ms/step - accuracy: 0.9785 - loss: 0.0588 - val_accuracy: 0.9632 - val_loss: 0.0847\n",
      "Epoch 22/100\n",
      "\u001b[1m272/272\u001b[0m \u001b[32m━━━━━━━━━━━━━━━━━━━━\u001b[0m\u001b[37m\u001b[0m \u001b[1m1s\u001b[0m 4ms/step - accuracy: 0.9795 - loss: 0.0558 - val_accuracy: 0.9609 - val_loss: 0.0902\n",
      "Epoch 23/100\n",
      "\u001b[1m272/272\u001b[0m \u001b[32m━━━━━━━━━━━━━━━━━━━━\u001b[0m\u001b[37m\u001b[0m \u001b[1m1s\u001b[0m 4ms/step - accuracy: 0.9796 - loss: 0.0551 - val_accuracy: 0.9632 - val_loss: 0.0804\n",
      "Epoch 24/100\n",
      "\u001b[1m272/272\u001b[0m \u001b[32m━━━━━━━━━━━━━━━━━━━━\u001b[0m\u001b[37m\u001b[0m \u001b[1m1s\u001b[0m 4ms/step - accuracy: 0.9773 - loss: 0.0548 - val_accuracy: 0.9628 - val_loss: 0.0768\n",
      "Epoch 25/100\n",
      "\u001b[1m272/272\u001b[0m \u001b[32m━━━━━━━━━━━━━━━━━━━━\u001b[0m\u001b[37m\u001b[0m \u001b[1m1s\u001b[0m 4ms/step - accuracy: 0.9783 - loss: 0.0545 - val_accuracy: 0.9641 - val_loss: 0.0808\n",
      "Epoch 26/100\n",
      "\u001b[1m272/272\u001b[0m \u001b[32m━━━━━━━━━━━━━━━━━━━━\u001b[0m\u001b[37m\u001b[0m \u001b[1m1s\u001b[0m 4ms/step - accuracy: 0.9770 - loss: 0.0576 - val_accuracy: 0.9655 - val_loss: 0.0768\n",
      "Epoch 27/100\n",
      "\u001b[1m272/272\u001b[0m \u001b[32m━━━━━━━━━━━━━━━━━━━━\u001b[0m\u001b[37m\u001b[0m \u001b[1m1s\u001b[0m 4ms/step - accuracy: 0.9789 - loss: 0.0537 - val_accuracy: 0.9632 - val_loss: 0.0851\n",
      "Epoch 28/100\n",
      "\u001b[1m272/272\u001b[0m \u001b[32m━━━━━━━━━━━━━━━━━━━━\u001b[0m\u001b[37m\u001b[0m \u001b[1m1s\u001b[0m 4ms/step - accuracy: 0.9770 - loss: 0.0547 - val_accuracy: 0.9655 - val_loss: 0.0782\n",
      "Epoch 29/100\n",
      "\u001b[1m272/272\u001b[0m \u001b[32m━━━━━━━━━━━━━━━━━━━━\u001b[0m\u001b[37m\u001b[0m \u001b[1m1s\u001b[0m 4ms/step - accuracy: 0.9781 - loss: 0.0545 - val_accuracy: 0.9678 - val_loss: 0.0766\n",
      "Epoch 30/100\n",
      "\u001b[1m272/272\u001b[0m \u001b[32m━━━━━━━━━━━━━━━━━━━━\u001b[0m\u001b[37m\u001b[0m \u001b[1m1s\u001b[0m 4ms/step - accuracy: 0.9811 - loss: 0.0472 - val_accuracy: 0.9637 - val_loss: 0.0785\n",
      "Epoch 31/100\n",
      "\u001b[1m272/272\u001b[0m \u001b[32m━━━━━━━━━━━━━━━━━━━━\u001b[0m\u001b[37m\u001b[0m \u001b[1m1s\u001b[0m 4ms/step - accuracy: 0.9800 - loss: 0.0484 - val_accuracy: 0.9660 - val_loss: 0.0788\n",
      "Epoch 32/100\n",
      "\u001b[1m272/272\u001b[0m \u001b[32m━━━━━━━━━━━━━━━━━━━━\u001b[0m\u001b[37m\u001b[0m \u001b[1m1s\u001b[0m 4ms/step - accuracy: 0.9812 - loss: 0.0478 - val_accuracy: 0.9655 - val_loss: 0.0837\n",
      "Epoch 33/100\n",
      "\u001b[1m272/272\u001b[0m \u001b[32m━━━━━━━━━━━━━━━━━━━━\u001b[0m\u001b[37m\u001b[0m \u001b[1m1s\u001b[0m 4ms/step - accuracy: 0.9808 - loss: 0.0492 - val_accuracy: 0.9605 - val_loss: 0.0939\n",
      "Epoch 34/100\n",
      "\u001b[1m272/272\u001b[0m \u001b[32m━━━━━━━━━━━━━━━━━━━━\u001b[0m\u001b[37m\u001b[0m \u001b[1m1s\u001b[0m 4ms/step - accuracy: 0.9814 - loss: 0.0477 - val_accuracy: 0.9715 - val_loss: 0.0697\n",
      "Epoch 35/100\n",
      "\u001b[1m272/272\u001b[0m \u001b[32m━━━━━━━━━━━━━━━━━━━━\u001b[0m\u001b[37m\u001b[0m \u001b[1m1s\u001b[0m 4ms/step - accuracy: 0.9821 - loss: 0.0459 - val_accuracy: 0.9687 - val_loss: 0.0830\n",
      "Epoch 36/100\n",
      "\u001b[1m272/272\u001b[0m \u001b[32m━━━━━━━━━━━━━━━━━━━━\u001b[0m\u001b[37m\u001b[0m \u001b[1m1s\u001b[0m 4ms/step - accuracy: 0.9838 - loss: 0.0449 - val_accuracy: 0.9678 - val_loss: 0.0830\n",
      "Epoch 37/100\n",
      "\u001b[1m272/272\u001b[0m \u001b[32m━━━━━━━━━━━━━━━━━━━━\u001b[0m\u001b[37m\u001b[0m \u001b[1m1s\u001b[0m 4ms/step - accuracy: 0.9829 - loss: 0.0454 - val_accuracy: 0.9683 - val_loss: 0.0797\n",
      "Epoch 38/100\n",
      "\u001b[1m272/272\u001b[0m \u001b[32m━━━━━━━━━━━━━━━━━━━━\u001b[0m\u001b[37m\u001b[0m \u001b[1m1s\u001b[0m 4ms/step - accuracy: 0.9841 - loss: 0.0428 - val_accuracy: 0.9710 - val_loss: 0.0787\n",
      "Epoch 39/100\n",
      "\u001b[1m272/272\u001b[0m \u001b[32m━━━━━━━━━━━━━━━━━━━━\u001b[0m\u001b[37m\u001b[0m \u001b[1m1s\u001b[0m 4ms/step - accuracy: 0.9843 - loss: 0.0424 - val_accuracy: 0.9669 - val_loss: 0.0805\n",
      "Epoch 40/100\n",
      "\u001b[1m272/272\u001b[0m \u001b[32m━━━━━━━━━━━━━━━━━━━━\u001b[0m\u001b[37m\u001b[0m \u001b[1m1s\u001b[0m 4ms/step - accuracy: 0.9845 - loss: 0.0420 - val_accuracy: 0.9724 - val_loss: 0.0693\n",
      "Epoch 41/100\n",
      "\u001b[1m272/272\u001b[0m \u001b[32m━━━━━━━━━━━━━━━━━━━━\u001b[0m\u001b[37m\u001b[0m \u001b[1m1s\u001b[0m 4ms/step - accuracy: 0.9841 - loss: 0.0411 - val_accuracy: 0.9738 - val_loss: 0.0669\n",
      "Epoch 42/100\n",
      "\u001b[1m272/272\u001b[0m \u001b[32m━━━━━━━━━━━━━━━━━━━━\u001b[0m\u001b[37m\u001b[0m \u001b[1m1s\u001b[0m 4ms/step - accuracy: 0.9844 - loss: 0.0404 - val_accuracy: 0.9756 - val_loss: 0.0642\n",
      "Epoch 43/100\n",
      "\u001b[1m272/272\u001b[0m \u001b[32m━━━━━━━━━━━━━━━━━━━━\u001b[0m\u001b[37m\u001b[0m \u001b[1m1s\u001b[0m 4ms/step - accuracy: 0.9847 - loss: 0.0387 - val_accuracy: 0.9761 - val_loss: 0.0705\n",
      "Epoch 44/100\n",
      "\u001b[1m272/272\u001b[0m \u001b[32m━━━━━━━━━━━━━━━━━━━━\u001b[0m\u001b[37m\u001b[0m \u001b[1m1s\u001b[0m 4ms/step - accuracy: 0.9851 - loss: 0.0376 - val_accuracy: 0.9752 - val_loss: 0.0670\n",
      "Epoch 45/100\n",
      "\u001b[1m272/272\u001b[0m \u001b[32m━━━━━━━━━━━━━━━━━━━━\u001b[0m\u001b[37m\u001b[0m \u001b[1m1s\u001b[0m 4ms/step - accuracy: 0.9870 - loss: 0.0337 - val_accuracy: 0.9747 - val_loss: 0.0665\n",
      "Epoch 46/100\n",
      "\u001b[1m272/272\u001b[0m \u001b[32m━━━━━━━━━━━━━━━━━━━━\u001b[0m\u001b[37m\u001b[0m \u001b[1m1s\u001b[0m 4ms/step - accuracy: 0.9840 - loss: 0.0369 - val_accuracy: 0.9738 - val_loss: 0.0770\n",
      "Epoch 47/100\n",
      "\u001b[1m272/272\u001b[0m \u001b[32m━━━━━━━━━━━━━━━━━━━━\u001b[0m\u001b[37m\u001b[0m \u001b[1m1s\u001b[0m 4ms/step - accuracy: 0.9873 - loss: 0.0340 - val_accuracy: 0.9738 - val_loss: 0.0615\n",
      "Epoch 48/100\n",
      "\u001b[1m272/272\u001b[0m \u001b[32m━━━━━━━━━━━━━━━━━━━━\u001b[0m\u001b[37m\u001b[0m \u001b[1m1s\u001b[0m 4ms/step - accuracy: 0.9859 - loss: 0.0342 - val_accuracy: 0.9811 - val_loss: 0.0518\n",
      "Epoch 49/100\n",
      "\u001b[1m272/272\u001b[0m \u001b[32m━━━━━━━━━━━━━━━━━━━━\u001b[0m\u001b[37m\u001b[0m \u001b[1m1s\u001b[0m 4ms/step - accuracy: 0.9892 - loss: 0.0309 - val_accuracy: 0.9789 - val_loss: 0.0564\n",
      "Epoch 50/100\n",
      "\u001b[1m272/272\u001b[0m \u001b[32m━━━━━━━━━━━━━━━━━━━━\u001b[0m\u001b[37m\u001b[0m \u001b[1m1s\u001b[0m 4ms/step - accuracy: 0.9846 - loss: 0.0374 - val_accuracy: 0.9738 - val_loss: 0.0696\n",
      "Epoch 51/100\n",
      "\u001b[1m272/272\u001b[0m \u001b[32m━━━━━━━━━━━━━━━━━━━━\u001b[0m\u001b[37m\u001b[0m \u001b[1m1s\u001b[0m 4ms/step - accuracy: 0.9856 - loss: 0.0372 - val_accuracy: 0.9752 - val_loss: 0.0665\n",
      "Epoch 52/100\n",
      "\u001b[1m272/272\u001b[0m \u001b[32m━━━━━━━━━━━━━━━━━━━━\u001b[0m\u001b[37m\u001b[0m \u001b[1m1s\u001b[0m 4ms/step - accuracy: 0.9877 - loss: 0.0296 - val_accuracy: 0.9802 - val_loss: 0.0572\n",
      "Epoch 53/100\n",
      "\u001b[1m272/272\u001b[0m \u001b[32m━━━━━━━━━━━━━━━━━━━━\u001b[0m\u001b[37m\u001b[0m \u001b[1m1s\u001b[0m 4ms/step - accuracy: 0.9879 - loss: 0.0303 - val_accuracy: 0.9779 - val_loss: 0.0552\n",
      "Epoch 54/100\n",
      "\u001b[1m272/272\u001b[0m \u001b[32m━━━━━━━━━━━━━━━━━━━━\u001b[0m\u001b[37m\u001b[0m \u001b[1m1s\u001b[0m 4ms/step - accuracy: 0.9879 - loss: 0.0318 - val_accuracy: 0.9770 - val_loss: 0.0648\n",
      "Epoch 55/100\n",
      "\u001b[1m272/272\u001b[0m \u001b[32m━━━━━━━━━━━━━━━━━━━━\u001b[0m\u001b[37m\u001b[0m \u001b[1m1s\u001b[0m 4ms/step - accuracy: 0.9896 - loss: 0.0304 - val_accuracy: 0.9784 - val_loss: 0.0551\n",
      "Epoch 56/100\n",
      "\u001b[1m272/272\u001b[0m \u001b[32m━━━━━━━━━━━━━━━━━━━━\u001b[0m\u001b[37m\u001b[0m \u001b[1m1s\u001b[0m 4ms/step - accuracy: 0.9894 - loss: 0.0272 - val_accuracy: 0.9798 - val_loss: 0.0520\n",
      "Epoch 57/100\n",
      "\u001b[1m272/272\u001b[0m \u001b[32m━━━━━━━━━━━━━━━━━━━━\u001b[0m\u001b[37m\u001b[0m \u001b[1m1s\u001b[0m 5ms/step - accuracy: 0.9889 - loss: 0.0301 - val_accuracy: 0.9802 - val_loss: 0.0601\n",
      "Epoch 58/100\n",
      "\u001b[1m272/272\u001b[0m \u001b[32m━━━━━━━━━━━━━━━━━━━━\u001b[0m\u001b[37m\u001b[0m \u001b[1m1s\u001b[0m 4ms/step - accuracy: 0.9884 - loss: 0.0318 - val_accuracy: 0.9738 - val_loss: 0.0633\n"
     ]
    }
   ],
   "source": [
    "# Mesurer le temps et la mémoire pour l'entraînement\n",
    "start_fit_time = time.time()\n",
    "fit_memory_before = memory_profiler.memory_usage()[0]\n",
    "\n",
    "# Entraîner le modèle\n",
    "history = model.fit(\n",
    "    X_train, y_train,\n",
    "    epochs=100,\n",
    "    batch_size=32,\n",
    "    validation_data=(X_test, y_test),\n",
    "    callbacks=[early_stopping]\n",
    ")\n",
    "\n",
    "fit_time = time.time() - start_fit_time\n",
    "fit_memory_after = memory_profiler.memory_usage()[0]\n",
    "fit_memory_usage = fit_memory_after - fit_memory_before"
   ]
  },
  {
   "cell_type": "code",
   "execution_count": 95,
   "metadata": {},
   "outputs": [
    {
     "name": "stdout",
     "output_type": "stream",
     "text": [
      "\u001b[1m68/68\u001b[0m \u001b[32m━━━━━━━━━━━━━━━━━━━━\u001b[0m\u001b[37m\u001b[0m \u001b[1m0s\u001b[0m 4ms/step\n"
     ]
    }
   ],
   "source": [
    "# Mesurer le temps et la mémoire pour la prédiction\n",
    "start_predict_time = time.time()\n",
    "pred_memory_before = memory_profiler.memory_usage()[0]\n",
    "\n",
    "# Prédire sur le jeu de test\n",
    "y_pred_proba = model.predict(X_test)\n",
    "y_pred = y_pred_proba.argmax(axis=1)  # Choisir la classe avec la probabilité la plus élevée\n",
    "\n",
    "predict_time = time.time() - start_predict_time\n",
    "pred_memory_after = memory_profiler.memory_usage()[0]\n",
    "predict_memory_usage = pred_memory_after - pred_memory_before"
   ]
  },
  {
   "cell_type": "code",
   "execution_count": 96,
   "metadata": {},
   "outputs": [],
   "source": [
    "# on veut connaitre les perfs pour chaque attaque :\n",
    "# évaluer pour chaque label != normal "
   ]
  },
  {
   "cell_type": "code",
   "execution_count": 97,
   "metadata": {},
   "outputs": [
    {
     "data": {
      "text/plain": [
       "{np.str_('normal'): 0,\n",
       " np.str_('DoS'): 1,\n",
       " np.str_('MITM'): 2,\n",
       " np.str_('physical fault'): 3,\n",
       " np.str_('scan'): 4}"
      ]
     },
     "execution_count": 97,
     "metadata": {},
     "output_type": "execute_result"
    }
   ],
   "source": [
    "label_mapping"
   ]
  },
  {
   "cell_type": "code",
   "execution_count": 98,
   "metadata": {},
   "outputs": [],
   "source": [
    "reverse_label_mapping = {v: k for k, v in label_mapping.items()}"
   ]
  },
  {
   "cell_type": "code",
   "execution_count": 99,
   "metadata": {},
   "outputs": [
    {
     "name": "stdout",
     "output_type": "stream",
     "text": [
      "{0: {'data': 'PHY', 'model_type': 'CNN 1D', 'attack_type': np.str_('normal'), 'confusion_matrix': array([[1760,    0,    5,   16,    0],\n",
      "       [   8,   56,    0,    0,    0],\n",
      "       [   8,    0,  183,    0,    0],\n",
      "       [   3,    0,    0,  135,    0],\n",
      "       [   1,    0,    0,    0,    0]]), 'TN': np.int64(374), 'FP': np.int64(20), 'FN': np.int64(21), 'TP': np.int64(1760), 'precision': np.float64(0.9887640449438202), 'recall': np.float64(0.9882088714205502), 'f1': np.float64(0.9884863802302724), 'balanced_accuracy': np.float64(0.9687237250503766), 'mcc': np.float64(0.9365230132378509), 'tnr': np.float64(0.949238578680203), 'fpr': np.float64(0.050761421319796954), 'accuracy': np.float64(0.9811494252873563), 'fit_time': 64.18473696708679, 'predict_time': 0.49485111236572266, 'fit_memory_usage': -31.1640625, 'predict_memory_usage': -0.15625}, 1: {'data': 'PHY', 'model_type': 'CNN 1D', 'attack_type': np.str_('DoS'), 'confusion_matrix': array([[1760,    0,    5,   16,    0],\n",
      "       [   8,   56,    0,    0,    0],\n",
      "       [   8,    0,  183,    0,    0],\n",
      "       [   3,    0,    0,  135,    0],\n",
      "       [   1,    0,    0,    0,    0]]), 'TN': np.int64(2111), 'FP': np.int64(0), 'FN': np.int64(8), 'TP': np.int64(56), 'precision': np.float64(1.0), 'recall': np.float64(0.875), 'f1': np.float64(0.9333333333333333), 'balanced_accuracy': np.float64(0.9375), 'mcc': np.float64(0.9336469112993218), 'tnr': np.float64(1.0), 'fpr': np.float64(0.0), 'accuracy': np.float64(0.9963218390804598), 'fit_time': 64.18473696708679, 'predict_time': 0.49485111236572266, 'fit_memory_usage': -31.1640625, 'predict_memory_usage': -0.15625}, 2: {'data': 'PHY', 'model_type': 'CNN 1D', 'attack_type': np.str_('MITM'), 'confusion_matrix': array([[1760,    0,    5,   16,    0],\n",
      "       [   8,   56,    0,    0,    0],\n",
      "       [   8,    0,  183,    0,    0],\n",
      "       [   3,    0,    0,  135,    0],\n",
      "       [   1,    0,    0,    0,    0]]), 'TN': np.int64(1979), 'FP': np.int64(5), 'FN': np.int64(8), 'TP': np.int64(183), 'precision': np.float64(0.973404255319149), 'recall': np.float64(0.9581151832460733), 'f1': np.float64(0.9656992084432717), 'balanced_accuracy': np.float64(0.9777975109778754), 'mcc': np.float64(0.9624618811272382), 'tnr': np.float64(0.9974798387096774), 'fpr': np.float64(0.0025201612903225806), 'accuracy': np.float64(0.9940229885057471), 'fit_time': 64.18473696708679, 'predict_time': 0.49485111236572266, 'fit_memory_usage': -31.1640625, 'predict_memory_usage': -0.15625}, 3: {'data': 'PHY', 'model_type': 'CNN 1D', 'attack_type': np.str_('physical fault'), 'confusion_matrix': array([[1760,    0,    5,   16,    0],\n",
      "       [   8,   56,    0,    0,    0],\n",
      "       [   8,    0,  183,    0,    0],\n",
      "       [   3,    0,    0,  135,    0],\n",
      "       [   1,    0,    0,    0,    0]]), 'TN': np.int64(2021), 'FP': np.int64(16), 'FN': np.int64(3), 'TP': np.int64(135), 'precision': np.float64(0.8940397350993378), 'recall': np.float64(0.9782608695652174), 'f1': np.float64(0.9342560553633218), 'balanced_accuracy': np.float64(0.985203090649079), 'mcc': np.float64(0.9306682202501669), 'tnr': np.float64(0.9921453117329406), 'fpr': np.float64(0.007854688267059401), 'accuracy': np.float64(0.991264367816092), 'fit_time': 64.18473696708679, 'predict_time': 0.49485111236572266, 'fit_memory_usage': -31.1640625, 'predict_memory_usage': -0.15625}, 4: {'data': 'PHY', 'model_type': 'CNN 1D', 'attack_type': np.str_('scan'), 'confusion_matrix': array([[1760,    0,    5,   16,    0],\n",
      "       [   8,   56,    0,    0,    0],\n",
      "       [   8,    0,  183,    0,    0],\n",
      "       [   3,    0,    0,  135,    0],\n",
      "       [   1,    0,    0,    0,    0]]), 'TN': np.int64(2174), 'FP': np.int64(0), 'FN': np.int64(1), 'TP': np.int64(0), 'precision': np.float64(0.0), 'recall': np.float64(0.0), 'f1': np.float64(0.0), 'balanced_accuracy': np.float64(0.5), 'mcc': 0, 'tnr': np.float64(1.0), 'fpr': np.float64(0.0), 'accuracy': np.float64(0.9995402298850574), 'fit_time': 64.18473696708679, 'predict_time': 0.49485111236572266, 'fit_memory_usage': -31.1640625, 'predict_memory_usage': -0.15625}}\n"
     ]
    },
    {
     "name": "stderr",
     "output_type": "stream",
     "text": [
      "/home/zoe/.local/lib/python3.10/site-packages/sklearn/metrics/_classification.py:1531: UndefinedMetricWarning: Precision is ill-defined and being set to 0.0 in labels with no predicted samples. Use `zero_division` parameter to control this behavior.\n",
      "  _warn_prf(average, modifier, f\"{metric.capitalize()} is\", len(result))\n",
      "/home/zoe/.local/lib/python3.10/site-packages/sklearn/metrics/_classification.py:1531: UndefinedMetricWarning: Precision is ill-defined and being set to 0.0 in labels with no predicted samples. Use `zero_division` parameter to control this behavior.\n",
      "  _warn_prf(average, modifier, f\"{metric.capitalize()} is\", len(result))\n",
      "/home/zoe/.local/lib/python3.10/site-packages/sklearn/metrics/_classification.py:1531: UndefinedMetricWarning: Precision is ill-defined and being set to 0.0 in labels with no predicted samples. Use `zero_division` parameter to control this behavior.\n",
      "  _warn_prf(average, modifier, f\"{metric.capitalize()} is\", len(result))\n",
      "/home/zoe/.local/lib/python3.10/site-packages/sklearn/metrics/_classification.py:1531: UndefinedMetricWarning: Precision is ill-defined and being set to 0.0 in labels with no predicted samples. Use `zero_division` parameter to control this behavior.\n",
      "  _warn_prf(average, modifier, f\"{metric.capitalize()} is\", len(result))\n",
      "/home/zoe/.local/lib/python3.10/site-packages/sklearn/metrics/_classification.py:1531: UndefinedMetricWarning: Precision is ill-defined and being set to 0.0 in labels with no predicted samples. Use `zero_division` parameter to control this behavior.\n",
      "  _warn_prf(average, modifier, f\"{metric.capitalize()} is\", len(result))\n"
     ]
    }
   ],
   "source": [
    "# Calcul de la confusion matrix pour tout le test\n",
    "conf_matrix = confusion_matrix(y_test, y_pred)\n",
    "\n",
    "# Dictionnaire pour stocker les résultats de chaque classe\n",
    "class_results = {}\n",
    "\n",
    "for class_label in range(nb_class):\n",
    "    # Extraire la matrice de confusion pour la classe spécifique\n",
    "    TP = conf_matrix[class_label, class_label]\n",
    "    FP = sum(conf_matrix[:, class_label]) - TP\n",
    "    FN = sum(conf_matrix[class_label, :]) - TP\n",
    "    TN = conf_matrix.sum() - (TP + FP + FN)\n",
    "\n",
    "    # Calcul des métriques pour chaque classe\n",
    "    precision = precision_score(y_test, y_pred, average=None)[class_label]\n",
    "    recall_tpr = recall_score(y_test, y_pred, average=None)[class_label]\n",
    "    tnr = TN / (TN + FP) if (TN + FP) != 0 else 0\n",
    "    fpr = FP / (FP + TN) if (FP + TN) != 0 else 0\n",
    "    accuracy = (TP + TN) / (TP + TN + FP + FN)\n",
    "    f1 = f1_score(y_test, y_pred, average=None)[class_label]\n",
    "    balanced_acc = (recall_tpr + tnr) / 2\n",
    "    mcc = (TP * TN - FP * FN) / np.sqrt((TP + FP) * (TP + FN) * (TN + FP) * (TN + FN)) if (TP + FP) * (TP + FN) * (TN + FP) * (TN + FN) != 0 else 0\n",
    "\n",
    "\n",
    "    # Stocker les résultats dans le dictionnaire\n",
    "    class_results[class_label] = {\n",
    "        'data': 'PHY',\n",
    "        'model_type': 'CNN 1D',\n",
    "        'attack_type': reverse_label_mapping[class_label],\n",
    "        'confusion_matrix': conf_matrix,\n",
    "        'TN': TN,\n",
    "        'FP': FP,\n",
    "        'FN': FN,\n",
    "        'TP': TP,\n",
    "        'precision': precision,\n",
    "        'recall': recall_tpr,\n",
    "        'f1': f1,\n",
    "        'balanced_accuracy': balanced_acc,\n",
    "        'mcc': mcc,\n",
    "        'tnr': tnr,\n",
    "        'fpr': fpr,\n",
    "        'accuracy': accuracy,\n",
    "        'fit_time': fit_time,\n",
    "        'predict_time': predict_time,\n",
    "        'fit_memory_usage': fit_memory_usage,\n",
    "        'predict_memory_usage': predict_memory_usage\n",
    "    }\n",
    "\n",
    "# Afficher ou enregistrer les résultats pour chaque classe\n",
    "print(class_results)\n"
   ]
  },
  {
   "cell_type": "code",
   "execution_count": 100,
   "metadata": {},
   "outputs": [
    {
     "name": "stdout",
     "output_type": "stream",
     "text": [
      "[0.98876404 1.         0.97340426 0.89403974 0.        ]\n",
      "Résultats pour la classe 0: 0.9887640449438202\n",
      "avec calcul : 0.9887640449438202\n",
      "Résultats pour la classe 1: 1.0\n",
      "avec calcul : 1.0\n",
      "Résultats pour la classe 2: 0.973404255319149\n",
      "avec calcul : 0.973404255319149\n",
      "Résultats pour la classe 3: 0.8940397350993378\n",
      "avec calcul : 0.8940397350993378\n",
      "Résultats pour la classe 4: 0.0\n",
      "avec calcul : nan\n"
     ]
    },
    {
     "name": "stderr",
     "output_type": "stream",
     "text": [
      "/home/zoe/.local/lib/python3.10/site-packages/sklearn/metrics/_classification.py:1531: UndefinedMetricWarning: Precision is ill-defined and being set to 0.0 in labels with no predicted samples. Use `zero_division` parameter to control this behavior.\n",
      "  _warn_prf(average, modifier, f\"{metric.capitalize()} is\", len(result))\n",
      "/tmp/ipykernel_312792/3645313826.py:5: RuntimeWarning: invalid value encountered in scalar divide\n",
      "  print(f\"avec calcul : {class_results[i]['TP'] / (class_results[i]['TP'] + class_results[i]['FP'])}\")\n"
     ]
    }
   ],
   "source": [
    "# vérif\n",
    "print(precision_score(y_test, y_pred, average=None))\n",
    "for i in range(nb_class):\n",
    "    print(f\"Résultats pour la classe {i}: {class_results[i]['precision']}\")\n",
    "    print(f\"avec calcul : {class_results[i]['TP'] / (class_results[i]['TP'] + class_results[i]['FP'])}\")\n",
    "# ok c'est bon"
   ]
  },
  {
   "cell_type": "code",
   "execution_count": 101,
   "metadata": {},
   "outputs": [
    {
     "name": "stdout",
     "output_type": "stream",
     "text": [
      "test tpr 0.875\n",
      "0.875\n"
     ]
    }
   ],
   "source": [
    "tp = class_results[1]['TP']\n",
    "fn = class_results[1]['FN']\n",
    "print(\"test tpr\", tp / (tp + fn))\n",
    "print(class_results[1]['recall'])\n",
    "# ok c'est bon "
   ]
  },
  {
   "cell_type": "code",
   "execution_count": 102,
   "metadata": {},
   "outputs": [],
   "source": [
    "# sauvegarder les données \n",
    "\n",
    "for i in range(1, nb_class):\n",
    "    class_results[i]['model'] = f'CNN1D - label - {reverse_label_mapping[i]}'\n",
    "    db[f'PHY_results_cnn1d_{reverse_label_mapping[i]}'] = class_results[i]"
   ]
  }
 ],
 "metadata": {
  "kernelspec": {
   "display_name": "Python 3",
   "language": "python",
   "name": "python3"
  },
  "language_info": {
   "codemirror_mode": {
    "name": "ipython",
    "version": 3
   },
   "file_extension": ".py",
   "mimetype": "text/x-python",
   "name": "python",
   "nbconvert_exporter": "python",
   "pygments_lexer": "ipython3",
   "version": "3.10.12"
  }
 },
 "nbformat": 4,
 "nbformat_minor": 2
}
