{
 "cells": [
  {
   "cell_type": "code",
   "execution_count": 60,
   "metadata": {},
   "outputs": [],
   "source": [
    "import pandas as pd\n",
    "import numpy as np\n",
    "import random\n",
    "from pickleshare import PickleShareDB\n",
    "import os \n",
    "from sklearn.preprocessing import MinMaxScaler\n",
    "from sklearn.preprocessing import LabelEncoder\n",
    "from sklearn.model_selection import train_test_split\n",
    "import tensorflow as tf\n",
    "from tensorflow.keras.callbacks import EarlyStopping\n",
    "from tensorflow.keras.models import Sequential\n",
    "from tensorflow.keras.layers import Conv1D, MaxPooling1D, Flatten, Dense\n",
    "from sklearn.metrics import precision_score, recall_score, accuracy_score, f1_score\n",
    "from sklearn.metrics import confusion_matrix, matthews_corrcoef, balanced_accuracy_score\n",
    "import time\n",
    "import memory_profiler"
   ]
  },
  {
   "cell_type": "code",
   "execution_count": 61,
   "metadata": {},
   "outputs": [],
   "source": [
    "# pour la reproductibilité \n",
    "np.random.seed(0)\n",
    "random.seed(0)\n",
    "tf.random.set_seed(0)"
   ]
  },
  {
   "cell_type": "code",
   "execution_count": 62,
   "metadata": {},
   "outputs": [],
   "source": [
    "# charger les données de prep_data\n",
    "\n",
    "data_dir = '../prep_data' \n",
    "db = PickleShareDB(os.path.join(data_dir, 'kity'))\n",
    "\n",
    "if 'df_phy_1' in db:\n",
    "    df_phy_1 = db['df_phy_1']\n",
    "else:\n",
    "    print(\"df_phy_1 n'est pas trouvé dans la base de données.\")\n",
    "if 'df_phy_2' in db:\n",
    "    df_phy_2 = db['df_phy_2']\n",
    "else:\n",
    "    print(\"df_phy_2 n'est pas trouvé dans la base de données.\")\n",
    "if 'df_phy_3' in db:\n",
    "    df_phy_3 = db['df_phy_3']\n",
    "else:\n",
    "    print(\"df_phy_3 n'est pas trouvé dans la base de données.\")\n",
    "if 'df_phy_4' in db:\n",
    "    df_phy_4 = db['df_phy_4']\n",
    "else:\n",
    "    print(\"df_phy_4 n'est pas trouvé dans la base de données.\")\n",
    "if 'df_phy_norm' in db:\n",
    "    df_phy_norm = db['df_phy_norm']\n",
    "else:\n",
    "    print(\"df_phy_norm n'est pas trouvé dans la base de données.\")\n",
    "if 'df_phy_attack' in db:\n",
    "    df_phy_attack = db['df_phy_attack']\n",
    "if 'df_phy_all' in db:\n",
    "    df_phy_all = db['df_phy_all']\n",
    "else:\n",
    "    print(\"df_phy_all n'est pas trouvé dans la base de données.\")\n",
    "if 'dict_dfs' in db:\n",
    "    dict_dfs = db['dict_dfs']\n",
    "else:\n",
    "    print(\"dict_dfs n'est pas trouvé dans la base de données.\")\n"
   ]
  },
  {
   "cell_type": "code",
   "execution_count": 63,
   "metadata": {},
   "outputs": [
    {
     "name": "stdout",
     "output_type": "stream",
     "text": [
      "<class 'pandas.core.frame.DataFrame'>\n",
      "RangeIndex: 2420 entries, 0 to 2419\n",
      "Data columns (total 29 columns):\n",
      " #   Column         Non-Null Count  Dtype         \n",
      "---  ------         --------------  -----         \n",
      " 0   Time           2420 non-null   datetime64[ns]\n",
      " 1   Tank_1         2420 non-null   int64         \n",
      " 2   Tank_2         2420 non-null   int64         \n",
      " 3   Tank_3         2420 non-null   int64         \n",
      " 4   Tank_4         2420 non-null   int64         \n",
      " 5   Tank_5         2420 non-null   int64         \n",
      " 6   Tank_6         2420 non-null   int64         \n",
      " 7   Tank_7         2420 non-null   int64         \n",
      " 8   Tank_8         2420 non-null   int64         \n",
      " 9   Pump_1         2420 non-null   bool          \n",
      " 10  Pump_2         2420 non-null   bool          \n",
      " 11  Pump_4         2420 non-null   bool          \n",
      " 12  Pump_5         2420 non-null   bool          \n",
      " 13  Pump_6         2420 non-null   bool          \n",
      " 14  Flow_sensor_1  2420 non-null   category      \n",
      " 15  Flow_sensor_2  2420 non-null   bool          \n",
      " 16  Flow_sensor_4  2420 non-null   int64         \n",
      " 17  Valv_10        2420 non-null   bool          \n",
      " 18  Valv_11        2420 non-null   bool          \n",
      " 19  Valv_12        2420 non-null   bool          \n",
      " 20  Valv_13        2420 non-null   bool          \n",
      " 21  Valv_14        2420 non-null   bool          \n",
      " 22  Valv_15        2420 non-null   bool          \n",
      " 23  Valv_17        2420 non-null   bool          \n",
      " 24  Valv_18        2420 non-null   bool          \n",
      " 25  Valv_20        2420 non-null   bool          \n",
      " 26  Valv_22        2420 non-null   bool          \n",
      " 27  Label_n        2420 non-null   bool          \n",
      " 28  Label          2420 non-null   category      \n",
      "dtypes: bool(17), category(2), datetime64[ns](1), int64(9)\n",
      "memory usage: 234.1 KB\n"
     ]
    }
   ],
   "source": [
    "df_phy_1.info()"
   ]
  },
  {
   "cell_type": "code",
   "execution_count": 64,
   "metadata": {},
   "outputs": [
    {
     "data": {
      "text/html": [
       "<div>\n",
       "<style scoped>\n",
       "    .dataframe tbody tr th:only-of-type {\n",
       "        vertical-align: middle;\n",
       "    }\n",
       "\n",
       "    .dataframe tbody tr th {\n",
       "        vertical-align: top;\n",
       "    }\n",
       "\n",
       "    .dataframe thead th {\n",
       "        text-align: right;\n",
       "    }\n",
       "</style>\n",
       "<table border=\"1\" class=\"dataframe\">\n",
       "  <thead>\n",
       "    <tr style=\"text-align: right;\">\n",
       "      <th></th>\n",
       "      <th>Time</th>\n",
       "      <th>Tank_1</th>\n",
       "      <th>Tank_2</th>\n",
       "      <th>Tank_3</th>\n",
       "      <th>Tank_4</th>\n",
       "      <th>Tank_5</th>\n",
       "      <th>Tank_6</th>\n",
       "      <th>Tank_7</th>\n",
       "      <th>Tank_8</th>\n",
       "      <th>Pump_1</th>\n",
       "      <th>...</th>\n",
       "      <th>Valv_12</th>\n",
       "      <th>Valv_13</th>\n",
       "      <th>Valv_14</th>\n",
       "      <th>Valv_15</th>\n",
       "      <th>Valv_17</th>\n",
       "      <th>Valv_18</th>\n",
       "      <th>Valv_20</th>\n",
       "      <th>Valv_22</th>\n",
       "      <th>Label_n</th>\n",
       "      <th>Label</th>\n",
       "    </tr>\n",
       "  </thead>\n",
       "  <tbody>\n",
       "    <tr>\n",
       "      <th>0</th>\n",
       "      <td>2021-04-09 18:23:28</td>\n",
       "      <td>0</td>\n",
       "      <td>0</td>\n",
       "      <td>0</td>\n",
       "      <td>0</td>\n",
       "      <td>0</td>\n",
       "      <td>0</td>\n",
       "      <td>0</td>\n",
       "      <td>0</td>\n",
       "      <td>False</td>\n",
       "      <td>...</td>\n",
       "      <td>False</td>\n",
       "      <td>False</td>\n",
       "      <td>False</td>\n",
       "      <td>False</td>\n",
       "      <td>False</td>\n",
       "      <td>False</td>\n",
       "      <td>False</td>\n",
       "      <td>False</td>\n",
       "      <td>False</td>\n",
       "      <td>normal</td>\n",
       "    </tr>\n",
       "    <tr>\n",
       "      <th>1</th>\n",
       "      <td>2021-04-09 18:23:29</td>\n",
       "      <td>0</td>\n",
       "      <td>0</td>\n",
       "      <td>0</td>\n",
       "      <td>0</td>\n",
       "      <td>0</td>\n",
       "      <td>0</td>\n",
       "      <td>0</td>\n",
       "      <td>0</td>\n",
       "      <td>False</td>\n",
       "      <td>...</td>\n",
       "      <td>False</td>\n",
       "      <td>False</td>\n",
       "      <td>False</td>\n",
       "      <td>False</td>\n",
       "      <td>False</td>\n",
       "      <td>False</td>\n",
       "      <td>False</td>\n",
       "      <td>False</td>\n",
       "      <td>False</td>\n",
       "      <td>normal</td>\n",
       "    </tr>\n",
       "    <tr>\n",
       "      <th>2</th>\n",
       "      <td>2021-04-09 18:23:30</td>\n",
       "      <td>0</td>\n",
       "      <td>0</td>\n",
       "      <td>0</td>\n",
       "      <td>0</td>\n",
       "      <td>0</td>\n",
       "      <td>0</td>\n",
       "      <td>0</td>\n",
       "      <td>0</td>\n",
       "      <td>False</td>\n",
       "      <td>...</td>\n",
       "      <td>False</td>\n",
       "      <td>False</td>\n",
       "      <td>False</td>\n",
       "      <td>False</td>\n",
       "      <td>False</td>\n",
       "      <td>False</td>\n",
       "      <td>False</td>\n",
       "      <td>False</td>\n",
       "      <td>False</td>\n",
       "      <td>normal</td>\n",
       "    </tr>\n",
       "    <tr>\n",
       "      <th>3</th>\n",
       "      <td>2021-04-09 18:23:31</td>\n",
       "      <td>0</td>\n",
       "      <td>0</td>\n",
       "      <td>0</td>\n",
       "      <td>0</td>\n",
       "      <td>0</td>\n",
       "      <td>0</td>\n",
       "      <td>0</td>\n",
       "      <td>0</td>\n",
       "      <td>False</td>\n",
       "      <td>...</td>\n",
       "      <td>False</td>\n",
       "      <td>False</td>\n",
       "      <td>False</td>\n",
       "      <td>False</td>\n",
       "      <td>False</td>\n",
       "      <td>False</td>\n",
       "      <td>False</td>\n",
       "      <td>False</td>\n",
       "      <td>False</td>\n",
       "      <td>normal</td>\n",
       "    </tr>\n",
       "    <tr>\n",
       "      <th>4</th>\n",
       "      <td>2021-04-09 18:23:32</td>\n",
       "      <td>0</td>\n",
       "      <td>0</td>\n",
       "      <td>0</td>\n",
       "      <td>0</td>\n",
       "      <td>0</td>\n",
       "      <td>0</td>\n",
       "      <td>0</td>\n",
       "      <td>0</td>\n",
       "      <td>True</td>\n",
       "      <td>...</td>\n",
       "      <td>False</td>\n",
       "      <td>False</td>\n",
       "      <td>False</td>\n",
       "      <td>False</td>\n",
       "      <td>False</td>\n",
       "      <td>False</td>\n",
       "      <td>False</td>\n",
       "      <td>False</td>\n",
       "      <td>False</td>\n",
       "      <td>normal</td>\n",
       "    </tr>\n",
       "  </tbody>\n",
       "</table>\n",
       "<p>5 rows × 29 columns</p>\n",
       "</div>"
      ],
      "text/plain": [
       "                 Time  Tank_1  Tank_2  Tank_3  Tank_4  Tank_5  Tank_6  Tank_7  \\\n",
       "0 2021-04-09 18:23:28       0       0       0       0       0       0       0   \n",
       "1 2021-04-09 18:23:29       0       0       0       0       0       0       0   \n",
       "2 2021-04-09 18:23:30       0       0       0       0       0       0       0   \n",
       "3 2021-04-09 18:23:31       0       0       0       0       0       0       0   \n",
       "4 2021-04-09 18:23:32       0       0       0       0       0       0       0   \n",
       "\n",
       "   Tank_8  Pump_1  ...  Valv_12  Valv_13  Valv_14  Valv_15 Valv_17  Valv_18  \\\n",
       "0       0   False  ...    False    False    False    False   False    False   \n",
       "1       0   False  ...    False    False    False    False   False    False   \n",
       "2       0   False  ...    False    False    False    False   False    False   \n",
       "3       0   False  ...    False    False    False    False   False    False   \n",
       "4       0    True  ...    False    False    False    False   False    False   \n",
       "\n",
       "   Valv_20  Valv_22  Label_n   Label  \n",
       "0    False    False    False  normal  \n",
       "1    False    False    False  normal  \n",
       "2    False    False    False  normal  \n",
       "3    False    False    False  normal  \n",
       "4    False    False    False  normal  \n",
       "\n",
       "[5 rows x 29 columns]"
      ]
     },
     "execution_count": 64,
     "metadata": {},
     "output_type": "execute_result"
    }
   ],
   "source": [
    "df_phy_1.head()"
   ]
  },
  {
   "cell_type": "code",
   "execution_count": 65,
   "metadata": {},
   "outputs": [],
   "source": [
    "# 5 séries temporelles multivariées\n",
    "# créer des fenêtres temporelles sur chaque jeu de données sans essayer de les fusionner sur les dates \n",
    "# chaque dataset aura ses propres fenêtres glissantes\n",
    "# supprimer la colonne de temps\n",
    "# ensuite diviser en X et y (Label et Label_n, on chercher à prédire l'un ou l'autre)"
   ]
  },
  {
   "cell_type": "code",
   "execution_count": 66,
   "metadata": {},
   "outputs": [],
   "source": [
    "cnn_1D_df_phy_1 = df_phy_1.drop(columns=['Time'])\n",
    "cnn_1D_df_phy_2 = df_phy_2.drop(columns=['Time'])\n",
    "cnn_1D_df_phy_3 = df_phy_3.drop(columns=['Time'])\n",
    "cnn_1D_df_phy_4 = df_phy_4.drop(columns=['Time'])\n",
    "cnn_1D_df_phy_norm = df_phy_norm.drop(columns=['Time'])"
   ]
  },
  {
   "cell_type": "code",
   "execution_count": 67,
   "metadata": {},
   "outputs": [],
   "source": [
    "# Diviser en X (features) et y (labels)\n",
    "X_phy_1 = cnn_1D_df_phy_1.drop(columns=['Label', 'Label_n'])  \n",
    "y_label_phy_1 = cnn_1D_df_phy_1['Label']                      \n",
    "y_label_n_phy_1 = cnn_1D_df_phy_1['Label_n']                  \n",
    "\n",
    "X_phy_2 = cnn_1D_df_phy_2.drop(columns=['Label', 'Label_n'])  \n",
    "y_label_phy_2 = cnn_1D_df_phy_2['Label']                      \n",
    "y_label_n_phy_2 = cnn_1D_df_phy_2['Label_n']      \n",
    "\n",
    "X_phy_3 = cnn_1D_df_phy_3.drop(columns=['Label', 'Label_n'])\n",
    "y_label_phy_3 = cnn_1D_df_phy_3['Label']\n",
    "y_label_n_phy_3 = cnn_1D_df_phy_3['Label_n']\n",
    "\n",
    "X_phy_4 = cnn_1D_df_phy_4.drop(columns=['Label', 'Label_n'])\n",
    "y_label_phy_4 = cnn_1D_df_phy_4['Label']\n",
    "y_label_n_phy_4 = cnn_1D_df_phy_4['Label_n']\n",
    "\n",
    "X_phy_norm = cnn_1D_df_phy_norm.drop(columns=['Label', 'Label_n'])\n",
    "y_label_phy_norm = cnn_1D_df_phy_norm['Label']\n",
    "y_label_n_phy_norm = cnn_1D_df_phy_norm['Label_n']"
   ]
  },
  {
   "cell_type": "code",
   "execution_count": 68,
   "metadata": {},
   "outputs": [],
   "source": [
    "# TODO : pas sur de ce coup là; je pense l'enlever : à voir\n",
    "\n",
    "# on va concaténer les données, mais la fin d'un dataset n'est pas lié au début du suivant\n",
    "# on ajoute juste une colonne pour identifier le dataset d'origine\n",
    "X_phy_1['dataset_id'] = 'dataset_1'\n",
    "X_phy_2['dataset_id'] = 'dataset_2'\n",
    "X_phy_3['dataset_id'] = 'dataset_3'\n",
    "X_phy_4['dataset_id'] = 'dataset_4'\n",
    "X_phy_norm['dataset_id'] = 'dataset_norm'\n",
    "\n",
    "X_phy_1['dataset_id'] = X_phy_1['dataset_id'].astype('category')\n",
    "X_phy_2['dataset_id'] = X_phy_2['dataset_id'].astype('category')\n",
    "X_phy_3['dataset_id'] = X_phy_3['dataset_id'].astype('category')\n",
    "X_phy_4['dataset_id'] = X_phy_4['dataset_id'].astype('category')\n",
    "X_phy_norm['dataset_id'] = X_phy_norm['dataset_id'].astype('category')\n"
   ]
  },
  {
   "cell_type": "code",
   "execution_count": 69,
   "metadata": {},
   "outputs": [],
   "source": [
    "# Normaliser : MinMaxScaler nous permet de préparer nos données de manière efficace,\n",
    "# garantissant que chaque feature contribut de manière égale au processus d'apprentissage"
   ]
  },
  {
   "cell_type": "code",
   "execution_count": 70,
   "metadata": {},
   "outputs": [],
   "source": [
    "# Fonction pour normaliser uniquement les colonnes numériques d'un DataFrame\n",
    "def normalize_numeric_columns(df):\n",
    "    scaler = MinMaxScaler()\n",
    "    numeric_cols = df.select_dtypes(include=['int64']).columns  # Sélectionne les colonnes numériques\n",
    "    df[numeric_cols] = scaler.fit_transform(df[numeric_cols])  # Applique le scaler uniquement sur les colonnes numériques\n",
    "    return df\n",
    "\n",
    "# Appliquez la normalisation sur chaque DataFrame individuellement\n",
    "X_phy_1 = normalize_numeric_columns(X_phy_1)\n",
    "X_phy_2 = normalize_numeric_columns(X_phy_2)\n",
    "X_phy_3 = normalize_numeric_columns(X_phy_3)\n",
    "X_phy_4 = normalize_numeric_columns(X_phy_4)\n",
    "X_phy_norm = normalize_numeric_columns(X_phy_norm)\n"
   ]
  },
  {
   "cell_type": "code",
   "execution_count": 71,
   "metadata": {},
   "outputs": [
    {
     "data": {
      "text/plain": [
       "{'Flow_sensor_1', 'dataset_id'}"
      ]
     },
     "execution_count": 71,
     "metadata": {},
     "output_type": "execute_result"
    }
   ],
   "source": [
    "cat_cols = [df.select_dtypes(include=['category']).columns for df in [X_phy_1, X_phy_2, X_phy_3, X_phy_4, X_phy_norm]]  \n",
    "cat_cols = set(cat_cols[0])  \n",
    "cat_cols"
   ]
  },
  {
   "cell_type": "code",
   "execution_count": 72,
   "metadata": {},
   "outputs": [
    {
     "data": {
      "text/plain": [
       "{'Flow_sensor_1': [0, 100, 4000],\n",
       " 'dataset_id': ['dataset_4',\n",
       "  'dataset_2',\n",
       "  'dataset_3',\n",
       "  'dataset_norm',\n",
       "  'dataset_1']}"
      ]
     },
     "execution_count": 72,
     "metadata": {},
     "output_type": "execute_result"
    }
   ],
   "source": [
    "# extraire tous les catégories pour les colonnes catégorielles \n",
    "\n",
    "def extract_categories(df):\n",
    "    return {col: list(df[col].cat.categories) for col in df.select_dtypes(include=['category']).columns}\n",
    "\n",
    "cat_dict_phy_1 = extract_categories(X_phy_1)\n",
    "cat_dict_phy_2 = extract_categories(X_phy_2)\n",
    "cat_dict_phy_3 = extract_categories(X_phy_3)\n",
    "cat_dict_phy_4 = extract_categories(X_phy_4)\n",
    "cat_dict_phy_norm = extract_categories(X_phy_norm)\n",
    "\n",
    "# fusionner les catégories de tous les datasets\n",
    "cat_dict_all = {}\n",
    "for cat_dict in [cat_dict_phy_1, cat_dict_phy_2, cat_dict_phy_3, cat_dict_phy_4, cat_dict_phy_norm]:\n",
    "    for key, value in cat_dict.items():\n",
    "        if key not in cat_dict_all:\n",
    "            cat_dict_all[key] = value\n",
    "        else:\n",
    "            cat_dict_all[key] = list(set(cat_dict_all[key] + value))\n",
    "cat_dict_all"
   ]
  },
  {
   "cell_type": "code",
   "execution_count": 73,
   "metadata": {},
   "outputs": [],
   "source": [
    "# Fonction pour appliquer le One-Hot Encoding tout en gardant les mêmes colonnes\n",
    "def apply_one_hot_encoding(df, cat_dict_all):\n",
    "    for col, categories in cat_dict_all.items():\n",
    "        if col in df.columns:  # Appliquer le One-Hot uniquement aux colonnes présentes\n",
    "            # Convertir la colonne en Categorical avec les catégories globales\n",
    "            df[col] = pd.Categorical(df[col], categories=categories)\n",
    "            \n",
    "            # Créer un DataFrame avec le One-Hot Encoding en utilisant les catégories globales\n",
    "            dummies = pd.get_dummies(df[col], prefix=col)\n",
    "            \n",
    "            # Ajouter les colonnes dummies et supprimer la colonne originale\n",
    "            df = pd.concat([df, dummies], axis=1).drop(col, axis=1)\n",
    "    \n",
    "    return df\n",
    "\n",
    "# Appliquer One-Hot Encoding pour chaque dataframe\n",
    "X_phy_1 = apply_one_hot_encoding(X_phy_1, cat_dict_all)\n",
    "X_phy_2 = apply_one_hot_encoding(X_phy_2, cat_dict_all)\n",
    "X_phy_3 = apply_one_hot_encoding(X_phy_3, cat_dict_all)\n",
    "X_phy_4 = apply_one_hot_encoding(X_phy_4, cat_dict_all)\n",
    "X_phy_norm = apply_one_hot_encoding(X_phy_norm, cat_dict_all)\n"
   ]
  },
  {
   "cell_type": "code",
   "execution_count": 74,
   "metadata": {},
   "outputs": [
    {
     "name": "stdout",
     "output_type": "stream",
     "text": [
      "(2420, 33)\n",
      "(2104, 33)\n",
      "(1254, 33)\n",
      "(1717, 33)\n",
      "(3428, 33)\n"
     ]
    }
   ],
   "source": [
    "# vérif de la taille des données\n",
    "print(X_phy_1.shape)\n",
    "print(X_phy_2.shape)\n",
    "print(X_phy_3.shape)\n",
    "print(X_phy_4.shape)\n",
    "print(X_phy_norm.shape)"
   ]
  },
  {
   "cell_type": "code",
   "execution_count": 75,
   "metadata": {},
   "outputs": [
    {
     "name": "stdout",
     "output_type": "stream",
     "text": [
      "<class 'pandas.core.frame.DataFrame'>\n",
      "RangeIndex: 2420 entries, 0 to 2419\n",
      "Data columns (total 33 columns):\n",
      " #   Column                   Non-Null Count  Dtype  \n",
      "---  ------                   --------------  -----  \n",
      " 0   Tank_1                   2420 non-null   float64\n",
      " 1   Tank_2                   2420 non-null   float64\n",
      " 2   Tank_3                   2420 non-null   float64\n",
      " 3   Tank_4                   2420 non-null   float64\n",
      " 4   Tank_5                   2420 non-null   float64\n",
      " 5   Tank_6                   2420 non-null   float64\n",
      " 6   Tank_7                   2420 non-null   float64\n",
      " 7   Tank_8                   2420 non-null   float64\n",
      " 8   Pump_1                   2420 non-null   bool   \n",
      " 9   Pump_2                   2420 non-null   bool   \n",
      " 10  Pump_4                   2420 non-null   bool   \n",
      " 11  Pump_5                   2420 non-null   bool   \n",
      " 12  Pump_6                   2420 non-null   bool   \n",
      " 13  Flow_sensor_2            2420 non-null   bool   \n",
      " 14  Flow_sensor_4            2420 non-null   float64\n",
      " 15  Valv_10                  2420 non-null   bool   \n",
      " 16  Valv_11                  2420 non-null   bool   \n",
      " 17  Valv_12                  2420 non-null   bool   \n",
      " 18  Valv_13                  2420 non-null   bool   \n",
      " 19  Valv_14                  2420 non-null   bool   \n",
      " 20  Valv_15                  2420 non-null   bool   \n",
      " 21  Valv_17                  2420 non-null   bool   \n",
      " 22  Valv_18                  2420 non-null   bool   \n",
      " 23  Valv_20                  2420 non-null   bool   \n",
      " 24  Valv_22                  2420 non-null   bool   \n",
      " 25  Flow_sensor_1_0          2420 non-null   bool   \n",
      " 26  Flow_sensor_1_100        2420 non-null   bool   \n",
      " 27  Flow_sensor_1_4000       2420 non-null   bool   \n",
      " 28  dataset_id_dataset_4     2420 non-null   bool   \n",
      " 29  dataset_id_dataset_2     2420 non-null   bool   \n",
      " 30  dataset_id_dataset_3     2420 non-null   bool   \n",
      " 31  dataset_id_dataset_norm  2420 non-null   bool   \n",
      " 32  dataset_id_dataset_1     2420 non-null   bool   \n",
      "dtypes: bool(24), float64(9)\n",
      "memory usage: 227.0 KB\n",
      "None\n",
      "\n",
      "<class 'pandas.core.frame.DataFrame'>\n",
      "RangeIndex: 3428 entries, 0 to 3427\n",
      "Data columns (total 33 columns):\n",
      " #   Column                   Non-Null Count  Dtype  \n",
      "---  ------                   --------------  -----  \n",
      " 0   Tank_1                   3428 non-null   float64\n",
      " 1   Tank_2                   3428 non-null   float64\n",
      " 2   Tank_3                   3428 non-null   float64\n",
      " 3   Tank_4                   3428 non-null   float64\n",
      " 4   Tank_5                   3428 non-null   float64\n",
      " 5   Tank_6                   3428 non-null   float64\n",
      " 6   Tank_7                   3428 non-null   float64\n",
      " 7   Tank_8                   3428 non-null   float64\n",
      " 8   Pump_1                   3428 non-null   bool   \n",
      " 9   Pump_2                   3428 non-null   bool   \n",
      " 10  Pump_4                   3428 non-null   bool   \n",
      " 11  Pump_5                   3428 non-null   bool   \n",
      " 12  Pump_6                   3428 non-null   bool   \n",
      " 13  Flow_sensor_2            3428 non-null   bool   \n",
      " 14  Flow_sensor_4            3428 non-null   float64\n",
      " 15  Valv_10                  3428 non-null   bool   \n",
      " 16  Valv_11                  3428 non-null   bool   \n",
      " 17  Valv_12                  3428 non-null   bool   \n",
      " 18  Valv_13                  3428 non-null   bool   \n",
      " 19  Valv_14                  3428 non-null   bool   \n",
      " 20  Valv_15                  3428 non-null   bool   \n",
      " 21  Valv_17                  3428 non-null   bool   \n",
      " 22  Valv_18                  3428 non-null   bool   \n",
      " 23  Valv_20                  3428 non-null   bool   \n",
      " 24  Valv_22                  3428 non-null   bool   \n",
      " 25  Flow_sensor_1_0          3428 non-null   bool   \n",
      " 26  Flow_sensor_1_100        3428 non-null   bool   \n",
      " 27  Flow_sensor_1_4000       3428 non-null   bool   \n",
      " 28  dataset_id_dataset_4     3428 non-null   bool   \n",
      " 29  dataset_id_dataset_2     3428 non-null   bool   \n",
      " 30  dataset_id_dataset_3     3428 non-null   bool   \n",
      " 31  dataset_id_dataset_norm  3428 non-null   bool   \n",
      " 32  dataset_id_dataset_1     3428 non-null   bool   \n",
      "dtypes: bool(24), float64(9)\n",
      "memory usage: 321.5 KB\n",
      "None\n"
     ]
    }
   ],
   "source": [
    "# vérif info\n",
    "print(X_phy_1.info())\n",
    "print()\n",
    "print(X_phy_norm.info())"
   ]
  },
  {
   "cell_type": "code",
   "execution_count": 76,
   "metadata": {},
   "outputs": [
    {
     "name": "stdout",
     "output_type": "stream",
     "text": [
      "Flow_sensor_1_100\n",
      "False    2104\n",
      "Name: count, dtype: int64\n",
      "dataset_id_dataset_1\n",
      "False    1254\n",
      "Name: count, dtype: int64\n",
      "dataset_id_dataset_3\n",
      "True    1254\n",
      "Name: count, dtype: int64\n"
     ]
    }
   ],
   "source": [
    "print(X_phy_2.value_counts('Flow_sensor_1_100'))\n",
    "# que des False -> ok\n",
    "\n",
    "print(X_phy_3.value_counts('dataset_id_dataset_1'))\n",
    "# que False -> ok\n",
    "\n",
    "print(X_phy_3.value_counts('dataset_id_dataset_3'))\n",
    "# que True -> ok"
   ]
  },
  {
   "cell_type": "code",
   "execution_count": 77,
   "metadata": {},
   "outputs": [
    {
     "data": {
      "text/plain": [
       "{}"
      ]
     },
     "execution_count": 77,
     "metadata": {},
     "output_type": "execute_result"
    }
   ],
   "source": [
    "# Fonction pour récupérer les valeurs uniques de chaque colonne catégorielle à travers tous les datasets\n",
    "def get_unique_values_all_labels(*dfs):\n",
    "    unique_values = {}\n",
    "    \n",
    "    # Combiner tous les datasets\n",
    "    combined_df = pd.concat(dfs, ignore_index=True)\n",
    "    \n",
    "    # Identifier les colonnes catégorielles\n",
    "    for col in combined_df.select_dtypes(include=['object']).columns:\n",
    "        # Ajouter les valeurs uniques de chaque colonne catégorielle\n",
    "        unique_values[col] = combined_df[col].unique()\n",
    "    \n",
    "    return unique_values\n",
    "\n",
    "unique_values = get_unique_values_all_labels(X_phy_1, X_phy_2, X_phy_3, X_phy_4, X_phy_norm)\n",
    "unique_values\n",
    "\n",
    "# plus rien -> ok"
   ]
  },
  {
   "cell_type": "code",
   "execution_count": 78,
   "metadata": {},
   "outputs": [
    {
     "name": "stdout",
     "output_type": "stream",
     "text": [
      "Label\n",
      "normal            1610\n",
      "MITM               533\n",
      "physical fault     277\n",
      "Name: count, dtype: int64\n",
      "Label\n",
      "normal            1798\n",
      "physical fault     123\n",
      "MITM                96\n",
      "DoS                 80\n",
      "scan                 7\n",
      "Name: count, dtype: int64\n"
     ]
    }
   ],
   "source": [
    "print(y_label_phy_1.value_counts())\n",
    "print(y_label_phy_2.value_counts())"
   ]
  },
  {
   "cell_type": "code",
   "execution_count": 79,
   "metadata": {},
   "outputs": [
    {
     "name": "stdout",
     "output_type": "stream",
     "text": [
      "Label\n",
      "normal            8906\n",
      "MITM              1008\n",
      "physical fault     685\n",
      "DoS                310\n",
      "scan                14\n",
      "Name: count, dtype: int64\n",
      "{np.str_('normal'): 0, np.str_('DoS'): 1, np.str_('MITM'): 2, np.str_('physical fault'): 3, np.str_('scan'): 4}\n"
     ]
    }
   ],
   "source": [
    "# Concaténer les labels de tous les datasets\n",
    "all_labels = pd.concat([y_label_phy_1, y_label_phy_2, y_label_phy_3, y_label_phy_4, y_label_phy_norm], ignore_index=True)\n",
    "print(all_labels.value_counts())\n",
    "\n",
    "# Définir explicitement l'ordre des classes, avec 'normal' en premier\n",
    "ordered_classes = ['normal', 'DoS', 'MITM', 'physical fault', 'scan']\n",
    "nb_class = 5\n",
    "\n",
    "# Créer un LabelEncoder et assigner directement l'ordre des classes\n",
    "label_encoder = LabelEncoder()\n",
    "# Assigner les classes manuellement : on force l'ordre pour que normal soit à 0\n",
    "label_encoder.classes_ = np.array(ordered_classes)\n",
    "\n",
    "# Récupérer la correspondance entre les labels d'origine et les labels encodés\n",
    "label_mapping = {label: encoded for label, encoded in zip(label_encoder.classes_, range(len(label_encoder.classes_)))}\n",
    "print(label_mapping)\n",
    "\n",
    "# Appliquer la transformation sur les datasets\n",
    "y_label_phy_1_encoder = label_encoder.transform(df_phy_1['Label'])\n",
    "y_label_phy_2_encoder = label_encoder.transform(df_phy_2['Label'])\n",
    "y_label_phy_3_encoder = label_encoder.transform(df_phy_3['Label'])\n",
    "y_label_phy_4_encoder = label_encoder.transform(df_phy_4['Label'])\n",
    "y_label_phy_norm_encoder = label_encoder.transform(df_phy_norm['Label'])\n",
    "\n",
    "# Convertir en DataFrame\n",
    "y_label_phy_1_df_enc = pd.DataFrame(y_label_phy_1_encoder, columns=['encoded_label'])\n",
    "y_label_phy_2_df_enc = pd.DataFrame(y_label_phy_2_encoder, columns=['encoded_label'])\n",
    "y_label_phy_3_df_enc = pd.DataFrame(y_label_phy_3_encoder, columns=['encoded_label'])\n",
    "y_label_phy_4_df_enc = pd.DataFrame(y_label_phy_4_encoder, columns=['encoded_label'])\n",
    "y_label_phy_norm_df_enc = pd.DataFrame(y_label_phy_norm_encoder, columns=['encoded_label'])"
   ]
  },
  {
   "cell_type": "code",
   "execution_count": 80,
   "metadata": {},
   "outputs": [
    {
     "name": "stdout",
     "output_type": "stream",
     "text": [
      "Label\n",
      "normal            1610\n",
      "MITM               533\n",
      "physical fault     277\n",
      "Name: count, dtype: int64\n",
      "encoded_label\n",
      "0    1610\n",
      "2     533\n",
      "3     277\n",
      "Name: count, dtype: int64\n"
     ]
    }
   ],
   "source": [
    "# Affichage pour vérifier\n",
    "print(y_label_phy_1.value_counts())\n",
    "print(y_label_phy_1_df_enc['encoded_label'].value_counts())\n",
    "# ok -> on écrase y_label_phy_1"
   ]
  },
  {
   "cell_type": "code",
   "execution_count": 81,
   "metadata": {},
   "outputs": [],
   "source": [
    "y_label_phy_1 = y_label_phy_1_df_enc\n",
    "y_label_phy_2 = y_label_phy_2_df_enc\n",
    "y_label_phy_3 = y_label_phy_3_df_enc\n",
    "y_label_phy_4 = y_label_phy_4_df_enc\n",
    "y_label_phy_norm = y_label_phy_norm_df_enc"
   ]
  },
  {
   "cell_type": "code",
   "execution_count": 82,
   "metadata": {},
   "outputs": [
    {
     "name": "stdout",
     "output_type": "stream",
     "text": [
      "(2420, 33)\n",
      "(2420,)\n",
      "(2420, 1)\n"
     ]
    }
   ],
   "source": [
    "print(X_phy_1.shape)\n",
    "print(y_label_n_phy_1.shape)\n",
    "print(y_label_phy_1.shape)"
   ]
  },
  {
   "cell_type": "markdown",
   "metadata": {},
   "source": [
    "## Modélisation pour essayer de détecter les attaques "
   ]
  },
  {
   "cell_type": "markdown",
   "metadata": {},
   "source": [
    "### Prédiction de Label_n "
   ]
  },
  {
   "cell_type": "code",
   "execution_count": 83,
   "metadata": {},
   "outputs": [],
   "source": [
    "def create_sliding_windows(X, y, window_size):\n",
    "    X_windows = []\n",
    "    y_windows = []\n",
    "\n",
    "    for i in range(len(X) - window_size):\n",
    "        X_windows.append(X.iloc[i:i + window_size])  \n",
    "        y_windows.append(y.iloc[i + window_size])   \n",
    "\n",
    "    return np.array(X_windows), np.array(y_windows)"
   ]
  },
  {
   "cell_type": "code",
   "execution_count": 84,
   "metadata": {},
   "outputs": [],
   "source": [
    "window_size = 10 # TODO : déterminer 10 secondes via viz ? sinon changer la valeur\n",
    "\n",
    "# Créer des fenêtres glissantes pour X et y\n",
    "X_windows_phy_1, y_windows_label_n_phy_1 = create_sliding_windows(X_phy_1, y_label_n_phy_1, window_size)\n",
    "X_windows_phy_2, y_windows_label_n_phy_2 = create_sliding_windows(X_phy_2, y_label_n_phy_2, window_size)\n",
    "X_windows_phy_3, y_windows_label_n_phy_3 = create_sliding_windows(X_phy_3, y_label_n_phy_3, window_size)\n",
    "X_windows_phy_4, y_windows_label_n_phy_4 = create_sliding_windows(X_phy_4, y_label_n_phy_4, window_size)\n",
    "X_windows_phy_norm, y_windows_label_n_phy_norm = create_sliding_windows(X_phy_norm, y_label_n_phy_norm, window_size)"
   ]
  },
  {
   "cell_type": "code",
   "execution_count": 85,
   "metadata": {},
   "outputs": [
    {
     "name": "stdout",
     "output_type": "stream",
     "text": [
      "(2410, 10, 33)\n",
      "(2410,)\n",
      "(2094, 10, 33)\n",
      "(2094,)\n",
      "(1244, 10, 33)\n",
      "(1244,)\n",
      "(1707, 10, 33)\n",
      "(1707,)\n",
      "(3418, 10, 33)\n",
      "(3418,)\n"
     ]
    }
   ],
   "source": [
    "# Vérifier la forme des données\n",
    "print(X_windows_phy_1.shape)  # (nombre d'échantillons, window_size, nombre de features)\n",
    "print(y_windows_label_n_phy_1.shape)  # (nombre d'échantillons,)\n",
    "\n",
    "print(X_windows_phy_2.shape)\n",
    "print(y_windows_label_n_phy_2.shape)\n",
    "\n",
    "print(X_windows_phy_3.shape)\n",
    "print(y_windows_label_n_phy_3.shape)\n",
    "\n",
    "print(X_windows_phy_4.shape)\n",
    "print(y_windows_label_n_phy_4.shape)\n",
    "\n",
    "print(X_windows_phy_norm.shape)\n",
    "print(y_windows_label_n_phy_norm.shape)"
   ]
  },
  {
   "cell_type": "code",
   "execution_count": 86,
   "metadata": {},
   "outputs": [
    {
     "name": "stdout",
     "output_type": "stream",
     "text": [
      "Shape of X_all: (10873, 10, 33)\n",
      "Shape of y_all: (10873,)\n"
     ]
    }
   ],
   "source": [
    "# concaténer les données\n",
    "\n",
    "X_all = np.concatenate([X_windows_phy_1, X_windows_phy_2, X_windows_phy_3, X_windows_phy_4, X_windows_phy_norm], axis=0)\n",
    "y_all = np.concatenate([y_windows_label_n_phy_1, y_windows_label_n_phy_2, y_windows_label_n_phy_3, y_windows_label_n_phy_4, y_windows_label_n_phy_norm], axis=0)\n",
    "\n",
    "# Vérifier la forme des données après concaténation\n",
    "print(\"Shape of X_all:\", X_all.shape)  # (nombre d'échantillons, window_size, nombre de features)\n",
    "print(\"Shape of y_all:\", y_all.shape)  # (nombre d'échantillons,)"
   ]
  },
  {
   "cell_type": "code",
   "execution_count": 87,
   "metadata": {},
   "outputs": [],
   "source": [
    "# Convertir les colonnes booléennes de X_train et X_test en float32\n",
    "X_all = X_all.astype('float64')\n",
    "y_all = y_all.astype('float64')"
   ]
  },
  {
   "cell_type": "code",
   "execution_count": 88,
   "metadata": {},
   "outputs": [],
   "source": [
    "# division en train et test\n",
    "X_train, X_test, y_train, y_test = train_test_split(X_all, y_all, test_size=0.2, random_state=42)"
   ]
  },
  {
   "cell_type": "code",
   "execution_count": 89,
   "metadata": {},
   "outputs": [
    {
     "name": "stdout",
     "output_type": "stream",
     "text": [
      "<class 'numpy.ndarray'> float64\n",
      "<class 'numpy.ndarray'> float64\n"
     ]
    }
   ],
   "source": [
    "print(type(X_train), X_train.dtype)\n",
    "print(type(y_train), y_train.dtype)"
   ]
  },
  {
   "cell_type": "code",
   "execution_count": 90,
   "metadata": {},
   "outputs": [
    {
     "name": "stderr",
     "output_type": "stream",
     "text": [
      "/home/zoe/.local/lib/python3.10/site-packages/keras/src/layers/convolutional/base_conv.py:107: UserWarning: Do not pass an `input_shape`/`input_dim` argument to a layer. When using Sequential models, prefer using an `Input(shape)` object as the first layer in the model instead.\n",
      "  super().__init__(activity_regularizer=activity_regularizer, **kwargs)\n"
     ]
    }
   ],
   "source": [
    "# Définir et entraîner le modèle CNN 1D\n",
    "model = Sequential()\n",
    "\n",
    "# Ajouter une couche Conv1D\n",
    "model.add(Conv1D(filters=64, kernel_size=3, activation='relu', input_shape=(X_train.shape[1], X_train.shape[2])))\n",
    "model.add(MaxPooling1D(pool_size=2))\n",
    "\n",
    "# Ajouter d'autres couches convolutives si nécessaire\n",
    "model.add(Conv1D(filters=128, kernel_size=3, activation='relu'))\n",
    "model.add(MaxPooling1D(pool_size=2))\n",
    "\n",
    "# Aplatir les sorties pour les couches fully connected\n",
    "model.add(Flatten())\n",
    "\n",
    "# Ajouter une couche Dense pour la classification binaire\n",
    "model.add(Dense(64, activation='relu'))\n",
    "model.add(Dense(1, activation='sigmoid'))  # Une sortie avec activation sigmoïde pour classification binaire\n",
    "\n",
    "# Compiler le modèle : binary_crossentropy pour une classification binaire\n",
    "model.compile(optimizer='adam', loss='binary_crossentropy', metrics=['accuracy'])\n",
    "\n",
    "# Mise en place de l'EarlyStopping\n",
    "early_stopping = EarlyStopping(monitor='val_loss', patience=10, restore_best_weights=True)"
   ]
  },
  {
   "cell_type": "code",
   "execution_count": 91,
   "metadata": {},
   "outputs": [
    {
     "name": "stdout",
     "output_type": "stream",
     "text": [
      "Epoch 1/100\n",
      "\u001b[1m272/272\u001b[0m \u001b[32m━━━━━━━━━━━━━━━━━━━━\u001b[0m\u001b[37m\u001b[0m \u001b[1m2s\u001b[0m 4ms/step - accuracy: 0.8334 - loss: 0.3821 - val_accuracy: 0.8855 - val_loss: 0.2480\n",
      "Epoch 2/100\n",
      "\u001b[1m272/272\u001b[0m \u001b[32m━━━━━━━━━━━━━━━━━━━━\u001b[0m\u001b[37m\u001b[0m \u001b[1m1s\u001b[0m 4ms/step - accuracy: 0.9046 - loss: 0.2181 - val_accuracy: 0.9039 - val_loss: 0.1963\n",
      "Epoch 3/100\n",
      "\u001b[1m272/272\u001b[0m \u001b[32m━━━━━━━━━━━━━━━━━━━━\u001b[0m\u001b[37m\u001b[0m \u001b[1m1s\u001b[0m 4ms/step - accuracy: 0.9176 - loss: 0.1765 - val_accuracy: 0.9191 - val_loss: 0.1563\n",
      "Epoch 4/100\n",
      "\u001b[1m272/272\u001b[0m \u001b[32m━━━━━━━━━━━━━━━━━━━━\u001b[0m\u001b[37m\u001b[0m \u001b[1m1s\u001b[0m 4ms/step - accuracy: 0.9339 - loss: 0.1488 - val_accuracy: 0.9347 - val_loss: 0.1315\n",
      "Epoch 5/100\n",
      "\u001b[1m272/272\u001b[0m \u001b[32m━━━━━━━━━━━━━━━━━━━━\u001b[0m\u001b[37m\u001b[0m \u001b[1m1s\u001b[0m 4ms/step - accuracy: 0.9434 - loss: 0.1297 - val_accuracy: 0.9444 - val_loss: 0.1197\n",
      "Epoch 6/100\n",
      "\u001b[1m272/272\u001b[0m \u001b[32m━━━━━━━━━━━━━━━━━━━━\u001b[0m\u001b[37m\u001b[0m \u001b[1m1s\u001b[0m 4ms/step - accuracy: 0.9481 - loss: 0.1185 - val_accuracy: 0.9499 - val_loss: 0.1137\n",
      "Epoch 7/100\n",
      "\u001b[1m272/272\u001b[0m \u001b[32m━━━━━━━━━━━━━━━━━━━━\u001b[0m\u001b[37m\u001b[0m \u001b[1m1s\u001b[0m 4ms/step - accuracy: 0.9582 - loss: 0.1057 - val_accuracy: 0.9522 - val_loss: 0.1091\n",
      "Epoch 8/100\n",
      "\u001b[1m272/272\u001b[0m \u001b[32m━━━━━━━━━━━━━━━━━━━━\u001b[0m\u001b[37m\u001b[0m \u001b[1m1s\u001b[0m 4ms/step - accuracy: 0.9615 - loss: 0.0960 - val_accuracy: 0.9540 - val_loss: 0.1075\n",
      "Epoch 9/100\n",
      "\u001b[1m272/272\u001b[0m \u001b[32m━━━━━━━━━━━━━━━━━━━━\u001b[0m\u001b[37m\u001b[0m \u001b[1m1s\u001b[0m 4ms/step - accuracy: 0.9623 - loss: 0.0894 - val_accuracy: 0.9536 - val_loss: 0.1112\n",
      "Epoch 10/100\n",
      "\u001b[1m272/272\u001b[0m \u001b[32m━━━━━━━━━━━━━━━━━━━━\u001b[0m\u001b[37m\u001b[0m \u001b[1m1s\u001b[0m 4ms/step - accuracy: 0.9630 - loss: 0.0855 - val_accuracy: 0.9536 - val_loss: 0.1084\n",
      "Epoch 11/100\n",
      "\u001b[1m272/272\u001b[0m \u001b[32m━━━━━━━━━━━━━━━━━━━━\u001b[0m\u001b[37m\u001b[0m \u001b[1m1s\u001b[0m 4ms/step - accuracy: 0.9690 - loss: 0.0795 - val_accuracy: 0.9591 - val_loss: 0.1049\n",
      "Epoch 12/100\n",
      "\u001b[1m272/272\u001b[0m \u001b[32m━━━━━━━━━━━━━━━━━━━━\u001b[0m\u001b[37m\u001b[0m \u001b[1m1s\u001b[0m 4ms/step - accuracy: 0.9689 - loss: 0.0748 - val_accuracy: 0.9651 - val_loss: 0.0931\n",
      "Epoch 13/100\n",
      "\u001b[1m272/272\u001b[0m \u001b[32m━━━━━━━━━━━━━━━━━━━━\u001b[0m\u001b[37m\u001b[0m \u001b[1m1s\u001b[0m 4ms/step - accuracy: 0.9694 - loss: 0.0723 - val_accuracy: 0.9706 - val_loss: 0.0886\n",
      "Epoch 14/100\n",
      "\u001b[1m272/272\u001b[0m \u001b[32m━━━━━━━━━━━━━━━━━━━━\u001b[0m\u001b[37m\u001b[0m \u001b[1m1s\u001b[0m 4ms/step - accuracy: 0.9706 - loss: 0.0698 - val_accuracy: 0.9674 - val_loss: 0.0957\n",
      "Epoch 15/100\n",
      "\u001b[1m272/272\u001b[0m \u001b[32m━━━━━━━━━━━━━━━━━━━━\u001b[0m\u001b[37m\u001b[0m \u001b[1m1s\u001b[0m 4ms/step - accuracy: 0.9720 - loss: 0.0702 - val_accuracy: 0.9664 - val_loss: 0.0756\n",
      "Epoch 16/100\n",
      "\u001b[1m272/272\u001b[0m \u001b[32m━━━━━━━━━━━━━━━━━━━━\u001b[0m\u001b[37m\u001b[0m \u001b[1m1s\u001b[0m 4ms/step - accuracy: 0.9750 - loss: 0.0630 - val_accuracy: 0.9706 - val_loss: 0.0719\n",
      "Epoch 17/100\n",
      "\u001b[1m272/272\u001b[0m \u001b[32m━━━━━━━━━━━━━━━━━━━━\u001b[0m\u001b[37m\u001b[0m \u001b[1m1s\u001b[0m 4ms/step - accuracy: 0.9746 - loss: 0.0617 - val_accuracy: 0.9701 - val_loss: 0.0705\n",
      "Epoch 18/100\n",
      "\u001b[1m272/272\u001b[0m \u001b[32m━━━━━━━━━━━━━━━━━━━━\u001b[0m\u001b[37m\u001b[0m \u001b[1m1s\u001b[0m 4ms/step - accuracy: 0.9742 - loss: 0.0623 - val_accuracy: 0.9697 - val_loss: 0.0727\n",
      "Epoch 19/100\n",
      "\u001b[1m272/272\u001b[0m \u001b[32m━━━━━━━━━━━━━━━━━━━━\u001b[0m\u001b[37m\u001b[0m \u001b[1m1s\u001b[0m 4ms/step - accuracy: 0.9785 - loss: 0.0558 - val_accuracy: 0.9733 - val_loss: 0.0725\n",
      "Epoch 20/100\n",
      "\u001b[1m272/272\u001b[0m \u001b[32m━━━━━━━━━━━━━━━━━━━━\u001b[0m\u001b[37m\u001b[0m \u001b[1m1s\u001b[0m 4ms/step - accuracy: 0.9769 - loss: 0.0555 - val_accuracy: 0.9697 - val_loss: 0.0721\n",
      "Epoch 21/100\n",
      "\u001b[1m272/272\u001b[0m \u001b[32m━━━━━━━━━━━━━━━━━━━━\u001b[0m\u001b[37m\u001b[0m \u001b[1m1s\u001b[0m 4ms/step - accuracy: 0.9764 - loss: 0.0567 - val_accuracy: 0.9761 - val_loss: 0.0623\n",
      "Epoch 22/100\n",
      "\u001b[1m272/272\u001b[0m \u001b[32m━━━━━━━━━━━━━━━━━━━━\u001b[0m\u001b[37m\u001b[0m \u001b[1m1s\u001b[0m 4ms/step - accuracy: 0.9771 - loss: 0.0539 - val_accuracy: 0.9743 - val_loss: 0.0750\n",
      "Epoch 23/100\n",
      "\u001b[1m272/272\u001b[0m \u001b[32m━━━━━━━━━━━━━━━━━━━━\u001b[0m\u001b[37m\u001b[0m \u001b[1m1s\u001b[0m 4ms/step - accuracy: 0.9801 - loss: 0.0483 - val_accuracy: 0.9807 - val_loss: 0.0542\n",
      "Epoch 24/100\n",
      "\u001b[1m272/272\u001b[0m \u001b[32m━━━━━━━━━━━━━━━━━━━━\u001b[0m\u001b[37m\u001b[0m \u001b[1m1s\u001b[0m 4ms/step - accuracy: 0.9826 - loss: 0.0454 - val_accuracy: 0.9743 - val_loss: 0.0614\n",
      "Epoch 25/100\n",
      "\u001b[1m272/272\u001b[0m \u001b[32m━━━━━━━━━━━━━━━━━━━━\u001b[0m\u001b[37m\u001b[0m \u001b[1m1s\u001b[0m 4ms/step - accuracy: 0.9810 - loss: 0.0468 - val_accuracy: 0.9784 - val_loss: 0.0630\n",
      "Epoch 26/100\n",
      "\u001b[1m272/272\u001b[0m \u001b[32m━━━━━━━━━━━━━━━━━━━━\u001b[0m\u001b[37m\u001b[0m \u001b[1m1s\u001b[0m 4ms/step - accuracy: 0.9818 - loss: 0.0460 - val_accuracy: 0.9784 - val_loss: 0.0579\n",
      "Epoch 27/100\n",
      "\u001b[1m272/272\u001b[0m \u001b[32m━━━━━━━━━━━━━━━━━━━━\u001b[0m\u001b[37m\u001b[0m \u001b[1m1s\u001b[0m 4ms/step - accuracy: 0.9826 - loss: 0.0485 - val_accuracy: 0.9720 - val_loss: 0.0694\n",
      "Epoch 28/100\n",
      "\u001b[1m272/272\u001b[0m \u001b[32m━━━━━━━━━━━━━━━━━━━━\u001b[0m\u001b[37m\u001b[0m \u001b[1m1s\u001b[0m 4ms/step - accuracy: 0.9795 - loss: 0.0493 - val_accuracy: 0.9720 - val_loss: 0.0669\n",
      "Epoch 29/100\n",
      "\u001b[1m272/272\u001b[0m \u001b[32m━━━━━━━━━━━━━━━━━━━━\u001b[0m\u001b[37m\u001b[0m \u001b[1m1s\u001b[0m 4ms/step - accuracy: 0.9811 - loss: 0.0437 - val_accuracy: 0.9756 - val_loss: 0.0640\n",
      "Epoch 30/100\n",
      "\u001b[1m272/272\u001b[0m \u001b[32m━━━━━━━━━━━━━━━━━━━━\u001b[0m\u001b[37m\u001b[0m \u001b[1m1s\u001b[0m 4ms/step - accuracy: 0.9813 - loss: 0.0493 - val_accuracy: 0.9720 - val_loss: 0.0605\n",
      "Epoch 31/100\n",
      "\u001b[1m272/272\u001b[0m \u001b[32m━━━━━━━━━━━━━━━━━━━━\u001b[0m\u001b[37m\u001b[0m \u001b[1m1s\u001b[0m 4ms/step - accuracy: 0.9838 - loss: 0.0385 - val_accuracy: 0.9641 - val_loss: 0.0945\n",
      "Epoch 32/100\n",
      "\u001b[1m272/272\u001b[0m \u001b[32m━━━━━━━━━━━━━━━━━━━━\u001b[0m\u001b[37m\u001b[0m \u001b[1m1s\u001b[0m 4ms/step - accuracy: 0.9828 - loss: 0.0446 - val_accuracy: 0.9720 - val_loss: 0.0587\n",
      "Epoch 33/100\n",
      "\u001b[1m272/272\u001b[0m \u001b[32m━━━━━━━━━━━━━━━━━━━━\u001b[0m\u001b[37m\u001b[0m \u001b[1m1s\u001b[0m 5ms/step - accuracy: 0.9812 - loss: 0.0472 - val_accuracy: 0.9789 - val_loss: 0.0573\n"
     ]
    }
   ],
   "source": [
    "# Mesurer le temps et la mémoire pour l'entraînement\n",
    "start_fit_time = time.time()\n",
    "fit_memory_before = memory_profiler.memory_usage()[0]\n",
    "\n",
    "# Entraîner le modèle\n",
    "history = model.fit(\n",
    "    X_train, y_train,\n",
    "    epochs=100,\n",
    "    batch_size=32,\n",
    "    validation_data=(X_test, y_test),\n",
    "    callbacks=[early_stopping]\n",
    ")\n",
    "\n",
    "fit_time = time.time() - start_fit_time\n",
    "fit_memory_after = memory_profiler.memory_usage()[0]\n",
    "fit_memory_usage = fit_memory_after - fit_memory_before"
   ]
  },
  {
   "cell_type": "code",
   "execution_count": 92,
   "metadata": {},
   "outputs": [
    {
     "name": "stdout",
     "output_type": "stream",
     "text": [
      "\u001b[1m68/68\u001b[0m \u001b[32m━━━━━━━━━━━━━━━━━━━━\u001b[0m\u001b[37m\u001b[0m \u001b[1m0s\u001b[0m 3ms/step\n"
     ]
    }
   ],
   "source": [
    "# Mesurer le temps et la mémoire pour la prédiction\n",
    "start_predict_time = time.time()\n",
    "pred_memory_before = memory_profiler.memory_usage()[0]\n",
    "\n",
    "# Prédire sur le jeu de test\n",
    "y_pred_proba = model.predict(X_test)\n",
    "y_pred = (y_pred_proba > 0.5).astype(int).flatten()  # Convertir les probabilités en classes binaires (True/False)\n",
    "\n",
    "predict_time = time.time() - start_predict_time\n",
    "pred_memory_after = memory_profiler.memory_usage()[0]\n",
    "predict_memory_usage = pred_memory_after - pred_memory_before"
   ]
  },
  {
   "cell_type": "code",
   "execution_count": 93,
   "metadata": {},
   "outputs": [],
   "source": [
    "# Calculer les métriques de classification\n",
    "conf_matrix = confusion_matrix(y_test, y_pred)\n",
    "TN, FP, FN, TP = conf_matrix.ravel() # attention c'est dans cet ordre !\n",
    "\n",
    "precision = precision_score(y_test, y_pred)\n",
    "recall_tpr = recall_score(y_test, y_pred)\n",
    "tnr = TN / (TN + FP) if (TN + FP) != 0 else 0\n",
    "accuracy = accuracy_score(y_test, y_pred)\n",
    "\n",
    "f1 = f1_score(y_test, y_pred)\n",
    "balanced_acc = balanced_accuracy_score(y_test, y_pred)\n",
    "mcc = matthews_corrcoef(y_test, y_pred)\n",
    "\n",
    "results_cnn1d_label_n = {\n",
    "    'model': \"CNN1D - label_n\",\n",
    "    'confusion_matrix': conf_matrix,\n",
    "    'precision': precision,\n",
    "    'recall': recall_tpr,\n",
    "    'tnr': tnr,\n",
    "    'accuracy': accuracy,\n",
    "    'f1': f1,\n",
    "    'balanced_accuracy': balanced_acc,\n",
    "    'mcc': mcc,\n",
    "    'fit_time': fit_time,\n",
    "    'predict_time': predict_time,\n",
    "    'fit_memory_usage': fit_memory_usage,\n",
    "    'predict_memory_usage': predict_memory_usage\n",
    "}"
   ]
  },
  {
   "cell_type": "code",
   "execution_count": 94,
   "metadata": {},
   "outputs": [
    {
     "name": "stdout",
     "output_type": "stream",
     "text": [
      "Évaluation complète du modèle:\n",
      "model: CNN1D - label_n\n",
      "confusion_matrix: [[1759   22]\n",
      " [  20  374]]\n",
      "precision: 0.9444444444444444\n",
      "recall: 0.949238578680203\n",
      "tnr: 0.9876473891072431\n",
      "accuracy: 0.9806896551724138\n",
      "f1: 0.9468354430379747\n",
      "balanced_accuracy: 0.9684429838937231\n",
      "mcc: 0.9350422565137095\n",
      "fit_time: 38.09368896484375\n",
      "predict_time: 0.47834324836730957\n",
      "fit_memory_usage: -21.953125\n",
      "predict_memory_usage: 6.296875\n"
     ]
    }
   ],
   "source": [
    "# Afficher les résultats\n",
    "print(\"Évaluation complète du modèle:\")\n",
    "for metric, value in results_cnn1d_label_n.items():\n",
    "    print(f\"{metric}: {value}\")"
   ]
  },
  {
   "cell_type": "code",
   "execution_count": null,
   "metadata": {},
   "outputs": [],
   "source": [
    "# sauvegarder dans PickleShareDB\n",
    "db['PHY_results_cnn1d_labeln'] = results_cnn1d_label_n"
   ]
  },
  {
   "cell_type": "markdown",
   "metadata": {},
   "source": [
    "### Prédiction de Label\n"
   ]
  },
  {
   "cell_type": "code",
   "execution_count": 96,
   "metadata": {},
   "outputs": [],
   "source": [
    "window_size = 10 # TODO : déterminer 10 secondes via viz ? sinon changer la valeur\n",
    "\n",
    "# Créer des fenêtres glissantes pour X et y\n",
    "X_windows_phy_1, y_windows_label_phy_1 = create_sliding_windows(X_phy_1, y_label_phy_1, window_size)\n",
    "X_windows_phy_2, y_windows_label_phy_2 = create_sliding_windows(X_phy_2, y_label_phy_2, window_size)\n",
    "X_windows_phy_3, y_windows_label_phy_3 = create_sliding_windows(X_phy_3, y_label_phy_3, window_size)\n",
    "X_windows_phy_4, y_windows_label_phy_4 = create_sliding_windows(X_phy_4, y_label_phy_4, window_size)\n",
    "X_windows_phy_norm, y_windows_label_phy_norm = create_sliding_windows(X_phy_norm, y_label_phy_norm, window_size)"
   ]
  },
  {
   "cell_type": "code",
   "execution_count": 97,
   "metadata": {},
   "outputs": [
    {
     "name": "stdout",
     "output_type": "stream",
     "text": [
      "(2410, 10, 33)\n",
      "(2410, 1)\n",
      "(2094, 10, 33)\n",
      "(2094, 1)\n",
      "(1244, 10, 33)\n",
      "(1244, 1)\n",
      "(1707, 10, 33)\n",
      "(1707, 1)\n",
      "(3418, 10, 33)\n",
      "(3418, 1)\n"
     ]
    }
   ],
   "source": [
    "# Vérifier la forme des données\n",
    "print(X_windows_phy_1.shape)  # (nombre d'échantillons, window_size, nombre de features)\n",
    "print(y_windows_label_phy_1.shape)  # (nombre d'échantillons,)\n",
    "\n",
    "print(X_windows_phy_2.shape)\n",
    "print(y_windows_label_phy_2.shape)\n",
    "\n",
    "print(X_windows_phy_3.shape)\n",
    "print(y_windows_label_phy_3.shape)\n",
    "\n",
    "print(X_windows_phy_4.shape)\n",
    "print(y_windows_label_phy_4.shape)\n",
    "\n",
    "print(X_windows_phy_norm.shape)\n",
    "print(y_windows_label_phy_norm.shape)"
   ]
  },
  {
   "cell_type": "code",
   "execution_count": 98,
   "metadata": {},
   "outputs": [
    {
     "name": "stdout",
     "output_type": "stream",
     "text": [
      "Shape of X_all: (10873, 10, 33)\n",
      "Shape of y_all: (10873, 1)\n"
     ]
    }
   ],
   "source": [
    "# concaténer les données\n",
    "\n",
    "X_all = np.concatenate([X_windows_phy_1, X_windows_phy_2, X_windows_phy_3, X_windows_phy_4, X_windows_phy_norm], axis=0)\n",
    "y_all = np.concatenate([y_windows_label_phy_1, y_windows_label_phy_2, y_windows_label_phy_3, y_windows_label_phy_4, y_windows_label_phy_norm], axis=0)\n",
    "\n",
    "# Vérifier la forme des données après concaténation\n",
    "print(\"Shape of X_all:\", X_all.shape)  # (nombre d'échantillons, window_size, nombre de features)\n",
    "print(\"Shape of y_all:\", y_all.shape)  # (nombre d'échantillons,)"
   ]
  },
  {
   "cell_type": "code",
   "execution_count": 99,
   "metadata": {},
   "outputs": [],
   "source": [
    "# Convertir les colonnes booléennes de X_train et X_test en float32\n",
    "X_all = X_all.astype('float64')\n",
    "y_all = y_all.astype('float64')"
   ]
  },
  {
   "cell_type": "code",
   "execution_count": 100,
   "metadata": {},
   "outputs": [],
   "source": [
    "# division en train et test\n",
    "X_train, X_test, y_train, y_test = train_test_split(X_all, y_all, test_size=0.2, random_state=42)"
   ]
  },
  {
   "cell_type": "code",
   "execution_count": 101,
   "metadata": {},
   "outputs": [
    {
     "name": "stderr",
     "output_type": "stream",
     "text": [
      "/home/zoe/.local/lib/python3.10/site-packages/keras/src/layers/convolutional/base_conv.py:107: UserWarning: Do not pass an `input_shape`/`input_dim` argument to a layer. When using Sequential models, prefer using an `Input(shape)` object as the first layer in the model instead.\n",
      "  super().__init__(activity_regularizer=activity_regularizer, **kwargs)\n"
     ]
    }
   ],
   "source": [
    "# Définir et entraîner le modèle CNN 1D\n",
    "model = Sequential()\n",
    "\n",
    "# Ajouter une couche Conv1D\n",
    "model.add(Conv1D(filters=64, kernel_size=3, activation='relu', input_shape=(X_train.shape[1], X_train.shape[2])))\n",
    "model.add(MaxPooling1D(pool_size=2))\n",
    "\n",
    "# Ajouter d'autres couches convolutives si nécessaire\n",
    "model.add(Conv1D(filters=128, kernel_size=3, activation='relu'))\n",
    "model.add(MaxPooling1D(pool_size=2))\n",
    "\n",
    "# Aplatir les sorties pour les couches fully connected\n",
    "model.add(Flatten())\n",
    "\n",
    "# Ajouter une couche Dense pour la classification multiclasse\n",
    "model.add(Dense(nb_class, activation='softmax'))  # Une sortie avec activation softmax pour classification multiclasse\n",
    "\n",
    "# Compiler le modèle : sparse_categorical_crossentropy pour une classification multiclasse\n",
    "model.compile(optimizer='adam', loss='sparse_categorical_crossentropy', metrics=['accuracy'])\n",
    "\n",
    "# Mise en place de l'EarlyStopping\n",
    "early_stopping = EarlyStopping(monitor='val_loss', patience=10, restore_best_weights=True)"
   ]
  },
  {
   "cell_type": "code",
   "execution_count": 102,
   "metadata": {},
   "outputs": [
    {
     "name": "stdout",
     "output_type": "stream",
     "text": [
      "Epoch 1/100\n",
      "\u001b[1m272/272\u001b[0m \u001b[32m━━━━━━━━━━━━━━━━━━━━\u001b[0m\u001b[37m\u001b[0m \u001b[1m2s\u001b[0m 4ms/step - accuracy: 0.8058 - loss: 0.6052 - val_accuracy: 0.8598 - val_loss: 0.3369\n",
      "Epoch 2/100\n",
      "\u001b[1m272/272\u001b[0m \u001b[32m━━━━━━━━━━━━━━━━━━━━\u001b[0m\u001b[37m\u001b[0m \u001b[1m1s\u001b[0m 4ms/step - accuracy: 0.8912 - loss: 0.2872 - val_accuracy: 0.8938 - val_loss: 0.2532\n",
      "Epoch 3/100\n",
      "\u001b[1m272/272\u001b[0m \u001b[32m━━━━━━━━━━━━━━━━━━━━\u001b[0m\u001b[37m\u001b[0m \u001b[1m1s\u001b[0m 4ms/step - accuracy: 0.9102 - loss: 0.2226 - val_accuracy: 0.9145 - val_loss: 0.2120\n",
      "Epoch 4/100\n",
      "\u001b[1m272/272\u001b[0m \u001b[32m━━━━━━━━━━━━━━━━━━━━\u001b[0m\u001b[37m\u001b[0m \u001b[1m1s\u001b[0m 4ms/step - accuracy: 0.9259 - loss: 0.1849 - val_accuracy: 0.9287 - val_loss: 0.1822\n",
      "Epoch 5/100\n",
      "\u001b[1m272/272\u001b[0m \u001b[32m━━━━━━━━━━━━━━━━━━━━\u001b[0m\u001b[37m\u001b[0m \u001b[1m1s\u001b[0m 4ms/step - accuracy: 0.9372 - loss: 0.1581 - val_accuracy: 0.9301 - val_loss: 0.1670\n",
      "Epoch 6/100\n",
      "\u001b[1m272/272\u001b[0m \u001b[32m━━━━━━━━━━━━━━━━━━━━\u001b[0m\u001b[37m\u001b[0m \u001b[1m1s\u001b[0m 4ms/step - accuracy: 0.9489 - loss: 0.1368 - val_accuracy: 0.9343 - val_loss: 0.1475\n",
      "Epoch 7/100\n",
      "\u001b[1m272/272\u001b[0m \u001b[32m━━━━━━━━━━━━━━━━━━━━\u001b[0m\u001b[37m\u001b[0m \u001b[1m1s\u001b[0m 4ms/step - accuracy: 0.9551 - loss: 0.1198 - val_accuracy: 0.9343 - val_loss: 0.1356\n",
      "Epoch 8/100\n",
      "\u001b[1m272/272\u001b[0m \u001b[32m━━━━━━━━━━━━━━━━━━━━\u001b[0m\u001b[37m\u001b[0m \u001b[1m1s\u001b[0m 4ms/step - accuracy: 0.9575 - loss: 0.1090 - val_accuracy: 0.9366 - val_loss: 0.1272\n",
      "Epoch 9/100\n",
      "\u001b[1m272/272\u001b[0m \u001b[32m━━━━━━━━━━━━━━━━━━━━\u001b[0m\u001b[37m\u001b[0m \u001b[1m1s\u001b[0m 4ms/step - accuracy: 0.9598 - loss: 0.0998 - val_accuracy: 0.9402 - val_loss: 0.1212\n",
      "Epoch 10/100\n",
      "\u001b[1m272/272\u001b[0m \u001b[32m━━━━━━━━━━━━━━━━━━━━\u001b[0m\u001b[37m\u001b[0m \u001b[1m1s\u001b[0m 4ms/step - accuracy: 0.9631 - loss: 0.0923 - val_accuracy: 0.9453 - val_loss: 0.1184\n",
      "Epoch 11/100\n",
      "\u001b[1m272/272\u001b[0m \u001b[32m━━━━━━━━━━━━━━━━━━━━\u001b[0m\u001b[37m\u001b[0m \u001b[1m1s\u001b[0m 4ms/step - accuracy: 0.9661 - loss: 0.0863 - val_accuracy: 0.9490 - val_loss: 0.1131\n",
      "Epoch 12/100\n",
      "\u001b[1m272/272\u001b[0m \u001b[32m━━━━━━━━━━━━━━━━━━━━\u001b[0m\u001b[37m\u001b[0m \u001b[1m1s\u001b[0m 4ms/step - accuracy: 0.9668 - loss: 0.0830 - val_accuracy: 0.9485 - val_loss: 0.1135\n",
      "Epoch 13/100\n",
      "\u001b[1m272/272\u001b[0m \u001b[32m━━━━━━━━━━━━━━━━━━━━\u001b[0m\u001b[37m\u001b[0m \u001b[1m1s\u001b[0m 4ms/step - accuracy: 0.9684 - loss: 0.0808 - val_accuracy: 0.9526 - val_loss: 0.1067\n",
      "Epoch 14/100\n",
      "\u001b[1m272/272\u001b[0m \u001b[32m━━━━━━━━━━━━━━━━━━━━\u001b[0m\u001b[37m\u001b[0m \u001b[1m1s\u001b[0m 4ms/step - accuracy: 0.9698 - loss: 0.0769 - val_accuracy: 0.9462 - val_loss: 0.1118\n",
      "Epoch 15/100\n",
      "\u001b[1m272/272\u001b[0m \u001b[32m━━━━━━━━━━━━━━━━━━━━\u001b[0m\u001b[37m\u001b[0m \u001b[1m1s\u001b[0m 4ms/step - accuracy: 0.9699 - loss: 0.0741 - val_accuracy: 0.9467 - val_loss: 0.1123\n",
      "Epoch 16/100\n",
      "\u001b[1m272/272\u001b[0m \u001b[32m━━━━━━━━━━━━━━━━━━━━\u001b[0m\u001b[37m\u001b[0m \u001b[1m1s\u001b[0m 4ms/step - accuracy: 0.9710 - loss: 0.0738 - val_accuracy: 0.9582 - val_loss: 0.0975\n",
      "Epoch 17/100\n",
      "\u001b[1m272/272\u001b[0m \u001b[32m━━━━━━━━━━━━━━━━━━━━\u001b[0m\u001b[37m\u001b[0m \u001b[1m1s\u001b[0m 4ms/step - accuracy: 0.9733 - loss: 0.0690 - val_accuracy: 0.9614 - val_loss: 0.0900\n",
      "Epoch 18/100\n",
      "\u001b[1m272/272\u001b[0m \u001b[32m━━━━━━━━━━━━━━━━━━━━\u001b[0m\u001b[37m\u001b[0m \u001b[1m1s\u001b[0m 4ms/step - accuracy: 0.9739 - loss: 0.0658 - val_accuracy: 0.9600 - val_loss: 0.0949\n",
      "Epoch 19/100\n",
      "\u001b[1m272/272\u001b[0m \u001b[32m━━━━━━━━━━━━━━━━━━━━\u001b[0m\u001b[37m\u001b[0m \u001b[1m1s\u001b[0m 4ms/step - accuracy: 0.9734 - loss: 0.0669 - val_accuracy: 0.9669 - val_loss: 0.0821\n",
      "Epoch 20/100\n",
      "\u001b[1m272/272\u001b[0m \u001b[32m━━━━━━━━━━━━━━━━━━━━\u001b[0m\u001b[37m\u001b[0m \u001b[1m1s\u001b[0m 4ms/step - accuracy: 0.9766 - loss: 0.0622 - val_accuracy: 0.9683 - val_loss: 0.0774\n",
      "Epoch 21/100\n",
      "\u001b[1m272/272\u001b[0m \u001b[32m━━━━━━━━━━━━━━━━━━━━\u001b[0m\u001b[37m\u001b[0m \u001b[1m1s\u001b[0m 4ms/step - accuracy: 0.9764 - loss: 0.0618 - val_accuracy: 0.9618 - val_loss: 0.0914\n",
      "Epoch 22/100\n",
      "\u001b[1m272/272\u001b[0m \u001b[32m━━━━━━━━━━━━━━━━━━━━\u001b[0m\u001b[37m\u001b[0m \u001b[1m1s\u001b[0m 4ms/step - accuracy: 0.9755 - loss: 0.0606 - val_accuracy: 0.9678 - val_loss: 0.0776\n",
      "Epoch 23/100\n",
      "\u001b[1m272/272\u001b[0m \u001b[32m━━━━━━━━━━━━━━━━━━━━\u001b[0m\u001b[37m\u001b[0m \u001b[1m1s\u001b[0m 4ms/step - accuracy: 0.9760 - loss: 0.0601 - val_accuracy: 0.9720 - val_loss: 0.0680\n",
      "Epoch 24/100\n",
      "\u001b[1m272/272\u001b[0m \u001b[32m━━━━━━━━━━━━━━━━━━━━\u001b[0m\u001b[37m\u001b[0m \u001b[1m1s\u001b[0m 4ms/step - accuracy: 0.9786 - loss: 0.0547 - val_accuracy: 0.9701 - val_loss: 0.0738\n",
      "Epoch 25/100\n",
      "\u001b[1m272/272\u001b[0m \u001b[32m━━━━━━━━━━━━━━━━━━━━\u001b[0m\u001b[37m\u001b[0m \u001b[1m1s\u001b[0m 4ms/step - accuracy: 0.9771 - loss: 0.0599 - val_accuracy: 0.9687 - val_loss: 0.0694\n",
      "Epoch 26/100\n",
      "\u001b[1m272/272\u001b[0m \u001b[32m━━━━━━━━━━━━━━━━━━━━\u001b[0m\u001b[37m\u001b[0m \u001b[1m1s\u001b[0m 4ms/step - accuracy: 0.9769 - loss: 0.0572 - val_accuracy: 0.9687 - val_loss: 0.0742\n",
      "Epoch 27/100\n",
      "\u001b[1m272/272\u001b[0m \u001b[32m━━━━━━━━━━━━━━━━━━━━\u001b[0m\u001b[37m\u001b[0m \u001b[1m1s\u001b[0m 4ms/step - accuracy: 0.9793 - loss: 0.0509 - val_accuracy: 0.9710 - val_loss: 0.0794\n",
      "Epoch 28/100\n",
      "\u001b[1m272/272\u001b[0m \u001b[32m━━━━━━━━━━━━━━━━━━━━\u001b[0m\u001b[37m\u001b[0m \u001b[1m1s\u001b[0m 4ms/step - accuracy: 0.9780 - loss: 0.0566 - val_accuracy: 0.9720 - val_loss: 0.0674\n",
      "Epoch 29/100\n",
      "\u001b[1m272/272\u001b[0m \u001b[32m━━━━━━━━━━━━━━━━━━━━\u001b[0m\u001b[37m\u001b[0m \u001b[1m1s\u001b[0m 4ms/step - accuracy: 0.9804 - loss: 0.0488 - val_accuracy: 0.9706 - val_loss: 0.0678\n",
      "Epoch 30/100\n",
      "\u001b[1m272/272\u001b[0m \u001b[32m━━━━━━━━━━━━━━━━━━━━\u001b[0m\u001b[37m\u001b[0m \u001b[1m1s\u001b[0m 4ms/step - accuracy: 0.9798 - loss: 0.0506 - val_accuracy: 0.9692 - val_loss: 0.0755\n",
      "Epoch 31/100\n",
      "\u001b[1m272/272\u001b[0m \u001b[32m━━━━━━━━━━━━━━━━━━━━\u001b[0m\u001b[37m\u001b[0m \u001b[1m1s\u001b[0m 4ms/step - accuracy: 0.9793 - loss: 0.0502 - val_accuracy: 0.9720 - val_loss: 0.0644\n",
      "Epoch 32/100\n",
      "\u001b[1m272/272\u001b[0m \u001b[32m━━━━━━━━━━━━━━━━━━━━\u001b[0m\u001b[37m\u001b[0m \u001b[1m1s\u001b[0m 4ms/step - accuracy: 0.9811 - loss: 0.0454 - val_accuracy: 0.9733 - val_loss: 0.0636\n",
      "Epoch 33/100\n",
      "\u001b[1m272/272\u001b[0m \u001b[32m━━━━━━━━━━━━━━━━━━━━\u001b[0m\u001b[37m\u001b[0m \u001b[1m1s\u001b[0m 4ms/step - accuracy: 0.9814 - loss: 0.0464 - val_accuracy: 0.9738 - val_loss: 0.0663\n",
      "Epoch 34/100\n",
      "\u001b[1m272/272\u001b[0m \u001b[32m━━━━━━━━━━━━━━━━━━━━\u001b[0m\u001b[37m\u001b[0m \u001b[1m1s\u001b[0m 4ms/step - accuracy: 0.9806 - loss: 0.0466 - val_accuracy: 0.9706 - val_loss: 0.0702\n",
      "Epoch 35/100\n",
      "\u001b[1m272/272\u001b[0m \u001b[32m━━━━━━━━━━━━━━━━━━━━\u001b[0m\u001b[37m\u001b[0m \u001b[1m1s\u001b[0m 4ms/step - accuracy: 0.9767 - loss: 0.0539 - val_accuracy: 0.9752 - val_loss: 0.0599\n",
      "Epoch 36/100\n",
      "\u001b[1m272/272\u001b[0m \u001b[32m━━━━━━━━━━━━━━━━━━━━\u001b[0m\u001b[37m\u001b[0m \u001b[1m1s\u001b[0m 4ms/step - accuracy: 0.9847 - loss: 0.0413 - val_accuracy: 0.9733 - val_loss: 0.0610\n",
      "Epoch 37/100\n",
      "\u001b[1m272/272\u001b[0m \u001b[32m━━━━━━━━━━━━━━━━━━━━\u001b[0m\u001b[37m\u001b[0m \u001b[1m1s\u001b[0m 4ms/step - accuracy: 0.9817 - loss: 0.0458 - val_accuracy: 0.9733 - val_loss: 0.0634\n",
      "Epoch 38/100\n",
      "\u001b[1m272/272\u001b[0m \u001b[32m━━━━━━━━━━━━━━━━━━━━\u001b[0m\u001b[37m\u001b[0m \u001b[1m1s\u001b[0m 4ms/step - accuracy: 0.9820 - loss: 0.0430 - val_accuracy: 0.9752 - val_loss: 0.0620\n",
      "Epoch 39/100\n",
      "\u001b[1m272/272\u001b[0m \u001b[32m━━━━━━━━━━━━━━━━━━━━\u001b[0m\u001b[37m\u001b[0m \u001b[1m1s\u001b[0m 4ms/step - accuracy: 0.9827 - loss: 0.0455 - val_accuracy: 0.9733 - val_loss: 0.0668\n",
      "Epoch 40/100\n",
      "\u001b[1m272/272\u001b[0m \u001b[32m━━━━━━━━━━━━━━━━━━━━\u001b[0m\u001b[37m\u001b[0m \u001b[1m1s\u001b[0m 4ms/step - accuracy: 0.9818 - loss: 0.0421 - val_accuracy: 0.9715 - val_loss: 0.0727\n",
      "Epoch 41/100\n",
      "\u001b[1m272/272\u001b[0m \u001b[32m━━━━━━━━━━━━━━━━━━━━\u001b[0m\u001b[37m\u001b[0m \u001b[1m1s\u001b[0m 4ms/step - accuracy: 0.9814 - loss: 0.0444 - val_accuracy: 0.9752 - val_loss: 0.0610\n",
      "Epoch 42/100\n",
      "\u001b[1m272/272\u001b[0m \u001b[32m━━━━━━━━━━━━━━━━━━━━\u001b[0m\u001b[37m\u001b[0m \u001b[1m1s\u001b[0m 4ms/step - accuracy: 0.9826 - loss: 0.0399 - val_accuracy: 0.9720 - val_loss: 0.0676\n",
      "Epoch 43/100\n",
      "\u001b[1m272/272\u001b[0m \u001b[32m━━━━━━━━━━━━━━━━━━━━\u001b[0m\u001b[37m\u001b[0m \u001b[1m1s\u001b[0m 4ms/step - accuracy: 0.9801 - loss: 0.0441 - val_accuracy: 0.9747 - val_loss: 0.0670\n",
      "Epoch 44/100\n",
      "\u001b[1m272/272\u001b[0m \u001b[32m━━━━━━━━━━━━━━━━━━━━\u001b[0m\u001b[37m\u001b[0m \u001b[1m1s\u001b[0m 4ms/step - accuracy: 0.9798 - loss: 0.0488 - val_accuracy: 0.9747 - val_loss: 0.0659\n",
      "Epoch 45/100\n",
      "\u001b[1m272/272\u001b[0m \u001b[32m━━━━━━━━━━━━━━━━━━━━\u001b[0m\u001b[37m\u001b[0m \u001b[1m1s\u001b[0m 4ms/step - accuracy: 0.9821 - loss: 0.0416 - val_accuracy: 0.9766 - val_loss: 0.0601\n"
     ]
    }
   ],
   "source": [
    "# Mesurer le temps et la mémoire pour l'entraînement\n",
    "start_fit_time = time.time()\n",
    "fit_memory_before = memory_profiler.memory_usage()[0]\n",
    "\n",
    "# Entraîner le modèle\n",
    "history = model.fit(\n",
    "    X_train, y_train,\n",
    "    epochs=100,\n",
    "    batch_size=32,\n",
    "    validation_data=(X_test, y_test),\n",
    "    callbacks=[early_stopping]\n",
    ")\n",
    "\n",
    "fit_time = time.time() - start_fit_time\n",
    "fit_memory_after = memory_profiler.memory_usage()[0]\n",
    "fit_memory_usage = fit_memory_after - fit_memory_before"
   ]
  },
  {
   "cell_type": "code",
   "execution_count": 103,
   "metadata": {},
   "outputs": [
    {
     "name": "stdout",
     "output_type": "stream",
     "text": [
      "\u001b[1m68/68\u001b[0m \u001b[32m━━━━━━━━━━━━━━━━━━━━\u001b[0m\u001b[37m\u001b[0m \u001b[1m0s\u001b[0m 3ms/step\n"
     ]
    }
   ],
   "source": [
    "# Mesurer le temps et la mémoire pour la prédiction\n",
    "start_predict_time = time.time()\n",
    "pred_memory_before = memory_profiler.memory_usage()[0]\n",
    "\n",
    "# Prédire sur le jeu de test\n",
    "y_pred_proba = model.predict(X_test)\n",
    "y_pred = y_pred_proba.argmax(axis=1)  # Choisir la classe avec la probabilité la plus élevée\n",
    "\n",
    "predict_time = time.time() - start_predict_time\n",
    "pred_memory_after = memory_profiler.memory_usage()[0]\n",
    "predict_memory_usage = pred_memory_after - pred_memory_before"
   ]
  },
  {
   "cell_type": "code",
   "execution_count": 104,
   "metadata": {},
   "outputs": [],
   "source": [
    "# on veut connaitre les perfs pour chaque attaque :\n",
    "# évaluer pour chaque label != normal "
   ]
  },
  {
   "cell_type": "code",
   "execution_count": 105,
   "metadata": {},
   "outputs": [
    {
     "data": {
      "text/plain": [
       "{np.str_('normal'): 0,\n",
       " np.str_('DoS'): 1,\n",
       " np.str_('MITM'): 2,\n",
       " np.str_('physical fault'): 3,\n",
       " np.str_('scan'): 4}"
      ]
     },
     "execution_count": 105,
     "metadata": {},
     "output_type": "execute_result"
    }
   ],
   "source": [
    "label_mapping"
   ]
  },
  {
   "cell_type": "code",
   "execution_count": 106,
   "metadata": {},
   "outputs": [
    {
     "name": "stdout",
     "output_type": "stream",
     "text": [
      "{0: {'class_label': 0, 'confusion_matrix': array([[1747,    2,   18,   14,    0],\n",
      "       [   6,   58,    0,    0,    0],\n",
      "       [   8,    0,  183,    0,    0],\n",
      "       [   5,    0,    0,  133,    0],\n",
      "       [   1,    0,    0,    0,    0]]), 'TN': np.int64(374), 'FP': np.int64(20), 'FN': np.int64(34), 'TP': np.int64(1747), 'precision': np.float64(0.9886813808715337), 'recall': np.float64(0.9809096013475576), 'f1': np.float64(0.9847801578354002), 'balanced_accuracy': np.float64(0.9650740900138803), 'mcc': np.float64(0.9176643388022352), 'tnr': np.float64(0.949238578680203), 'accuracy': np.float64(1747.1719540229885), 'fit_time': 50.75207257270813, 'predict_time': 0.4044651985168457, 'fit_memory_usage': -23.75, 'predict_memory_usage': -0.15625}, 1: {'class_label': 1, 'confusion_matrix': array([[1747,    2,   18,   14,    0],\n",
      "       [   6,   58,    0,    0,    0],\n",
      "       [   8,    0,  183,    0,    0],\n",
      "       [   5,    0,    0,  133,    0],\n",
      "       [   1,    0,    0,    0,    0]]), 'TN': np.int64(2109), 'FP': np.int64(2), 'FN': np.int64(6), 'TP': np.int64(58), 'precision': np.float64(0.9666666666666667), 'recall': np.float64(0.90625), 'f1': np.float64(0.9354838709677419), 'balanced_accuracy': np.float64(0.9526512908574136), 'mcc': np.float64(0.934107913849696), 'tnr': np.float64(0.9990525817148271), 'accuracy': np.float64(58.969655172413795), 'fit_time': 50.75207257270813, 'predict_time': 0.4044651985168457, 'fit_memory_usage': -23.75, 'predict_memory_usage': -0.15625}, 2: {'class_label': 2, 'confusion_matrix': array([[1747,    2,   18,   14,    0],\n",
      "       [   6,   58,    0,    0,    0],\n",
      "       [   8,    0,  183,    0,    0],\n",
      "       [   5,    0,    0,  133,    0],\n",
      "       [   1,    0,    0,    0,    0]]), 'TN': np.int64(1966), 'FP': np.int64(18), 'FN': np.int64(8), 'TP': np.int64(183), 'precision': np.float64(0.9104477611940298), 'recall': np.float64(0.9581151832460733), 'f1': np.float64(0.9336734693877551), 'balanced_accuracy': np.float64(0.974521301300456), 'mcc': np.float64(0.9274737420472778), 'tnr': np.float64(0.9909274193548387), 'accuracy': np.float64(183.903908045977), 'fit_time': 50.75207257270813, 'predict_time': 0.4044651985168457, 'fit_memory_usage': -23.75, 'predict_memory_usage': -0.15625}, 3: {'class_label': 3, 'confusion_matrix': array([[1747,    2,   18,   14,    0],\n",
      "       [   6,   58,    0,    0,    0],\n",
      "       [   8,    0,  183,    0,    0],\n",
      "       [   5,    0,    0,  133,    0],\n",
      "       [   1,    0,    0,    0,    0]]), 'TN': np.int64(2023), 'FP': np.int64(14), 'FN': np.int64(5), 'TP': np.int64(133), 'precision': np.float64(0.9047619047619048), 'recall': np.float64(0.9637681159420289), 'f1': np.float64(0.9333333333333333), 'balanced_accuracy': np.float64(0.9784476318541759), 'mcc': np.float64(0.929194905399488), 'tnr': np.float64(0.993127147766323), 'accuracy': np.float64(133.93011494252875), 'fit_time': 50.75207257270813, 'predict_time': 0.4044651985168457, 'fit_memory_usage': -23.75, 'predict_memory_usage': -0.15625}, 4: {'class_label': 4, 'confusion_matrix': array([[1747,    2,   18,   14,    0],\n",
      "       [   6,   58,    0,    0,    0],\n",
      "       [   8,    0,  183,    0,    0],\n",
      "       [   5,    0,    0,  133,    0],\n",
      "       [   1,    0,    0,    0,    0]]), 'TN': np.int64(2174), 'FP': np.int64(0), 'FN': np.int64(1), 'TP': np.int64(0), 'precision': np.float64(0.0), 'recall': np.float64(0.0), 'f1': np.float64(0.0), 'balanced_accuracy': np.float64(0.5), 'mcc': 0, 'tnr': np.float64(1.0), 'accuracy': np.float64(0.9995402298850574), 'fit_time': 50.75207257270813, 'predict_time': 0.4044651985168457, 'fit_memory_usage': -23.75, 'predict_memory_usage': -0.15625}}\n"
     ]
    },
    {
     "name": "stderr",
     "output_type": "stream",
     "text": [
      "/home/zoe/.local/lib/python3.10/site-packages/sklearn/metrics/_classification.py:1531: UndefinedMetricWarning: Precision is ill-defined and being set to 0.0 in labels with no predicted samples. Use `zero_division` parameter to control this behavior.\n",
      "  _warn_prf(average, modifier, f\"{metric.capitalize()} is\", len(result))\n",
      "/home/zoe/.local/lib/python3.10/site-packages/sklearn/metrics/_classification.py:1531: UndefinedMetricWarning: Precision is ill-defined and being set to 0.0 in labels with no predicted samples. Use `zero_division` parameter to control this behavior.\n",
      "  _warn_prf(average, modifier, f\"{metric.capitalize()} is\", len(result))\n",
      "/home/zoe/.local/lib/python3.10/site-packages/sklearn/metrics/_classification.py:1531: UndefinedMetricWarning: Precision is ill-defined and being set to 0.0 in labels with no predicted samples. Use `zero_division` parameter to control this behavior.\n",
      "  _warn_prf(average, modifier, f\"{metric.capitalize()} is\", len(result))\n",
      "/home/zoe/.local/lib/python3.10/site-packages/sklearn/metrics/_classification.py:1531: UndefinedMetricWarning: Precision is ill-defined and being set to 0.0 in labels with no predicted samples. Use `zero_division` parameter to control this behavior.\n",
      "  _warn_prf(average, modifier, f\"{metric.capitalize()} is\", len(result))\n",
      "/home/zoe/.local/lib/python3.10/site-packages/sklearn/metrics/_classification.py:1531: UndefinedMetricWarning: Precision is ill-defined and being set to 0.0 in labels with no predicted samples. Use `zero_division` parameter to control this behavior.\n",
      "  _warn_prf(average, modifier, f\"{metric.capitalize()} is\", len(result))\n"
     ]
    }
   ],
   "source": [
    "# Calcul de la confusion matrix pour tout le test\n",
    "conf_matrix = confusion_matrix(y_test, y_pred)\n",
    "\n",
    "# Dictionnaire pour stocker les résultats de chaque classe\n",
    "class_results = {}\n",
    "\n",
    "for class_label in range(nb_class):\n",
    "    # Extraire la matrice de confusion pour la classe spécifique\n",
    "    TP = conf_matrix[class_label, class_label]\n",
    "    FP = sum(conf_matrix[:, class_label]) - TP\n",
    "    FN = sum(conf_matrix[class_label, :]) - TP\n",
    "    TN = conf_matrix.sum() - (TP + FP + FN)\n",
    "\n",
    "    # Calcul des métriques pour chaque classe\n",
    "    precision = precision_score(y_test, y_pred, average=None)[class_label]\n",
    "    recall_tpr = recall_score(y_test, y_pred, average=None)[class_label]\n",
    "    tnr = TN / (TN + FP) if (TN + FP) != 0 else 0\n",
    "    accuracy = TP + TN / (TP + TN + FP + FN)\n",
    "    f1 = f1_score(y_test, y_pred, average=None)[class_label]\n",
    "    balanced_acc = (recall_tpr + tnr) / 2\n",
    "    mcc = (TP * TN - FP * FN) / np.sqrt((TP + FP) * (TP + FN) * (TN + FP) * (TN + FN)) if (TP + FP) * (TP + FN) * (TN + FP) * (TN + FN) != 0 else 0\n",
    "\n",
    "\n",
    "    # Stocker les résultats dans le dictionnaire\n",
    "    class_results[class_label] = {\n",
    "        'class_label': class_label,\n",
    "        'confusion_matrix': conf_matrix,\n",
    "        'TN': TN,\n",
    "        'FP': FP,\n",
    "        'FN': FN,\n",
    "        'TP': TP,\n",
    "        'precision': precision,\n",
    "        'recall': recall_tpr,\n",
    "        'f1': f1,\n",
    "        'balanced_accuracy': balanced_acc,\n",
    "        'mcc': mcc,\n",
    "        'tnr': tnr,\n",
    "        'accuracy': accuracy,\n",
    "        'fit_time': fit_time,\n",
    "        'predict_time': predict_time,\n",
    "        'fit_memory_usage': fit_memory_usage,\n",
    "        'predict_memory_usage': predict_memory_usage\n",
    "    }\n",
    "\n",
    "# Afficher ou enregistrer les résultats pour chaque classe\n",
    "print(class_results)\n"
   ]
  },
  {
   "cell_type": "code",
   "execution_count": 107,
   "metadata": {},
   "outputs": [
    {
     "name": "stdout",
     "output_type": "stream",
     "text": [
      "[0.98868138 0.96666667 0.91044776 0.9047619  0.        ]\n",
      "Résultats pour la classe 0: 0.9886813808715337\n",
      "avec calcul : 0.9886813808715337\n",
      "Résultats pour la classe 1: 0.9666666666666667\n",
      "avec calcul : 0.9666666666666667\n",
      "Résultats pour la classe 2: 0.9104477611940298\n",
      "avec calcul : 0.9104477611940298\n",
      "Résultats pour la classe 3: 0.9047619047619048\n",
      "avec calcul : 0.9047619047619048\n",
      "Résultats pour la classe 4: 0.0\n",
      "avec calcul : nan\n"
     ]
    },
    {
     "name": "stderr",
     "output_type": "stream",
     "text": [
      "/home/zoe/.local/lib/python3.10/site-packages/sklearn/metrics/_classification.py:1531: UndefinedMetricWarning: Precision is ill-defined and being set to 0.0 in labels with no predicted samples. Use `zero_division` parameter to control this behavior.\n",
      "  _warn_prf(average, modifier, f\"{metric.capitalize()} is\", len(result))\n",
      "/tmp/ipykernel_218720/3645313826.py:5: RuntimeWarning: invalid value encountered in scalar divide\n",
      "  print(f\"avec calcul : {class_results[i]['TP'] / (class_results[i]['TP'] + class_results[i]['FP'])}\")\n"
     ]
    }
   ],
   "source": [
    "# vérif\n",
    "print(precision_score(y_test, y_pred, average=None))\n",
    "for i in range(nb_class):\n",
    "    print(f\"Résultats pour la classe {i}: {class_results[i]['precision']}\")\n",
    "    print(f\"avec calcul : {class_results[i]['TP'] / (class_results[i]['TP'] + class_results[i]['FP'])}\")\n",
    "# ok c'est bon"
   ]
  },
  {
   "cell_type": "code",
   "execution_count": 108,
   "metadata": {},
   "outputs": [
    {
     "name": "stdout",
     "output_type": "stream",
     "text": [
      "test tpr 0.90625\n",
      "0.90625\n"
     ]
    }
   ],
   "source": [
    "tp = class_results[1]['TP']\n",
    "fn = class_results[1]['FN']\n",
    "print(\"test tpr\", tp / (tp + fn))\n",
    "print(class_results[1]['recall'])\n",
    "# ok c'est bon "
   ]
  },
  {
   "cell_type": "code",
   "execution_count": null,
   "metadata": {},
   "outputs": [],
   "source": [
    "# sauvegarder les données \n",
    "\n",
    "reverse_label_mapping = {v: k for k, v in label_mapping.items()}\n",
    "\n",
    "for i in range(1, nb_class):\n",
    "    class_results[i]['model'] = f'CNN1D - label - {reverse_label_mapping[i]}'\n",
    "    db[f'PHY_results_cnn1d_label_{reverse_label_mapping[i]}'] = class_results[i]"
   ]
  }
 ],
 "metadata": {
  "kernelspec": {
   "display_name": "Python 3",
   "language": "python",
   "name": "python3"
  },
  "language_info": {
   "codemirror_mode": {
    "name": "ipython",
    "version": 3
   },
   "file_extension": ".py",
   "mimetype": "text/x-python",
   "name": "python",
   "nbconvert_exporter": "python",
   "pygments_lexer": "ipython3",
   "version": "3.10.12"
  }
 },
 "nbformat": 4,
 "nbformat_minor": 2
}
