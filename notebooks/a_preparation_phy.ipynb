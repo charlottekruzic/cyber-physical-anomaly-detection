{
 "cells": [
  {
   "cell_type": "code",
   "execution_count": 52,
   "metadata": {},
   "outputs": [],
   "source": [
    "import pandas as pd"
   ]
  },
  {
   "cell_type": "markdown",
   "metadata": {},
   "source": [
    "## Load data"
   ]
  },
  {
   "cell_type": "code",
   "execution_count": 53,
   "metadata": {},
   "outputs": [],
   "source": [
    "def load_data(file, encoding='utf-16', sep='\\t'):\n",
    "    data = pd.read_csv(f'../datasets/Physical dataset/{file}.csv', encoding=encoding, sep=sep)\n",
    "    return data"
   ]
  },
  {
   "cell_type": "code",
   "execution_count": 54,
   "metadata": {},
   "outputs": [],
   "source": [
    "df_load_phy_1 = load_data('phy_att_1')\n",
    "df_load_phy_2 = load_data('phy_att_2')\n",
    "df_load_phy_3 = load_data('phy_att_3')\n",
    "df_load_phy_4 = load_data('phy_att_4', encoding='utf-8', sep=',')\n",
    "df_load_phy_norm = load_data('phy_norm')"
   ]
  },
  {
   "cell_type": "code",
   "execution_count": 55,
   "metadata": {},
   "outputs": [],
   "source": [
    "df_phy_1 = df_load_phy_1.copy()\n",
    "df_phy_2 = df_load_phy_2.copy()\n",
    "df_phy_3 = df_load_phy_3.copy()\n",
    "df_phy_4 = df_load_phy_4.copy()\n",
    "df_phy_norm = df_load_phy_norm.copy()"
   ]
  },
  {
   "cell_type": "markdown",
   "metadata": {},
   "source": [
    "## Exploration"
   ]
  },
  {
   "cell_type": "code",
   "execution_count": 56,
   "metadata": {},
   "outputs": [
    {
     "name": "stdout",
     "output_type": "stream",
     "text": [
      "(2420, 43)\n",
      "(2104, 43)\n",
      "(1254, 43)\n",
      "(1717, 43)\n",
      "(3428, 43)\n"
     ]
    }
   ],
   "source": [
    "print(df_phy_1.shape)\n",
    "print(df_phy_2.shape)\n",
    "print(df_phy_3.shape)\n",
    "print(df_phy_4.shape)\n",
    "print(df_phy_norm.shape)"
   ]
  },
  {
   "cell_type": "code",
   "execution_count": 57,
   "metadata": {},
   "outputs": [
    {
     "name": "stdout",
     "output_type": "stream",
     "text": [
      "<class 'pandas.core.frame.DataFrame'>\n",
      "RangeIndex: 2420 entries, 0 to 2419\n",
      "Data columns (total 43 columns):\n",
      " #   Column         Non-Null Count  Dtype \n",
      "---  ------         --------------  ----- \n",
      " 0   Time           2420 non-null   object\n",
      " 1   Tank_1         2420 non-null   int64 \n",
      " 2   Tank_2         2420 non-null   int64 \n",
      " 3   Tank_3         2420 non-null   int64 \n",
      " 4   Tank_4         2420 non-null   int64 \n",
      " 5   Tank_5         2420 non-null   int64 \n",
      " 6   Tank_6         2420 non-null   int64 \n",
      " 7   Tank_7         2420 non-null   int64 \n",
      " 8   Tank_8         2420 non-null   int64 \n",
      " 9   Pump_1         2420 non-null   bool  \n",
      " 10  Pump_2         2420 non-null   bool  \n",
      " 11  Pump_3         2420 non-null   bool  \n",
      " 12  Pump_4         2420 non-null   bool  \n",
      " 13  Pump_5         2420 non-null   bool  \n",
      " 14  Pump_6         2420 non-null   bool  \n",
      " 15  Flow_sensor_1  2420 non-null   int64 \n",
      " 16  Flow_sensor_2  2420 non-null   int64 \n",
      " 17  Flow_sensor_3  2420 non-null   int64 \n",
      " 18  Flow_sensor_4  2420 non-null   int64 \n",
      " 19  Valv_1         2420 non-null   bool  \n",
      " 20  Valv_2         2420 non-null   bool  \n",
      " 21  Valv_3         2420 non-null   bool  \n",
      " 22  Valv_4         2420 non-null   bool  \n",
      " 23  Valv_5         2420 non-null   bool  \n",
      " 24  Valv_6         2420 non-null   bool  \n",
      " 25  Valv_7         2420 non-null   bool  \n",
      " 26  Valv_8         2420 non-null   bool  \n",
      " 27  Valv_9         2420 non-null   bool  \n",
      " 28  Valv_10        2420 non-null   bool  \n",
      " 29  Valv_11        2420 non-null   bool  \n",
      " 30  Valv_12        2420 non-null   bool  \n",
      " 31  Valv_13        2420 non-null   bool  \n",
      " 32  Valv_14        2420 non-null   bool  \n",
      " 33  Valv_15        2420 non-null   bool  \n",
      " 34  Valv_16        2420 non-null   bool  \n",
      " 35  Valv_17        2420 non-null   bool  \n",
      " 36  Valv_18        2420 non-null   bool  \n",
      " 37  Valv_19        2420 non-null   bool  \n",
      " 38  Valv_20        2420 non-null   bool  \n",
      " 39  Valv_21        2420 non-null   bool  \n",
      " 40  Valv_22        2420 non-null   bool  \n",
      " 41  Label_n        2420 non-null   int64 \n",
      " 42  Label          2420 non-null   object\n",
      "dtypes: bool(28), int64(13), object(2)\n",
      "memory usage: 349.9+ KB\n",
      "None\n"
     ]
    }
   ],
   "source": [
    "print(df_phy_1.info())"
   ]
  },
  {
   "cell_type": "code",
   "execution_count": 58,
   "metadata": {},
   "outputs": [],
   "source": [
    "# On voit qu'on a une colonne de temps, on la transformera en datetime\n",
    "# On a aussi des entiers (Tank et Flow_sensor),\n",
    "# des booléens (Valve et Pump)\n",
    "# 2 colonnes étiquetées : Label : catégorielle, Label_n : entier"
   ]
  },
  {
   "cell_type": "code",
   "execution_count": 59,
   "metadata": {},
   "outputs": [
    {
     "name": "stdout",
     "output_type": "stream",
     "text": [
      "Label\n",
      "normal            1610\n",
      "MITM               533\n",
      "physical fault     277\n",
      "Name: count, dtype: int64\n",
      "Label\n",
      "normal            1549\n",
      "nomal              249\n",
      "physical fault     123\n",
      "MITM                96\n",
      "DoS                 80\n",
      "scan                 7\n",
      "Name: count, dtype: int64\n",
      "Label\n",
      "normal            911\n",
      "physical fault    152\n",
      "MITM              114\n",
      "DoS                77\n",
      "Name: count, dtype: int64\n",
      "Label\n",
      "normal            1159\n",
      "MITM               265\n",
      "DoS                153\n",
      "physical fault     133\n",
      "scan                 7\n",
      "Name: count, dtype: int64\n",
      "Label\n",
      "normal    3428\n",
      "Name: count, dtype: int64\n"
     ]
    }
   ],
   "source": [
    "print(df_phy_1['Label'].value_counts())\n",
    "print(df_phy_2['Label'].value_counts()) # faute de frappe : \"nomal\" qu'on va transformer en \"normal\"\n",
    "print(df_phy_3['Label'].value_counts())\n",
    "print(df_phy_4['Label'].value_counts())\n",
    "print(df_phy_norm['Label'].value_counts())"
   ]
  },
  {
   "cell_type": "code",
   "execution_count": 60,
   "metadata": {},
   "outputs": [],
   "source": [
    "# Label : quel type d'attaques (ou juste normal si pas d'attaque)\n",
    "# Label_n : 0 pour normal, 1 pour attaque\n",
    "# Label_n n'est pas réellement un int, c'est une catégorie : on va le transformer en booléen"
   ]
  },
  {
   "cell_type": "code",
   "execution_count": 61,
   "metadata": {},
   "outputs": [],
   "source": [
    "# changer Label pourque ce ne soit plus object mais category\n",
    "df_phy_1['Label'] = df_phy_1['Label'].astype('category')\n",
    "df_phy_2['Label'] = df_phy_2['Label'].astype('category')\n",
    "df_phy_3['Label'] = df_phy_3['Label'].astype('category')\n",
    "df_phy_4['Label'] = df_phy_4['Label'].astype('category')\n",
    "df_phy_norm['Label'] = df_phy_norm['Label'].astype('category')"
   ]
  },
  {
   "cell_type": "markdown",
   "metadata": {},
   "source": [
    "## Clean data"
   ]
  },
  {
   "cell_type": "code",
   "execution_count": 62,
   "metadata": {},
   "outputs": [],
   "source": [
    "# Convertir Time en datetime\n",
    "df_phy_1['Time'] = pd.to_datetime(df_phy_1['Time'], dayfirst=True)\n",
    "df_phy_2['Time'] = pd.to_datetime(df_phy_2['Time'], dayfirst=True)\n",
    "df_phy_3['Time'] = pd.to_datetime(df_phy_3['Time'], dayfirst=True)\n",
    "df_phy_4['Time'] = pd.to_datetime(df_phy_4['Time'], dayfirst=True)\n",
    "df_phy_norm['Time'] = pd.to_datetime(df_phy_norm['Time'], dayfirst=True)"
   ]
  },
  {
   "cell_type": "code",
   "execution_count": 63,
   "metadata": {},
   "outputs": [],
   "source": [
    "# Renommer la colonne 'Lable_n' en 'Label_n'\n",
    "df_phy_2.rename(columns={'Lable_n': 'Label_n'}, inplace=True)"
   ]
  },
  {
   "cell_type": "code",
   "execution_count": 64,
   "metadata": {},
   "outputs": [],
   "source": [
    "# Transformer Label_n en catégorielle\n",
    "df_phy_1['Label_n'] = df_phy_1['Label_n'].astype('bool')\n",
    "df_phy_2['Label_n'] = df_phy_2['Label_n'].astype('bool')\n",
    "df_phy_3['Label_n'] = df_phy_3['Label_n'].astype('bool')\n",
    "df_phy_4['Label_n'] = df_phy_4['Label_n'].astype('bool')\n",
    "df_phy_norm['Label_n'] = df_phy_norm['Label_n'].astype('bool')"
   ]
  },
  {
   "cell_type": "code",
   "execution_count": 65,
   "metadata": {},
   "outputs": [],
   "source": [
    "# Renommer \"nomal\" en \"normal\"\n",
    "df_phy_2['Label'] = df_phy_2['Label'].str.replace('nomal', 'normal')"
   ]
  },
  {
   "cell_type": "markdown",
   "metadata": {},
   "source": [
    "## Exploration (2)"
   ]
  },
  {
   "cell_type": "code",
   "execution_count": 66,
   "metadata": {},
   "outputs": [
    {
     "name": "stdout",
     "output_type": "stream",
     "text": [
      "Label           Label_n\n",
      "normal          False      1610\n",
      "MITM            True        533\n",
      "physical fault  True        277\n",
      "Name: count, dtype: int64\n",
      "Label           Label_n\n",
      "normal          False      1798\n",
      "physical fault  True        123\n",
      "MITM            True         96\n",
      "DoS             True         80\n",
      "scan            True          7\n",
      "Name: count, dtype: int64\n",
      "Label           Label_n\n",
      "normal          False      911\n",
      "physical fault  True       152\n",
      "MITM            True       114\n",
      "DoS             True        77\n",
      "Name: count, dtype: int64\n",
      "Label           Label_n\n",
      "normal          False      1159\n",
      "MITM            True        265\n",
      "DoS             True        153\n",
      "physical fault  True        133\n",
      "scan            True          7\n",
      "Name: count, dtype: int64\n",
      "Label   Label_n\n",
      "normal  False      3428\n",
      "Name: count, dtype: int64\n"
     ]
    }
   ],
   "source": [
    "# Vérifier que Label_n = True <=> Label est une attaque \n",
    "# et Label_n = False <=> Label est normal\n",
    "print(df_phy_1[['Label', 'Label_n']].value_counts())\n",
    "print(df_phy_2[['Label', 'Label_n']].value_counts())\n",
    "print(df_phy_3[['Label', 'Label_n']].value_counts())\n",
    "print(df_phy_4[['Label', 'Label_n']].value_counts())\n",
    "print(df_phy_norm[['Label', 'Label_n']].value_counts())"
   ]
  },
  {
   "cell_type": "code",
   "execution_count": 67,
   "metadata": {},
   "outputs": [
    {
     "name": "stdout",
     "output_type": "stream",
     "text": [
      "Time\n",
      "0 days 00:00:01    2419\n",
      "Name: count, dtype: int64\n",
      "Time\n",
      "0 days 00:00:01    2102\n",
      "0 days 00:00:02       1\n",
      "Name: count, dtype: int64\n",
      "Time\n",
      "0 days 00:00:01    1253\n",
      "Name: count, dtype: int64\n",
      "Time\n",
      "0 days 00:00:01    1716\n",
      "Name: count, dtype: int64\n",
      "Time\n",
      "0 days 00:00:01    3427\n",
      "Name: count, dtype: int64\n"
     ]
    }
   ],
   "source": [
    "# dans la colonne Time : est ce que toutes les valeurs sont espacées de la même manière ?\n",
    "print(df_phy_1['Time'].diff().value_counts())\n",
    "print(df_phy_2['Time'].diff().value_counts())\n",
    "print(df_phy_3['Time'].diff().value_counts())\n",
    "print(df_phy_4['Time'].diff().value_counts())\n",
    "print(df_phy_norm['Time'].diff().value_counts())"
   ]
  },
  {
   "cell_type": "code",
   "execution_count": 68,
   "metadata": {},
   "outputs": [],
   "source": [
    "# Tout est espacé d'une seconde sauf pour df_phy_2 où il y a un trou d'une seconde"
   ]
  },
  {
   "cell_type": "code",
   "execution_count": 69,
   "metadata": {},
   "outputs": [
    {
     "name": "stdout",
     "output_type": "stream",
     "text": [
      "Time             0\n",
      "Tank_1           0\n",
      "Tank_2           0\n",
      "Tank_3           0\n",
      "Tank_4           0\n",
      "Tank_5           0\n",
      "Tank_6           0\n",
      "Tank_7           0\n",
      "Tank_8           0\n",
      "Pump_1           0\n",
      "Pump_2           0\n",
      "Pump_3           0\n",
      "Pump_4           0\n",
      "Pump_5           0\n",
      "Pump_6           0\n",
      "Flow_sensor_1    0\n",
      "Flow_sensor_2    0\n",
      "Flow_sensor_3    0\n",
      "Flow_sensor_4    0\n",
      "Valv_1           0\n",
      "Valv_2           0\n",
      "Valv_3           0\n",
      "Valv_4           0\n",
      "Valv_5           0\n",
      "Valv_6           0\n",
      "Valv_7           0\n",
      "Valv_8           0\n",
      "Valv_9           0\n",
      "Valv_10          0\n",
      "Valv_11          0\n",
      "Valv_12          0\n",
      "Valv_13          0\n",
      "Valv_14          0\n",
      "Valv_15          0\n",
      "Valv_16          0\n",
      "Valv_17          0\n",
      "Valv_18          0\n",
      "Valv_19          0\n",
      "Valv_20          0\n",
      "Valv_21          0\n",
      "Valv_22          0\n",
      "Label_n          0\n",
      "Label            0\n",
      "dtype: int64\n",
      "Time             0\n",
      "Tank_1           0\n",
      "Tank_2           0\n",
      "Tank_3           0\n",
      "Tank_4           0\n",
      "Tank_5           0\n",
      "Tank_6           0\n",
      "Tank_7           0\n",
      "Tank_8           0\n",
      "Pump_1           0\n",
      "Pump_2           0\n",
      "Pump_3           0\n",
      "Pump_4           0\n",
      "Pump_5           0\n",
      "Pump_6           0\n",
      "Flow_sensor_1    0\n",
      "Flow_sensor_2    0\n",
      "Flow_sensor_3    0\n",
      "Flow_sensor_4    0\n",
      "Valv_1           0\n",
      "Valv_2           0\n",
      "Valv_3           0\n",
      "Valv_4           0\n",
      "Valv_5           0\n",
      "Valv_6           0\n",
      "Valv_7           0\n",
      "Valv_8           0\n",
      "Valv_9           0\n",
      "Valv_10          0\n",
      "Valv_11          0\n",
      "Valv_12          0\n",
      "Valv_13          0\n",
      "Valv_14          0\n",
      "Valv_15          0\n",
      "Valv_16          0\n",
      "Valv_17          0\n",
      "Valv_18          0\n",
      "Valv_19          0\n",
      "Valv_20          0\n",
      "Valv_21          0\n",
      "Valv_22          0\n",
      "Label_n          0\n",
      "Label            0\n",
      "dtype: int64\n",
      "Time             0\n",
      "Tank_1           0\n",
      "Tank_2           0\n",
      "Tank_3           0\n",
      "Tank_4           0\n",
      "Tank_5           0\n",
      "Tank_6           0\n",
      "Tank_7           0\n",
      "Tank_8           0\n",
      "Pump_1           0\n",
      "Pump_2           0\n",
      "Pump_3           0\n",
      "Pump_4           0\n",
      "Pump_5           0\n",
      "Pump_6           0\n",
      "Flow_sensor_1    0\n",
      "Flow_sensor_2    0\n",
      "Flow_sensor_3    0\n",
      "Flow_sensor_4    0\n",
      "Valv_1           0\n",
      "Valv_2           0\n",
      "Valv_3           0\n",
      "Valv_4           0\n",
      "Valv_5           0\n",
      "Valv_6           0\n",
      "Valv_7           0\n",
      "Valv_8           0\n",
      "Valv_9           0\n",
      "Valv_10          0\n",
      "Valv_11          0\n",
      "Valv_12          0\n",
      "Valv_13          0\n",
      "Valv_14          0\n",
      "Valv_15          0\n",
      "Valv_16          0\n",
      "Valv_17          0\n",
      "Valv_18          0\n",
      "Valv_19          0\n",
      "Valv_20          0\n",
      "Valv_21          0\n",
      "Valv_22          0\n",
      "Label_n          0\n",
      "Label            0\n",
      "dtype: int64\n",
      "Time             0\n",
      "Tank_1           0\n",
      "Tank_2           0\n",
      "Tank_3           0\n",
      "Tank_4           0\n",
      "Tank_5           0\n",
      "Tank_6           0\n",
      "Tank_7           0\n",
      "Tank_8           0\n",
      "Pump_1           0\n",
      "Pump_2           0\n",
      "Pump_3           0\n",
      "Pump_4           0\n",
      "Pump_5           0\n",
      "Pump_6           0\n",
      "Flow_sensor_1    0\n",
      "Flow_sensor_2    0\n",
      "Flow_sensor_3    0\n",
      "Flow_sensor_4    0\n",
      "Valv_1           0\n",
      "Valv_2           0\n",
      "Valv_3           0\n",
      "Valv_4           0\n",
      "Valv_5           0\n",
      "Valv_6           0\n",
      "Valv_7           0\n",
      "Valv_8           0\n",
      "Valv_9           0\n",
      "Valv_10          0\n",
      "Valv_11          0\n",
      "Valv_12          0\n",
      "Valv_13          0\n",
      "Valv_14          0\n",
      "Valv_15          0\n",
      "Valv_16          0\n",
      "Valv_17          0\n",
      "Valv_18          0\n",
      "Valv_19          0\n",
      "Valv_20          0\n",
      "Valv_21          0\n",
      "Valv_22          0\n",
      "Label_n          0\n",
      "Label            0\n",
      "dtype: int64\n",
      "Time             0\n",
      "Tank_1           0\n",
      "Tank_2           0\n",
      "Tank_3           0\n",
      "Tank_4           0\n",
      "Tank_5           0\n",
      "Tank_6           0\n",
      "Tank_7           0\n",
      "Tank_8           0\n",
      "Pump_1           0\n",
      "Pump_2           0\n",
      "Pump_3           0\n",
      "Pump_4           0\n",
      "Pump_5           0\n",
      "Pump_6           0\n",
      "Flow_sensor_1    0\n",
      "Flow_sensor_2    0\n",
      "Flow_sensor_3    0\n",
      "Flow_sensor_4    0\n",
      "Valv_1           0\n",
      "Valv_2           0\n",
      "Valv_3           0\n",
      "Valv_4           0\n",
      "Valv_5           0\n",
      "Valv_6           0\n",
      "Valv_7           0\n",
      "Valv_8           0\n",
      "Valv_9           0\n",
      "Valv_10          0\n",
      "Valv_11          0\n",
      "Valv_12          0\n",
      "Valv_13          0\n",
      "Valv_14          0\n",
      "Valv_15          0\n",
      "Valv_16          0\n",
      "Valv_17          0\n",
      "Valv_18          0\n",
      "Valv_19          0\n",
      "Valv_20          0\n",
      "Valv_21          0\n",
      "Valv_22          0\n",
      "Label_n          0\n",
      "Label            0\n",
      "dtype: int64\n"
     ]
    }
   ],
   "source": [
    "# y a t il des valeurs manquantes ?\n",
    "print(df_phy_1.isna().sum())\n",
    "print(df_phy_2.isna().sum())\n",
    "print(df_phy_3.isna().sum())\n",
    "print(df_phy_4.isna().sum())\n",
    "print(df_phy_norm.isna().sum())"
   ]
  },
  {
   "cell_type": "code",
   "execution_count": 70,
   "metadata": {},
   "outputs": [],
   "source": [
    "# non"
   ]
  },
  {
   "cell_type": "markdown",
   "metadata": {},
   "source": [
    "## Clean data (2)"
   ]
  },
  {
   "cell_type": "code",
   "execution_count": 71,
   "metadata": {},
   "outputs": [],
   "source": [
    "# Combler le trou de 1 seconde : TODO \n",
    "# df2\n",
    "# combien de différence pour chaque colonne\n",
    "# genre est ce que si gros trous on peut combler avec la moyenne ?\n",
    "# ou dupliquer la ligne précédente\n",
    "# plot \n",
    "# regarder ce qu'il se passe sur une visualisation pour dire la décision qu'on prend"
   ]
  },
  {
   "cell_type": "code",
   "execution_count": 72,
   "metadata": {},
   "outputs": [],
   "source": [
    "# Transformer pour \"perdre\" le timestamp ? "
   ]
  },
  {
   "cell_type": "markdown",
   "metadata": {},
   "source": [
    "## Exploration (3)"
   ]
  },
  {
   "cell_type": "markdown",
   "metadata": {},
   "source": [
    "### Flow sensor"
   ]
  },
  {
   "cell_type": "code",
   "execution_count": 73,
   "metadata": {},
   "outputs": [
    {
     "name": "stdout",
     "output_type": "stream",
     "text": [
      "       Flow_sensor_1  Flow_sensor_2  Flow_sensor_3  Flow_sensor_4\n",
      "count    2420.000000    2420.000000         2420.0    2420.000000\n",
      "mean     1634.090909    1595.041322            0.0    1283.821488\n",
      "std      1963.983001    1958.977859            0.0    1738.336519\n",
      "min         0.000000       0.000000            0.0       0.000000\n",
      "25%         0.000000       0.000000            0.0       0.000000\n",
      "50%         0.000000       0.000000            0.0       0.000000\n",
      "75%      4000.000000    4000.000000            0.0    2769.000000\n",
      "max      4000.000000    4000.000000            0.0    4789.000000\n"
     ]
    }
   ],
   "source": [
    "# Distribution des valeurs numériques pour Flow_sensor\n",
    "print(df_phy_1[['Flow_sensor_1', 'Flow_sensor_2', 'Flow_sensor_3', 'Flow_sensor_4']].describe())"
   ]
  },
  {
   "cell_type": "code",
   "execution_count": 74,
   "metadata": {},
   "outputs": [
    {
     "name": "stdout",
     "output_type": "stream",
     "text": [
      "Flow_sensor_1      3\n",
      "Flow_sensor_2      2\n",
      "Flow_sensor_3      1\n",
      "Flow_sensor_4    686\n",
      "dtype: int64\n",
      "Flow_sensor_1      2\n",
      "Flow_sensor_2      2\n",
      "Flow_sensor_3      1\n",
      "Flow_sensor_4    608\n",
      "dtype: int64\n",
      "Flow_sensor_1      2\n",
      "Flow_sensor_2      2\n",
      "Flow_sensor_3      1\n",
      "Flow_sensor_4    262\n",
      "dtype: int64\n",
      "Flow_sensor_1      2\n",
      "Flow_sensor_2      2\n",
      "Flow_sensor_3      1\n",
      "Flow_sensor_4    486\n",
      "dtype: int64\n",
      "Flow_sensor_1      2\n",
      "Flow_sensor_2      2\n",
      "Flow_sensor_3      1\n",
      "Flow_sensor_4    965\n",
      "dtype: int64\n"
     ]
    }
   ],
   "source": [
    "# combien y a t il de valeurs différentes pour Flow_sensor_1, Flow_sensor_2, Flow_sensor_3, Flow_sensor_4\n",
    "print(df_phy_1[['Flow_sensor_1', 'Flow_sensor_2', 'Flow_sensor_3', 'Flow_sensor_4']].nunique())\n",
    "print(df_phy_2[['Flow_sensor_1', 'Flow_sensor_2', 'Flow_sensor_3', 'Flow_sensor_4']].nunique())\n",
    "print(df_phy_3[['Flow_sensor_1', 'Flow_sensor_2', 'Flow_sensor_3', 'Flow_sensor_4']].nunique())\n",
    "print(df_phy_4[['Flow_sensor_1', 'Flow_sensor_2', 'Flow_sensor_3', 'Flow_sensor_4']].nunique())\n",
    "print(df_phy_norm[['Flow_sensor_1', 'Flow_sensor_2', 'Flow_sensor_3', 'Flow_sensor_4']].nunique())"
   ]
  },
  {
   "cell_type": "code",
   "execution_count": 75,
   "metadata": {},
   "outputs": [],
   "source": [
    "# qu'une valeur pour Flow_sensor_3, vérifions que c'est la même dans chaque dataset\n",
    "# 2 valeurs pour Flow_sensor_1 (3 pour df_phy_1) et 2, beaucoup plus pour Flow_sensor_4"
   ]
  },
  {
   "cell_type": "code",
   "execution_count": 76,
   "metadata": {},
   "outputs": [
    {
     "name": "stdout",
     "output_type": "stream",
     "text": [
      "Flow_sensor_3\n",
      "0    2420\n",
      "Name: count, dtype: int64\n",
      "Flow_sensor_3\n",
      "0    2104\n",
      "Name: count, dtype: int64\n",
      "Flow_sensor_3\n",
      "0    1254\n",
      "Name: count, dtype: int64\n",
      "Flow_sensor_3\n",
      "0    1717\n",
      "Name: count, dtype: int64\n",
      "Flow_sensor_3\n",
      "0    3428\n",
      "Name: count, dtype: int64\n"
     ]
    }
   ],
   "source": [
    "# que des 0 en Flow_sensor_3 ? Vérifions \n",
    "print(df_phy_1['Flow_sensor_3'].value_counts())\n",
    "print(df_phy_2['Flow_sensor_3'].value_counts())\n",
    "print(df_phy_3['Flow_sensor_3'].value_counts())\n",
    "print(df_phy_4['Flow_sensor_3'].value_counts())\n",
    "print(df_phy_norm['Flow_sensor_3'].value_counts())"
   ]
  },
  {
   "cell_type": "code",
   "execution_count": 77,
   "metadata": {},
   "outputs": [],
   "source": [
    "# que des 0 : on peut supprimer cette colonne\n",
    "df_phy_1.drop(columns='Flow_sensor_3', inplace=True)\n",
    "df_phy_2.drop(columns='Flow_sensor_3', inplace=True)\n",
    "df_phy_3.drop(columns='Flow_sensor_3', inplace=True)\n",
    "df_phy_4.drop(columns='Flow_sensor_3', inplace=True)\n",
    "df_phy_norm.drop(columns='Flow_sensor_3', inplace=True)"
   ]
  },
  {
   "cell_type": "code",
   "execution_count": 78,
   "metadata": {},
   "outputs": [],
   "source": [
    "# pour les autres Flow_sensor on a plus de la moitié des valeurs à 0\n",
    "# on va donc analyser visuellement la distribution des valeurs non nulles\n",
    "## TODO : commenter viz"
   ]
  },
  {
   "cell_type": "code",
   "execution_count": 79,
   "metadata": {},
   "outputs": [
    {
     "name": "stdout",
     "output_type": "stream",
     "text": [
      "(452, 42)\n"
     ]
    }
   ],
   "source": [
    "# combien de lignes où tout est à 0 ?\n",
    "print(df_phy_1[(df_phy_1['Flow_sensor_1'] == 0) & (df_phy_1['Flow_sensor_2'] == 0) & (df_phy_1['Flow_sensor_4'] == 0)].shape)"
   ]
  },
  {
   "cell_type": "code",
   "execution_count": 80,
   "metadata": {},
   "outputs": [
    {
     "name": "stdout",
     "output_type": "stream",
     "text": [
      "Condition_met\n",
      "False    1462\n",
      "True      958\n",
      "Name: count, dtype: int64\n"
     ]
    }
   ],
   "source": [
    "# est ce qu'on a maximum qu'un Flow_sensor à la fois ?\n",
    "\n",
    "# Fonction pour vérifier la condition\n",
    "def check_condition(row):\n",
    "    columns = ['Flow_sensor_1', 'Flow_sensor_2', 'Flow_sensor_4']\n",
    "    \n",
    "    # vérifier si une seule colonne est non nulle et les autres à 0\n",
    "    for col in columns:\n",
    "        if row[col] != 0:\n",
    "            other_columns = [row[c] for c in columns if c != col]\n",
    "            if all(value == 0 for value in other_columns):\n",
    "                return True\n",
    "    return False\n",
    "\n",
    "test = df_phy_1.copy()\n",
    "\n",
    "# Appliquer la fonction à chaque ligne du DataFrame\n",
    "test['Condition_met'] = test.apply(check_condition, axis=1)\n",
    "\n",
    "print(test['Condition_met'].value_counts())"
   ]
  },
  {
   "cell_type": "code",
   "execution_count": 81,
   "metadata": {},
   "outputs": [],
   "source": [
    "# non : on a des lignes où plusieurs Flow_sensor ne sont pas à 0"
   ]
  },
  {
   "cell_type": "code",
   "execution_count": 82,
   "metadata": {},
   "outputs": [
    {
     "name": "stdout",
     "output_type": "stream",
     "text": [
      "Flow_sensor_1\n",
      "0       1368\n",
      "4000     987\n",
      "100       65\n",
      "Name: count, dtype: int64\n",
      "Flow_sensor_1\n",
      "0       1385\n",
      "4000     719\n",
      "Name: count, dtype: int64\n",
      "Flow_sensor_1\n",
      "0       876\n",
      "4000    378\n",
      "Name: count, dtype: int64\n",
      "Flow_sensor_1\n",
      "0       1118\n",
      "4000     599\n",
      "Name: count, dtype: int64\n",
      "Flow_sensor_1\n",
      "0       2052\n",
      "4000    1376\n",
      "Name: count, dtype: int64\n"
     ]
    }
   ],
   "source": [
    "# quels sont les 2 valeurs de Flow_sensor_1 ?\n",
    "print(df_phy_1['Flow_sensor_1'].value_counts())\n",
    "print(df_phy_2['Flow_sensor_1'].value_counts())\n",
    "print(df_phy_3['Flow_sensor_1'].value_counts())\n",
    "print(df_phy_4['Flow_sensor_1'].value_counts())\n",
    "print(df_phy_norm['Flow_sensor_1'].value_counts())"
   ]
  },
  {
   "cell_type": "code",
   "execution_count": 83,
   "metadata": {},
   "outputs": [],
   "source": [
    "# 0, 4k pour tous, et quelques 100 pour df_phy_1\n",
    "# on catégorise donc Flow_sensor_1 \n",
    "\n",
    "df_phy_1[\"Flow_sensor_1\"] = df_phy_1[\"Flow_sensor_1\"].astype('category')\n",
    "df_phy_2[\"Flow_sensor_1\"] = df_phy_2[\"Flow_sensor_1\"].astype('category')\n",
    "df_phy_3[\"Flow_sensor_1\"] = df_phy_3[\"Flow_sensor_1\"].astype('category')\n",
    "df_phy_4[\"Flow_sensor_1\"] = df_phy_4[\"Flow_sensor_1\"].astype('category')\n",
    "df_phy_norm[\"Flow_sensor_1\"] = df_phy_norm[\"Flow_sensor_1\"].astype('category')"
   ]
  },
  {
   "cell_type": "code",
   "execution_count": 84,
   "metadata": {},
   "outputs": [
    {
     "name": "stdout",
     "output_type": "stream",
     "text": [
      "Flow_sensor_2\n",
      "0       1455\n",
      "4000     965\n",
      "Name: count, dtype: int64\n",
      "Flow_sensor_2\n",
      "0       1335\n",
      "4000     769\n",
      "Name: count, dtype: int64\n",
      "Flow_sensor_2\n",
      "0       867\n",
      "4000    387\n",
      "Name: count, dtype: int64\n",
      "Flow_sensor_2\n",
      "0       1049\n",
      "4000     668\n",
      "Name: count, dtype: int64\n",
      "Flow_sensor_2\n",
      "0       2012\n",
      "4000    1416\n",
      "Name: count, dtype: int64\n"
     ]
    }
   ],
   "source": [
    "# quels sont les 2 valeurs de Flow_sensor_2 ?\n",
    "print(df_phy_1['Flow_sensor_2'].value_counts())\n",
    "print(df_phy_2['Flow_sensor_2'].value_counts())\n",
    "print(df_phy_3['Flow_sensor_2'].value_counts())\n",
    "print(df_phy_4['Flow_sensor_2'].value_counts())\n",
    "print(df_phy_norm['Flow_sensor_2'].value_counts())"
   ]
  },
  {
   "cell_type": "code",
   "execution_count": 85,
   "metadata": {},
   "outputs": [],
   "source": [
    "# 0 ou 4k pour tous\n",
    "# on ne va donc pas garder les valeurs numériques pour cette colonne mais\n",
    "# on va la transformer en catégorielle (booléen car 0 -> 0 ou 4k -> 1)\n",
    "df_phy_1['Flow_sensor_2'] = df_phy_1['Flow_sensor_2'].apply(lambda x: x != 0)\n",
    "df_phy_2['Flow_sensor_2'] = df_phy_2['Flow_sensor_2'].apply(lambda x: x != 0)\n",
    "df_phy_3['Flow_sensor_2'] = df_phy_3['Flow_sensor_2'].apply(lambda x: x != 0)\n",
    "df_phy_4['Flow_sensor_2'] = df_phy_4['Flow_sensor_2'].apply(lambda x: x != 0)\n",
    "df_phy_norm['Flow_sensor_2'] = df_phy_norm['Flow_sensor_2'].apply(lambda x: x != 0)"
   ]
  },
  {
   "cell_type": "markdown",
   "metadata": {},
   "source": [
    "### Tank"
   ]
  },
  {
   "cell_type": "code",
   "execution_count": 86,
   "metadata": {},
   "outputs": [
    {
     "name": "stdout",
     "output_type": "stream",
     "text": [
      "            Tank_1       Tank_2       Tank_3       Tank_4       Tank_5  \\\n",
      "count  2420.000000  2420.000000  2420.000000  2420.000000  2420.000000   \n",
      "mean    686.320661   714.946281   922.677686   362.064463   361.733058   \n",
      "std     654.955181   656.051613   942.572849   366.970644   278.799110   \n",
      "min       0.000000     0.000000     0.000000     0.000000     0.000000   \n",
      "25%       2.000000     5.000000    73.250000    27.000000    30.500000   \n",
      "50%     598.000000   639.500000   747.500000   231.000000   370.000000   \n",
      "75%    1244.000000  1293.250000  1226.250000   692.250000   605.250000   \n",
      "max    1980.000000  1952.000000  3427.000000  1134.000000   835.000000   \n",
      "\n",
      "            Tank_6       Tank_7       Tank_8  \n",
      "count  2420.000000  2420.000000  2420.000000  \n",
      "mean    198.284298   207.890083   163.835124  \n",
      "std     190.497343   216.415569   179.054521  \n",
      "min       0.000000     0.000000     0.000000  \n",
      "25%       3.000000     0.000000     0.000000  \n",
      "50%     165.500000   144.000000    86.000000  \n",
      "75%     380.250000   450.000000   358.250000  \n",
      "max     800.000000   812.000000   507.000000  \n"
     ]
    }
   ],
   "source": [
    "print(df_phy_1[['Tank_1', 'Tank_2', 'Tank_3', 'Tank_4', 'Tank_5', 'Tank_6', 'Tank_7', 'Tank_8']].describe())"
   ]
  },
  {
   "cell_type": "code",
   "execution_count": 87,
   "metadata": {},
   "outputs": [
    {
     "name": "stdout",
     "output_type": "stream",
     "text": [
      "Tank_1    1049\n",
      "Tank_2    1120\n",
      "Tank_3    1234\n",
      "Tank_4     807\n",
      "Tank_5     721\n",
      "Tank_6     482\n",
      "Tank_7      99\n",
      "Tank_8     424\n",
      "dtype: int64\n"
     ]
    }
   ],
   "source": [
    "print(df_phy_1[['Tank_1', 'Tank_2', 'Tank_3', 'Tank_4', 'Tank_5', 'Tank_6', 'Tank_7', 'Tank_8']].nunique())"
   ]
  },
  {
   "cell_type": "code",
   "execution_count": 88,
   "metadata": {},
   "outputs": [
    {
     "name": "stdout",
     "output_type": "stream",
     "text": [
      "Condition_met\n",
      "False    2414\n",
      "True        6\n",
      "Name: count, dtype: int64\n"
     ]
    }
   ],
   "source": [
    "# est ce qu'on a qu'un Tank à la fois ?\n",
    "\n",
    "# Fonction pour vérifier la condition\n",
    "def check_condition(row):\n",
    "    columns = ['Tank_1', 'Tank_2', 'Tank_3', 'Tank_4', 'Tank_5', 'Tank_6', 'Tank_7', 'Tank_8']\n",
    "    \n",
    "    # vérifier si une seule colonne est non nulle et les autres à 0\n",
    "    for col in columns:\n",
    "        if row[col] != 0:\n",
    "            other_columns = [row[c] for c in columns if c != col]\n",
    "            if all(value == 0 for value in other_columns):\n",
    "                return True\n",
    "    return False\n",
    "\n",
    "test = df_phy_1.copy()\n",
    "\n",
    "# Appliquer la fonction à chaque ligne du DataFrame\n",
    "test['Condition_met'] = test.apply(check_condition, axis=1)\n",
    "\n",
    "print(test['Condition_met'].value_counts())"
   ]
  },
  {
   "cell_type": "code",
   "execution_count": 89,
   "metadata": {},
   "outputs": [],
   "source": [
    "# non on a que 6 lignes où une seule colonne est non nulle"
   ]
  },
  {
   "cell_type": "code",
   "execution_count": 90,
   "metadata": {},
   "outputs": [],
   "source": [
    "# TODO : plot distribution tank"
   ]
  },
  {
   "cell_type": "markdown",
   "metadata": {},
   "source": [
    "### Pump"
   ]
  },
  {
   "cell_type": "code",
   "execution_count": 91,
   "metadata": {},
   "outputs": [],
   "source": [
    "# TODO : visualiser la répartition des valeurs non nulles pour chaque dataset"
   ]
  },
  {
   "cell_type": "code",
   "execution_count": 92,
   "metadata": {},
   "outputs": [
    {
     "name": "stdout",
     "output_type": "stream",
     "text": [
      "nb ligne dans phy1 :  2420\n",
      "726 590 0 461 991 966\n",
      "3734\n"
     ]
    }
   ],
   "source": [
    "# est ce qu'on a plusieurs true à la fois ? \n",
    "print(\"nb ligne dans phy1 : \", df_phy_1.shape[0])\n",
    "val_1 = df_phy_1['Pump_1'].sum()\n",
    "val_2 = df_phy_1['Pump_2'].sum()\n",
    "val_3 = df_phy_1['Pump_3'].sum()\n",
    "val_4 = df_phy_1['Pump_4'].sum()\n",
    "val_5 = df_phy_1['Pump_5'].sum()\n",
    "val_6 = df_phy_1['Pump_6'].sum()\n",
    "print(val_1, val_2, val_3, val_4, val_5, val_6)\n",
    "print(val_1 + val_2 + val_3 + val_4 + val_5 + val_6)"
   ]
  },
  {
   "cell_type": "code",
   "execution_count": 93,
   "metadata": {},
   "outputs": [],
   "source": [
    "# oui : plusieurs true à la fois \n",
    "# mais on voit que Pump_3 toujours à False, vérifions dans autres datasets"
   ]
  },
  {
   "cell_type": "code",
   "execution_count": 94,
   "metadata": {},
   "outputs": [
    {
     "name": "stdout",
     "output_type": "stream",
     "text": [
      "{False: 2420}\n",
      "{False: 2104}\n",
      "{False: 1254}\n",
      "{False: 1717}\n",
      "{False: 3428}\n"
     ]
    }
   ],
   "source": [
    "print(df_phy_1['Pump_3'].value_counts().to_dict())\n",
    "print(df_phy_2['Pump_3'].value_counts().to_dict())\n",
    "print(df_phy_3['Pump_3'].value_counts().to_dict())\n",
    "print(df_phy_4['Pump_3'].value_counts().to_dict())\n",
    "print(df_phy_norm['Pump_3'].value_counts().to_dict())\n",
    "# que des false -> colonne à supprimer"
   ]
  },
  {
   "cell_type": "code",
   "execution_count": 95,
   "metadata": {},
   "outputs": [],
   "source": [
    "df_phy_1.drop(columns='Pump_3', inplace=True)\n",
    "df_phy_2.drop(columns='Pump_3', inplace=True)\n",
    "df_phy_3.drop(columns='Pump_3', inplace=True)\n",
    "df_phy_4.drop(columns='Pump_3', inplace=True)\n",
    "df_phy_norm.drop(columns='Pump_3', inplace=True)"
   ]
  },
  {
   "cell_type": "markdown",
   "metadata": {},
   "source": [
    "### Valv"
   ]
  },
  {
   "cell_type": "code",
   "execution_count": 96,
   "metadata": {},
   "outputs": [
    {
     "name": "stdout",
     "output_type": "stream",
     "text": [
      "nb ligne dans phy1 :  2420\n",
      "Valv_1 {False: 2420}\n",
      "Valv_2 {False: 2420}\n",
      "Valv_3 {False: 2420}\n",
      "Valv_4 {False: 2420}\n",
      "Valv_5 {False: 2420}\n",
      "Valv_6 {False: 2420}\n",
      "Valv_7 {False: 2420}\n",
      "Valv_8 {False: 2420}\n",
      "Valv_9 {False: 2420}\n",
      "Valv_10 {True: 1615, False: 805}\n",
      "Valv_11 {True: 1615, False: 805}\n",
      "Valv_12 {True: 1614, False: 806}\n",
      "Valv_13 {True: 1269, False: 1151}\n",
      "Valv_14 {True: 1269, False: 1151}\n",
      "Valv_15 {True: 1269, False: 1151}\n",
      "Valv_16 {False: 2420}\n",
      "Valv_17 {False: 1486, True: 934}\n",
      "Valv_18 {False: 1861, True: 559}\n",
      "Valv_19 {False: 2420}\n",
      "Valv_20 {True: 1500, False: 920}\n",
      "Valv_21 {False: 2420}\n",
      "Valv_22 {False: 1372, True: 1048}\n",
      "12692\n"
     ]
    }
   ],
   "source": [
    "# combien de valeurs pour True et False pour les Valv ? \n",
    "print(\"nb ligne dans phy1 : \", df_phy_1.shape[0])\n",
    "sum_valv = 0\n",
    "for i in range(1, 23):\n",
    "    sum_valv += df_phy_1[f'Valv_{i}'].sum()\n",
    "    print(f'Valv_{i}',df_phy_1[f'Valv_{i}'].value_counts().to_dict())\n",
    "print(sum_valv)\n",
    "# idem : ne sommes pas à 1 true par valv \n",
    "# mais on voit plein de colonnes à valeur constante à false, regardons dans les autres datasets"
   ]
  },
  {
   "cell_type": "code",
   "execution_count": 97,
   "metadata": {},
   "outputs": [
    {
     "name": "stdout",
     "output_type": "stream",
     "text": [
      "{False: 10923}\n",
      "{False: 10923}\n",
      "{False: 10923}\n",
      "{False: 10923}\n",
      "{False: 10923}\n",
      "{False: 10923}\n",
      "{False: 10923}\n",
      "{False: 10923}\n",
      "{False: 10923}\n",
      "{False: 10923}\n",
      "{False: 10923}\n",
      "{False: 10923}\n"
     ]
    }
   ],
   "source": [
    "# que des False dans Valv 1 à 9, 16, 19 et 21 \n",
    "\n",
    "# vérifions dans autres datasets\n",
    "test_all = pd.concat([df_phy_1, df_phy_2, df_phy_3, df_phy_4, df_phy_norm])\n",
    "\n",
    "print(test_all['Valv_1'].value_counts().to_dict())\n",
    "print(test_all['Valv_2'].value_counts().to_dict())\n",
    "print(test_all['Valv_3'].value_counts().to_dict())\n",
    "print(test_all['Valv_4'].value_counts().to_dict())\n",
    "print(test_all['Valv_5'].value_counts().to_dict())\n",
    "print(test_all['Valv_6'].value_counts().to_dict())\n",
    "print(test_all['Valv_7'].value_counts().to_dict())\n",
    "print(test_all['Valv_8'].value_counts().to_dict())\n",
    "print(test_all['Valv_9'].value_counts().to_dict())\n",
    "print(test_all['Valv_16'].value_counts().to_dict())\n",
    "print(test_all['Valv_19'].value_counts().to_dict())\n",
    "print(test_all['Valv_21'].value_counts().to_dict())"
   ]
  },
  {
   "cell_type": "code",
   "execution_count": 98,
   "metadata": {},
   "outputs": [],
   "source": [
    "# on peut supprimer ces colonnes\n",
    "\n",
    "def drop_columns(df):\n",
    "    df.drop(columns=[\"Valv_1\", \"Valv_2\", \"Valv_3\", \"Valv_4\", \"Valv_5\", \"Valv_6\", \"Valv_7\", \"Valv_8\", \"Valv_9\", \"Valv_16\", \"Valv_19\", \"Valv_21\"], inplace=True)\n",
    "    return df\n",
    "\n",
    "df_phy_1 = drop_columns(df_phy_1)\n",
    "df_phy_2 = drop_columns(df_phy_2)\n",
    "df_phy_3 = drop_columns(df_phy_3)\n",
    "df_phy_4 = drop_columns(df_phy_4)\n",
    "df_phy_norm = drop_columns(df_phy_norm)       "
   ]
  },
  {
   "cell_type": "code",
   "execution_count": 99,
   "metadata": {},
   "outputs": [
    {
     "name": "stdout",
     "output_type": "stream",
     "text": [
      "nb ligne dans phy1 :  2420\n",
      "1615 1615 1614 1269 1269 1269 934 559 1500 1048\n",
      "12692\n"
     ]
    }
   ],
   "source": [
    "# est ce qu'on a plusieurs true à la fois ? \n",
    "print(\"nb ligne dans phy1 : \", df_phy_1.shape[0])\n",
    "val_1 = df_phy_1['Valv_10'].sum()\n",
    "val_2 = df_phy_1['Valv_11'].sum()\n",
    "val_3 = df_phy_1['Valv_12'].sum()\n",
    "val_4 = df_phy_1['Valv_13'].sum()\n",
    "val_5 = df_phy_1['Valv_14'].sum()\n",
    "val_6 = df_phy_1['Valv_15'].sum()\n",
    "val_7 = df_phy_1['Valv_17'].sum()\n",
    "val_8 = df_phy_1['Valv_18'].sum()\n",
    "val_9 = df_phy_1['Valv_20'].sum()\n",
    "val_10 = df_phy_1['Valv_22'].sum()\n",
    "print(val_1, val_2, val_3, val_4, val_5, val_6, val_7, val_8, val_9, val_10)\n",
    "print(val_1 + val_2 + val_3 + val_4 + val_5 + val_6 + val_7 + val_8 + val_9 + val_10)"
   ]
  },
  {
   "cell_type": "code",
   "execution_count": 100,
   "metadata": {},
   "outputs": [],
   "source": [
    "# oui : plusieurs true à la fois"
   ]
  },
  {
   "cell_type": "markdown",
   "metadata": {},
   "source": [
    "### Préparation à exporter les données pour les autres notebooks et les visualisations"
   ]
  },
  {
   "cell_type": "code",
   "execution_count": 101,
   "metadata": {},
   "outputs": [],
   "source": [
    "df_phy_attack = pd.concat([df_phy_1, df_phy_2, df_phy_3, df_phy_4])\n",
    "df_phy_all = pd.concat([df_phy_1, df_phy_2, df_phy_3, df_phy_4, df_phy_norm])\n",
    "df_phy_load_all = pd.concat([df_load_phy_1, df_load_phy_2, df_load_phy_3, df_load_phy_4, df_load_phy_norm])\n",
    "dict_dfs = {\n",
    "    \"phy_att_1\": df_phy_1,\n",
    "    \"phy_att_2\": df_phy_2,\n",
    "    \"phy_att_3\": df_phy_3,\n",
    "    \"phy_att_4\": df_phy_4,\n",
    "    \"phy_norm\": df_phy_norm,\n",
    "    \"all\": df_phy_all,\n",
    "}"
   ]
  },
  {
   "cell_type": "code",
   "execution_count": 102,
   "metadata": {},
   "outputs": [],
   "source": [
    "import os\n",
    "from pickleshare import PickleShareDB\n",
    "\n",
    "data_dir = '../prep_data' \n",
    "os.makedirs(data_dir, exist_ok=True)\n",
    "db = PickleShareDB(os.path.join(data_dir, 'kity'))\n",
    "\n",
    "db['df_phy_1'] = df_phy_1\n",
    "db['df_phy_2'] = df_phy_2\n",
    "db['df_phy_3'] = df_phy_3\n",
    "db['df_phy_4'] = df_phy_4\n",
    "db['df_phy_norm'] = df_phy_norm\n",
    "db['df_phy_attack'] = df_phy_attack\n",
    "db['df_phy_all'] = df_phy_all\n",
    "db['dict_dfs'] = dict_dfs\n",
    "db['df_load_phy_1'] = df_load_phy_1\n",
    "db['df_load_phy_2'] = df_load_phy_2\n",
    "db['df_load_phy_3'] = df_load_phy_3\n",
    "db['df_load_phy_4'] = df_load_phy_4\n",
    "db['df_load_phy_norm'] = df_load_phy_norm\n",
    "db['df_load_phy_all'] = df_phy_load_all\n",
    "db['dict_dfs_load'] = {\n",
    "    \"phy_att_1\": df_load_phy_1,\n",
    "    \"phy_att_2\": df_load_phy_2,\n",
    "    \"phy_att_3\": df_load_phy_3,\n",
    "    \"phy_att_4\": df_load_phy_4,\n",
    "    \"phy_norm\": df_load_phy_norm,\n",
    "    \"all\": df_phy_load_all,\n",
    "}"
   ]
  }
 ],
 "metadata": {
  "kernelspec": {
   "display_name": "Python 3",
   "language": "python",
   "name": "python3"
  },
  "language_info": {
   "codemirror_mode": {
    "name": "ipython",
    "version": 3
   },
   "file_extension": ".py",
   "mimetype": "text/x-python",
   "name": "python",
   "nbconvert_exporter": "python",
   "pygments_lexer": "ipython3",
   "version": "3.10.12"
  }
 },
 "nbformat": 4,
 "nbformat_minor": 2
}
