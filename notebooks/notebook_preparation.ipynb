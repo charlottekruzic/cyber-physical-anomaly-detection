{
 "cells": [
  {
   "cell_type": "code",
   "execution_count": 4,
   "metadata": {},
   "outputs": [],
   "source": [
    "import pandas as pd"
   ]
  },
  {
   "cell_type": "markdown",
   "metadata": {},
   "source": [
    "## Load data"
   ]
  },
  {
   "cell_type": "code",
   "execution_count": null,
   "metadata": {},
   "outputs": [],
   "source": [
    "def load_data(file, encoding='utf-16', sep='\\t'):\n",
    "    data = pd.read_csv(f'../datasets/Physical dataset/{file}.csv', encoding=encoding, sep=sep)\n",
    "    return data"
   ]
  },
  {
   "cell_type": "code",
   "execution_count": 6,
   "metadata": {},
   "outputs": [],
   "source": [
    "df_load_phy_1 = load_data('phy_att_1')\n",
    "df_load_phy_2 = load_data('phy_att_2')\n",
    "df_load_phy_3 = load_data('phy_att_3')\n",
    "df_load_phy_4 = load_data('phy_att_4', encoding='utf-8', sep=',')\n",
    "df_load_phy_norm = load_data('phy_norm')"
   ]
  },
  {
   "cell_type": "code",
   "execution_count": 7,
   "metadata": {},
   "outputs": [],
   "source": [
    "df_phy_1 = df_load_phy_1.copy()\n",
    "df_phy_2 = df_load_phy_2.copy()\n",
    "df_phy_3 = df_load_phy_3.copy()\n",
    "df_phy_4 = df_load_phy_4.copy()\n",
    "df_phy_norm = df_load_phy_norm.copy()"
   ]
  },
  {
   "cell_type": "markdown",
   "metadata": {},
   "source": [
    "## Clean data"
   ]
  },
  {
   "cell_type": "code",
   "execution_count": 8,
   "metadata": {},
   "outputs": [],
   "source": [
    "# Renommer la colonne 'Lable_n' en 'Label_n'\n",
    "df_phy_2.rename(columns={'Lable_n': 'Label_n'}, inplace=True)"
   ]
  },
  {
   "cell_type": "code",
   "execution_count": 9,
   "metadata": {},
   "outputs": [],
   "source": [
    "# Transformer Label_n en catégorielle\n",
    "df_phy_1['Label_n'] = df_phy_1['Label_n'].astype('category')\n",
    "df_phy_2['Label_n'] = df_phy_2['Label_n'].astype('category')\n",
    "df_phy_3['Label_n'] = df_phy_3['Label_n'].astype('category')\n",
    "df_phy_4['Label_n'] = df_phy_4['Label_n'].astype('category')\n",
    "df_phy_norm['Label_n'] = df_phy_norm['Label_n'].astype('category')"
   ]
  },
  {
   "cell_type": "code",
   "execution_count": 10,
   "metadata": {},
   "outputs": [],
   "source": [
    "# Convertir Time en datetime\n",
    "df_phy_1['Time'] = pd.to_datetime(df_phy_1['Time'], dayfirst=True)\n",
    "df_phy_2['Time'] = pd.to_datetime(df_phy_2['Time'], dayfirst=True)\n",
    "df_phy_3['Time'] = pd.to_datetime(df_phy_3['Time'], dayfirst=True)\n",
    "df_phy_4['Time'] = pd.to_datetime(df_phy_4['Time'], dayfirst=True)\n",
    "df_phy_norm['Time'] = pd.to_datetime(df_phy_norm['Time'], dayfirst=True)"
   ]
  },
  {
   "cell_type": "code",
   "execution_count": 11,
   "metadata": {},
   "outputs": [],
   "source": [
    "# Renommer \"nomal\" en \"normal\"\n",
    "df_phy_2['Label'] = df_phy_2['Label'].str.replace('nomal', 'normal')"
   ]
  },
  {
   "cell_type": "code",
   "execution_count": 12,
   "metadata": {},
   "outputs": [],
   "source": [
    "# Combler le trou de 1 seconde : TODO \n",
    "# df2\n",
    "# combien de différence pour chaque colonne\n",
    "# genre est ce que si gros trous on peut combler avec la moyenne ?\n",
    "# ou dupliquer la ligne précédente\n",
    "# plot "
   ]
  },
  {
   "cell_type": "code",
   "execution_count": 13,
   "metadata": {},
   "outputs": [],
   "source": [
    "# Supprimer les colonnes inutiles\n",
    "def drop_columns(df):\n",
    "    df.drop(columns=[\"Pump_3\",\"Valv_1\", \"Valv_2\", \"Valv_3\", \"Valv_4\", \"Valv_5\", \"Valv_6\", \"Valv_7\", \"Valv_8\", \"Valv_9\", \"Valv_16\", \"Valv_19\", \"Valv_21\"], inplace=True)\n",
    "    return df\n",
    "\n",
    "df_phy_1 = drop_columns(df_phy_1)\n",
    "df_phy_2 = drop_columns(df_phy_2)\n",
    "df_phy_3 = drop_columns(df_phy_3)\n",
    "df_phy_4 = drop_columns(df_phy_4)\n",
    "df_phy_norm = drop_columns(df_phy_norm)       "
   ]
  },
  {
   "cell_type": "code",
   "execution_count": 14,
   "metadata": {},
   "outputs": [],
   "source": [
    "df_phy_attack = pd.concat([df_phy_1, df_phy_2, df_phy_3, df_phy_4])\n",
    "df_phy_all = pd.concat([df_phy_1, df_phy_2, df_phy_3, df_phy_4, df_phy_norm])\n",
    "dict_dfs = {\n",
    "    \"phy_att_1\": df_phy_1,\n",
    "    \"phy_att_2\": df_phy_2,\n",
    "    \"phy_att_3\": df_phy_3,\n",
    "    \"phy_att_4\": df_phy_4,\n",
    "    \"phy_norm\": df_phy_norm,\n",
    "}"
   ]
  },
  {
   "cell_type": "code",
   "execution_count": 15,
   "metadata": {},
   "outputs": [],
   "source": [
    "import os\n",
    "from pickleshare import PickleShareDB\n",
    "\n",
    "data_dir = '../prep_data' \n",
    "os.makedirs(data_dir, exist_ok=True)\n",
    "db = PickleShareDB(os.path.join(data_dir, 'kity'))\n",
    "\n",
    "db['df_phy_1'] = df_phy_1\n",
    "db['df_phy_2'] = df_phy_2\n",
    "db['df_phy_3'] = df_phy_3\n",
    "db['df_phy_4'] = df_phy_4\n",
    "db['df_phy_norm'] = df_phy_norm\n",
    "db['df_phy_attack'] = df_phy_attack\n",
    "db['df_phy_all'] = df_phy_all\n",
    "db['dict_dfs'] = dict_dfs"
   ]
  }
 ],
 "metadata": {
  "kernelspec": {
   "display_name": "Python 3",
   "language": "python",
   "name": "python3"
  },
  "language_info": {
   "codemirror_mode": {
    "name": "ipython",
    "version": 3
   },
   "file_extension": ".py",
   "mimetype": "text/x-python",
   "name": "python",
   "nbconvert_exporter": "python",
   "pygments_lexer": "ipython3",
   "version": "3.10.12"
  }
 },
 "nbformat": 4,
 "nbformat_minor": 2
}
