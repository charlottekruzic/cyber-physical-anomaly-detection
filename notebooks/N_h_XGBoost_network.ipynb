{
 "cells": [
  {
   "cell_type": "code",
   "execution_count": 1,
   "metadata": {},
   "outputs": [],
   "source": [
    "import pandas as pd\n",
    "import numpy as np\n",
    "from pickleshare import PickleShareDB\n",
    "from sklearn.model_selection import train_test_split\n",
    "from sklearn.preprocessing import StandardScaler, LabelEncoder\n",
    "from sklearn.metrics import precision_score, recall_score, accuracy_score, f1_score, balanced_accuracy_score, matthews_corrcoef, confusion_matrix\n",
    "from xgboost import XGBClassifier\n",
    "import matplotlib.pyplot as plt\n",
    "import seaborn as sns\n",
    "\n",
    "import time\n",
    "import tracemalloc"
   ]
  },
  {
   "cell_type": "code",
   "execution_count": 2,
   "metadata": {},
   "outputs": [],
   "source": [
    "# Pour garantir la reproductibilité\n",
    "np.random.seed(42)  # Pour numpy"
   ]
  },
  {
   "cell_type": "markdown",
   "metadata": {},
   "source": [
    "## Chargement des données"
   ]
  },
  {
   "cell_type": "code",
   "execution_count": 3,
   "metadata": {},
   "outputs": [],
   "source": [
    "db = PickleShareDB('../prep_data/kity')"
   ]
  },
  {
   "cell_type": "code",
   "execution_count": 4,
   "metadata": {},
   "outputs": [],
   "source": [
    "# Chargement des données de classification binaire\n",
    "X_train_resampled_binary = db['binary_X_train_resampled']\n",
    "y_train_resampled_binary = db['binary_y_train_resampled']\n",
    "X_test_binary = db['binary_X_test']\n",
    "y_test_binary = db['binary_y_test']\n",
    "\n",
    "# Chargement des données de classification multi-classes\n",
    "X_train_resampled_multiclass = db['multiclass_X_train_resampled']\n",
    "y_train_resampled_multiclass = db['multiclass_y_train_resampled']\n",
    "X_test_multiclass = db['multiclass_X_test']\n",
    "y_test_multiclass = db['multiclass_y_test']\n",
    "\n",
    "# Chargement du mapping des étiquettes pour la classification multi-classes\n",
    "# Ce dictionnaire associe les étiquettes textuelles (e.g., 'normal', 'DoS') à des valeurs numériques\n",
    "label_mapping_network = db['label_mapping_network']"
   ]
  },
  {
   "cell_type": "markdown",
   "metadata": {},
   "source": [
    "## Initialisation du modèle"
   ]
  },
  {
   "cell_type": "code",
   "execution_count": 5,
   "metadata": {},
   "outputs": [],
   "source": [
    "xgb_model = XGBClassifier(\n",
    "    n_estimators=100,\n",
    "    learning_rate=0.1,\n",
    "    max_depth=6,\n",
    "    random_state=42,\n",
    "    use_label_encoder=False,\n",
    "    eval_metric='logloss'\n",
    ")"
   ]
  },
  {
   "cell_type": "markdown",
   "metadata": {},
   "source": [
    "## Entraînement du modèle et évaluation - Classification binaire"
   ]
  },
  {
   "cell_type": "code",
   "execution_count": 6,
   "metadata": {},
   "outputs": [
    {
     "name": "stderr",
     "output_type": "stream",
     "text": [
      "/usr/local/lib/python3.11/dist-packages/xgboost/core.py:158: UserWarning: [11:26:11] WARNING: /workspace/src/learner.cc:740: \n",
      "Parameters: { \"use_label_encoder\" } are not used.\n",
      "\n",
      "  warnings.warn(smsg, UserWarning)\n"
     ]
    }
   ],
   "source": [
    "# Mesurer le temps et la mémoire pour l'entraînement\n",
    "tracemalloc.start()\n",
    "start_fit_time = time.time()\n",
    "\n",
    "xgb_model.fit(X_train_resampled_binary, y_train_resampled_binary)\n",
    "\n",
    "fit_time = time.time() - start_fit_time\n",
    "current, peak = tracemalloc.get_traced_memory()  # Mémoire actuelle et maximale utilisée\n",
    "fit_memory_usage = peak / (1024 * 1024)  # Convertir en Mo\n",
    "tracemalloc.stop()"
   ]
  },
  {
   "cell_type": "code",
   "execution_count": 7,
   "metadata": {},
   "outputs": [],
   "source": [
    "# Mesurer le temps et la mémoire pour la prediction\n",
    "tracemalloc.start()\n",
    "start_predict_time = time.time()\n",
    "\n",
    "# Prédire les étiquettes sur l'ensemble de test\n",
    "y_pred = xgb_model.predict(X_test_binary)\n",
    "predict_time = time.time() - start_predict_time\n",
    "current, peak = tracemalloc.get_traced_memory()  # Mémoire actuelle et maximale utilisée\n",
    "predict_memory_usage = peak / (1024 * 1024)  # Convertir en Mo\n",
    "tracemalloc.stop()"
   ]
  },
  {
   "cell_type": "markdown",
   "metadata": {},
   "source": [
    "### Évaluation"
   ]
  },
  {
   "cell_type": "markdown",
   "metadata": {},
   "source": [
    "#### Métriques de classification"
   ]
  },
  {
   "cell_type": "code",
   "execution_count": 8,
   "metadata": {},
   "outputs": [],
   "source": [
    "cm = confusion_matrix(y_test_binary, y_pred)\n",
    "TN, FP, FN, TP = cm.ravel()\n",
    "\n",
    "# Métriques pour les données équilibrées\n",
    "precision = precision_score(y_test_binary, y_pred, average='binary')\n",
    "recall = recall_score(y_test_binary, y_pred, average='binary')\n",
    "tnr = TN / (TN + FP) if (TN + FP) != 0 else 0\n",
    "fpr = FP / (FP + TN) if (FP + TN) != 0 else 0\n",
    "accuracy = accuracy_score(y_test_binary, y_pred)\n",
    "\n",
    "# Métriques pour les données déséquilibrées\n",
    "f1 = f1_score(y_test_binary, y_pred, average='binary')\n",
    "balanced_acc = balanced_accuracy_score(y_test_binary, y_pred)\n",
    "mcc = matthews_corrcoef(y_test_binary, y_pred)\n",
    "\n",
    "results_XGBoost_label_n = {\n",
    "    'data': 'NETW',\n",
    "    'model_type': 'XGBoost',\n",
    "    'attack_type': 'labeln',\n",
    "    'confusion_matrix': cm,\n",
    "    'precision': precision,\n",
    "    'recall': recall,\n",
    "    'tnr': tnr,\n",
    "    'fpr': fpr,\n",
    "    'accuracy': accuracy,\n",
    "    'f1': f1,\n",
    "    'balanced_accuracy': balanced_acc,\n",
    "    'mcc': mcc,\n",
    "    'fit_time': fit_time,\n",
    "    'predict_time': predict_time,\n",
    "    'fit_memory_usage': fit_memory_usage,\n",
    "    'predict_memory_usage': predict_memory_usage\n",
    "}"
   ]
  },
  {
   "cell_type": "code",
   "execution_count": 9,
   "metadata": {},
   "outputs": [
    {
     "name": "stdout",
     "output_type": "stream",
     "text": [
      "Évaluation complète du modèle:\n",
      "data: NETW\n",
      "model_type: XGBoost\n",
      "attack_type: labeln\n",
      "confusion_matrix: [[63371   109]\n",
      " [19075 25255]]\n",
      "precision: 0.9957025705724649\n",
      "recall: 0.5697044890593278\n",
      "tnr: 0.9982829237555135\n",
      "fpr: 0.0017170762444864525\n",
      "accuracy: 0.822057323068361\n",
      "f1: 0.7247395758601888\n",
      "balanced_accuracy: 0.7839937064074207\n",
      "mcc: 0.6588891694324035\n",
      "fit_time: 3.06973934173584\n",
      "predict_time: 0.07988715171813965\n",
      "fit_memory_usage: 2.491100311279297\n",
      "predict_memory_usage: 1.369307518005371\n"
     ]
    }
   ],
   "source": [
    "# Afficher les résultats\n",
    "print(\"Évaluation complète du modèle:\")\n",
    "for metric, value in results_XGBoost_label_n.items():\n",
    "    print(f\"{metric}: {value}\")"
   ]
  },
  {
   "cell_type": "markdown",
   "metadata": {},
   "source": [
    "##### Matrice de confusion "
   ]
  },
  {
   "cell_type": "code",
   "execution_count": 10,
   "metadata": {},
   "outputs": [
    {
     "data": {
      "image/png": "[encoded data removed]",
      "text/plain": [
       "<Figure size 640x480 with 2 Axes>"
      ]
     },
     "metadata": {},
     "output_type": "display_data"
    }
   ],
   "source": [
    "# Matrice de confusion\n",
    "sns.heatmap(cm, annot=True, fmt='d', cmap='Blues')\n",
    "plt.xlabel('Prédit')\n",
    "plt.ylabel('Réel')\n",
    "plt.title('Matrice de confusion')\n",
    "plt.show()"
   ]
  },
  {
   "cell_type": "markdown",
   "metadata": {},
   "source": [
    "### Sauvegarder les resultats"
   ]
  },
  {
   "cell_type": "code",
   "execution_count": 11,
   "metadata": {},
   "outputs": [],
   "source": [
    "# sauvegarder dans PickleShareDB\n",
    "db['NETW_results_XGBoost_labeln'] = results_XGBoost_label_n"
   ]
  },
  {
   "cell_type": "markdown",
   "metadata": {},
   "source": [
    "## Entraînement du modèle et évaluation - Classification multi-classes"
   ]
  },
  {
   "cell_type": "code",
   "execution_count": 12,
   "metadata": {},
   "outputs": [],
   "source": [
    "ordered_classes = ['normal', 'DoS','physical fault', 'MITM', 'anomaly']\n",
    "nb_class = 5"
   ]
  },
  {
   "cell_type": "code",
   "execution_count": 13,
   "metadata": {},
   "outputs": [
    {
     "name": "stderr",
     "output_type": "stream",
     "text": [
      "/usr/local/lib/python3.11/dist-packages/xgboost/core.py:158: UserWarning: [11:26:14] WARNING: /workspace/src/learner.cc:740: \n",
      "Parameters: { \"use_label_encoder\" } are not used.\n",
      "\n",
      "  warnings.warn(smsg, UserWarning)\n"
     ]
    }
   ],
   "source": [
    "# Mesurer le temps et la mémoire pour l'entraînement\n",
    "tracemalloc.start()\n",
    "start_fit_time = time.time()\n",
    "\n",
    "xgb_model.fit(X_train_resampled_multiclass, y_train_resampled_multiclass)\n",
    "\n",
    "fit_time = time.time() - start_fit_time\n",
    "current, peak = tracemalloc.get_traced_memory()  # Mémoire actuelle et maximale utilisée\n",
    "fit_memory_usage = peak / (1024 * 1024)  # Convertir en Mo\n",
    "tracemalloc.stop()"
   ]
  },
  {
   "cell_type": "code",
   "execution_count": 14,
   "metadata": {},
   "outputs": [],
   "source": [
    "# Mesurer le temps et la mémoire pour la prediction\n",
    "tracemalloc.start()\n",
    "start_predict_time = time.time()\n",
    "\n",
    "# Prédire les étiquettes sur l'ensemble de test\n",
    "y_pred = xgb_model.predict(X_test_multiclass)\n",
    "predict_time = time.time() - start_predict_time\n",
    "current, peak = tracemalloc.get_traced_memory()  # Mémoire actuelle et maximale utilisée\n",
    "predict_memory_usage = peak / (1024 * 1024)  # Convertir en Mo\n",
    "tracemalloc.stop()"
   ]
  },
  {
   "cell_type": "code",
   "execution_count": 15,
   "metadata": {},
   "outputs": [],
   "source": [
    "reverse_label_mapping = {v: k for k, v in label_mapping_network.items()}"
   ]
  },
  {
   "cell_type": "markdown",
   "metadata": {},
   "source": [
    "### Évaluation"
   ]
  },
  {
   "cell_type": "markdown",
   "metadata": {},
   "source": [
    "#### Métriques de classification"
   ]
  },
  {
   "cell_type": "code",
   "execution_count": 16,
   "metadata": {},
   "outputs": [
    {
     "name": "stdout",
     "output_type": "stream",
     "text": [
      "{0: {'data': 'NETW', 'model_type': 'XGBoost', 'attack_type': np.str_('normal'), 'confusion_matrix': array([[63469,     8,     0,     3,     0],\n",
      "       [  825, 24981,     0,     1,     1],\n",
      "       [ 7743,     0,     0,     0,     0],\n",
      "       [10709,     1,     0,    67,     0],\n",
      "       [    0,     0,     0,     0,     2]]), 'TN': np.int64(25053), 'FP': np.int64(19277), 'FN': np.int64(11), 'TP': np.int64(63469), 'precision': np.float64(0.7670340560268775), 'recall': np.float64(0.9998267170762445), 'f1': np.float64(0.868094593300781), 'balanced_accuracy': np.float64(0.7824872362732903), 'mcc': np.float64(0.6581084312052106), 'tnr': np.float64(0.5651477554703361), 'fpr': np.float64(0.43485224452966387), 'accuracy': np.float64(0.8210926630182729), 'fit_time': 21.370421886444092, 'predict_time': 0.19294524192810059, 'fit_memory_usage': 6.539159774780273, 'predict_memory_usage': 2.9038333892822266}, 1: {'data': 'NETW', 'model_type': 'XGBoost', 'attack_type': np.str_('DoS'), 'confusion_matrix': array([[63469,     8,     0,     3,     0],\n",
      "       [  825, 24981,     0,     1,     1],\n",
      "       [ 7743,     0,     0,     0,     0],\n",
      "       [10709,     1,     0,    67,     0],\n",
      "       [    0,     0,     0,     0,     2]]), 'TN': np.int64(81993), 'FP': np.int64(9), 'FN': np.int64(827), 'TP': np.int64(24981), 'precision': np.float64(0.9996398559423769), 'recall': np.float64(0.9679556726596404), 'f1': np.float64(0.9835426591598094), 'balanced_accuracy': np.float64(0.983922959619496), 'mcc': np.float64(0.9786893886495653), 'tnr': np.float64(0.9998902465793518), 'fpr': np.float64(0.00010975342064827688), 'accuracy': np.float64(0.9922456172896763), 'fit_time': 21.370421886444092, 'predict_time': 0.19294524192810059, 'fit_memory_usage': 6.539159774780273, 'predict_memory_usage': 2.9038333892822266}, 2: {'data': 'NETW', 'model_type': 'XGBoost', 'attack_type': np.str_('physical fault'), 'confusion_matrix': array([[63469,     8,     0,     3,     0],\n",
      "       [  825, 24981,     0,     1,     1],\n",
      "       [ 7743,     0,     0,     0,     0],\n",
      "       [10709,     1,     0,    67,     0],\n",
      "       [    0,     0,     0,     0,     2]]), 'TN': np.int64(100067), 'FP': np.int64(0), 'FN': np.int64(7743), 'TP': np.int64(0), 'precision': np.float64(0.0), 'recall': np.float64(0.0), 'f1': np.float64(0.0), 'balanced_accuracy': np.float64(0.5), 'mcc': 0, 'tnr': np.float64(1.0), 'fpr': np.float64(0.0), 'accuracy': np.float64(0.9281792041554586), 'fit_time': 21.370421886444092, 'predict_time': 0.19294524192810059, 'fit_memory_usage': 6.539159774780273, 'predict_memory_usage': 2.9038333892822266}, 3: {'data': 'NETW', 'model_type': 'XGBoost', 'attack_type': np.str_('MITM'), 'confusion_matrix': array([[63469,     8,     0,     3,     0],\n",
      "       [  825, 24981,     0,     1,     1],\n",
      "       [ 7743,     0,     0,     0,     0],\n",
      "       [10709,     1,     0,    67,     0],\n",
      "       [    0,     0,     0,     0,     2]]), 'TN': np.int64(97029), 'FP': np.int64(4), 'FN': np.int64(10710), 'TP': np.int64(67), 'precision': np.float64(0.9436619718309859), 'recall': np.float64(0.006216943490767375), 'f1': np.float64(0.012352507374631269), 'balanced_accuracy': np.float64(0.5030878602008576), 'mcc': np.float64(0.07220722450909299), 'tnr': np.float64(0.9999587769109478), 'fpr': np.float64(4.122308905217812e-05), 'accuracy': np.float64(0.9006214636861145), 'fit_time': 21.370421886444092, 'predict_time': 0.19294524192810059, 'fit_memory_usage': 6.539159774780273, 'predict_memory_usage': 2.9038333892822266}, 4: {'data': 'NETW', 'model_type': 'XGBoost', 'attack_type': np.str_('anomaly'), 'confusion_matrix': array([[63469,     8,     0,     3,     0],\n",
      "       [  825, 24981,     0,     1,     1],\n",
      "       [ 7743,     0,     0,     0,     0],\n",
      "       [10709,     1,     0,    67,     0],\n",
      "       [    0,     0,     0,     0,     2]]), 'TN': np.int64(107807), 'FP': np.int64(1), 'FN': np.int64(0), 'TP': np.int64(2), 'precision': np.float64(0.6666666666666666), 'recall': np.float64(1.0), 'f1': np.float64(0.8), 'balanced_accuracy': np.float64(0.9999953621252597), 'mcc': np.float64(0.8164927941100764), 'tnr': np.float64(0.9999907242505195), 'fpr': np.float64(9.27574948055803e-06), 'accuracy': np.float64(0.9999907244225953), 'fit_time': 21.370421886444092, 'predict_time': 0.19294524192810059, 'fit_memory_usage': 6.539159774780273, 'predict_memory_usage': 2.9038333892822266}}\n"
     ]
    },
    {
     "name": "stderr",
     "output_type": "stream",
     "text": [
      "/usr/local/lib/python3.11/dist-packages/sklearn/metrics/_classification.py:1531: UndefinedMetricWarning: Precision is ill-defined and being set to 0.0 in labels with no predicted samples. Use `zero_division` parameter to control this behavior.\n",
      "  _warn_prf(average, modifier, f\"{metric.capitalize()} is\", len(result))\n",
      "/usr/local/lib/python3.11/dist-packages/sklearn/metrics/_classification.py:1531: UndefinedMetricWarning: Precision is ill-defined and being set to 0.0 in labels with no predicted samples. Use `zero_division` parameter to control this behavior.\n",
      "  _warn_prf(average, modifier, f\"{metric.capitalize()} is\", len(result))\n",
      "/usr/local/lib/python3.11/dist-packages/sklearn/metrics/_classification.py:1531: UndefinedMetricWarning: Precision is ill-defined and being set to 0.0 in labels with no predicted samples. Use `zero_division` parameter to control this behavior.\n",
      "  _warn_prf(average, modifier, f\"{metric.capitalize()} is\", len(result))\n",
      "/usr/local/lib/python3.11/dist-packages/sklearn/metrics/_classification.py:1531: UndefinedMetricWarning: Precision is ill-defined and being set to 0.0 in labels with no predicted samples. Use `zero_division` parameter to control this behavior.\n",
      "  _warn_prf(average, modifier, f\"{metric.capitalize()} is\", len(result))\n",
      "/usr/local/lib/python3.11/dist-packages/sklearn/metrics/_classification.py:1531: UndefinedMetricWarning: Precision is ill-defined and being set to 0.0 in labels with no predicted samples. Use `zero_division` parameter to control this behavior.\n",
      "  _warn_prf(average, modifier, f\"{metric.capitalize()} is\", len(result))\n"
     ]
    }
   ],
   "source": [
    "cm = confusion_matrix(y_test_multiclass, y_pred)\n",
    "\n",
    "# Dictionnaire pour stocker les résultats de chaque classe\n",
    "class_results = {}\n",
    "\n",
    "for class_label in range(nb_class):\n",
    "    # Extraire la matrice de confusion pour la classe spécifique\n",
    "    TP = cm[class_label, class_label]\n",
    "    FP = sum(cm[:, class_label]) - TP\n",
    "    FN = sum(cm[class_label, :]) - TP\n",
    "    TN = cm.sum() - (TP + FP + FN)\n",
    "\n",
    "    # Calcul des métriques pour chaque classe\n",
    "    precision = precision_score(y_test_multiclass, y_pred, average=None)[class_label]\n",
    "    recall_tpr = recall_score(y_test_multiclass, y_pred, average=None)[class_label]\n",
    "    tnr = TN / (TN + FP) if (TN + FP) != 0 else 0\n",
    "    fpr = FP / (FP + TN) if (FP + TN) != 0 else 0\n",
    "    accuracy = (TP + TN) / (TP + TN + FP + FN)\n",
    "    f1 = f1_score(y_test_multiclass, y_pred, average=None)[class_label]\n",
    "    balanced_acc = (recall_tpr + tnr) / 2\n",
    "    mcc = (TP * TN - FP * FN) / np.sqrt((TP + FP) * (TP + FN) * (TN + FP) * (TN + FN)) if (TP + FP) * (TP + FN) * (TN + FP) * (TN + FN) != 0 else 0\n",
    "\n",
    "\n",
    "# Stocker les résultats dans le dictionnaire\n",
    "    class_results[class_label] = {\n",
    "        'data': 'NETW',\n",
    "        'model_type': 'XGBoost',\n",
    "        'attack_type': reverse_label_mapping[class_label],\n",
    "        'confusion_matrix': cm,\n",
    "        'TN': TN,\n",
    "        'FP': FP,\n",
    "        'FN': FN,\n",
    "        'TP': TP,\n",
    "        'precision': precision,\n",
    "        'recall': recall_tpr,\n",
    "        'f1': f1,\n",
    "        'balanced_accuracy': balanced_acc,\n",
    "        'mcc': mcc,\n",
    "        'tnr': tnr,\n",
    "        'fpr': fpr,\n",
    "        'accuracy': accuracy,\n",
    "        'fit_time': fit_time,\n",
    "        'predict_time': predict_time,\n",
    "        'fit_memory_usage': fit_memory_usage,\n",
    "        'predict_memory_usage': predict_memory_usage\n",
    "    }\n",
    "\n",
    "# Afficher ou enregistrer les résultats pour chaque classe\n",
    "print(class_results)"
   ]
  },
  {
   "cell_type": "code",
   "execution_count": 17,
   "metadata": {},
   "outputs": [
    {
     "name": "stdout",
     "output_type": "stream",
     "text": [
      "[0.76703406 0.99963986 0.         0.94366197 0.66666667]\n",
      "Résultats pour la classe 0: 0.7670340560268775\n",
      "avec calcul : 0.7670340560268775\n",
      "Résultats pour la classe 1: 0.9996398559423769\n",
      "avec calcul : 0.9996398559423769\n",
      "Résultats pour la classe 2: 0.0\n",
      "avec calcul : nan\n",
      "Résultats pour la classe 3: 0.9436619718309859\n",
      "avec calcul : 0.9436619718309859\n",
      "Résultats pour la classe 4: 0.6666666666666666\n",
      "avec calcul : 0.6666666666666666\n"
     ]
    },
    {
     "name": "stderr",
     "output_type": "stream",
     "text": [
      "/usr/local/lib/python3.11/dist-packages/sklearn/metrics/_classification.py:1531: UndefinedMetricWarning: Precision is ill-defined and being set to 0.0 in labels with no predicted samples. Use `zero_division` parameter to control this behavior.\n",
      "  _warn_prf(average, modifier, f\"{metric.capitalize()} is\", len(result))\n",
      "/tmp/ipykernel_136460/2830791748.py:5: RuntimeWarning: invalid value encountered in scalar divide\n",
      "  print(f\"avec calcul : {class_results[i]['TP'] / (class_results[i]['TP'] + class_results[i]['FP'])}\")\n"
     ]
    }
   ],
   "source": [
    "# vérif\n",
    "print(precision_score(y_test_multiclass, y_pred, average=None))\n",
    "for i in range(nb_class):\n",
    "    print(f\"Résultats pour la classe {i}: {class_results[i]['precision']}\")\n",
    "    print(f\"avec calcul : {class_results[i]['TP'] / (class_results[i]['TP'] + class_results[i]['FP'])}\")"
   ]
  },
  {
   "cell_type": "code",
   "execution_count": 18,
   "metadata": {},
   "outputs": [
    {
     "name": "stdout",
     "output_type": "stream",
     "text": [
      "test tpr 0.9679556726596404\n",
      "0.9679556726596404\n"
     ]
    }
   ],
   "source": [
    "tp = class_results[1]['TP']\n",
    "fn = class_results[1]['FN']\n",
    "print(\"test tpr\", tp / (tp + fn))\n",
    "print(class_results[1]['recall'])"
   ]
  },
  {
   "cell_type": "markdown",
   "metadata": {},
   "source": [
    "#### Matrice de confusion "
   ]
  },
  {
   "cell_type": "code",
   "execution_count": 19,
   "metadata": {},
   "outputs": [
    {
     "data": {
      "image/png": "[encoded data removed]",
      "text/plain": [
       "<Figure size 640x480 with 2 Axes>"
      ]
     },
     "metadata": {},
     "output_type": "display_data"
    }
   ],
   "source": [
    "# Matrice de confusion\n",
    "sns.heatmap(cm, annot=True, fmt='d', cmap='Blues', xticklabels=ordered_classes, yticklabels=ordered_classes)\n",
    "plt.xlabel('Prédit')\n",
    "plt.ylabel('Réel')\n",
    "plt.title('Matrice de confusion')\n",
    "plt.show()"
   ]
  },
  {
   "cell_type": "markdown",
   "metadata": {},
   "source": [
    "### Sauvegarder les resultats"
   ]
  },
  {
   "cell_type": "code",
   "execution_count": 20,
   "metadata": {},
   "outputs": [],
   "source": [
    "# sauvegarder les données \n",
    "\n",
    "for i in range(1, nb_class):\n",
    "    class_results[i]['model'] = f'XGBoost - label - {reverse_label_mapping[i]}'\n",
    "    db[f'NETW_results_XGBoost_{reverse_label_mapping[i]}'] = class_results[i]"
   ]
  }
 ],
 "metadata": {
  "kernelspec": {
   "display_name": "Python 3",
   "language": "python",
   "name": "python3"
  },
  "language_info": {
   "codemirror_mode": {
    "name": "ipython",
    "version": 3
   },
   "file_extension": ".py",
   "mimetype": "text/x-python",
   "name": "python",
   "nbconvert_exporter": "python",
   "pygments_lexer": "ipython3",
   "version": "3.11.2"
  }
 },
 "nbformat": 4,
 "nbformat_minor": 2
}
