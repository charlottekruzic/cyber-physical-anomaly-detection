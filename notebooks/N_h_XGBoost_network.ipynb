{
 "cells": [
  {
   "cell_type": "code",
   "execution_count": 1,
   "metadata": {},
   "outputs": [],
   "source": [
    "import pandas as pd\n",
    "import numpy as np\n",
    "from pickleshare import PickleShareDB\n",
    "from sklearn.model_selection import train_test_split\n",
    "from sklearn.preprocessing import StandardScaler, LabelEncoder\n",
    "from sklearn.metrics import precision_score, recall_score, accuracy_score, f1_score, balanced_accuracy_score, matthews_corrcoef, confusion_matrix\n",
    "from xgboost import XGBClassifier\n",
    "import matplotlib.pyplot as plt\n",
    "import seaborn as sns\n",
    "\n",
    "import time\n",
    "import tracemalloc"
   ]
  },
  {
   "cell_type": "code",
   "execution_count": 2,
   "metadata": {},
   "outputs": [],
   "source": [
    "# Pour garantir la reproductibilité\n",
    "np.random.seed(42)  # Pour numpy"
   ]
  },
  {
   "cell_type": "markdown",
   "metadata": {},
   "source": [
    "## Chargement des données"
   ]
  },
  {
   "cell_type": "code",
   "execution_count": 3,
   "metadata": {},
   "outputs": [],
   "source": [
    "db = PickleShareDB('../prep_data/kity')\n",
    "# sample_df = db['net_sample_for_models']"
   ]
  },
  {
   "cell_type": "code",
   "execution_count": 4,
   "metadata": {},
   "outputs": [
    {
     "name": "stderr",
     "output_type": "stream",
     "text": [
      "/tmp/ipykernel_14117/2945194170.py:2: FutureWarning: The default of observed=False is deprecated and will be changed to True in a future version of pandas. Pass observed=False to retain current behavior or observed=True to adopt the future default and silence this warning.\n",
      "  sample_df = sample_df.groupby('label', group_keys=False).apply(\n",
      "/tmp/ipykernel_14117/2945194170.py:2: DeprecationWarning: DataFrameGroupBy.apply operated on the grouping columns. This behavior is deprecated, and in a future version of pandas the grouping columns will be excluded from the operation. Either pass `include_groups=False` to exclude the groupings or explicitly select the grouping columns after groupby to silence this warning.\n",
      "  sample_df = sample_df.groupby('label', group_keys=False).apply(\n"
     ]
    }
   ],
   "source": [
    "sample_df = db['pca_result_with_labels']\n",
    "sample_df = sample_df.groupby('label', group_keys=False).apply(\n",
    "    lambda x: x.sample(frac=0.1, random_state=42)\n",
    ")"
   ]
  },
  {
   "cell_type": "markdown",
   "metadata": {},
   "source": [
    "Le type d'attaque 'scan' a tres peu d'entrees, ce qui empeche les modeles. On supprime ce type d'attaque."
   ]
  },
  {
   "cell_type": "code",
   "execution_count": 5,
   "metadata": {},
   "outputs": [],
   "source": [
    "to_drop = sample_df[sample_df['label'] == 'scan'].index\n",
    "sample_df = sample_df.drop(to_drop)"
   ]
  },
  {
   "cell_type": "code",
   "execution_count": 6,
   "metadata": {},
   "outputs": [],
   "source": [
    "labels = sample_df[['label', 'label_n']]\n",
    "sample_df.drop(columns=['label', 'label_n'], inplace=True)"
   ]
  },
  {
   "cell_type": "markdown",
   "metadata": {},
   "source": [
    "## Initialisation du modèle"
   ]
  },
  {
   "cell_type": "code",
   "execution_count": 7,
   "metadata": {},
   "outputs": [],
   "source": [
    "xgb_model = XGBClassifier(\n",
    "    n_estimators=100,\n",
    "    learning_rate=0.1,\n",
    "    max_depth=6,\n",
    "    random_state=42,\n",
    "    use_label_encoder=False,\n",
    "    eval_metric='logloss'\n",
    ")"
   ]
  },
  {
   "cell_type": "markdown",
   "metadata": {},
   "source": [
    "## Entraînement du modèle et évaluation - Classification binaire"
   ]
  },
  {
   "cell_type": "code",
   "execution_count": 8,
   "metadata": {},
   "outputs": [],
   "source": [
    "X = sample_df\n",
    "y_label_n = labels['label_n']\n",
    "# y_label_n_str = y_label_n.astype(str)\n",
    "\n",
    "# Diviser les données en ensembles d'entraînement et de test\n",
    "X_train, X_test, y_train, y_test = train_test_split(X, y_label_n, test_size=0.2, random_state=42, stratify=y_label_n)"
   ]
  },
  {
   "cell_type": "code",
   "execution_count": 9,
   "metadata": {},
   "outputs": [
    {
     "name": "stderr",
     "output_type": "stream",
     "text": [
      "/home/zoe/.local/lib/python3.10/site-packages/xgboost/core.py:158: UserWarning: [11:17:57] WARNING: /workspace/src/learner.cc:740: \n",
      "Parameters: { \"use_label_encoder\" } are not used.\n",
      "\n",
      "  warnings.warn(smsg, UserWarning)\n"
     ]
    }
   ],
   "source": [
    "# Mesurer le temps et la mémoire pour l'entraînement\n",
    "tracemalloc.start()\n",
    "start_fit_time = time.time()\n",
    "\n",
    "xgb_model.fit(X_train, y_train)\n",
    "\n",
    "fit_time = time.time() - start_fit_time\n",
    "current, peak = tracemalloc.get_traced_memory()  # Mémoire actuelle et maximale utilisée\n",
    "fit_memory_usage = peak / (1024 * 1024)  # Convertir en Mo\n",
    "tracemalloc.stop()"
   ]
  },
  {
   "cell_type": "code",
   "execution_count": 10,
   "metadata": {},
   "outputs": [],
   "source": [
    "# Mesurer le temps et la mémoire pour la prediction\n",
    "tracemalloc.start()\n",
    "start_predict_time = time.time()\n",
    "\n",
    "# Prédire les étiquettes sur l'ensemble de test\n",
    "y_pred = xgb_model.predict(X_test)\n",
    "predict_time = time.time() - start_predict_time\n",
    "current, peak = tracemalloc.get_traced_memory()  # Mémoire actuelle et maximale utilisée\n",
    "predict_memory_usage = peak / (1024 * 1024)  # Convertir en Mo\n",
    "tracemalloc.stop()"
   ]
  },
  {
   "cell_type": "markdown",
   "metadata": {},
   "source": [
    "### Évaluation"
   ]
  },
  {
   "cell_type": "markdown",
   "metadata": {},
   "source": [
    "#### Métriques de classification"
   ]
  },
  {
   "cell_type": "code",
   "execution_count": 11,
   "metadata": {},
   "outputs": [],
   "source": [
    "cm = confusion_matrix(y_test, y_pred)\n",
    "TN, FP, FN, TP = cm.ravel()\n",
    "\n",
    "# Métriques pour les données équilibrées\n",
    "precision = precision_score(y_test, y_pred, average='binary')\n",
    "recall = recall_score(y_test, y_pred, average='binary')\n",
    "tnr = TN / (TN + FP) if (TN + FP) != 0 else 0\n",
    "fpr = FP / (FP + TN) if (FP + TN) != 0 else 0\n",
    "accuracy = accuracy_score(y_test, y_pred)\n",
    "\n",
    "# Métriques pour les données déséquilibrées\n",
    "f1 = f1_score(y_test, y_pred, average='binary')\n",
    "balanced_acc = balanced_accuracy_score(y_test, y_pred)\n",
    "mcc = matthews_corrcoef(y_test, y_pred)\n",
    "\n",
    "results_XGBoost_label_n = {\n",
    "    'data': 'NETW',\n",
    "    'model_type': 'XGBoost',\n",
    "    'attack_type': 'labeln',\n",
    "    'confusion_matrix': cm,\n",
    "    'precision': precision,\n",
    "    'recall': recall,\n",
    "    'tnr': tnr,\n",
    "    'fpr': fpr,\n",
    "    'accuracy': accuracy,\n",
    "    'f1': f1,\n",
    "    'balanced_accuracy': balanced_acc,\n",
    "    'mcc': mcc,\n",
    "    'fit_time': fit_time,\n",
    "    'predict_time': predict_time,\n",
    "    'fit_memory_usage': fit_memory_usage,\n",
    "    'predict_memory_usage': predict_memory_usage\n",
    "}"
   ]
  },
  {
   "cell_type": "code",
   "execution_count": 12,
   "metadata": {},
   "outputs": [
    {
     "name": "stdout",
     "output_type": "stream",
     "text": [
      "Évaluation complète du modèle:\n",
      "data: NETW\n",
      "model_type: XGBoost\n",
      "attack_type: labeln\n",
      "confusion_matrix: [[41395    16]\n",
      " [12114 61361]]\n",
      "precision: 0.9997393160304349\n",
      "recall: 0.8351275944198707\n",
      "tnr: 0.9996136292289488\n",
      "fpr: 0.00038637077105117\n",
      "accuracy: 0.8944170743171491\n",
      "f1: 0.9100495357873817\n",
      "balanced_accuracy: 0.9173706118244098\n",
      "mcc: 0.8034581716092769\n",
      "fit_time: 0.5769283771514893\n",
      "predict_time: 0.028279542922973633\n",
      "fit_memory_usage: 2.291912078857422\n",
      "predict_memory_usage: 1.4680566787719727\n"
     ]
    }
   ],
   "source": [
    "# Afficher les résultats\n",
    "print(\"Évaluation complète du modèle:\")\n",
    "for metric, value in results_XGBoost_label_n.items():\n",
    "    print(f\"{metric}: {value}\")"
   ]
  },
  {
   "cell_type": "markdown",
   "metadata": {},
   "source": [
    "##### Matrice de confusion "
   ]
  },
  {
   "cell_type": "code",
   "execution_count": 13,
   "metadata": {},
   "outputs": [
    {
     "data": {
      "image/png": "[encoded data removed]",
      "text/plain": [
       "<Figure size 640x480 with 2 Axes>"
      ]
     },
     "metadata": {},
     "output_type": "display_data"
    }
   ],
   "source": [
    "# Matrice de confusion\n",
    "sns.heatmap(cm, annot=True, fmt='d', cmap='Blues')\n",
    "plt.xlabel('Prédit')\n",
    "plt.ylabel('Réel')\n",
    "plt.title('Matrice de confusion')\n",
    "plt.show()"
   ]
  },
  {
   "cell_type": "markdown",
   "metadata": {},
   "source": [
    "### Sauvegarder les resultats"
   ]
  },
  {
   "cell_type": "code",
   "execution_count": 14,
   "metadata": {},
   "outputs": [],
   "source": [
    "# sauvegarder dans PickleShareDB\n",
    "db['NETW_results_XGBoost_labeln'] = results_XGBoost_label_n"
   ]
  },
  {
   "cell_type": "markdown",
   "metadata": {},
   "source": [
    "## Entraînement du modèle et évaluation - Classification multi-classes"
   ]
  },
  {
   "cell_type": "code",
   "execution_count": 15,
   "metadata": {},
   "outputs": [],
   "source": [
    "y_label = labels['label']\n",
    "\n",
    "ordered_classes = ['normal', 'DoS','physical fault', 'MITM', 'anomaly']\n",
    "nb_class = 5\n",
    "\n",
    "le = LabelEncoder()\n",
    "le.classes_ = np.array(ordered_classes)\n",
    "label_mapping_network = {label: encoded for label, encoded in zip(le.classes_, range(len(le.classes_)))}\n",
    "y_label_encoded = le.transform(y_label)\n",
    "\n",
    "# Diviser les données en ensembles d'entraînement et de test\n",
    "X_train, X_test, y_train, y_test = train_test_split(X, y_label_encoded, test_size=0.2, random_state=42, stratify=y_label_encoded)"
   ]
  },
  {
   "cell_type": "code",
   "execution_count": 16,
   "metadata": {},
   "outputs": [
    {
     "name": "stderr",
     "output_type": "stream",
     "text": [
      "/home/zoe/.local/lib/python3.10/site-packages/xgboost/core.py:158: UserWarning: [11:17:58] WARNING: /workspace/src/learner.cc:740: \n",
      "Parameters: { \"use_label_encoder\" } are not used.\n",
      "\n",
      "  warnings.warn(smsg, UserWarning)\n"
     ]
    }
   ],
   "source": [
    "# Mesurer le temps et la mémoire pour l'entraînement\n",
    "tracemalloc.start()\n",
    "start_fit_time = time.time()\n",
    "\n",
    "xgb_model.fit(X_train, y_train)\n",
    "\n",
    "fit_time = time.time() - start_fit_time\n",
    "current, peak = tracemalloc.get_traced_memory()  # Mémoire actuelle et maximale utilisée\n",
    "fit_memory_usage = peak / (1024 * 1024)  # Convertir en Mo\n",
    "tracemalloc.stop()"
   ]
  },
  {
   "cell_type": "code",
   "execution_count": 17,
   "metadata": {},
   "outputs": [],
   "source": [
    "# Mesurer le temps et la mémoire pour la prediction\n",
    "tracemalloc.start()\n",
    "start_predict_time = time.time()\n",
    "\n",
    "# Prédire les étiquettes sur l'ensemble de test\n",
    "y_pred = xgb_model.predict(X_test)\n",
    "predict_time = time.time() - start_predict_time\n",
    "current, peak = tracemalloc.get_traced_memory()  # Mémoire actuelle et maximale utilisée\n",
    "predict_memory_usage = peak / (1024 * 1024)  # Convertir en Mo\n",
    "tracemalloc.stop()"
   ]
  },
  {
   "cell_type": "code",
   "execution_count": 18,
   "metadata": {},
   "outputs": [],
   "source": [
    "db['label_mapping_network'] = label_mapping_network\n",
    "reverse_label_mapping = {v: k for k, v in label_mapping_network.items()}"
   ]
  },
  {
   "cell_type": "markdown",
   "metadata": {},
   "source": [
    "### Évaluation"
   ]
  },
  {
   "cell_type": "markdown",
   "metadata": {},
   "source": [
    "#### Métriques de classification"
   ]
  },
  {
   "cell_type": "code",
   "execution_count": 19,
   "metadata": {},
   "outputs": [
    {
     "name": "stdout",
     "output_type": "stream",
     "text": [
      "{0: {'data': 'NETW', 'model_type': 'XGBoost', 'attack_type': np.str_('normal'), 'confusion_matrix': array([[41400,    12,     0,     0,     0],\n",
      "       [  146, 61381,     2,     0,     0],\n",
      "       [ 6884,     1,     0,     0,     0],\n",
      "       [ 5020,     0,     0,    39,     0],\n",
      "       [    0,     1,     0,     0,     0]]), 'TN': np.int64(61424), 'FP': np.int64(12050), 'FN': np.int64(12), 'TP': np.int64(41400), 'precision': np.float64(0.774555659494855), 'recall': np.float64(0.9997102289191538), 'f1': np.float64(0.8728468722987076), 'balanced_accuracy': np.float64(0.9178533179056939), 'mcc': np.float64(nan), 'tnr': np.float64(0.835996406892234), 'fpr': np.float64(0.16400359310776602), 'accuracy': np.float64(0.8950089654091883), 'fit_time': 4.615161657333374, 'predict_time': 0.06478333473205566, 'fit_memory_usage': 4.386360168457031, 'predict_memory_usage': 3.094209671020508}, 1: {'data': 'NETW', 'model_type': 'XGBoost', 'attack_type': np.str_('DoS'), 'confusion_matrix': array([[41400,    12,     0,     0,     0],\n",
      "       [  146, 61381,     2,     0,     0],\n",
      "       [ 6884,     1,     0,     0,     0],\n",
      "       [ 5020,     0,     0,    39,     0],\n",
      "       [    0,     1,     0,     0,     0]]), 'TN': np.int64(53343), 'FP': np.int64(14), 'FN': np.int64(148), 'TP': np.int64(61381), 'precision': np.float64(0.9997719684013356), 'recall': np.float64(0.9975946301743893), 'f1': np.float64(0.9986821125248121), 'balanced_accuracy': np.float64(0.9986661233035486), 'mcc': np.float64(nan), 'tnr': np.float64(0.999737616432708), 'fpr': np.float64(0.0002623835672920142), 'accuracy': np.float64(0.9985899065160245), 'fit_time': 4.615161657333374, 'predict_time': 0.06478333473205566, 'fit_memory_usage': 4.386360168457031, 'predict_memory_usage': 3.094209671020508}, 2: {'data': 'NETW', 'model_type': 'XGBoost', 'attack_type': np.str_('physical fault'), 'confusion_matrix': array([[41400,    12,     0,     0,     0],\n",
      "       [  146, 61381,     2,     0,     0],\n",
      "       [ 6884,     1,     0,     0,     0],\n",
      "       [ 5020,     0,     0,    39,     0],\n",
      "       [    0,     1,     0,     0,     0]]), 'TN': np.int64(107999), 'FP': np.int64(2), 'FN': np.int64(6885), 'TP': np.int64(0), 'precision': np.float64(0.0), 'recall': np.float64(0.0), 'f1': np.float64(0.0), 'balanced_accuracy': np.float64(0.4999907408264738), 'mcc': np.float64(-0.001053472753272364), 'tnr': np.float64(0.9999814816529476), 'fpr': np.float64(1.8518347052342107e-05), 'accuracy': np.float64(0.9400536183695142), 'fit_time': 4.615161657333374, 'predict_time': 0.06478333473205566, 'fit_memory_usage': 4.386360168457031, 'predict_memory_usage': 3.094209671020508}, 3: {'data': 'NETW', 'model_type': 'XGBoost', 'attack_type': np.str_('MITM'), 'confusion_matrix': array([[41400,    12,     0,     0,     0],\n",
      "       [  146, 61381,     2,     0,     0],\n",
      "       [ 6884,     1,     0,     0,     0],\n",
      "       [ 5020,     0,     0,    39,     0],\n",
      "       [    0,     1,     0,     0,     0]]), 'TN': np.int64(109827), 'FP': np.int64(0), 'FN': np.int64(5020), 'TP': np.int64(39), 'precision': np.float64(1.0), 'recall': np.float64(0.007709033405811425), 'f1': np.float64(0.015300117693213025), 'balanced_accuracy': np.float64(0.5038545167029057), 'mcc': np.float64(0.08586075372225122), 'tnr': np.float64(1.0), 'fpr': np.float64(0.0), 'accuracy': np.float64(0.9563045105582926), 'fit_time': 4.615161657333374, 'predict_time': 0.06478333473205566, 'fit_memory_usage': 4.386360168457031, 'predict_memory_usage': 3.094209671020508}, 4: {'data': 'NETW', 'model_type': 'XGBoost', 'attack_type': np.str_('anomaly'), 'confusion_matrix': array([[41400,    12,     0,     0,     0],\n",
      "       [  146, 61381,     2,     0,     0],\n",
      "       [ 6884,     1,     0,     0,     0],\n",
      "       [ 5020,     0,     0,    39,     0],\n",
      "       [    0,     1,     0,     0,     0]]), 'TN': np.int64(114885), 'FP': np.int64(0), 'FN': np.int64(1), 'TP': np.int64(0), 'precision': np.float64(0.0), 'recall': np.float64(0.0), 'f1': np.float64(0.0), 'balanced_accuracy': np.float64(0.5), 'mcc': 0, 'tnr': np.float64(1.0), 'fpr': np.float64(0.0), 'accuracy': np.float64(0.9999912957192347), 'fit_time': 4.615161657333374, 'predict_time': 0.06478333473205566, 'fit_memory_usage': 4.386360168457031, 'predict_memory_usage': 3.094209671020508}}\n"
     ]
    },
    {
     "name": "stderr",
     "output_type": "stream",
     "text": [
      "/home/zoe/.local/lib/python3.10/site-packages/sklearn/metrics/_classification.py:1531: UndefinedMetricWarning: Precision is ill-defined and being set to 0.0 in labels with no predicted samples. Use `zero_division` parameter to control this behavior.\n",
      "  _warn_prf(average, modifier, f\"{metric.capitalize()} is\", len(result))\n",
      "/tmp/ipykernel_14117/1676652678.py:21: RuntimeWarning: overflow encountered in scalar multiply\n",
      "  mcc = (TP * TN - FP * FN) / np.sqrt((TP + FP) * (TP + FN) * (TN + FP) * (TN + FN)) if (TP + FP) * (TP + FN) * (TN + FP) * (TN + FN) != 0 else 0\n",
      "/tmp/ipykernel_14117/1676652678.py:21: RuntimeWarning: invalid value encountered in sqrt\n",
      "  mcc = (TP * TN - FP * FN) / np.sqrt((TP + FP) * (TP + FN) * (TN + FP) * (TN + FN)) if (TP + FP) * (TP + FN) * (TN + FP) * (TN + FN) != 0 else 0\n",
      "/home/zoe/.local/lib/python3.10/site-packages/sklearn/metrics/_classification.py:1531: UndefinedMetricWarning: Precision is ill-defined and being set to 0.0 in labels with no predicted samples. Use `zero_division` parameter to control this behavior.\n",
      "  _warn_prf(average, modifier, f\"{metric.capitalize()} is\", len(result))\n",
      "/tmp/ipykernel_14117/1676652678.py:21: RuntimeWarning: overflow encountered in scalar multiply\n",
      "  mcc = (TP * TN - FP * FN) / np.sqrt((TP + FP) * (TP + FN) * (TN + FP) * (TN + FN)) if (TP + FP) * (TP + FN) * (TN + FP) * (TN + FN) != 0 else 0\n",
      "/tmp/ipykernel_14117/1676652678.py:21: RuntimeWarning: invalid value encountered in sqrt\n",
      "  mcc = (TP * TN - FP * FN) / np.sqrt((TP + FP) * (TP + FN) * (TN + FP) * (TN + FN)) if (TP + FP) * (TP + FN) * (TN + FP) * (TN + FN) != 0 else 0\n",
      "/home/zoe/.local/lib/python3.10/site-packages/sklearn/metrics/_classification.py:1531: UndefinedMetricWarning: Precision is ill-defined and being set to 0.0 in labels with no predicted samples. Use `zero_division` parameter to control this behavior.\n",
      "  _warn_prf(average, modifier, f\"{metric.capitalize()} is\", len(result))\n",
      "/home/zoe/.local/lib/python3.10/site-packages/sklearn/metrics/_classification.py:1531: UndefinedMetricWarning: Precision is ill-defined and being set to 0.0 in labels with no predicted samples. Use `zero_division` parameter to control this behavior.\n",
      "  _warn_prf(average, modifier, f\"{metric.capitalize()} is\", len(result))\n",
      "/home/zoe/.local/lib/python3.10/site-packages/sklearn/metrics/_classification.py:1531: UndefinedMetricWarning: Precision is ill-defined and being set to 0.0 in labels with no predicted samples. Use `zero_division` parameter to control this behavior.\n",
      "  _warn_prf(average, modifier, f\"{metric.capitalize()} is\", len(result))\n"
     ]
    }
   ],
   "source": [
    "cm = confusion_matrix(y_test, y_pred)\n",
    "\n",
    "# Dictionnaire pour stocker les résultats de chaque classe\n",
    "class_results = {}\n",
    "\n",
    "for class_label in range(nb_class):\n",
    "    # Extraire la matrice de confusion pour la classe spécifique\n",
    "    TP = cm[class_label, class_label]\n",
    "    FP = sum(cm[:, class_label]) - TP\n",
    "    FN = sum(cm[class_label, :]) - TP\n",
    "    TN = cm.sum() - (TP + FP + FN)\n",
    "\n",
    "    # Calcul des métriques pour chaque classe\n",
    "    precision = precision_score(y_test, y_pred, average=None)[class_label]\n",
    "    recall_tpr = recall_score(y_test, y_pred, average=None)[class_label]\n",
    "    tnr = TN / (TN + FP) if (TN + FP) != 0 else 0\n",
    "    fpr = FP / (FP + TN) if (FP + TN) != 0 else 0\n",
    "    accuracy = (TP + TN) / (TP + TN + FP + FN)\n",
    "    f1 = f1_score(y_test, y_pred, average=None)[class_label]\n",
    "    balanced_acc = (recall_tpr + tnr) / 2\n",
    "    mcc = (TP * TN - FP * FN) / np.sqrt((TP + FP) * (TP + FN) * (TN + FP) * (TN + FN)) if (TP + FP) * (TP + FN) * (TN + FP) * (TN + FN) != 0 else 0\n",
    "\n",
    "\n",
    "# Stocker les résultats dans le dictionnaire\n",
    "    class_results[class_label] = {\n",
    "        'data': 'NETW',\n",
    "        'model_type': 'XGBoost',\n",
    "        'attack_type': reverse_label_mapping[class_label],\n",
    "        'confusion_matrix': cm,\n",
    "        'TN': TN,\n",
    "        'FP': FP,\n",
    "        'FN': FN,\n",
    "        'TP': TP,\n",
    "        'precision': precision,\n",
    "        'recall': recall_tpr,\n",
    "        'f1': f1,\n",
    "        'balanced_accuracy': balanced_acc,\n",
    "        'mcc': mcc,\n",
    "        'tnr': tnr,\n",
    "        'fpr': fpr,\n",
    "        'accuracy': accuracy,\n",
    "        'fit_time': fit_time,\n",
    "        'predict_time': predict_time,\n",
    "        'fit_memory_usage': fit_memory_usage,\n",
    "        'predict_memory_usage': predict_memory_usage\n",
    "    }\n",
    "\n",
    "# Afficher ou enregistrer les résultats pour chaque classe\n",
    "print(class_results)"
   ]
  },
  {
   "cell_type": "code",
   "execution_count": 20,
   "metadata": {},
   "outputs": [
    {
     "name": "stdout",
     "output_type": "stream",
     "text": [
      "[0.77455566 0.99977197 0.         1.         0.        ]\n",
      "Résultats pour la classe 0: 0.774555659494855\n",
      "avec calcul : 0.774555659494855\n",
      "Résultats pour la classe 1: 0.9997719684013356\n",
      "avec calcul : 0.9997719684013356\n",
      "Résultats pour la classe 2: 0.0\n",
      "avec calcul : 0.0\n",
      "Résultats pour la classe 3: 1.0\n",
      "avec calcul : 1.0\n",
      "Résultats pour la classe 4: 0.0\n",
      "avec calcul : nan\n"
     ]
    },
    {
     "name": "stderr",
     "output_type": "stream",
     "text": [
      "/home/zoe/.local/lib/python3.10/site-packages/sklearn/metrics/_classification.py:1531: UndefinedMetricWarning: Precision is ill-defined and being set to 0.0 in labels with no predicted samples. Use `zero_division` parameter to control this behavior.\n",
      "  _warn_prf(average, modifier, f\"{metric.capitalize()} is\", len(result))\n",
      "/tmp/ipykernel_14117/2575117206.py:5: RuntimeWarning: invalid value encountered in scalar divide\n",
      "  print(f\"avec calcul : {class_results[i]['TP'] / (class_results[i]['TP'] + class_results[i]['FP'])}\")\n"
     ]
    }
   ],
   "source": [
    "# vérif\n",
    "print(precision_score(y_test, y_pred, average=None))\n",
    "for i in range(nb_class):\n",
    "    print(f\"Résultats pour la classe {i}: {class_results[i]['precision']}\")\n",
    "    print(f\"avec calcul : {class_results[i]['TP'] / (class_results[i]['TP'] + class_results[i]['FP'])}\")"
   ]
  },
  {
   "cell_type": "code",
   "execution_count": 21,
   "metadata": {},
   "outputs": [
    {
     "name": "stdout",
     "output_type": "stream",
     "text": [
      "test tpr 0.9975946301743893\n",
      "0.9975946301743893\n"
     ]
    }
   ],
   "source": [
    "tp = class_results[1]['TP']\n",
    "fn = class_results[1]['FN']\n",
    "print(\"test tpr\", tp / (tp + fn))\n",
    "print(class_results[1]['recall'])"
   ]
  },
  {
   "cell_type": "markdown",
   "metadata": {},
   "source": [
    "#### Matrice de confusion "
   ]
  },
  {
   "cell_type": "code",
   "execution_count": 22,
   "metadata": {},
   "outputs": [
    {
     "data": {
      "image/png": "[encoded data removed]",
      "text/plain": [
       "<Figure size 640x480 with 2 Axes>"
      ]
     },
     "metadata": {},
     "output_type": "display_data"
    }
   ],
   "source": [
    "# Matrice de confusion\n",
    "sns.heatmap(cm, annot=True, fmt='d', cmap='Blues', xticklabels=ordered_classes, yticklabels=ordered_classes)\n",
    "plt.xlabel('Prédit')\n",
    "plt.ylabel('Réel')\n",
    "plt.title('Matrice de confusion')\n",
    "plt.show()"
   ]
  },
  {
   "cell_type": "markdown",
   "metadata": {},
   "source": [
    "### Sauvegarder les resultats"
   ]
  },
  {
   "cell_type": "code",
   "execution_count": 23,
   "metadata": {},
   "outputs": [],
   "source": [
    "# sauvegarder les données \n",
    "\n",
    "for i in range(1, nb_class):\n",
    "    class_results[i]['model'] = f'XGBoost - label - {reverse_label_mapping[i]}'\n",
    "    db[f'NETW_results_XGBoost_{reverse_label_mapping[i]}'] = class_results[i]"
   ]
  }
 ],
 "metadata": {
  "kernelspec": {
   "display_name": "Python 3",
   "language": "python",
   "name": "python3"
  },
  "language_info": {
   "codemirror_mode": {
    "name": "ipython",
    "version": 3
   },
   "file_extension": ".py",
   "mimetype": "text/x-python",
   "name": "python",
   "nbconvert_exporter": "python",
   "pygments_lexer": "ipython3",
   "version": "3.10.12"
  }
 },
 "nbformat": 4,
 "nbformat_minor": 2
}
