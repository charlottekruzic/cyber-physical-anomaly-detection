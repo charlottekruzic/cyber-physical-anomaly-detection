{
 "cells": [
  {
   "cell_type": "code",
   "execution_count": 1,
   "metadata": {},
   "outputs": [],
   "source": [
    "import pandas as pd\n",
    "import numpy as np\n",
    "from pickleshare import PickleShareDB\n",
    "from sklearn.model_selection import train_test_split, GridSearchCV\n",
    "from sklearn.preprocessing import StandardScaler, LabelEncoder\n",
    "from sklearn.metrics import precision_score, recall_score, accuracy_score, f1_score, balanced_accuracy_score, matthews_corrcoef, confusion_matrix\n",
    "from xgboost import XGBClassifier\n",
    "import matplotlib.pyplot as plt\n",
    "import seaborn as sns"
   ]
  },
  {
   "cell_type": "code",
   "execution_count": 2,
   "metadata": {},
   "outputs": [],
   "source": [
    "# Pour garantir la reproductibilité\n",
    "np.random.seed(42)  # Pour numpy"
   ]
  },
  {
   "cell_type": "markdown",
   "metadata": {},
   "source": [
    "## Chargement des données"
   ]
  },
  {
   "cell_type": "code",
   "execution_count": 3,
   "metadata": {},
   "outputs": [],
   "source": [
    "db = PickleShareDB('../prep_data/kity')\n",
    "sample_df = db['net_sample_for_models']"
   ]
  },
  {
   "cell_type": "markdown",
   "metadata": {},
   "source": [
    "Le type d'attaque 'scan' a tres peu d'entrees, ce qui empeche les modeles. On supprime ce type d'attaque."
   ]
  },
  {
   "cell_type": "code",
   "execution_count": 4,
   "metadata": {},
   "outputs": [],
   "source": [
    "to_drop = sample_df[sample_df['label'] == 'scan'].index\n",
    "sample_df = sample_df.drop(to_drop)"
   ]
  },
  {
   "cell_type": "code",
   "execution_count": 5,
   "metadata": {},
   "outputs": [],
   "source": [
    "labels = sample_df[['label', 'label_n']]\n",
    "sample_df.drop(columns=['label', 'label_n'], inplace=True)"
   ]
  },
  {
   "cell_type": "markdown",
   "metadata": {},
   "source": [
    "## Initialisation du modèle"
   ]
  },
  {
   "cell_type": "code",
   "execution_count": 6,
   "metadata": {},
   "outputs": [],
   "source": [
    "X = sample_df\n",
    "y_label_n = labels['label_n']\n",
    "y_label = labels['label']\n",
    "\n",
    "y_label_n_str = y_label_n.astype(str)\n",
    "# Encoder les labels en int\n",
    "le = LabelEncoder()\n",
    "y_label_n_encoded = le.fit_transform(y_label_n)\n",
    "\n",
    "ordered_classes = ['normal', 'DoS','physical fault', 'MITM', 'anomaly']\n",
    "label_map = {label: idx for idx, label in enumerate(ordered_classes)}\n",
    "y_label_encoded = [label_map[label] for label in y_label]\n"
   ]
  },
  {
   "cell_type": "code",
   "execution_count": 7,
   "metadata": {},
   "outputs": [],
   "source": [
    "# Diviser les données en ensembles d'entraînement et de test, pour label_n\n",
    "X_train_label_n, X_test_label_n, y_train_label_n, y_test_label_n = train_test_split(X, y_label_n_encoded, test_size=0.2, random_state=42, stratify=y_label_n_str)\n",
    "\n",
    "# Diviser les données en ensembles d'entraînement et de test, pour label\n",
    "X_train_label, X_test_label, y_train_label, y_test_label = train_test_split(X, y_label_encoded, test_size=0.2, random_state=42, stratify=y_label_n_str)"
   ]
  },
  {
   "cell_type": "code",
   "execution_count": 8,
   "metadata": {},
   "outputs": [],
   "source": [
    "xgb_model = XGBClassifier(\n",
    "    n_estimators=100,\n",
    "    learning_rate=0.1,\n",
    "    max_depth=6,\n",
    "    random_state=42,\n",
    "    use_label_encoder=False,\n",
    "    eval_metric='logloss'\n",
    ")"
   ]
  },
  {
   "cell_type": "code",
   "execution_count": 9,
   "metadata": {},
   "outputs": [
    {
     "name": "stderr",
     "output_type": "stream",
     "text": [
      "/usr/local/lib/python3.11/dist-packages/xgboost/core.py:158: UserWarning: [01:00:47] WARNING: /workspace/src/learner.cc:740: \n",
      "Parameters: { \"use_label_encoder\" } are not used.\n",
      "\n",
      "  warnings.warn(smsg, UserWarning)\n"
     ]
    }
   ],
   "source": [
    "# Pour label_n\n",
    "# Fit the model\n",
    "xgb_model.fit(X_train_label_n, y_train_label_n)\n",
    "\n",
    "# Make predictions\n",
    "y_pred_label_n = xgb_model.predict(X_test_label_n)"
   ]
  },
  {
   "cell_type": "code",
   "execution_count": 10,
   "metadata": {},
   "outputs": [
    {
     "name": "stderr",
     "output_type": "stream",
     "text": [
      "/usr/local/lib/python3.11/dist-packages/xgboost/core.py:158: UserWarning: [01:00:52] WARNING: /workspace/src/learner.cc:740: \n",
      "Parameters: { \"use_label_encoder\" } are not used.\n",
      "\n",
      "  warnings.warn(smsg, UserWarning)\n"
     ]
    }
   ],
   "source": [
    "# Pour label\n",
    "# Fit the model\n",
    "xgb_model.fit(X_train_label_n, y_train_label_n)\n",
    "\n",
    "# Make predictions\n",
    "y_pred_label = xgb_model.predict(X_test_label_n)"
   ]
  },
  {
   "cell_type": "markdown",
   "metadata": {},
   "source": [
    "## Évaluation"
   ]
  },
  {
   "cell_type": "code",
   "execution_count": 12,
   "metadata": {},
   "outputs": [],
   "source": [
    "def tpr_tnr(y_true, y_pred):\n",
    "    cm = confusion_matrix(y_true, y_pred)\n",
    "    tn, fp, fn, tp = cm.ravel()\n",
    "    tpr = tp / (tp + fn) if (tp + fn) > 0 else 0  # Sensitivity\n",
    "    tnr = tn / (tn + fp) if (tn + fp) > 0 else 0  # Specificity\n",
    "    return tpr, tnr"
   ]
  },
  {
   "cell_type": "markdown",
   "metadata": {},
   "source": [
    "### Prédiction pour label"
   ]
  },
  {
   "cell_type": "markdown",
   "metadata": {},
   "source": [
    "#### Données équilibrées"
   ]
  },
  {
   "cell_type": "code",
   "execution_count": 13,
   "metadata": {},
   "outputs": [
    {
     "name": "stdout",
     "output_type": "stream",
     "text": [
      "Précision : 1.00\n",
      "Rappel : 0.57\n",
      "TPR (Sensibilité) : 0.57\n",
      "TNR (Spécificité) : 1.00\n",
      "Exactitude (Accuracy) : 0.82\n"
     ]
    }
   ],
   "source": [
    "# Métriques pour les données équilibrées\n",
    "precision = precision_score(y_test_label_n, y_pred_label_n, average='binary')\n",
    "recall = recall_score(y_test_label_n, y_pred_label_n, average='binary')\n",
    "accuracy = accuracy_score(y_test_label_n, y_pred_label_n)\n",
    "tpr, tnr = tpr_tnr(y_test_label_n, y_pred_label_n)\n",
    "\n",
    "print(f\"Précision : {precision:.2f}\")\n",
    "print(f\"Rappel : {recall:.2f}\")\n",
    "print(f\"TPR (Sensibilité) : {tpr:.2f}\")\n",
    "print(f\"TNR (Spécificité) : {tnr:.2f}\")\n",
    "print(f\"Exactitude (Accuracy) : {accuracy:.2f}\")"
   ]
  },
  {
   "cell_type": "markdown",
   "metadata": {},
   "source": [
    "#### Données déséquilibrées"
   ]
  },
  {
   "cell_type": "code",
   "execution_count": 14,
   "metadata": {},
   "outputs": [
    {
     "name": "stdout",
     "output_type": "stream",
     "text": [
      "F1-Score : 0.73\n",
      "Précision équilibrée : 0.78\n",
      "Coefficient de Matthews : 0.66\n"
     ]
    }
   ],
   "source": [
    "# Métriques pour les données déséquilibrées\n",
    "f1 = f1_score(y_test_label_n, y_pred_label_n, average='binary')\n",
    "balanced_acc = balanced_accuracy_score(y_test_label_n, y_pred_label_n)\n",
    "mcc = matthews_corrcoef(y_test_label_n, y_pred_label_n)\n",
    "\n",
    "print(f\"F1-Score : {f1:.2f}\")\n",
    "print(f\"Précision équilibrée : {balanced_acc:.2f}\")\n",
    "print(f\"Coefficient de Matthews : {mcc:.2f}\")"
   ]
  },
  {
   "cell_type": "markdown",
   "metadata": {},
   "source": [
    "#### Matrice de confusion "
   ]
  },
  {
   "cell_type": "code",
   "execution_count": 15,
   "metadata": {},
   "outputs": [
    {
     "data": {
      "image/png": "[encoded data removed]",
      "text/plain": [
       "<Figure size 640x480 with 2 Axes>"
      ]
     },
     "metadata": {},
     "output_type": "display_data"
    }
   ],
   "source": [
    "# Matrice de confusion\n",
    "cm = confusion_matrix(y_test_label_n, y_pred_label_n)\n",
    "\n",
    "sns.heatmap(cm, annot=True, fmt='d', cmap='Blues')\n",
    "plt.xlabel('Prédit')\n",
    "plt.ylabel('Réel')\n",
    "plt.title('Matrice de confusion')\n",
    "plt.show()"
   ]
  },
  {
   "cell_type": "markdown",
   "metadata": {},
   "source": [
    "### Prédiction pour label"
   ]
  },
  {
   "cell_type": "markdown",
   "metadata": {},
   "source": [
    "#### Données équilibrées"
   ]
  },
  {
   "cell_type": "code",
   "execution_count": 16,
   "metadata": {},
   "outputs": [
    {
     "name": "stdout",
     "output_type": "stream",
     "text": [
      "Précision : 0.35\n",
      "Rappel : 0.39\n",
      "Exactitude (Accuracy) : 0.82\n"
     ]
    },
    {
     "name": "stderr",
     "output_type": "stream",
     "text": [
      "/usr/local/lib/python3.11/dist-packages/sklearn/metrics/_classification.py:1531: UndefinedMetricWarning: Precision is ill-defined and being set to 0.0 in labels with no predicted samples. Use `zero_division` parameter to control this behavior.\n",
      "  _warn_prf(average, modifier, f\"{metric.capitalize()} is\", len(result))\n"
     ]
    }
   ],
   "source": [
    "# Métriques pour les données équilibrées\n",
    "precision = precision_score(y_test_label, y_pred_label, average='macro')\n",
    "recall = recall_score(y_test_label, y_pred_label, average='macro')\n",
    "accuracy = accuracy_score(y_test_label, y_pred_label)\n",
    "\n",
    "print(f\"Précision : {precision:.2f}\")\n",
    "print(f\"Rappel : {recall:.2f}\")\n",
    "print(f\"Exactitude (Accuracy) : {accuracy:.2f}\")"
   ]
  },
  {
   "cell_type": "markdown",
   "metadata": {},
   "source": [
    "#### Données déséquilibrées"
   ]
  },
  {
   "cell_type": "code",
   "execution_count": 17,
   "metadata": {},
   "outputs": [
    {
     "name": "stdout",
     "output_type": "stream",
     "text": [
      "F1-Score : 0.37\n",
      "Précision équilibrée : 0.39\n",
      "Coefficient de Matthews : 0.69\n"
     ]
    }
   ],
   "source": [
    "# Métriques pour les données déséquilibrées\n",
    "f1 = f1_score(y_test_label, y_pred_label, average='macro')\n",
    "balanced_acc = balanced_accuracy_score(y_test_label, y_pred_label)\n",
    "mcc = matthews_corrcoef(y_test_label, y_pred_label)\n",
    "\n",
    "print(f\"F1-Score : {f1:.2f}\")\n",
    "print(f\"Précision équilibrée : {balanced_acc:.2f}\")\n",
    "print(f\"Coefficient de Matthews : {mcc:.2f}\")"
   ]
  },
  {
   "cell_type": "markdown",
   "metadata": {},
   "source": [
    "#### Matrice de confusion "
   ]
  },
  {
   "cell_type": "code",
   "execution_count": 18,
   "metadata": {},
   "outputs": [
    {
     "data": {
      "image/png": "[encoded data removed]",
      "text/plain": [
       "<Figure size 640x480 with 2 Axes>"
      ]
     },
     "metadata": {},
     "output_type": "display_data"
    }
   ],
   "source": [
    "# Matrice de confusion\n",
    "cm = confusion_matrix(y_test_label, y_pred_label)\n",
    "\n",
    "sns.heatmap(cm, annot=True, fmt='d', cmap='Blues')\n",
    "plt.xlabel('Prédit')\n",
    "plt.ylabel('Réel')\n",
    "plt.title('Matrice de confusion')\n",
    "plt.show()"
   ]
  }
 ],
 "metadata": {
  "kernelspec": {
   "display_name": "Python 3",
   "language": "python",
   "name": "python3"
  },
  "language_info": {
   "codemirror_mode": {
    "name": "ipython",
    "version": 3
   },
   "file_extension": ".py",
   "mimetype": "text/x-python",
   "name": "python",
   "nbconvert_exporter": "python",
   "pygments_lexer": "ipython3",
   "version": "3.11.2"
  }
 },
 "nbformat": 4,
 "nbformat_minor": 2
}
