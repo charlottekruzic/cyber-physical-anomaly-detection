{
 "cells": [
  {
   "cell_type": "code",
   "execution_count": 1,
   "metadata": {},
   "outputs": [],
   "source": [
    "import pandas as pd\n",
    "import numpy as np\n",
    "from pickleshare import PickleShareDB\n",
    "from sklearn.model_selection import train_test_split, GridSearchCV\n",
    "from sklearn.tree import DecisionTreeClassifier\n",
    "from sklearn.preprocessing import LabelEncoder\n",
    "from sklearn.metrics import precision_score, recall_score, f1_score, accuracy_score, balanced_accuracy_score, matthews_corrcoef, confusion_matrix\n",
    "\n",
    "import matplotlib.pyplot as plt\n",
    "import seaborn as sns\n",
    "\n",
    "import time\n",
    "import tracemalloc"
   ]
  },
  {
   "cell_type": "code",
   "execution_count": 2,
   "metadata": {},
   "outputs": [],
   "source": [
    "# Pour garantir la reproductibilité\n",
    "np.random.seed(42)  # Pour numpy"
   ]
  },
  {
   "cell_type": "markdown",
   "metadata": {},
   "source": [
    "## Chargement des données"
   ]
  },
  {
   "cell_type": "code",
   "execution_count": 3,
   "metadata": {},
   "outputs": [],
   "source": [
    "db = PickleShareDB('../prep_data/kity')"
   ]
  },
  {
   "cell_type": "code",
   "execution_count": 4,
   "metadata": {},
   "outputs": [],
   "source": [
    "# Chargement des données de classification binaire\n",
    "X_train_resampled_binary = db['binary_X_train_resampled']\n",
    "y_train_resampled_binary = db['binary_y_train_resampled']\n",
    "X_test_binary = db['binary_X_test']\n",
    "y_test_binary = db['binary_y_test']\n",
    "\n",
    "# Chargement des données de classification multi-classes\n",
    "X_train_resampled_multiclass = db['multiclass_X_train_resampled']\n",
    "y_train_resampled_multiclass = db['multiclass_y_train_resampled']\n",
    "X_test_multiclass = db['multiclass_X_test']\n",
    "y_test_multiclass = db['multiclass_y_test']\n",
    "\n",
    "# Chargement du mapping des étiquettes pour la classification multi-classes\n",
    "# Ce dictionnaire associe les étiquettes textuelles (e.g., 'normal', 'DoS') à des valeurs numériques\n",
    "label_mapping_network = db['label_mapping_network'] "
   ]
  },
  {
   "cell_type": "markdown",
   "metadata": {},
   "source": [
    "## Initialisation du modèle"
   ]
  },
  {
   "cell_type": "code",
   "execution_count": 5,
   "metadata": {},
   "outputs": [],
   "source": [
    "# Initialiser le modèle CART \n",
    "cart = DecisionTreeClassifier(\n",
    "    criterion='gini',\n",
    "    max_depth=None,\n",
    "    random_state=42\n",
    ")"
   ]
  },
  {
   "cell_type": "markdown",
   "metadata": {},
   "source": [
    "## Entraînement du modèle et évaluation - Classification binaire"
   ]
  },
  {
   "cell_type": "code",
   "execution_count": 6,
   "metadata": {},
   "outputs": [],
   "source": [
    "# Mesurer le temps et la mémoire pour l'entraînement\n",
    "tracemalloc.start()\n",
    "start_fit_time = time.time()\n",
    "\n",
    "cart.fit(X_train_resampled_binary, y_train_resampled_binary)\n",
    "\n",
    "fit_time = time.time() - start_fit_time\n",
    "current, peak = tracemalloc.get_traced_memory()  # Mémoire actuelle et maximale utilisée\n",
    "fit_memory_usage = peak / (1024 * 1024)  # Convertir en Mo\n",
    "tracemalloc.stop()"
   ]
  },
  {
   "cell_type": "code",
   "execution_count": 7,
   "metadata": {},
   "outputs": [],
   "source": [
    "# Mesurer le temps et la mémoire pour la prediction\n",
    "tracemalloc.start()\n",
    "start_predict_time = time.time()\n",
    "\n",
    "# Prédire les étiquettes sur l'ensemble de test\n",
    "y_pred = cart.predict(X_test_binary)\n",
    "predict_time = time.time() - start_predict_time\n",
    "current, peak = tracemalloc.get_traced_memory()  # Mémoire actuelle et maximale utilisée\n",
    "predict_memory_usage = peak / (1024 * 1024)  # Convertir en Mo\n",
    "tracemalloc.stop()"
   ]
  },
  {
   "cell_type": "markdown",
   "metadata": {},
   "source": [
    "### Évaluation"
   ]
  },
  {
   "cell_type": "markdown",
   "metadata": {},
   "source": [
    "#### Métriques de classification"
   ]
  },
  {
   "cell_type": "code",
   "execution_count": 8,
   "metadata": {},
   "outputs": [],
   "source": [
    "cm = confusion_matrix(y_test_binary, y_pred)\n",
    "TN, FP, FN, TP = cm.ravel()\n",
    "\n",
    "# Métriques pour les données équilibrées\n",
    "precision = precision_score(y_test_binary, y_pred, average='binary')\n",
    "recall = recall_score(y_test_binary, y_pred, average='binary')\n",
    "tnr = TN / (TN + FP) if (TN + FP) != 0 else 0\n",
    "fpr = FP / (FP + TN) if (FP + TN) != 0 else 0\n",
    "accuracy = accuracy_score(y_test_binary, y_pred)\n",
    "\n",
    "# Métriques pour les données déséquilibrées\n",
    "f1 = f1_score(y_test_binary, y_pred, average='binary')\n",
    "balanced_acc = balanced_accuracy_score(y_test_binary, y_pred)\n",
    "mcc = matthews_corrcoef(y_test_binary, y_pred)\n",
    "\n",
    "results_CART_label_n = {\n",
    "    'data': 'NETW',\n",
    "    'model_type': 'CART',\n",
    "    'attack_type': 'labeln',\n",
    "    'confusion_matrix': cm,\n",
    "    'precision': precision,\n",
    "    'recall': recall,\n",
    "    'tnr': tnr,\n",
    "    'fpr': fpr,\n",
    "    'accuracy': accuracy,\n",
    "    'f1': f1,\n",
    "    'balanced_accuracy': balanced_acc,\n",
    "    'mcc': mcc,\n",
    "    'fit_time': fit_time,\n",
    "    'predict_time': predict_time,\n",
    "    'fit_memory_usage': fit_memory_usage,\n",
    "    'predict_memory_usage': predict_memory_usage\n",
    "}"
   ]
  },
  {
   "cell_type": "code",
   "execution_count": 9,
   "metadata": {},
   "outputs": [
    {
     "name": "stdout",
     "output_type": "stream",
     "text": [
      "Évaluation complète du modèle:\n",
      "data: NETW\n",
      "model_type: CART\n",
      "attack_type: labeln\n",
      "confusion_matrix: [[62303  1177]\n",
      " [18260 26070]]\n",
      "precision: 0.9568025837706904\n",
      "recall: 0.5880893300248139\n",
      "tnr: 0.9814587271581601\n",
      "fpr: 0.01854127284183995\n",
      "accuracy: 0.8197106019849736\n",
      "f1: 0.7284462886122637\n",
      "balanced_accuracy: 0.784774028591487\n",
      "mcc: 0.644867572156697\n",
      "fit_time: 1.2340168952941895\n",
      "predict_time: 0.010707855224609375\n",
      "fit_memory_usage: 34.94334888458252\n",
      "predict_memory_usage: 5.046258926391602\n"
     ]
    }
   ],
   "source": [
    "# Afficher les résultats\n",
    "print(\"Évaluation complète du modèle:\")\n",
    "for metric, value in results_CART_label_n.items():\n",
    "    print(f\"{metric}: {value}\")"
   ]
  },
  {
   "cell_type": "markdown",
   "metadata": {},
   "source": [
    "##### Matrice de confusion "
   ]
  },
  {
   "cell_type": "code",
   "execution_count": 10,
   "metadata": {},
   "outputs": [
    {
     "data": {
      "image/png": "[encoded data removed]",
      "text/plain": [
       "<Figure size 640x480 with 2 Axes>"
      ]
     },
     "metadata": {},
     "output_type": "display_data"
    }
   ],
   "source": [
    "# Matrice de confusion\n",
    "sns.heatmap(cm, annot=True, fmt='d', cmap='Blues')\n",
    "plt.xlabel('Prédit')\n",
    "plt.ylabel('Réel')\n",
    "plt.title('Matrice de confusion')\n",
    "plt.show()"
   ]
  },
  {
   "cell_type": "markdown",
   "metadata": {},
   "source": [
    "### Sauvegarder les resultats"
   ]
  },
  {
   "cell_type": "code",
   "execution_count": 11,
   "metadata": {},
   "outputs": [],
   "source": [
    "# sauvegarder dans PickleShareDB\n",
    "db['NETW_results_CART_labeln'] = results_CART_label_n"
   ]
  },
  {
   "cell_type": "markdown",
   "metadata": {},
   "source": [
    "## Entraînement du modèle et évaluation - Classification multi-classes"
   ]
  },
  {
   "cell_type": "code",
   "execution_count": 12,
   "metadata": {},
   "outputs": [],
   "source": [
    "nb_class = 5\n",
    "ordered_classes = ['normal', 'DoS', 'physical fault', 'MITM', 'anomaly']"
   ]
  },
  {
   "cell_type": "code",
   "execution_count": 13,
   "metadata": {},
   "outputs": [],
   "source": [
    "# Mesurer le temps et la mémoire pour l'entraînement\n",
    "tracemalloc.start()\n",
    "start_fit_time = time.time()\n",
    "\n",
    "cart.fit(X_train_resampled_multiclass, y_train_resampled_multiclass)\n",
    "\n",
    "fit_time = time.time() - start_fit_time\n",
    "current, peak = tracemalloc.get_traced_memory()  # Mémoire actuelle et maximale utilisée\n",
    "fit_memory_usage = peak / (1024 * 1024)  # Convertir en Mo\n",
    "tracemalloc.stop()"
   ]
  },
  {
   "cell_type": "code",
   "execution_count": 14,
   "metadata": {},
   "outputs": [],
   "source": [
    "# Mesurer le temps et la mémoire pour la prediction\n",
    "tracemalloc.start()\n",
    "start_predict_time = time.time()\n",
    "\n",
    "# Prédire les étiquettes sur l'ensemble de test\n",
    "y_pred = cart.predict(X_test_multiclass)\n",
    "predict_time = time.time() - start_predict_time\n",
    "current, peak = tracemalloc.get_traced_memory()  # Mémoire actuelle et maximale utilisée\n",
    "predict_memory_usage = peak / (1024 * 1024)  # Convertir en Mo\n",
    "tracemalloc.stop()"
   ]
  },
  {
   "cell_type": "code",
   "execution_count": 15,
   "metadata": {},
   "outputs": [],
   "source": [
    "reverse_label_mapping = {v: k for k, v in label_mapping_network.items()}"
   ]
  },
  {
   "cell_type": "markdown",
   "metadata": {},
   "source": [
    "### Évaluation"
   ]
  },
  {
   "cell_type": "markdown",
   "metadata": {},
   "source": [
    "#### Métriques de classification"
   ]
  },
  {
   "cell_type": "code",
   "execution_count": 16,
   "metadata": {},
   "outputs": [
    {
     "name": "stdout",
     "output_type": "stream",
     "text": [
      "{0: {'data': 'NETW', 'model_type': 'CART', 'attack_type': np.str_('normal'), 'confusion_matrix': array([[63064,    80,    81,   255,     0],\n",
      "       [  575, 25222,     7,     3,     1],\n",
      "       [ 7664,     6,    30,    43,     0],\n",
      "       [10483,     9,    22,   263,     0],\n",
      "       [    0,     0,     0,     0,     2]]), 'TN': np.int64(25608), 'FP': np.int64(18722), 'FN': np.int64(416), 'TP': np.int64(63064), 'precision': np.float64(0.7710855158584599), 'recall': np.float64(0.9934467548834278), 'f1': np.float64(0.8682554761609736), 'balanced_accuracy': np.float64(0.7855571243399769), 'mcc': np.float64(0.6566951531859028), 'tnr': np.float64(0.577667493796526), 'fpr': np.float64(0.42233250620347396), 'accuracy': np.float64(0.8224839996289769), 'fit_time': 1.2551801204681396, 'predict_time': 0.011466503143310547, 'fit_memory_usage': 52.93940544128418, 'predict_memory_usage': 8.230814933776855}, 1: {'data': 'NETW', 'model_type': 'CART', 'attack_type': np.str_('DoS'), 'confusion_matrix': array([[63064,    80,    81,   255,     0],\n",
      "       [  575, 25222,     7,     3,     1],\n",
      "       [ 7664,     6,    30,    43,     0],\n",
      "       [10483,     9,    22,   263,     0],\n",
      "       [    0,     0,     0,     0,     2]]), 'TN': np.int64(81907), 'FP': np.int64(95), 'FN': np.int64(586), 'TP': np.int64(25222), 'precision': np.float64(0.9962475806770155), 'recall': np.float64(0.9772938623682579), 'f1': np.float64(0.986679706601467), 'balanced_accuracy': np.float64(0.9880676770195964), 'mcc': np.float64(0.9826181239559679), 'tnr': np.float64(0.9988414916709348), 'fpr': np.float64(0.0011585083290651449), 'accuracy': np.float64(0.9936833317874038), 'fit_time': 1.2551801204681396, 'predict_time': 0.011466503143310547, 'fit_memory_usage': 52.93940544128418, 'predict_memory_usage': 8.230814933776855}, 2: {'data': 'NETW', 'model_type': 'CART', 'attack_type': np.str_('physical fault'), 'confusion_matrix': array([[63064,    80,    81,   255,     0],\n",
      "       [  575, 25222,     7,     3,     1],\n",
      "       [ 7664,     6,    30,    43,     0],\n",
      "       [10483,     9,    22,   263,     0],\n",
      "       [    0,     0,     0,     0,     2]]), 'TN': np.int64(99957), 'FP': np.int64(110), 'FN': np.int64(7713), 'TP': np.int64(30), 'precision': np.float64(0.21428571428571427), 'recall': np.float64(0.0038744672607516468), 'f1': np.float64(0.00761131548902702), 'balanced_accuracy': np.float64(0.5013876018836462), 'mcc': np.float64(0.01989681544333497), 'tnr': np.float64(0.9989007365065407), 'fpr': np.float64(0.0010992634934593821), 'accuracy': np.float64(0.9274371579630832), 'fit_time': 1.2551801204681396, 'predict_time': 0.011466503143310547, 'fit_memory_usage': 52.93940544128418, 'predict_memory_usage': 8.230814933776855}, 3: {'data': 'NETW', 'model_type': 'CART', 'attack_type': np.str_('MITM'), 'confusion_matrix': array([[63064,    80,    81,   255,     0],\n",
      "       [  575, 25222,     7,     3,     1],\n",
      "       [ 7664,     6,    30,    43,     0],\n",
      "       [10483,     9,    22,   263,     0],\n",
      "       [    0,     0,     0,     0,     2]]), 'TN': np.int64(96732), 'FP': np.int64(301), 'FN': np.int64(10514), 'TP': np.int64(263), 'precision': np.float64(0.46631205673758863), 'recall': np.float64(0.024403822956295815), 'f1': np.float64(0.04638038973635482), 'balanced_accuracy': np.float64(0.5106508927525597), 'mcc': np.float64(0.08857161724448832), 'tnr': np.float64(0.9968979625488236), 'fpr': np.float64(0.0031020374511764037), 'accuracy': np.float64(0.8996846303682404), 'fit_time': 1.2551801204681396, 'predict_time': 0.011466503143310547, 'fit_memory_usage': 52.93940544128418, 'predict_memory_usage': 8.230814933776855}, 4: {'data': 'NETW', 'model_type': 'CART', 'attack_type': np.str_('anomaly'), 'confusion_matrix': array([[63064,    80,    81,   255,     0],\n",
      "       [  575, 25222,     7,     3,     1],\n",
      "       [ 7664,     6,    30,    43,     0],\n",
      "       [10483,     9,    22,   263,     0],\n",
      "       [    0,     0,     0,     0,     2]]), 'TN': np.int64(107807), 'FP': np.int64(1), 'FN': np.int64(0), 'TP': np.int64(2), 'precision': np.float64(0.6666666666666666), 'recall': np.float64(1.0), 'f1': np.float64(0.8), 'balanced_accuracy': np.float64(0.9999953621252597), 'mcc': np.float64(0.8164927941100764), 'tnr': np.float64(0.9999907242505195), 'fpr': np.float64(9.27574948055803e-06), 'accuracy': np.float64(0.9999907244225953), 'fit_time': 1.2551801204681396, 'predict_time': 0.011466503143310547, 'fit_memory_usage': 52.93940544128418, 'predict_memory_usage': 8.230814933776855}}\n"
     ]
    }
   ],
   "source": [
    "cm = confusion_matrix(y_test_multiclass, y_pred)\n",
    "\n",
    "# Dictionnaire pour stocker les résultats de chaque classe\n",
    "class_results = {}\n",
    "\n",
    "for class_label in range(nb_class):\n",
    "    # Extraire la matrice de confusion pour la classe spécifique\n",
    "    TP = cm[class_label, class_label]\n",
    "    FP = sum(cm[:, class_label]) - TP\n",
    "    FN = sum(cm[class_label, :]) - TP\n",
    "    TN = cm.sum() - (TP + FP + FN)\n",
    "\n",
    "    # Calcul des métriques pour chaque classe\n",
    "    precision = precision_score(y_test_multiclass, y_pred, average=None)[class_label]\n",
    "    recall_tpr = recall_score(y_test_multiclass, y_pred, average=None)[class_label]\n",
    "    tnr = TN / (TN + FP) if (TN + FP) != 0 else 0\n",
    "    fpr = FP / (FP + TN) if (FP + TN) != 0 else 0\n",
    "    accuracy = (TP + TN) / (TP + TN + FP + FN)\n",
    "    f1 = f1_score(y_test_multiclass, y_pred, average=None)[class_label]\n",
    "    balanced_acc = (recall_tpr + tnr) / 2\n",
    "    mcc = (TP * TN - FP * FN) / np.sqrt((TP + FP) * (TP + FN) * (TN + FP) * (TN + FN)) if (TP + FP) * (TP + FN) * (TN + FP) * (TN + FN) != 0 else 0\n",
    "\n",
    "\n",
    "# Stocker les résultats dans le dictionnaire\n",
    "    class_results[class_label] = {\n",
    "        'data': 'NETW',\n",
    "        'model_type': 'CART',\n",
    "        'attack_type': reverse_label_mapping[class_label],\n",
    "        'confusion_matrix': cm,\n",
    "        'TN': TN,\n",
    "        'FP': FP,\n",
    "        'FN': FN,\n",
    "        'TP': TP,\n",
    "        'precision': precision,\n",
    "        'recall': recall_tpr,\n",
    "        'f1': f1,\n",
    "        'balanced_accuracy': balanced_acc,\n",
    "        'mcc': mcc,\n",
    "        'tnr': tnr,\n",
    "        'fpr': fpr,\n",
    "        'accuracy': accuracy,\n",
    "        'fit_time': fit_time,\n",
    "        'predict_time': predict_time,\n",
    "        'fit_memory_usage': fit_memory_usage,\n",
    "        'predict_memory_usage': predict_memory_usage\n",
    "    }\n",
    "\n",
    "# Afficher ou enregistrer les résultats pour chaque classe\n",
    "print(class_results)"
   ]
  },
  {
   "cell_type": "code",
   "execution_count": 17,
   "metadata": {},
   "outputs": [
    {
     "name": "stdout",
     "output_type": "stream",
     "text": [
      "[0.77108552 0.99624758 0.21428571 0.46631206 0.66666667]\n",
      "Résultats pour la classe 0: 0.7710855158584599\n",
      "avec calcul : 0.7710855158584599\n",
      "Résultats pour la classe 1: 0.9962475806770155\n",
      "avec calcul : 0.9962475806770155\n",
      "Résultats pour la classe 2: 0.21428571428571427\n",
      "avec calcul : 0.21428571428571427\n",
      "Résultats pour la classe 3: 0.46631205673758863\n",
      "avec calcul : 0.46631205673758863\n",
      "Résultats pour la classe 4: 0.6666666666666666\n",
      "avec calcul : 0.6666666666666666\n"
     ]
    }
   ],
   "source": [
    "# vérif\n",
    "print(precision_score(y_test_multiclass, y_pred, average=None))\n",
    "for i in range(nb_class):\n",
    "    print(f\"Résultats pour la classe {i}: {class_results[i]['precision']}\")\n",
    "    print(f\"avec calcul : {class_results[i]['TP'] / (class_results[i]['TP'] + class_results[i]['FP'])}\")"
   ]
  },
  {
   "cell_type": "code",
   "execution_count": 18,
   "metadata": {},
   "outputs": [
    {
     "name": "stdout",
     "output_type": "stream",
     "text": [
      "test tpr 0.9772938623682579\n",
      "0.9772938623682579\n"
     ]
    }
   ],
   "source": [
    "tp = class_results[1]['TP']\n",
    "fn = class_results[1]['FN']\n",
    "print(\"test tpr\", tp / (tp + fn))\n",
    "print(class_results[1]['recall'])"
   ]
  },
  {
   "cell_type": "markdown",
   "metadata": {},
   "source": [
    "#### Matrice de confusion "
   ]
  },
  {
   "cell_type": "code",
   "execution_count": 19,
   "metadata": {},
   "outputs": [
    {
     "data": {
      "image/png": "[encoded data removed]",
      "text/plain": [
       "<Figure size 640x480 with 2 Axes>"
      ]
     },
     "metadata": {},
     "output_type": "display_data"
    }
   ],
   "source": [
    "# Matrice de confusion\n",
    "sns.heatmap(cm, annot=True, fmt='d', cmap='Blues', xticklabels=ordered_classes, yticklabels=ordered_classes)\n",
    "plt.xlabel('Prédit')\n",
    "plt.ylabel('Réel')\n",
    "plt.title('Matrice de confusion')\n",
    "plt.show()"
   ]
  },
  {
   "cell_type": "markdown",
   "metadata": {},
   "source": [
    "### Sauvegarder les resultats"
   ]
  },
  {
   "cell_type": "code",
   "execution_count": 20,
   "metadata": {},
   "outputs": [],
   "source": [
    "# sauvegarder les données \n",
    "\n",
    "for i in range(1, nb_class):\n",
    "    class_results[i]['model'] = f'CART - label - {reverse_label_mapping[i]}'\n",
    "    db[f'NETW_results_CART_{reverse_label_mapping[i]}'] = class_results[i]"
   ]
  }
 ],
 "metadata": {
  "kernelspec": {
   "display_name": "Python 3",
   "language": "python",
   "name": "python3"
  },
  "language_info": {
   "codemirror_mode": {
    "name": "ipython",
    "version": 3
   },
   "file_extension": ".py",
   "mimetype": "text/x-python",
   "name": "python",
   "nbconvert_exporter": "python",
   "pygments_lexer": "ipython3",
   "version": "3.10.12"
  }
 },
 "nbformat": 4,
 "nbformat_minor": 2
}
