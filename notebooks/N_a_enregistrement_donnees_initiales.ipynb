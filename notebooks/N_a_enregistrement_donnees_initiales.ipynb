{
 "cells": [
  {
   "cell_type": "markdown",
   "metadata": {},
   "source": [
    "# Enregistrement des données network"
   ]
  },
  {
   "cell_type": "markdown",
   "metadata": {},
   "source": [
    "Ce notebook permet de créer les fichiers de données réseau initiaux dans la base de données PickleShare."
   ]
  },
  {
   "cell_type": "code",
   "execution_count": 1,
   "metadata": {},
   "outputs": [],
   "source": [
    "import pandas as pd\n",
    "import os\n",
    "from pickleshare import PickleShareDB"
   ]
  },
  {
   "cell_type": "code",
   "execution_count": 2,
   "metadata": {},
   "outputs": [],
   "source": [
    "data_dir = '../prep_data' \n",
    "os.makedirs(data_dir, exist_ok=True)\n",
    "db = PickleShareDB(os.path.join(data_dir, 'kity'))\n",
    "\n",
    "db['net_attack_1'] = pd.read_csv('../datasets/Network datatset/csv/attack_1.csv')\n",
    "db['net_attack_2'] = pd.read_csv('../datasets/Network datatset/csv/attack_2.csv')\n",
    "db['net_attack_3'] = pd.read_csv('../datasets/Network datatset/csv/attack_3.csv')\n",
    "db['net_attack_4'] = pd.read_csv('../datasets/Network datatset/csv/attack_4.csv')\n",
    "db['net_norm'] = pd.read_csv('../datasets/Network datatset/csv/normal.csv')"
   ]
  }
 ],
 "metadata": {
  "kernelspec": {
   "display_name": "Python 3",
   "language": "python",
   "name": "python3"
  },
  "language_info": {
   "codemirror_mode": {
    "name": "ipython",
    "version": 3
   },
   "file_extension": ".py",
   "mimetype": "text/x-python",
   "name": "python",
   "nbconvert_exporter": "python",
   "pygments_lexer": "ipython3",
   "version": "3.12.1"
  }
 },
 "nbformat": 4,
 "nbformat_minor": 2
}
