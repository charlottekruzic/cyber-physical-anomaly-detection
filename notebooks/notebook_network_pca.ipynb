{
 "cells": [
  {
   "cell_type": "markdown",
   "metadata": {},
   "source": [
    "# Réduction de dimension"
   ]
  },
  {
   "cell_type": "code",
   "execution_count": null,
   "metadata": {},
   "outputs": [],
   "source": [
    "# Librairies\n",
    "from pickleshare import PickleShareDB\n",
    "from sklearn.decomposition import PCA\n",
    "from sklearn.preprocessing import StandardScaler, LabelEncoder\n",
    "import pandas as pd\n",
    "import plotly.express as px\n",
    "import matplotlib.pyplot as plt\n",
    "import numpy as np\n",
    "import plotly.graph_objects as go"
   ]
  },
  {
   "cell_type": "markdown",
   "metadata": {},
   "source": [
    "## Chargement des données"
   ]
  },
  {
   "cell_type": "markdown",
   "metadata": {},
   "source": [
    "Nous chargeons les données depuis le fichier des données préprarées."
   ]
  },
  {
   "cell_type": "code",
   "execution_count": null,
   "metadata": {},
   "outputs": [],
   "source": [
    "# Données nettoyées\n",
    "db = PickleShareDB('../prep_data/kity')\n",
    "\n",
    "#df_net_1 = db['net_attack_1_clean']\n",
    "#df_net_2 = db['net_attack_2_clean']\n",
    "#df_net_3 = db['net_attack_3_clean']\n",
    "df_net_4 = db['net_attack_4_clean']\n",
    "#df_net_norm = db['net_norm_clean']"
   ]
  },
  {
   "cell_type": "code",
   "execution_count": null,
   "metadata": {},
   "outputs": [],
   "source": [
    "data = df_net_4"
   ]
  },
  {
   "cell_type": "code",
   "execution_count": null,
   "metadata": {},
   "outputs": [],
   "source": [
    "data.head()"
   ]
  },
  {
   "cell_type": "markdown",
   "metadata": {},
   "source": [
    "## Préparation des données"
   ]
  },
  {
   "cell_type": "code",
   "execution_count": null,
   "metadata": {},
   "outputs": [],
   "source": [
    "data_reduced = data.drop(columns=['Time'])"
   ]
  },
  {
   "cell_type": "code",
   "execution_count": null,
   "metadata": {},
   "outputs": [],
   "source": [
    "X = data_reduced.drop(columns=['label', 'label_n'])\n",
    "y_label = data_reduced['label']\n",
    "y_label_n = data_reduced['label_n']"
   ]
  },
  {
   "cell_type": "code",
   "execution_count": null,
   "metadata": {},
   "outputs": [],
   "source": [
    "for column in X.select_dtypes(include=['object']).columns:\n",
    "    le = LabelEncoder()\n",
    "    X[column] = le.fit_transform(X[column])"
   ]
  },
  {
   "cell_type": "code",
   "execution_count": null,
   "metadata": {},
   "outputs": [],
   "source": [
    "scaler = StandardScaler()\n",
    "X_scaled = scaler.fit_transform(X)"
   ]
  },
  {
   "cell_type": "code",
   "execution_count": null,
   "metadata": {},
   "outputs": [],
   "source": [
    "X_scaled.shape"
   ]
  },
  {
   "cell_type": "markdown",
   "metadata": {},
   "source": [
    "# Choix du nombre de composantes"
   ]
  },
  {
   "cell_type": "code",
   "execution_count": null,
   "metadata": {},
   "outputs": [],
   "source": [
    "pca_var = PCA(n_components=X_scaled.shape[1])\n",
    "pca_var.fit(X_scaled)"
   ]
  },
  {
   "cell_type": "code",
   "execution_count": null,
   "metadata": {},
   "outputs": [],
   "source": [
    "variance_exp = pca_var.explained_variance_ratio_"
   ]
  },
  {
   "cell_type": "code",
   "execution_count": null,
   "metadata": {},
   "outputs": [],
   "source": [
    "sum_variance = variance_exp.cumsum()\n",
    "\n",
    "table_df = pd.DataFrame({\n",
    "    'Composante principale': [f'PC{i}' for i in range(1, len(variance_exp) + 1)],\n",
    "    'Variance expliquée (%)': [f'{var * 100:.2f}%' for var in variance_exp],\n",
    "    'Variance cumulée (%)': [f'{var * 100:.2f}%' for var in sum_variance]\n",
    "})\n",
    "\n",
    "print(table_df)"
   ]
  },
  {
   "cell_type": "code",
   "execution_count": null,
   "metadata": {},
   "outputs": [],
   "source": [
    "fig = go.Figure(data=[\n",
    "    go.Bar(x=[f'PC{i}' for i in range(1, len(variance_exp) + 1)],\n",
    "           y=variance_exp,\n",
    "           text=[f'{var:.2%}' for var in variance_exp], \n",
    "           textposition='auto'\n",
    "    )\n",
    "])\n",
    "\n",
    "fig.update_layout(\n",
    "    title='Variance expliquée par chaque composante principale',\n",
    "    xaxis_title='Composantes principales',\n",
    "    yaxis_title='Variance expliquée',\n",
    "    yaxis=dict(tickformat=\".0%\")\n",
    ")\n",
    "\n",
    "fig.show()"
   ]
  },
  {
   "cell_type": "markdown",
   "metadata": {},
   "source": [
    "Pour garder plus de 90% des informations, nous conservons 6 dimensions."
   ]
  },
  {
   "cell_type": "markdown",
   "metadata": {},
   "source": [
    "# PCA"
   ]
  },
  {
   "cell_type": "code",
   "execution_count": null,
   "metadata": {},
   "outputs": [],
   "source": [
    "pca = PCA(n_components=6) \n",
    "X_pca = pca.fit_transform(X_scaled)"
   ]
  },
  {
   "cell_type": "code",
   "execution_count": null,
   "metadata": {},
   "outputs": [],
   "source": [
    "df_pca = pd.DataFrame(X_pca, columns=[f'PCA{i+1}' for i in range(6)])\n",
    "df_pca['label'] = y_label.values\n",
    "df_pca['label_n'] = y_label_n.values"
   ]
  },
  {
   "cell_type": "code",
   "execution_count": null,
   "metadata": {},
   "outputs": [],
   "source": [
    "print(df_pca.head())"
   ]
  },
  {
   "cell_type": "markdown",
   "metadata": {},
   "source": [
    "# Visualisation du résultat"
   ]
  },
  {
   "cell_type": "code",
   "execution_count": null,
   "metadata": {},
   "outputs": [],
   "source": [
    "fig1 = px.scatter(df_pca, x='PCA1', y='PCA2', color='label', \n",
    "                  title='PC1 - PC2', labels={'PCA1': 'Dim 1', 'PCA2': 'Dim 2'})\n",
    "\n",
    "fig1.show()"
   ]
  },
  {
   "cell_type": "code",
   "execution_count": null,
   "metadata": {},
   "outputs": [],
   "source": [
    "fig2 = px.scatter(df_pca, x='PCA3', y='PCA4', color='label', \n",
    "                  title='PC3 - PC4', labels={'PCA3': 'Dim 3', 'PCA4': 'Dim 4'})\n",
    "fig2.show()\n"
   ]
  },
  {
   "cell_type": "code",
   "execution_count": null,
   "metadata": {},
   "outputs": [],
   "source": [
    "fig3 = px.scatter(df_pca, x='PCA5', y='PCA6', color='label', \n",
    "                  title='PC5 - PC6', labels={'PCA5': 'Dim 5', 'PCA6': 'Dim 6'})\n",
    "\n",
    "fig3.show()"
   ]
  },
  {
   "cell_type": "code",
   "execution_count": null,
   "metadata": {},
   "outputs": [],
   "source": [
    "# TODO : Revoir pourquoi cela ne marche pas\n",
    "'''\n",
    "fig_3d = px.scatter_3d(df_pca, x='PCA1', y='PCA2', z='PCA3', color='label', \n",
    "                       title='Visualisation 3D des trois premières composantes principales')\n",
    "fig_3d.show()\n",
    "'''"
   ]
  },
  {
   "cell_type": "code",
   "execution_count": null,
   "metadata": {},
   "outputs": [],
   "source": [
    "# TODO : Remettres les labels dans le résultat de la PCA ?\n",
    "# TODO : Affichage 3D\n",
    "# TODO : Enregistrer les résultats dans la base de données\n",
    "# TODO : Utiliser Time dans la PCA ?"
   ]
  }
 ],
 "metadata": {
  "kernelspec": {
   "display_name": "Python 3",
   "language": "python",
   "name": "python3"
  },
  "language_info": {
   "codemirror_mode": {
    "name": "ipython",
    "version": 3
   },
   "file_extension": ".py",
   "mimetype": "text/x-python",
   "name": "python",
   "nbconvert_exporter": "python",
   "pygments_lexer": "ipython3",
   "version": "3.12.1"
  }
 },
 "nbformat": 4,
 "nbformat_minor": 2
}
