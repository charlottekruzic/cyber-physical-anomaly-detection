{
 "cells": [
  {
   "cell_type": "code",
   "execution_count": 1,
   "metadata": {},
   "outputs": [],
   "source": [
    "import pandas as pd\n",
    "import numpy as np\n",
    "from pickleshare import PickleShareDB\n",
    "from sklearn.model_selection import train_test_split, GridSearchCV\n",
    "from sklearn.tree import DecisionTreeClassifier, plot_tree\n",
    "from sklearn.preprocessing import LabelEncoder\n",
    "from sklearn.metrics import precision_score, recall_score, f1_score, accuracy_score, balanced_accuracy_score, matthews_corrcoef, confusion_matrix\n",
    "\n",
    "import matplotlib.pyplot as plt\n",
    "import seaborn as sns\n",
    "\n",
    "import time\n",
    "import tracemalloc"
   ]
  },
  {
   "cell_type": "code",
   "execution_count": 2,
   "metadata": {},
   "outputs": [],
   "source": [
    "# Pour garantir la reproductibilité\n",
    "np.random.seed(42)  # Pour numpy"
   ]
  },
  {
   "cell_type": "markdown",
   "metadata": {},
   "source": [
    "## Chargement des données"
   ]
  },
  {
   "cell_type": "code",
   "execution_count": 3,
   "metadata": {},
   "outputs": [],
   "source": [
    "db = PickleShareDB('../prep_data/kity')\n",
    "# sample_df = db['net_sample_for_models']\n",
    "sample_df = db['pca_result_with_labels']"
   ]
  },
  {
   "cell_type": "markdown",
   "metadata": {},
   "source": [
    "Le type d'attaque 'scan'  a tres peu d'entrees, ce qui empeche les modeles. On supprime ce type d'attaque."
   ]
  },
  {
   "cell_type": "code",
   "execution_count": 4,
   "metadata": {},
   "outputs": [],
   "source": [
    "to_drop = sample_df[sample_df['label'] == 'scan'].index\n",
    "sample_df = sample_df.drop(to_drop)"
   ]
  },
  {
   "cell_type": "code",
   "execution_count": 5,
   "metadata": {},
   "outputs": [
    {
     "name": "stderr",
     "output_type": "stream",
     "text": [
      "/tmp/ipykernel_150041/3490013237.py:1: FutureWarning: The default of observed=False is deprecated and will be changed to True in a future version of pandas. Pass observed=False to retain current behavior or observed=True to adopt the future default and silence this warning.\n",
      "  sample_df = sample_df.groupby('label', group_keys=False).apply(\n",
      "/tmp/ipykernel_150041/3490013237.py:1: DeprecationWarning: DataFrameGroupBy.apply operated on the grouping columns. This behavior is deprecated, and in a future version of pandas the grouping columns will be excluded from the operation. Either pass `include_groups=False` to exclude the groupings or explicitly select the grouping columns after groupby to silence this warning.\n",
      "  sample_df = sample_df.groupby('label', group_keys=False).apply(\n"
     ]
    }
   ],
   "source": [
    "sample_df = sample_df.groupby('label', group_keys=False).apply(\n",
    "    lambda x: x.sample(frac=0.1, random_state=42)\n",
    ")"
   ]
  },
  {
   "cell_type": "code",
   "execution_count": 6,
   "metadata": {},
   "outputs": [],
   "source": [
    "labels = sample_df[['label', 'label_n']]\n",
    "sample_df.drop(columns=['label', 'label_n'], inplace=True)"
   ]
  },
  {
   "cell_type": "markdown",
   "metadata": {},
   "source": [
    "## Initialisation du modèle"
   ]
  },
  {
   "cell_type": "code",
   "execution_count": 7,
   "metadata": {},
   "outputs": [],
   "source": [
    "# Initialiser le modèle CART \n",
    "cart = DecisionTreeClassifier(\n",
    "    criterion='gini',\n",
    "    max_depth=None,\n",
    "    random_state=42\n",
    ")"
   ]
  },
  {
   "cell_type": "markdown",
   "metadata": {},
   "source": [
    "## Entraînement du modèle et évaluation - Classification binaire"
   ]
  },
  {
   "cell_type": "code",
   "execution_count": null,
   "metadata": {},
   "outputs": [],
   "source": [
    "X = sample_df\n",
    "y_label_n_str = labels['label_n'].astype(str)\n",
    "\n",
    "# Diviser les données en ensembles d'entraînement et de test\n",
    "X_train, X_test, y_train, y_test = train_test_split(X, y_label_n_str, test_size=0.2, random_state=42, stratify=y_label_n_str)"
   ]
  },
  {
   "cell_type": "code",
   "execution_count": 9,
   "metadata": {},
   "outputs": [],
   "source": [
    "# Mesurer le temps et la mémoire pour l'entraînement\n",
    "tracemalloc.start()\n",
    "start_fit_time = time.time()\n",
    "\n",
    "cart.fit(X_train, y_train)\n",
    "\n",
    "fit_time = time.time() - start_fit_time\n",
    "current, peak = tracemalloc.get_traced_memory()  # Mémoire actuelle et maximale utilisée\n",
    "fit_memory_usage = peak / (1024 * 1024)  # Convertir en Mo\n",
    "tracemalloc.stop()"
   ]
  },
  {
   "cell_type": "code",
   "execution_count": 10,
   "metadata": {},
   "outputs": [],
   "source": [
    "# Mesurer le temps et la mémoire pour la prediction\n",
    "tracemalloc.start()\n",
    "start_predict_time = time.time()\n",
    "\n",
    "# Prédire les étiquettes sur l'ensemble de test\n",
    "y_pred = cart.predict(X_test)\n",
    "predict_time = time.time() - start_predict_time\n",
    "current, peak = tracemalloc.get_traced_memory()  # Mémoire actuelle et maximale utilisée\n",
    "predict_memory_usage = peak / (1024 * 1024)  # Convertir en Mo\n",
    "tracemalloc.stop()"
   ]
  },
  {
   "cell_type": "markdown",
   "metadata": {},
   "source": [
    "### Évaluation"
   ]
  },
  {
   "cell_type": "markdown",
   "metadata": {},
   "source": [
    "#### Métriques de classification"
   ]
  },
  {
   "cell_type": "code",
   "execution_count": 16,
   "metadata": {},
   "outputs": [],
   "source": [
    "cm = confusion_matrix(y_test, y_pred)\n",
    "TN, FP, FN, TP = cm.ravel()\n",
    "\n",
    "# Métriques pour les données équilibrées\n",
    "precision = precision_score(y_test, y_pred, average='binary', pos_label='True')\n",
    "recall = recall_score(y_test, y_pred, average='binary', pos_label='True')\n",
    "tnr = TN / (TN + FP) if (TN + FP) != 0 else 0\n",
    "fpr = FP / (FP + TN) if (FP + TN) != 0 else 0\n",
    "accuracy = accuracy_score(y_test, y_pred)\n",
    "\n",
    "# Métriques pour les données déséquilibrées\n",
    "f1 = f1_score(y_test, y_pred, average='binary', pos_label='True')\n",
    "balanced_acc = balanced_accuracy_score(y_test, y_pred)\n",
    "mcc = matthews_corrcoef(y_test, y_pred)\n",
    "\n",
    "results_CART_label_n = {\n",
    "    'data': 'NETW',\n",
    "    'model_type': 'CART',\n",
    "    'attack_type': 'labeln',\n",
    "    'confusion_matrix': cm,\n",
    "    'precision': precision,\n",
    "    'recall': recall,\n",
    "    'tnr': tnr,\n",
    "    'fpr': fpr,\n",
    "    'accuracy': accuracy,\n",
    "    'f1': f1,\n",
    "    'balanced_accuracy': balanced_acc,\n",
    "    'mcc': mcc,\n",
    "    'fit_time': fit_time,\n",
    "    'predict_time': predict_time,\n",
    "    'fit_memory_usage': fit_memory_usage,\n",
    "    'predict_memory_usage': predict_memory_usage\n",
    "}"
   ]
  },
  {
   "cell_type": "code",
   "execution_count": 17,
   "metadata": {},
   "outputs": [
    {
     "name": "stdout",
     "output_type": "stream",
     "text": [
      "Évaluation complète du modèle:\n",
      "data: NETW\n",
      "model_type: CART\n",
      "attack_type: labeln\n",
      "confusion_matrix: [[41175   236]\n",
      " [11972 61503]]\n",
      "precision: 0.9961774567129367\n",
      "recall: 0.837060224566179\n",
      "tnr: 0.9943010311269952\n",
      "fpr: 0.0056989688730047575\n",
      "accuracy: 0.8937381404174574\n",
      "f1: 0.9097134912065319\n",
      "balanced_accuracy: 0.9156806278465871\n",
      "mcc: 0.8005680698877541\n",
      "fit_time: 2.8076179027557373\n",
      "predict_time: 0.02769923210144043\n",
      "fit_memory_usage: 35.51437854766846\n",
      "predict_memory_usage: 6.139410018920898\n"
     ]
    }
   ],
   "source": [
    "# Afficher les résultats\n",
    "print(\"Évaluation complète du modèle:\")\n",
    "for metric, value in results_CART_label_n.items():\n",
    "    print(f\"{metric}: {value}\")"
   ]
  },
  {
   "cell_type": "markdown",
   "metadata": {},
   "source": [
    "##### Matrice de confusion "
   ]
  },
  {
   "cell_type": "code",
   "execution_count": 18,
   "metadata": {},
   "outputs": [
    {
     "data": {
      "image/png": "[encoded data removed]",
      "text/plain": [
       "<Figure size 640x480 with 2 Axes>"
      ]
     },
     "metadata": {},
     "output_type": "display_data"
    }
   ],
   "source": [
    "# Matrice de confusion\n",
    "sns.heatmap(cm, annot=True, fmt='d', cmap='Blues')\n",
    "plt.xlabel('Prédit')\n",
    "plt.ylabel('Réel')\n",
    "plt.title('Matrice de confusion')\n",
    "plt.show()"
   ]
  },
  {
   "cell_type": "markdown",
   "metadata": {},
   "source": [
    "### Sauvegarder les resultats"
   ]
  },
  {
   "cell_type": "code",
   "execution_count": 19,
   "metadata": {},
   "outputs": [],
   "source": [
    "# sauvegarder dans PickleShareDB\n",
    "db['NETW_results_CART_labeln'] = results_CART_label_n"
   ]
  },
  {
   "cell_type": "markdown",
   "metadata": {},
   "source": [
    "## Entraînement du modèle et évaluation - Classification multi-classes"
   ]
  },
  {
   "cell_type": "code",
   "execution_count": 20,
   "metadata": {},
   "outputs": [],
   "source": [
    "y_label = labels['label']\n",
    "\n",
    "ordered_classes = ['normal', 'DoS','physical fault', 'MITM', 'anomaly']\n",
    "nb_class = 5\n",
    "\n",
    "le = LabelEncoder()\n",
    "le.classes_ = np.array(ordered_classes)\n",
    "label_mapping_network = {label: encoded for label, encoded in zip(le.classes_, range(len(le.classes_)))}\n",
    "y_label_encoded = le.transform(y_label)\n",
    "\n",
    "# Diviser les données en ensembles d'entraînement et de test\n",
    "X_train, X_test, y_train, y_test = train_test_split(X, y_label_encoded, test_size=0.2, random_state=42, stratify=y_label_encoded)"
   ]
  },
  {
   "cell_type": "code",
   "execution_count": 21,
   "metadata": {},
   "outputs": [],
   "source": [
    "# Mesurer le temps et la mémoire pour l'entraînement\n",
    "tracemalloc.start()\n",
    "start_fit_time = time.time()\n",
    "\n",
    "cart.fit(X_train, y_train)\n",
    "\n",
    "fit_time = time.time() - start_fit_time\n",
    "current, peak = tracemalloc.get_traced_memory()  # Mémoire actuelle et maximale utilisée\n",
    "fit_memory_usage = peak / (1024 * 1024)  # Convertir en Mo\n",
    "tracemalloc.stop()"
   ]
  },
  {
   "cell_type": "code",
   "execution_count": 22,
   "metadata": {},
   "outputs": [],
   "source": [
    "# Mesurer le temps et la mémoire pour la prediction\n",
    "tracemalloc.start()\n",
    "start_predict_time = time.time()\n",
    "\n",
    "# Prédire les étiquettes sur l'ensemble de test\n",
    "y_pred = cart.predict(X_test)\n",
    "predict_time = time.time() - start_predict_time\n",
    "current, peak = tracemalloc.get_traced_memory()  # Mémoire actuelle et maximale utilisée\n",
    "predict_memory_usage = peak / (1024 * 1024)  # Convertir en Mo\n",
    "tracemalloc.stop()"
   ]
  },
  {
   "cell_type": "code",
   "execution_count": 23,
   "metadata": {},
   "outputs": [],
   "source": [
    "db['label_mapping_network'] = label_mapping_network"
   ]
  },
  {
   "cell_type": "code",
   "execution_count": 24,
   "metadata": {},
   "outputs": [],
   "source": [
    "reverse_label_mapping = {v: k for k, v in label_mapping_network.items()}"
   ]
  },
  {
   "cell_type": "markdown",
   "metadata": {},
   "source": [
    "### Évaluation"
   ]
  },
  {
   "cell_type": "markdown",
   "metadata": {},
   "source": [
    "#### Métriques de classification"
   ]
  },
  {
   "cell_type": "code",
   "execution_count": 25,
   "metadata": {},
   "outputs": [
    {
     "name": "stdout",
     "output_type": "stream",
     "text": [
      "{0: {'data': 'NETW', 'model_type': 'CART', 'attack_type': np.str_('normal'), 'confusion_matrix': array([[41237,    24,    89,    62,     0],\n",
      "       [  112, 61415,     0,     2,     0],\n",
      "       [ 6844,     3,    31,     7,     0],\n",
      "       [ 4965,     0,     9,    84,     1],\n",
      "       [    0,     1,     0,     0,     0]]), 'TN': np.int64(61553), 'FP': np.int64(11921), 'FN': np.int64(175), 'TP': np.int64(41237), 'precision': np.float64(0.7757440084277061), 'recall': np.float64(0.9957741717376606), 'f1': np.float64(0.8720947446336047), 'balanced_accuracy': np.float64(0.9167631508714162), 'mcc': np.float64(nan), 'tnr': np.float64(0.8377521300051719), 'fpr': np.float64(0.1622478699948281), 'accuracy': np.float64(0.8947130198631688), 'fit_time': 2.417746067047119, 'predict_time': 0.03039240837097168, 'fit_memory_usage': 35.50737380981445, 'predict_memory_usage': 8.768879890441895}, 1: {'data': 'NETW', 'model_type': 'CART', 'attack_type': np.str_('DoS'), 'confusion_matrix': array([[41237,    24,    89,    62,     0],\n",
      "       [  112, 61415,     0,     2,     0],\n",
      "       [ 6844,     3,    31,     7,     0],\n",
      "       [ 4965,     0,     9,    84,     1],\n",
      "       [    0,     1,     0,     0,     0]]), 'TN': np.int64(53329), 'FP': np.int64(28), 'FN': np.int64(114), 'TP': np.int64(61415), 'precision': np.float64(0.9995442930846475), 'recall': np.float64(0.9981472151343269), 'f1': np.float64(0.9988452655889145), 'balanced_accuracy': np.float64(0.9988112239998714), 'mcc': np.float64(nan), 'tnr': np.float64(0.999475232865416), 'fpr': np.float64(0.0005247671345840284), 'accuracy': np.float64(0.9987639921313302), 'fit_time': 2.417746067047119, 'predict_time': 0.03039240837097168, 'fit_memory_usage': 35.50737380981445, 'predict_memory_usage': 8.768879890441895}, 2: {'data': 'NETW', 'model_type': 'CART', 'attack_type': np.str_('physical fault'), 'confusion_matrix': array([[41237,    24,    89,    62,     0],\n",
      "       [  112, 61415,     0,     2,     0],\n",
      "       [ 6844,     3,    31,     7,     0],\n",
      "       [ 4965,     0,     9,    84,     1],\n",
      "       [    0,     1,     0,     0,     0]]), 'TN': np.int64(107903), 'FP': np.int64(98), 'FN': np.int64(6854), 'TP': np.int64(31), 'precision': np.float64(0.24031007751937986), 'recall': np.float64(0.0045025417574437185), 'f1': np.float64(0.008839463929284289), 'balanced_accuracy': np.float64(0.5017975713759395), 'mcc': np.float64(0.025479890183283886), 'tnr': np.float64(0.9990926009944352), 'fpr': np.float64(0.0009073990055647633), 'accuracy': np.float64(0.9394878401197709), 'fit_time': 2.417746067047119, 'predict_time': 0.03039240837097168, 'fit_memory_usage': 35.50737380981445, 'predict_memory_usage': 8.768879890441895}, 3: {'data': 'NETW', 'model_type': 'CART', 'attack_type': np.str_('MITM'), 'confusion_matrix': array([[41237,    24,    89,    62,     0],\n",
      "       [  112, 61415,     0,     2,     0],\n",
      "       [ 6844,     3,    31,     7,     0],\n",
      "       [ 4965,     0,     9,    84,     1],\n",
      "       [    0,     1,     0,     0,     0]]), 'TN': np.int64(109756), 'FP': np.int64(71), 'FN': np.int64(4975), 'TP': np.int64(84), 'precision': np.float64(0.5419354838709678), 'recall': np.float64(0.016604071950978454), 'f1': np.float64(0.03222094361334868), 'balanced_accuracy': np.float64(0.5079788003412644), 'mcc': np.float64(0.08919659065779532), 'tnr': np.float64(0.9993535287315505), 'fpr': np.float64(0.0006464712684494706), 'accuracy': np.float64(0.9560781992583953), 'fit_time': 2.417746067047119, 'predict_time': 0.03039240837097168, 'fit_memory_usage': 35.50737380981445, 'predict_memory_usage': 8.768879890441895}, 4: {'data': 'NETW', 'model_type': 'CART', 'attack_type': np.str_('anomaly'), 'confusion_matrix': array([[41237,    24,    89,    62,     0],\n",
      "       [  112, 61415,     0,     2,     0],\n",
      "       [ 6844,     3,    31,     7,     0],\n",
      "       [ 4965,     0,     9,    84,     1],\n",
      "       [    0,     1,     0,     0,     0]]), 'TN': np.int64(114884), 'FP': np.int64(1), 'FN': np.int64(1), 'TP': np.int64(0), 'precision': np.float64(0.0), 'recall': np.float64(0.0), 'f1': np.float64(0.0), 'balanced_accuracy': np.float64(0.4999956478217348), 'mcc': np.float64(-8.704356530443488e-06), 'tnr': np.float64(0.9999912956434696), 'fpr': np.float64(8.704356530443488e-06), 'accuracy': np.float64(0.9999825914384695), 'fit_time': 2.417746067047119, 'predict_time': 0.03039240837097168, 'fit_memory_usage': 35.50737380981445, 'predict_memory_usage': 8.768879890441895}}\n"
     ]
    },
    {
     "name": "stderr",
     "output_type": "stream",
     "text": [
      "/tmp/ipykernel_150041/2850465988.py:21: RuntimeWarning: overflow encountered in scalar multiply\n",
      "  mcc = (TP * TN - FP * FN) / np.sqrt((TP + FP) * (TP + FN) * (TN + FP) * (TN + FN)) if (TP + FP) * (TP + FN) * (TN + FP) * (TN + FN) != 0 else 0\n",
      "/tmp/ipykernel_150041/2850465988.py:21: RuntimeWarning: invalid value encountered in sqrt\n",
      "  mcc = (TP * TN - FP * FN) / np.sqrt((TP + FP) * (TP + FN) * (TN + FP) * (TN + FN)) if (TP + FP) * (TP + FN) * (TN + FP) * (TN + FN) != 0 else 0\n",
      "/tmp/ipykernel_150041/2850465988.py:21: RuntimeWarning: overflow encountered in scalar multiply\n",
      "  mcc = (TP * TN - FP * FN) / np.sqrt((TP + FP) * (TP + FN) * (TN + FP) * (TN + FN)) if (TP + FP) * (TP + FN) * (TN + FP) * (TN + FN) != 0 else 0\n",
      "/tmp/ipykernel_150041/2850465988.py:21: RuntimeWarning: invalid value encountered in sqrt\n",
      "  mcc = (TP * TN - FP * FN) / np.sqrt((TP + FP) * (TP + FN) * (TN + FP) * (TN + FN)) if (TP + FP) * (TP + FN) * (TN + FP) * (TN + FN) != 0 else 0\n"
     ]
    }
   ],
   "source": [
    "cm = confusion_matrix(y_test, y_pred)\n",
    "\n",
    "# Dictionnaire pour stocker les résultats de chaque classe\n",
    "class_results = {}\n",
    "\n",
    "for class_label in range(nb_class):\n",
    "    # Extraire la matrice de confusion pour la classe spécifique\n",
    "    TP = cm[class_label, class_label]\n",
    "    FP = sum(cm[:, class_label]) - TP\n",
    "    FN = sum(cm[class_label, :]) - TP\n",
    "    TN = cm.sum() - (TP + FP + FN)\n",
    "\n",
    "    # Calcul des métriques pour chaque classe\n",
    "    precision = precision_score(y_test, y_pred, average=None)[class_label]\n",
    "    recall_tpr = recall_score(y_test, y_pred, average=None)[class_label]\n",
    "    tnr = TN / (TN + FP) if (TN + FP) != 0 else 0\n",
    "    fpr = FP / (FP + TN) if (FP + TN) != 0 else 0\n",
    "    accuracy = (TP + TN) / (TP + TN + FP + FN)\n",
    "    f1 = f1_score(y_test, y_pred, average=None)[class_label]\n",
    "    balanced_acc = (recall_tpr + tnr) / 2\n",
    "    mcc = (TP * TN - FP * FN) / np.sqrt((TP + FP) * (TP + FN) * (TN + FP) * (TN + FN)) if (TP + FP) * (TP + FN) * (TN + FP) * (TN + FN) != 0 else 0\n",
    "\n",
    "\n",
    "# Stocker les résultats dans le dictionnaire\n",
    "    class_results[class_label] = {\n",
    "        'data': 'NETW',\n",
    "        'model_type': 'CART',\n",
    "        'attack_type': reverse_label_mapping[class_label],\n",
    "        'confusion_matrix': cm,\n",
    "        'TN': TN,\n",
    "        'FP': FP,\n",
    "        'FN': FN,\n",
    "        'TP': TP,\n",
    "        'precision': precision,\n",
    "        'recall': recall_tpr,\n",
    "        'f1': f1,\n",
    "        'balanced_accuracy': balanced_acc,\n",
    "        'mcc': mcc,\n",
    "        'tnr': tnr,\n",
    "        'fpr': fpr,\n",
    "        'accuracy': accuracy,\n",
    "        'fit_time': fit_time,\n",
    "        'predict_time': predict_time,\n",
    "        'fit_memory_usage': fit_memory_usage,\n",
    "        'predict_memory_usage': predict_memory_usage\n",
    "    }\n",
    "\n",
    "# Afficher ou enregistrer les résultats pour chaque classe\n",
    "print(class_results)"
   ]
  },
  {
   "cell_type": "code",
   "execution_count": 26,
   "metadata": {},
   "outputs": [
    {
     "name": "stdout",
     "output_type": "stream",
     "text": [
      "[0.77574401 0.99954429 0.24031008 0.54193548 0.        ]\n",
      "Résultats pour la classe 0: 0.7757440084277061\n",
      "avec calcul : 0.7757440084277061\n",
      "Résultats pour la classe 1: 0.9995442930846475\n",
      "avec calcul : 0.9995442930846475\n",
      "Résultats pour la classe 2: 0.24031007751937986\n",
      "avec calcul : 0.24031007751937986\n",
      "Résultats pour la classe 3: 0.5419354838709678\n",
      "avec calcul : 0.5419354838709678\n",
      "Résultats pour la classe 4: 0.0\n",
      "avec calcul : 0.0\n"
     ]
    }
   ],
   "source": [
    "# vérif\n",
    "print(precision_score(y_test, y_pred, average=None))\n",
    "for i in range(nb_class):\n",
    "    print(f\"Résultats pour la classe {i}: {class_results[i]['precision']}\")\n",
    "    print(f\"avec calcul : {class_results[i]['TP'] / (class_results[i]['TP'] + class_results[i]['FP'])}\")"
   ]
  },
  {
   "cell_type": "code",
   "execution_count": 27,
   "metadata": {},
   "outputs": [
    {
     "name": "stdout",
     "output_type": "stream",
     "text": [
      "test tpr 0.9981472151343269\n",
      "0.9981472151343269\n"
     ]
    }
   ],
   "source": [
    "tp = class_results[1]['TP']\n",
    "fn = class_results[1]['FN']\n",
    "print(\"test tpr\", tp / (tp + fn))\n",
    "print(class_results[1]['recall'])"
   ]
  },
  {
   "cell_type": "markdown",
   "metadata": {},
   "source": [
    "#### Matrice de confusion "
   ]
  },
  {
   "cell_type": "code",
   "execution_count": 28,
   "metadata": {},
   "outputs": [
    {
     "data": {
      "image/png": "[encoded data removed]",
      "text/plain": [
       "<Figure size 640x480 with 2 Axes>"
      ]
     },
     "metadata": {},
     "output_type": "display_data"
    }
   ],
   "source": [
    "# Matrice de confusion\n",
    "sns.heatmap(cm, annot=True, fmt='d', cmap='Blues', xticklabels=ordered_classes, yticklabels=ordered_classes)\n",
    "plt.xlabel('Prédit')\n",
    "plt.ylabel('Réel')\n",
    "plt.title('Matrice de confusion')\n",
    "plt.show()"
   ]
  },
  {
   "cell_type": "markdown",
   "metadata": {},
   "source": [
    "### Sauvegarder les resultats"
   ]
  },
  {
   "cell_type": "code",
   "execution_count": 29,
   "metadata": {},
   "outputs": [],
   "source": [
    "# sauvegarder les données \n",
    "\n",
    "for i in range(1, nb_class):\n",
    "    class_results[i]['model'] = f'CART - label - {reverse_label_mapping[i]}'\n",
    "    db[f'NETW_results_CART_{reverse_label_mapping[i]}'] = class_results[i]"
   ]
  }
 ],
 "metadata": {
  "kernelspec": {
   "display_name": "Python 3",
   "language": "python",
   "name": "python3"
  },
  "language_info": {
   "codemirror_mode": {
    "name": "ipython",
    "version": 3
   },
   "file_extension": ".py",
   "mimetype": "text/x-python",
   "name": "python",
   "nbconvert_exporter": "python",
   "pygments_lexer": "ipython3",
   "version": "3.11.2"
  }
 },
 "nbformat": 4,
 "nbformat_minor": 2
}
