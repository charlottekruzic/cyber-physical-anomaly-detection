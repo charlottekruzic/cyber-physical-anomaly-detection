{
 "cells": [
  {
   "cell_type": "markdown",
   "metadata": {},
   "source": [
    "# Réduction de dimension"
   ]
  },
  {
   "cell_type": "code",
   "execution_count": 1,
   "metadata": {},
   "outputs": [],
   "source": [
    "from pickleshare import PickleShareDB\n",
    "import pandas as pd\n",
    "import numpy as np\n",
    "from sklearn.preprocessing import StandardScaler, OrdinalEncoder\n",
    "from sklearn.decomposition import PCA\n",
    "import matplotlib.pyplot as plt"
   ]
  },
  {
   "cell_type": "markdown",
   "metadata": {},
   "source": [
    "## Chargement des données"
   ]
  },
  {
   "cell_type": "markdown",
   "metadata": {},
   "source": [
    "Nous chargeons les données depuis le fichier des données préparées."
   ]
  },
  {
   "cell_type": "code",
   "execution_count": 2,
   "metadata": {},
   "outputs": [],
   "source": [
    "db = PickleShareDB('../prep_data/kity')"
   ]
  },
  {
   "cell_type": "code",
   "execution_count": 3,
   "metadata": {},
   "outputs": [],
   "source": [
    "# Données nettoyées\n",
    "df_net_1 = db['net_attack_1_clean']\n",
    "df_net_2 = db['net_attack_2_clean']\n",
    "df_net_3 = db['net_attack_3_clean']\n",
    "df_net_4 = db['net_attack_4_clean']\n",
    "df_net_norm = db['net_norm_clean']"
   ]
  },
  {
   "cell_type": "code",
   "execution_count": 4,
   "metadata": {},
   "outputs": [],
   "source": [
    "# Création d'un dataset avec toutes les données\n",
    "#df = [db['net_attack_1_clean'], db['net_attack_2_clean'], db['net_attack_3_clean'], db['net_attack_4_clean'], db['net_norm_clean']]\n",
    "#df = pd.concat(df, axis=0, ignore_index=True)"
   ]
  },
  {
   "cell_type": "code",
   "execution_count": 5,
   "metadata": {},
   "outputs": [],
   "source": [
    "df = df_net_1.copy()"
   ]
  },
  {
   "cell_type": "code",
   "execution_count": 6,
   "metadata": {},
   "outputs": [
    {
     "data": {
      "text/html": [
       "<div>\n",
       "<style scoped>\n",
       "    .dataframe tbody tr th:only-of-type {\n",
       "        vertical-align: middle;\n",
       "    }\n",
       "\n",
       "    .dataframe tbody tr th {\n",
       "        vertical-align: top;\n",
       "    }\n",
       "\n",
       "    .dataframe thead th {\n",
       "        text-align: right;\n",
       "    }\n",
       "</style>\n",
       "<table border=\"1\" class=\"dataframe\">\n",
       "  <thead>\n",
       "    <tr style=\"text-align: right;\">\n",
       "      <th></th>\n",
       "      <th>Time</th>\n",
       "      <th>mac_s</th>\n",
       "      <th>mac_d</th>\n",
       "      <th>ip_s</th>\n",
       "      <th>ip_d</th>\n",
       "      <th>sport</th>\n",
       "      <th>dport</th>\n",
       "      <th>proto</th>\n",
       "      <th>flags</th>\n",
       "      <th>size</th>\n",
       "      <th>modbus_fn</th>\n",
       "      <th>n_pkt_src</th>\n",
       "      <th>n_pkt_dst</th>\n",
       "      <th>modbus_response</th>\n",
       "      <th>label_n</th>\n",
       "      <th>label</th>\n",
       "    </tr>\n",
       "  </thead>\n",
       "  <tbody>\n",
       "    <tr>\n",
       "      <th>0</th>\n",
       "      <td>2021-04-09 18:23:28.385003</td>\n",
       "      <td>74:46:a0:bd:a7:1b</td>\n",
       "      <td>0a:fe:ec:47:74:fb</td>\n",
       "      <td>84.3.251.20</td>\n",
       "      <td>84.3.251.102</td>\n",
       "      <td>dynamic/private_ports</td>\n",
       "      <td>system_ports</td>\n",
       "      <td>Modbus</td>\n",
       "      <td>11000</td>\n",
       "      <td>66</td>\n",
       "      <td>Read Coils Request</td>\n",
       "      <td>0</td>\n",
       "      <td>0</td>\n",
       "      <td>inconnue</td>\n",
       "      <td>False</td>\n",
       "      <td>normal</td>\n",
       "    </tr>\n",
       "    <tr>\n",
       "      <th>1</th>\n",
       "      <td>2021-04-09 18:23:28.385005</td>\n",
       "      <td>74:46:a0:bd:a7:1b</td>\n",
       "      <td>e6:3f:ac:c9:a8:8c</td>\n",
       "      <td>84.3.251.20</td>\n",
       "      <td>84.3.251.101</td>\n",
       "      <td>dynamic/private_ports</td>\n",
       "      <td>system_ports</td>\n",
       "      <td>Modbus</td>\n",
       "      <td>11000</td>\n",
       "      <td>66</td>\n",
       "      <td>Read Coils Request</td>\n",
       "      <td>1</td>\n",
       "      <td>0</td>\n",
       "      <td>inconnue</td>\n",
       "      <td>False</td>\n",
       "      <td>normal</td>\n",
       "    </tr>\n",
       "    <tr>\n",
       "      <th>2</th>\n",
       "      <td>2021-04-09 18:23:28.385006</td>\n",
       "      <td>74:46:a0:bd:a7:1b</td>\n",
       "      <td>fa:00:bc:90:d7:fa</td>\n",
       "      <td>84.3.251.20</td>\n",
       "      <td>84.3.251.103</td>\n",
       "      <td>dynamic/private_ports</td>\n",
       "      <td>system_ports</td>\n",
       "      <td>Modbus</td>\n",
       "      <td>11000</td>\n",
       "      <td>66</td>\n",
       "      <td>Read Coils Request</td>\n",
       "      <td>2</td>\n",
       "      <td>0</td>\n",
       "      <td>inconnue</td>\n",
       "      <td>False</td>\n",
       "      <td>normal</td>\n",
       "    </tr>\n",
       "    <tr>\n",
       "      <th>3</th>\n",
       "      <td>2021-04-09 18:23:28.385484</td>\n",
       "      <td>0a:fe:ec:47:74:fb</td>\n",
       "      <td>74:46:a0:bd:a7:1b</td>\n",
       "      <td>84.3.251.102</td>\n",
       "      <td>84.3.251.20</td>\n",
       "      <td>system_ports</td>\n",
       "      <td>dynamic/private_ports</td>\n",
       "      <td>Modbus</td>\n",
       "      <td>11000</td>\n",
       "      <td>64</td>\n",
       "      <td>Read Coils Response</td>\n",
       "      <td>0</td>\n",
       "      <td>0</td>\n",
       "      <td>[0]</td>\n",
       "      <td>False</td>\n",
       "      <td>normal</td>\n",
       "    </tr>\n",
       "    <tr>\n",
       "      <th>4</th>\n",
       "      <td>2021-04-09 18:23:28.385486</td>\n",
       "      <td>fa:00:bc:90:d7:fa</td>\n",
       "      <td>74:46:a0:bd:a7:1b</td>\n",
       "      <td>84.3.251.103</td>\n",
       "      <td>84.3.251.20</td>\n",
       "      <td>system_ports</td>\n",
       "      <td>dynamic/private_ports</td>\n",
       "      <td>Modbus</td>\n",
       "      <td>11000</td>\n",
       "      <td>64</td>\n",
       "      <td>Read Coils Response</td>\n",
       "      <td>0</td>\n",
       "      <td>1</td>\n",
       "      <td>[0]</td>\n",
       "      <td>False</td>\n",
       "      <td>normal</td>\n",
       "    </tr>\n",
       "  </tbody>\n",
       "</table>\n",
       "</div>"
      ],
      "text/plain": [
       "                        Time              mac_s              mac_d  \\\n",
       "0 2021-04-09 18:23:28.385003  74:46:a0:bd:a7:1b  0a:fe:ec:47:74:fb   \n",
       "1 2021-04-09 18:23:28.385005  74:46:a0:bd:a7:1b  e6:3f:ac:c9:a8:8c   \n",
       "2 2021-04-09 18:23:28.385006  74:46:a0:bd:a7:1b  fa:00:bc:90:d7:fa   \n",
       "3 2021-04-09 18:23:28.385484  0a:fe:ec:47:74:fb  74:46:a0:bd:a7:1b   \n",
       "4 2021-04-09 18:23:28.385486  fa:00:bc:90:d7:fa  74:46:a0:bd:a7:1b   \n",
       "\n",
       "           ip_s          ip_d                  sport                  dport  \\\n",
       "0   84.3.251.20  84.3.251.102  dynamic/private_ports           system_ports   \n",
       "1   84.3.251.20  84.3.251.101  dynamic/private_ports           system_ports   \n",
       "2   84.3.251.20  84.3.251.103  dynamic/private_ports           system_ports   \n",
       "3  84.3.251.102   84.3.251.20           system_ports  dynamic/private_ports   \n",
       "4  84.3.251.103   84.3.251.20           system_ports  dynamic/private_ports   \n",
       "\n",
       "    proto  flags  size            modbus_fn  n_pkt_src  n_pkt_dst  \\\n",
       "0  Modbus  11000    66   Read Coils Request          0          0   \n",
       "1  Modbus  11000    66   Read Coils Request          1          0   \n",
       "2  Modbus  11000    66   Read Coils Request          2          0   \n",
       "3  Modbus  11000    64  Read Coils Response          0          0   \n",
       "4  Modbus  11000    64  Read Coils Response          0          1   \n",
       "\n",
       "  modbus_response  label_n   label  \n",
       "0        inconnue    False  normal  \n",
       "1        inconnue    False  normal  \n",
       "2        inconnue    False  normal  \n",
       "3             [0]    False  normal  \n",
       "4             [0]    False  normal  "
      ]
     },
     "execution_count": 6,
     "metadata": {},
     "output_type": "execute_result"
    }
   ],
   "source": [
    "df.head()"
   ]
  },
  {
   "cell_type": "code",
   "execution_count": 7,
   "metadata": {},
   "outputs": [
    {
     "name": "stdout",
     "output_type": "stream",
     "text": [
      "label           label_n\n",
      "normal          False      3687410\n",
      "MITM            True       1214098\n",
      "physical fault  True        625691\n",
      "anomaly         True           210\n",
      "Name: count, dtype: int64\n"
     ]
    }
   ],
   "source": [
    "print(f\"{df[['label', 'label_n']].value_counts()}\")"
   ]
  },
  {
   "cell_type": "markdown",
   "metadata": {},
   "source": [
    "## Préparation des données"
   ]
  },
  {
   "cell_type": "markdown",
   "metadata": {},
   "source": [
    "Avant de réaliser la PCA, nous préparons les données afin qu'elles soient traitées correctement lors de la réduction de dimensions."
   ]
  },
  {
   "cell_type": "markdown",
   "metadata": {},
   "source": [
    "La colonne Time, au format datetime, n'étant pas directement interprétable par la PCA, nous la supprimons.\n",
    "\n",
    "Nous avions initialement généré des colonnes dérivées de Time telles que le jour, le mois, l'année, l'heure, la minute, la seconde, la microseconde et le delta de temps. Cependant, cette approche n'a pas donné de résultats pertinents : la PCA révélait principalement un alignement des points en fonction de la dimension temporelle, ce qui ne contribuait pas à l'analyse globale."
   ]
  },
  {
   "cell_type": "code",
   "execution_count": 8,
   "metadata": {},
   "outputs": [],
   "source": [
    "df = df.drop(columns=['Time'])"
   ]
  },
  {
   "cell_type": "markdown",
   "metadata": {},
   "source": [
    "Nous normalisons les colonnes au format numérique afin qu'elles contribuent équitablement à la PCA et évitent qu'une variable domine les résultats."
   ]
  },
  {
   "cell_type": "code",
   "execution_count": 9,
   "metadata": {},
   "outputs": [],
   "source": [
    "scaler = StandardScaler()\n",
    "df[['n_pkt_src', 'n_pkt_dst', 'size']] = scaler.fit_transform(df[['n_pkt_src', 'n_pkt_dst', 'size']])"
   ]
  },
  {
   "cell_type": "markdown",
   "metadata": {},
   "source": [
    "Nous supprimons les colonnes label et label_n pour éviter qu'elles influencent la PCA, car ce sont les variables cibles et non pas des caractéristiques.  \n",
    "Mais nous les conservons pour pouvoir les rajouter plus tard dans l'analyse et la visualisation."
   ]
  },
  {
   "cell_type": "code",
   "execution_count": 10,
   "metadata": {},
   "outputs": [],
   "source": [
    "labels = df[['label', 'label_n']]\n",
    "df = df.drop(columns=['label', 'label_n'])"
   ]
  },
  {
   "cell_type": "markdown",
   "metadata": {},
   "source": [
    "Pour les colonnes catégorielles avec peu de valeurs différentes, nous avons réalisé un One-Hot afin de transformer leurs catégories en variables binaires.  \n",
    "Cela permet à la PCA de traiter correctement ces colonnes non numériques, en concervant les valeurs des catégories."
   ]
  },
  {
   "cell_type": "code",
   "execution_count": 11,
   "metadata": {},
   "outputs": [],
   "source": [
    "df = pd.get_dummies(df, columns=['flags', 'dport', 'sport', 'proto', 'modbus_fn'], prefix=['flags', 'dport', 'sport', 'proto', 'modbus_fn'])"
   ]
  },
  {
   "cell_type": "markdown",
   "metadata": {},
   "source": [
    "Pour la colonne modbus_response, compte tenu du grand nombre de valeurs distinctes, nous avons adopté une approche différente. Nous avons conservé les catégories représentant au moins 0,1 % des données, en regroupant les catégories moins fréquentes sous une nouvelle catégorie intitulée \"autres\".  Enfin, nous avons appliqué un One-Hot au résultat pour représenter ces catégories de manière explicite, comme pour les autres colonnes catégoriques."
   ]
  },
  {
   "cell_type": "code",
   "execution_count": 12,
   "metadata": {},
   "outputs": [],
   "source": [
    "threshold = 0.001 * len(df)\n",
    "value_counts = df['modbus_response'].value_counts()\n",
    "frequent_categories = value_counts[value_counts > threshold].index\n",
    "df['modbus_response'] = np.where(df['modbus_response'].isin(frequent_categories), df['modbus_response'], 'autre')\n",
    "df = pd.get_dummies(df, columns=['modbus_response'], prefix=['modbus_response'])"
   ]
  },
  {
   "cell_type": "markdown",
   "metadata": {},
   "source": [
    "Pour les colonnes de type object, nous avons appliqué un encodage ordinal pour convertir les catégories en valeurs numériques, afin qu'elles soient exploitables dans la PCA.\n",
    "Puis nous les standardisons pour qu'elles aient le même poids que les autres colonnes numériques."
   ]
  },
  {
   "cell_type": "code",
   "execution_count": 13,
   "metadata": {},
   "outputs": [],
   "source": [
    "ordinal_encoder = OrdinalEncoder()\n",
    "df[['ip_s', 'ip_d', 'mac_s', 'mac_d']] = ordinal_encoder.fit_transform(df[['ip_s', 'ip_d', 'mac_s', 'mac_d']])\n",
    "scaler = StandardScaler()\n",
    "df[['ip_s', 'ip_d', 'mac_s', 'mac_d']] = scaler.fit_transform(df[['ip_s', 'ip_d', 'mac_s', 'mac_d']])"
   ]
  },
  {
   "cell_type": "markdown",
   "metadata": {},
   "source": [
    "Nous supprimons les colonnes créée à cause des valeurs manquantes, car elles n'ont pas d'utilitées."
   ]
  },
  {
   "cell_type": "code",
   "execution_count": 14,
   "metadata": {},
   "outputs": [],
   "source": [
    "df.drop(columns=['modbus_fn_inconnue', 'flags_inconnue', 'sport_inconnu', 'dport_inconnu', 'modbus_response_inconnue'], inplace=True)"
   ]
  },
  {
   "cell_type": "markdown",
   "metadata": {},
   "source": [
    "Nous transformons les valeurs booléennes en float afin qu'elles soient traitées correctement dans la PCA."
   ]
  },
  {
   "cell_type": "code",
   "execution_count": 15,
   "metadata": {},
   "outputs": [],
   "source": [
    "for col in df.columns:\n",
    "    if df[col].dtype == 'bool':\n",
    "        df[col] = df[col].astype(float)"
   ]
  },
  {
   "cell_type": "markdown",
   "metadata": {},
   "source": [
    "### Vérification"
   ]
  },
  {
   "cell_type": "code",
   "execution_count": 16,
   "metadata": {},
   "outputs": [
    {
     "name": "stdout",
     "output_type": "stream",
     "text": [
      "<class 'pandas.core.frame.DataFrame'>\n",
      "RangeIndex: 5527409 entries, 0 to 5527408\n",
      "Data columns (total 38 columns):\n",
      " #   Column                                     Dtype  \n",
      "---  ------                                     -----  \n",
      " 0   mac_s                                      float64\n",
      " 1   mac_d                                      float64\n",
      " 2   ip_s                                       float64\n",
      " 3   ip_d                                       float64\n",
      " 4   size                                       float64\n",
      " 5   n_pkt_src                                  float64\n",
      " 6   n_pkt_dst                                  float64\n",
      " 7   flags_10                                   float64\n",
      " 8   flags_100                                  float64\n",
      " 9   flags_10000                                float64\n",
      " 10  flags_10001                                float64\n",
      " 11  flags_10010                                float64\n",
      " 12  flags_10100                                float64\n",
      " 13  flags_11000                                float64\n",
      " 14  dport_dynamic/private_ports                float64\n",
      " 15  dport_system_ports                         float64\n",
      " 16  dport_user_ports                           float64\n",
      " 17  sport_dynamic/private_ports                float64\n",
      " 18  sport_system_ports                         float64\n",
      " 19  sport_user_ports                           float64\n",
      " 20  proto_ARP                                  float64\n",
      " 21  proto_ICMP                                 float64\n",
      " 22  proto_Modbus                               float64\n",
      " 23  proto_TCP                                  float64\n",
      " 24  modbus_fn_Read Coils Request               float64\n",
      " 25  modbus_fn_Read Coils Response              float64\n",
      " 26  modbus_fn_Read Holding Registers           float64\n",
      " 27  modbus_fn_Read Holding Registers Response  float64\n",
      " 28  modbus_response_[0]                        float64\n",
      " 29  modbus_response_[1]                        float64\n",
      " 30  modbus_response_[4000]                     float64\n",
      " 31  modbus_response_[402]                      float64\n",
      " 32  modbus_response_[450]                      float64\n",
      " 33  modbus_response_[458]                      float64\n",
      " 34  modbus_response_[6]                        float64\n",
      " 35  modbus_response_[7]                        float64\n",
      " 36  modbus_response_[8]                        float64\n",
      " 37  modbus_response_autre                      float64\n",
      "dtypes: float64(38)\n",
      "memory usage: 1.6 GB\n"
     ]
    }
   ],
   "source": [
    "df.info()"
   ]
  },
  {
   "cell_type": "markdown",
   "metadata": {},
   "source": [
    "Notre dataset ne contient plus que des colonnes numériques exploitables par la PCA."
   ]
  },
  {
   "cell_type": "code",
   "execution_count": 17,
   "metadata": {},
   "outputs": [
    {
     "data": {
      "text/html": [
       "<div>\n",
       "<style scoped>\n",
       "    .dataframe tbody tr th:only-of-type {\n",
       "        vertical-align: middle;\n",
       "    }\n",
       "\n",
       "    .dataframe tbody tr th {\n",
       "        vertical-align: top;\n",
       "    }\n",
       "\n",
       "    .dataframe thead th {\n",
       "        text-align: right;\n",
       "    }\n",
       "</style>\n",
       "<table border=\"1\" class=\"dataframe\">\n",
       "  <thead>\n",
       "    <tr style=\"text-align: right;\">\n",
       "      <th></th>\n",
       "      <th>mac_s</th>\n",
       "      <th>mac_d</th>\n",
       "      <th>ip_s</th>\n",
       "      <th>ip_d</th>\n",
       "      <th>size</th>\n",
       "      <th>n_pkt_src</th>\n",
       "      <th>n_pkt_dst</th>\n",
       "      <th>flags_10</th>\n",
       "      <th>flags_100</th>\n",
       "      <th>flags_10000</th>\n",
       "      <th>...</th>\n",
       "      <th>modbus_response_[0]</th>\n",
       "      <th>modbus_response_[1]</th>\n",
       "      <th>modbus_response_[4000]</th>\n",
       "      <th>modbus_response_[402]</th>\n",
       "      <th>modbus_response_[450]</th>\n",
       "      <th>modbus_response_[458]</th>\n",
       "      <th>modbus_response_[6]</th>\n",
       "      <th>modbus_response_[7]</th>\n",
       "      <th>modbus_response_[8]</th>\n",
       "      <th>modbus_response_autre</th>\n",
       "    </tr>\n",
       "  </thead>\n",
       "  <tbody>\n",
       "    <tr>\n",
       "      <th>0</th>\n",
       "      <td>0.001623</td>\n",
       "      <td>-1.460944</td>\n",
       "      <td>0.940911</td>\n",
       "      <td>-1.045296</td>\n",
       "      <td>0.479886</td>\n",
       "      <td>-1.747853</td>\n",
       "      <td>-1.753095</td>\n",
       "      <td>0.0</td>\n",
       "      <td>0.0</td>\n",
       "      <td>0.0</td>\n",
       "      <td>...</td>\n",
       "      <td>0.0</td>\n",
       "      <td>0.0</td>\n",
       "      <td>0.0</td>\n",
       "      <td>0.0</td>\n",
       "      <td>0.0</td>\n",
       "      <td>0.0</td>\n",
       "      <td>0.0</td>\n",
       "      <td>0.0</td>\n",
       "      <td>0.0</td>\n",
       "      <td>0.0</td>\n",
       "    </tr>\n",
       "    <tr>\n",
       "      <th>1</th>\n",
       "      <td>0.001623</td>\n",
       "      <td>0.735648</td>\n",
       "      <td>0.940911</td>\n",
       "      <td>-1.442673</td>\n",
       "      <td>0.479886</td>\n",
       "      <td>-1.690930</td>\n",
       "      <td>-1.753095</td>\n",
       "      <td>0.0</td>\n",
       "      <td>0.0</td>\n",
       "      <td>0.0</td>\n",
       "      <td>...</td>\n",
       "      <td>0.0</td>\n",
       "      <td>0.0</td>\n",
       "      <td>0.0</td>\n",
       "      <td>0.0</td>\n",
       "      <td>0.0</td>\n",
       "      <td>0.0</td>\n",
       "      <td>0.0</td>\n",
       "      <td>0.0</td>\n",
       "      <td>0.0</td>\n",
       "      <td>0.0</td>\n",
       "    </tr>\n",
       "    <tr>\n",
       "      <th>2</th>\n",
       "      <td>0.001623</td>\n",
       "      <td>1.467846</td>\n",
       "      <td>0.940911</td>\n",
       "      <td>-0.647920</td>\n",
       "      <td>0.479886</td>\n",
       "      <td>-1.634007</td>\n",
       "      <td>-1.753095</td>\n",
       "      <td>0.0</td>\n",
       "      <td>0.0</td>\n",
       "      <td>0.0</td>\n",
       "      <td>...</td>\n",
       "      <td>0.0</td>\n",
       "      <td>0.0</td>\n",
       "      <td>0.0</td>\n",
       "      <td>0.0</td>\n",
       "      <td>0.0</td>\n",
       "      <td>0.0</td>\n",
       "      <td>0.0</td>\n",
       "      <td>0.0</td>\n",
       "      <td>0.0</td>\n",
       "      <td>0.0</td>\n",
       "    </tr>\n",
       "    <tr>\n",
       "      <th>3</th>\n",
       "      <td>-1.461573</td>\n",
       "      <td>0.003451</td>\n",
       "      <td>-1.048052</td>\n",
       "      <td>0.941587</td>\n",
       "      <td>-0.947952</td>\n",
       "      <td>-1.747853</td>\n",
       "      <td>-1.753095</td>\n",
       "      <td>0.0</td>\n",
       "      <td>0.0</td>\n",
       "      <td>0.0</td>\n",
       "      <td>...</td>\n",
       "      <td>1.0</td>\n",
       "      <td>0.0</td>\n",
       "      <td>0.0</td>\n",
       "      <td>0.0</td>\n",
       "      <td>0.0</td>\n",
       "      <td>0.0</td>\n",
       "      <td>0.0</td>\n",
       "      <td>0.0</td>\n",
       "      <td>0.0</td>\n",
       "      <td>0.0</td>\n",
       "    </tr>\n",
       "    <tr>\n",
       "      <th>4</th>\n",
       "      <td>1.464820</td>\n",
       "      <td>0.003451</td>\n",
       "      <td>-0.650260</td>\n",
       "      <td>0.941587</td>\n",
       "      <td>-0.947952</td>\n",
       "      <td>-1.747853</td>\n",
       "      <td>-1.696069</td>\n",
       "      <td>0.0</td>\n",
       "      <td>0.0</td>\n",
       "      <td>0.0</td>\n",
       "      <td>...</td>\n",
       "      <td>1.0</td>\n",
       "      <td>0.0</td>\n",
       "      <td>0.0</td>\n",
       "      <td>0.0</td>\n",
       "      <td>0.0</td>\n",
       "      <td>0.0</td>\n",
       "      <td>0.0</td>\n",
       "      <td>0.0</td>\n",
       "      <td>0.0</td>\n",
       "      <td>0.0</td>\n",
       "    </tr>\n",
       "  </tbody>\n",
       "</table>\n",
       "<p>5 rows × 38 columns</p>\n",
       "</div>"
      ],
      "text/plain": [
       "      mac_s     mac_d      ip_s      ip_d      size  n_pkt_src  n_pkt_dst  \\\n",
       "0  0.001623 -1.460944  0.940911 -1.045296  0.479886  -1.747853  -1.753095   \n",
       "1  0.001623  0.735648  0.940911 -1.442673  0.479886  -1.690930  -1.753095   \n",
       "2  0.001623  1.467846  0.940911 -0.647920  0.479886  -1.634007  -1.753095   \n",
       "3 -1.461573  0.003451 -1.048052  0.941587 -0.947952  -1.747853  -1.753095   \n",
       "4  1.464820  0.003451 -0.650260  0.941587 -0.947952  -1.747853  -1.696069   \n",
       "\n",
       "   flags_10  flags_100  flags_10000  ...  modbus_response_[0]  \\\n",
       "0       0.0        0.0          0.0  ...                  0.0   \n",
       "1       0.0        0.0          0.0  ...                  0.0   \n",
       "2       0.0        0.0          0.0  ...                  0.0   \n",
       "3       0.0        0.0          0.0  ...                  1.0   \n",
       "4       0.0        0.0          0.0  ...                  1.0   \n",
       "\n",
       "   modbus_response_[1]  modbus_response_[4000]  modbus_response_[402]  \\\n",
       "0                  0.0                     0.0                    0.0   \n",
       "1                  0.0                     0.0                    0.0   \n",
       "2                  0.0                     0.0                    0.0   \n",
       "3                  0.0                     0.0                    0.0   \n",
       "4                  0.0                     0.0                    0.0   \n",
       "\n",
       "   modbus_response_[450]  modbus_response_[458]  modbus_response_[6]  \\\n",
       "0                    0.0                    0.0                  0.0   \n",
       "1                    0.0                    0.0                  0.0   \n",
       "2                    0.0                    0.0                  0.0   \n",
       "3                    0.0                    0.0                  0.0   \n",
       "4                    0.0                    0.0                  0.0   \n",
       "\n",
       "   modbus_response_[7]  modbus_response_[8]  modbus_response_autre  \n",
       "0                  0.0                  0.0                    0.0  \n",
       "1                  0.0                  0.0                    0.0  \n",
       "2                  0.0                  0.0                    0.0  \n",
       "3                  0.0                  0.0                    0.0  \n",
       "4                  0.0                  0.0                    0.0  \n",
       "\n",
       "[5 rows x 38 columns]"
      ]
     },
     "execution_count": 17,
     "metadata": {},
     "output_type": "execute_result"
    }
   ],
   "source": [
    "df.head()"
   ]
  },
  {
   "cell_type": "markdown",
   "metadata": {},
   "source": [
    "## Réduction de dimensions : PCA"
   ]
  },
  {
   "cell_type": "markdown",
   "metadata": {},
   "source": [
    "### Variance expliquée par les dimensions"
   ]
  },
  {
   "cell_type": "code",
   "execution_count": 18,
   "metadata": {},
   "outputs": [],
   "source": [
    "pca = pca = PCA()\n",
    "df_pca = pca.fit(df)"
   ]
  },
  {
   "cell_type": "code",
   "execution_count": 19,
   "metadata": {},
   "outputs": [
    {
     "name": "stdout",
     "output_type": "stream",
     "text": [
      "   Composante  Pourcentage de Variance Expliquée  Total\n",
      "0         PC1                              56.05  56.05\n",
      "1         PC2                              11.54  67.59\n",
      "2         PC3                              10.99  78.58\n",
      "3         PC4                               7.85  86.43\n",
      "4         PC5                               2.86  89.29\n",
      "5         PC6                               2.65  91.94\n",
      "6         PC7                               2.08  94.02\n",
      "7         PC8                               1.61  95.63\n",
      "8         PC9                               1.44  97.07\n",
      "9        PC10                               1.14  98.21\n",
      "10       PC11                               0.55  98.76\n",
      "11       PC12                               0.29  99.05\n",
      "12       PC13                               0.27  99.32\n",
      "13       PC14                               0.13  99.45\n",
      "14       PC15                               0.10  99.55\n",
      "15       PC16                               0.08  99.63\n",
      "16       PC17                               0.07  99.70\n",
      "17       PC18                               0.07  99.77\n",
      "18       PC19                               0.04  99.81\n",
      "19       PC20                               0.04  99.85\n",
      "20       PC21                               0.03  99.88\n",
      "21       PC22                               0.02  99.90\n",
      "22       PC23                               0.02  99.92\n",
      "23       PC24                               0.02  99.94\n",
      "24       PC25                               0.01  99.95\n",
      "25       PC26                               0.01  99.96\n",
      "26       PC27                               0.01  99.97\n",
      "27       PC28                               0.01  99.98\n",
      "28       PC29                               0.01  99.99\n",
      "29       PC30                               0.00  99.99\n",
      "30       PC31                               0.00  99.99\n",
      "31       PC32                               0.00  99.99\n",
      "32       PC33                               0.00  99.99\n",
      "33       PC34                               0.00  99.99\n",
      "34       PC35                               0.00  99.99\n",
      "35       PC36                               0.00  99.99\n",
      "36       PC37                               0.00  99.99\n",
      "37       PC38                               0.00  99.99\n"
     ]
    }
   ],
   "source": [
    "variance_expliquee = (pca.explained_variance_ratio_ * 100).round(2)\n",
    "#variance_expliquee = variance_expliquee.round(2)\n",
    "\n",
    "variance_table = pd.DataFrame({\n",
    "    \"Composante\": [f\"PC{i+1}\" for i in range(len(variance_expliquee))],\n",
    "    \"Pourcentage de Variance Expliquée\": variance_expliquee,\n",
    "    \"Total\": variance_expliquee.cumsum()\n",
    "})\n",
    "\n",
    "print(variance_table)"
   ]
  },
  {
   "cell_type": "markdown",
   "metadata": {},
   "source": [
    "Le nombre de dimensions minimum permettant de conserver au moins 90% de l'information :\n",
    "- df_1 : 6 dimensions (PC6  2.65  91.94)\n",
    "- df_2 : 6 dimensions (PC6  2.26  91.29)\n",
    "- df_3 : 4 dimensions (PC4  2.33  91.95)\n",
    "- df_4 : 6 dimensions (PC6  2.62  90.53)\n",
    "- df_norm : pas d'interêt\n",
    "- all : 6 dimensions (PC6  2.22  91.00)"
   ]
  },
  {
   "cell_type": "markdown",
   "metadata": {},
   "source": [
    "### Features importants par dimensions"
   ]
  },
  {
   "cell_type": "code",
   "execution_count": 20,
   "metadata": {},
   "outputs": [
    {
     "name": "stdout",
     "output_type": "stream",
     "text": [
      "Contribution des features à chaque composante principale :\n",
      "             mac_s         mac_d          ip_s          ip_d          size  \\\n",
      "PC1  -4.671698e-03  1.033797e-02  4.010133e-01 -4.064534e-01  2.614470e-01   \n",
      "PC2   8.335122e-01 -4.306689e-01 -1.614497e-01  8.679834e-02  2.570750e-01   \n",
      "PC3  -4.314539e-01 -8.840982e-01  6.072194e-02  9.433511e-02 -6.639473e-02   \n",
      "PC4  -3.007578e-01  6.294315e-02 -1.792930e-01  5.385822e-02  8.699479e-01   \n",
      "PC5   7.467552e-02  8.112215e-03 -4.317576e-02 -4.016487e-02  2.219858e-01   \n",
      "PC6  -3.207942e-03 -9.091591e-02 -6.865469e-02 -2.076485e-01 -3.322683e-02   \n",
      "PC7  -2.070759e-03 -1.707023e-02 -3.754034e-01 -5.166513e-01 -1.873663e-01   \n",
      "PC8   1.082397e-01 -2.405917e-03  6.620565e-01  8.196783e-02  5.291666e-02   \n",
      "PC9  -5.110893e-02  1.367760e-01 -2.033022e-01  6.684413e-01 -7.505377e-02   \n",
      "PC10  8.989446e-02  3.226161e-02  3.404812e-01  1.292274e-01 -7.050561e-02   \n",
      "PC11  8.416197e-03 -3.310829e-03 -4.236534e-02 -3.076846e-03 -9.251214e-03   \n",
      "PC12 -1.284366e-02  1.205011e-02 -4.831273e-02  9.264897e-02 -1.084168e-02   \n",
      "PC13  9.100888e-03 -5.860704e-03  2.622224e-02 -1.453245e-02  9.920506e-03   \n",
      "PC14  1.177585e-02  1.528590e-02 -1.496927e-01 -1.332697e-01 -3.421728e-02   \n",
      "PC15 -5.774147e-03  3.723981e-03  6.412377e-02 -6.338969e-02 -2.074563e-03   \n",
      "PC16  3.100340e-03 -1.017608e-03 -2.388914e-02  3.709349e-02 -9.499664e-03   \n",
      "PC17  8.624098e-03  6.910610e-04 -3.753577e-03  3.452961e-04 -2.009287e-02   \n",
      "PC18  5.912190e-03 -1.565177e-03  1.624738e-02 -1.718834e-03  2.235362e-02   \n",
      "PC19  9.173541e-04  5.930210e-04 -2.849970e-02  1.459363e-02 -3.541085e-02   \n",
      "PC20  1.367205e-03  2.052226e-03  1.559507e-02 -2.520306e-02 -2.800985e-02   \n",
      "PC21 -2.149534e-03 -3.457370e-04  1.012132e-03  2.824717e-03 -1.976726e-03   \n",
      "PC22 -1.670699e-04  2.000650e-04  4.804063e-03 -3.768638e-03  2.987221e-04   \n",
      "PC23 -1.286427e-03  1.009271e-03  2.345350e-02 -2.014338e-02  1.855489e-03   \n",
      "PC24 -8.992528e-04  5.372910e-04  4.245708e-03 -9.080858e-03  7.043900e-04   \n",
      "PC25  2.212783e-03 -9.297152e-05 -2.968143e-04  9.626812e-04  2.322274e-03   \n",
      "PC26  6.071624e-04  1.559548e-04  4.313224e-03 -3.695468e-03 -3.452893e-03   \n",
      "PC27 -1.810166e-03  6.082243e-04  1.788651e-02 -1.514814e-02 -1.339423e-02   \n",
      "PC28 -8.406222e-05 -4.983168e-05  1.485458e-04  3.552419e-04 -1.874315e-03   \n",
      "PC29  4.816254e-05 -5.357526e-04 -5.662827e-03  4.382961e-04 -2.704007e-02   \n",
      "PC30  1.636953e-04 -1.928933e-04 -1.513592e-03 -2.096391e-03 -1.887044e-04   \n",
      "PC31 -2.758743e-07  1.270962e-06  1.751957e-04  1.612690e-04  5.067193e-05   \n",
      "PC32  2.159099e-14 -8.079641e-15  3.049203e-14  1.982469e-14  3.748415e-13   \n",
      "PC33 -2.667024e-14  7.467712e-16 -1.996983e-14 -3.700287e-15  2.883289e-14   \n",
      "PC34 -2.711686e-15  1.743249e-15  3.204091e-14  4.886152e-15 -3.293713e-14   \n",
      "PC35 -2.267334e-16 -3.177574e-15  9.794922e-14 -7.595119e-14  1.750523e-14   \n",
      "PC36 -5.799726e-15 -4.074725e-15  6.881013e-14  8.692076e-14 -2.446145e-14   \n",
      "PC37 -7.348481e-16 -1.370297e-15 -2.094205e-16 -6.249862e-15 -3.529417e-14   \n",
      "PC38  9.032795e-16 -1.109947e-15  6.136737e-15 -1.810685e-15 -1.710996e-15   \n",
      "\n",
      "         n_pkt_src     n_pkt_dst  flags_10  flags_100  flags_10000  ...  \\\n",
      "PC1   4.175040e-01 -4.228772e-01  0.001657  -0.000126    -0.000341  ...   \n",
      "PC2   3.457046e-02 -3.648232e-02  0.011712  -0.002923     0.001689  ...   \n",
      "PC3  -2.494546e-02 -8.503523e-02  0.001998   0.000578     0.006603  ...   \n",
      "PC4  -1.835177e-01  2.105471e-02  0.037117  -0.003144    -0.008964  ...   \n",
      "PC5  -1.315011e-01 -7.004533e-02  0.034383  -0.002183     0.006862  ...   \n",
      "PC6  -4.131291e-02  7.732490e-02  0.000803   0.001573     0.011120  ...   \n",
      "PC7  -3.100712e-01 -2.345292e-01  0.027028   0.014438     0.126055  ...   \n",
      "PC8  -4.764198e-01  5.244645e-02  0.018294   0.004787     0.011232  ...   \n",
      "PC9   7.187623e-02 -5.350635e-01  0.013121   0.000739     0.061828  ...   \n",
      "PC10 -2.718137e-01 -2.390088e-01  0.009660   0.008792     0.066314  ...   \n",
      "PC11  6.191338e-02  5.833901e-02 -0.003952   0.001027     0.011919  ...   \n",
      "PC12 -2.086225e-01  3.692909e-01  0.120294  -0.024730     0.159532  ...   \n",
      "PC13  5.841104e-02 -5.734262e-02 -0.037666   0.008599    -0.067802  ...   \n",
      "PC14 -5.184210e-01 -4.416717e-01 -0.065262  -0.015952    -0.094523  ...   \n",
      "PC15  1.774205e-01 -1.915125e-01  0.008739  -0.009312     0.073774  ...   \n",
      "PC16 -6.172889e-02  1.057811e-01 -0.096430   0.007081    -0.093308  ...   \n",
      "PC17 -4.105351e-02 -2.835103e-03  0.114077   0.021234    -0.506046  ...   \n",
      "PC18  2.677751e-03  8.237378e-04 -0.218935  -0.021345     0.589821  ...   \n",
      "PC19 -5.868393e-02  4.249455e-02  0.181450   0.025240    -0.268504  ...   \n",
      "PC20  5.761362e-02 -8.131003e-02  0.699885   0.095797    -0.088602  ...   \n",
      "PC21  5.497506e-03  3.816683e-03  0.189654   0.087108     0.015013  ...   \n",
      "PC22  9.051427e-03 -1.014432e-02  0.004105  -0.046181     0.017124  ...   \n",
      "PC23  4.069675e-02 -5.264970e-02  0.163986  -0.329076     0.171136  ...   \n",
      "PC24  6.928319e-03 -2.238762e-02  0.126190  -0.183782     0.108370  ...   \n",
      "PC25 -1.179465e-02  4.424358e-03  0.096354  -0.078675     0.079688  ...   \n",
      "PC26  1.184382e-02 -1.085573e-02 -0.061832   0.027684    -0.059680  ...   \n",
      "PC27  5.910986e-02 -4.407710e-02 -0.201635   0.059630    -0.205716  ...   \n",
      "PC28  3.037643e-03  1.222944e-03 -0.002750  -0.704435    -0.017187  ...   \n",
      "PC29 -1.231931e-02  1.429491e-02  0.329027  -0.426190     0.047429  ...   \n",
      "PC30 -1.510099e-03 -8.419104e-04 -0.087600  -0.116081    -0.088128  ...   \n",
      "PC31  3.175661e-04  2.994234e-04 -0.042472  -0.042649    -0.042159  ...   \n",
      "PC32  3.436003e-13  1.584946e-13 -0.013597  -0.013597    -0.013597  ...   \n",
      "PC33  1.415521e-13  5.651245e-14 -0.011954  -0.011954    -0.011954  ...   \n",
      "PC34  1.159400e-13  1.829292e-14 -0.061779  -0.061779    -0.061779  ...   \n",
      "PC35  2.452431e-13 -2.036363e-13  0.068261   0.068261     0.068261  ...   \n",
      "PC36  2.340033e-13  2.747400e-13  0.345559   0.345559     0.345559  ...   \n",
      "PC37  2.914535e-14 -5.342324e-15 -0.064687  -0.064687    -0.064687  ...   \n",
      "PC38  1.686831e-14 -4.357141e-15 -0.002691  -0.002691    -0.002691  ...   \n",
      "\n",
      "      modbus_response_[0]  modbus_response_[1]  modbus_response_[4000]  \\\n",
      "PC1             -0.137033            -0.021170               -0.009596   \n",
      "PC2             -0.053979            -0.007507                0.002966   \n",
      "PC3              0.015528             0.000933               -0.001593   \n",
      "PC4             -0.033739            -0.031038                0.015829   \n",
      "PC5              0.363136             0.057996               -0.062645   \n",
      "PC6             -0.021093            -0.006325                0.002146   \n",
      "PC7             -0.205409             0.003469               -0.003193   \n",
      "PC8             -0.398845             0.248428                0.021807   \n",
      "PC9             -0.250290             0.069386                0.003252   \n",
      "PC10             0.534755            -0.335005               -0.001961   \n",
      "PC11            -0.164000             0.509640                0.307080   \n",
      "PC12            -0.082861            -0.183376                0.224588   \n",
      "PC13            -0.193443            -0.511850                0.755836   \n",
      "PC14             0.026848             0.064850                0.085613   \n",
      "PC15             0.061212             0.058364                0.085330   \n",
      "PC16            -0.014162            -0.013832               -0.014280   \n",
      "PC17            -0.204365            -0.241843               -0.254724   \n",
      "PC18            -0.152184            -0.186300               -0.185363   \n",
      "PC19            -0.039660            -0.034542               -0.046070   \n",
      "PC20             0.081451             0.082076                0.093302   \n",
      "PC21            -0.214473            -0.228106               -0.231842   \n",
      "PC22             0.040427             0.040628                0.042751   \n",
      "PC23             0.029085             0.022513                0.031968   \n",
      "PC24            -0.059678            -0.063488               -0.060702   \n",
      "PC25            -0.055605            -0.057682               -0.057630   \n",
      "PC26             0.008677             0.007499                0.009060   \n",
      "PC27             0.001990            -0.002635                0.002817   \n",
      "PC28            -0.000331            -0.000256               -0.000421   \n",
      "PC29            -0.023398            -0.021892               -0.024760   \n",
      "PC30            -0.012826            -0.012493               -0.012859   \n",
      "PC31            -0.005937            -0.005974               -0.005962   \n",
      "PC32            -0.132050            -0.132050               -0.132050   \n",
      "PC33             0.268958             0.268958                0.268958   \n",
      "PC34             0.000894             0.000894                0.000894   \n",
      "PC35             0.000337             0.000337                0.000337   \n",
      "PC36            -0.000826            -0.000826               -0.000826   \n",
      "PC37            -0.004236            -0.004236               -0.004236   \n",
      "PC38            -0.000166            -0.000166               -0.000166   \n",
      "\n",
      "      modbus_response_[402]  modbus_response_[450]  modbus_response_[458]  \\\n",
      "PC1               -0.000525              -0.000439              -0.002113   \n",
      "PC2                0.001148              -0.000771              -0.004408   \n",
      "PC3               -0.000626               0.000415               0.002359   \n",
      "PC4                0.000346               0.001366               0.007114   \n",
      "PC5               -0.002790              -0.002810              -0.013949   \n",
      "PC6                0.000079               0.000156               0.000766   \n",
      "PC7               -0.000267               0.000302               0.001498   \n",
      "PC8                0.002232              -0.001073              -0.006127   \n",
      "PC9               -0.000474               0.000904               0.004903   \n",
      "PC10               0.001187              -0.001900              -0.010477   \n",
      "PC11               0.009492               0.007547               0.039521   \n",
      "PC12               0.000804               0.001685               0.009725   \n",
      "PC13               0.002555               0.001056               0.005863   \n",
      "PC14              -0.003982              -0.001949              -0.015997   \n",
      "PC15              -0.009736              -0.007428              -0.072381   \n",
      "PC16               0.002949               0.002351               0.034716   \n",
      "PC17               0.046908               0.032816               0.590456   \n",
      "PC18               0.036212               0.025302               0.513502   \n",
      "PC19               0.019655               0.014820              -0.144766   \n",
      "PC20              -0.047870              -0.037240               0.250238   \n",
      "PC21               0.192564               0.136823              -0.433553   \n",
      "PC22              -0.106568              -0.058790               0.060827   \n",
      "PC23              -0.177035              -0.070920               0.042745   \n",
      "PC24               0.752826               0.184763              -0.080520   \n",
      "PC25              -0.502933               0.617281              -0.066963   \n",
      "PC26               0.041206               0.676306               0.012701   \n",
      "PC27               0.019040               0.062028               0.003622   \n",
      "PC28              -0.000950              -0.002540              -0.000354   \n",
      "PC29              -0.044525              -0.053118              -0.024788   \n",
      "PC30              -0.015345              -0.016068              -0.013397   \n",
      "PC31              -0.006016              -0.005984              -0.005934   \n",
      "PC32              -0.132050              -0.132050              -0.132050   \n",
      "PC33               0.268958               0.268958               0.268958   \n",
      "PC34               0.000894               0.000894               0.000894   \n",
      "PC35               0.000337               0.000337               0.000337   \n",
      "PC36              -0.000826              -0.000826              -0.000826   \n",
      "PC37              -0.004236              -0.004236              -0.004236   \n",
      "PC38              -0.000166              -0.000166              -0.000166   \n",
      "\n",
      "      modbus_response_[6]  modbus_response_[7]  modbus_response_[8]  \\\n",
      "PC1             -0.000835            -0.000737            -0.000437   \n",
      "PC2              0.001243             0.001049             0.000244   \n",
      "PC3             -0.000646            -0.000542            -0.000127   \n",
      "PC4              0.001049             0.000961             0.000752   \n",
      "PC5             -0.004091            -0.003629            -0.002378   \n",
      "PC6              0.000394             0.000343             0.000154   \n",
      "PC7              0.001477             0.001270             0.000384   \n",
      "PC8             -0.001116            -0.000876             0.000157   \n",
      "PC9              0.000896             0.000768             0.000316   \n",
      "PC10            -0.001706            -0.001445            -0.000525   \n",
      "PC11             0.014546             0.012771             0.007473   \n",
      "PC12             0.003729             0.003262             0.001830   \n",
      "PC13             0.002379             0.002085             0.001288   \n",
      "PC14             0.008828             0.007786             0.002066   \n",
      "PC15            -0.024207            -0.020702            -0.009955   \n",
      "PC16             0.009292             0.008008             0.003687   \n",
      "PC17             0.076505             0.064628             0.034383   \n",
      "PC18             0.055467             0.046915             0.025625   \n",
      "PC19             0.051556             0.040633             0.016952   \n",
      "PC20            -0.107756            -0.083584            -0.036781   \n",
      "PC21             0.492013             0.341317             0.128603   \n",
      "PC22             0.727922            -0.651255            -0.056125   \n",
      "PC23             0.214105             0.454828            -0.075726   \n",
      "PC24            -0.209586            -0.331597             0.158577   \n",
      "PC25            -0.145207            -0.181837             0.476588   \n",
      "PC26             0.023740             0.028262            -0.694962   \n",
      "PC27             0.029076             0.033768             0.376577   \n",
      "PC28            -0.000267            -0.000253            -0.001103   \n",
      "PC29            -0.038994            -0.041272            -0.061170   \n",
      "PC30            -0.015243            -0.015470            -0.016538   \n",
      "PC31            -0.005908            -0.005913            -0.005969   \n",
      "PC32            -0.132050            -0.132050            -0.132050   \n",
      "PC33             0.268958             0.268958             0.268958   \n",
      "PC34             0.000894             0.000894             0.000894   \n",
      "PC35             0.000337             0.000337             0.000337   \n",
      "PC36            -0.000826            -0.000826            -0.000826   \n",
      "PC37            -0.004236            -0.004236            -0.004236   \n",
      "PC38            -0.000166            -0.000166            -0.000166   \n",
      "\n",
      "      modbus_response_autre  \n",
      "PC1               -0.042654  \n",
      "PC2                0.058848  \n",
      "PC3               -0.031668  \n",
      "PC4                0.062455  \n",
      "PC5               -0.356612  \n",
      "PC6                0.023236  \n",
      "PC7                0.063780  \n",
      "PC8                0.157700  \n",
      "PC9                0.044155  \n",
      "PC10              -0.257330  \n",
      "PC11              -0.734116  \n",
      "PC12              -0.043712  \n",
      "PC13              -0.046817  \n",
      "PC14              -0.016546  \n",
      "PC15               0.079212  \n",
      "PC16              -0.023191  \n",
      "PC17              -0.201118  \n",
      "PC18              -0.144949  \n",
      "PC19              -0.045676  \n",
      "PC20               0.085251  \n",
      "PC21              -0.209437  \n",
      "PC22               0.041186  \n",
      "PC23               0.035031  \n",
      "PC24              -0.057123  \n",
      "PC25              -0.057003  \n",
      "PC26               0.009469  \n",
      "PC27               0.008197  \n",
      "PC28              -0.000152  \n",
      "PC29              -0.024661  \n",
      "PC30              -0.013181  \n",
      "PC31              -0.005914  \n",
      "PC32              -0.132050  \n",
      "PC33               0.268958  \n",
      "PC34               0.000894  \n",
      "PC35               0.000337  \n",
      "PC36              -0.000826  \n",
      "PC37              -0.004236  \n",
      "PC38              -0.000166  \n",
      "\n",
      "[38 rows x 38 columns]\n"
     ]
    }
   ],
   "source": [
    "# Poids features par dimension\n",
    "pca_components = pd.DataFrame(pca.components_, columns=df.columns, index=[f'PC{i+1}' for i in range(len(pca.explained_variance_ratio_))])\n",
    "\n",
    "print(\"Contribution des features à chaque composante principale :\")\n",
    "print(pca_components)"
   ]
  },
  {
   "cell_type": "code",
   "execution_count": 21,
   "metadata": {},
   "outputs": [
    {
     "name": "stdout",
     "output_type": "stream",
     "text": [
      "PC1 : n_pkt_dst, n_pkt_src, ip_d, ip_s, size\n",
      "PC2 : mac_s, mac_d, size, ip_s, ip_d\n",
      "PC3 : mac_d, mac_s, ip_d, n_pkt_dst, size\n"
     ]
    }
   ],
   "source": [
    "# Affichage des features les plus importants pour chaque composante\n",
    "pca_components = pd.DataFrame(pca.components_, columns=df.columns, index=[f'PC{i+1}' for i in range(len(pca.components_))])\n",
    "\n",
    "top_features = {}\n",
    "for pc in ['PC1', 'PC2', 'PC3']:\n",
    "    top_features[pc] = pca_components.loc[pc].abs().nlargest(5).index.tolist()\n",
    "\n",
    "for pc, features in top_features.items():\n",
    "    print(f\"{pc} : {', '.join(features)}\")"
   ]
  },
  {
   "cell_type": "markdown",
   "metadata": {},
   "source": [
    "### Visualisation des résultats"
   ]
  },
  {
   "cell_type": "markdown",
   "metadata": {},
   "source": [
    "#### 2 premières dimensions de la PCA"
   ]
  },
  {
   "cell_type": "code",
   "execution_count": 22,
   "metadata": {},
   "outputs": [
    {
     "ename": "KeyboardInterrupt",
     "evalue": "",
     "output_type": "error",
     "traceback": [
      "\u001b[1;31m---------------------------------------------------------------------------\u001b[0m",
      "\u001b[1;31mKeyboardInterrupt\u001b[0m                         Traceback (most recent call last)",
      "Cell \u001b[1;32mIn[22], line 2\u001b[0m\n\u001b[0;32m      1\u001b[0m pca \u001b[38;5;241m=\u001b[39m PCA(n_components\u001b[38;5;241m=\u001b[39m\u001b[38;5;241m2\u001b[39m)\n\u001b[1;32m----> 2\u001b[0m df_pca_2d \u001b[38;5;241m=\u001b[39m \u001b[43mpca\u001b[49m\u001b[38;5;241;43m.\u001b[39;49m\u001b[43mfit_transform\u001b[49m\u001b[43m(\u001b[49m\u001b[43mdf\u001b[49m\u001b[43m)\u001b[49m\n\u001b[0;32m      4\u001b[0m df_pca_with_labels \u001b[38;5;241m=\u001b[39m pd\u001b[38;5;241m.\u001b[39mDataFrame(df_pca_2d, columns\u001b[38;5;241m=\u001b[39m[\u001b[38;5;124m\"\u001b[39m\u001b[38;5;124mPC1\u001b[39m\u001b[38;5;124m\"\u001b[39m, \u001b[38;5;124m\"\u001b[39m\u001b[38;5;124mPC2\u001b[39m\u001b[38;5;124m\"\u001b[39m])\n\u001b[0;32m      5\u001b[0m df_pca_with_labels[\u001b[38;5;124m\"\u001b[39m\u001b[38;5;124mlabel\u001b[39m\u001b[38;5;124m\"\u001b[39m] \u001b[38;5;241m=\u001b[39m labels[\u001b[38;5;124m\"\u001b[39m\u001b[38;5;124mlabel\u001b[39m\u001b[38;5;124m\"\u001b[39m] \u001b[38;5;66;03m# ajout des labels\u001b[39;00m\n",
      "File \u001b[1;32mc:\\Users\\charl\\AppData\\Local\\Programs\\Python\\Python312\\Lib\\site-packages\\sklearn\\utils\\_set_output.py:295\u001b[0m, in \u001b[0;36m_wrap_method_output.<locals>.wrapped\u001b[1;34m(self, X, *args, **kwargs)\u001b[0m\n\u001b[0;32m    293\u001b[0m \u001b[38;5;129m@wraps\u001b[39m(f)\n\u001b[0;32m    294\u001b[0m \u001b[38;5;28;01mdef\u001b[39;00m \u001b[38;5;21mwrapped\u001b[39m(\u001b[38;5;28mself\u001b[39m, X, \u001b[38;5;241m*\u001b[39margs, \u001b[38;5;241m*\u001b[39m\u001b[38;5;241m*\u001b[39mkwargs):\n\u001b[1;32m--> 295\u001b[0m     data_to_wrap \u001b[38;5;241m=\u001b[39m \u001b[43mf\u001b[49m\u001b[43m(\u001b[49m\u001b[38;5;28;43mself\u001b[39;49m\u001b[43m,\u001b[49m\u001b[43m \u001b[49m\u001b[43mX\u001b[49m\u001b[43m,\u001b[49m\u001b[43m \u001b[49m\u001b[38;5;241;43m*\u001b[39;49m\u001b[43margs\u001b[49m\u001b[43m,\u001b[49m\u001b[43m \u001b[49m\u001b[38;5;241;43m*\u001b[39;49m\u001b[38;5;241;43m*\u001b[39;49m\u001b[43mkwargs\u001b[49m\u001b[43m)\u001b[49m\n\u001b[0;32m    296\u001b[0m     \u001b[38;5;28;01mif\u001b[39;00m \u001b[38;5;28misinstance\u001b[39m(data_to_wrap, \u001b[38;5;28mtuple\u001b[39m):\n\u001b[0;32m    297\u001b[0m         \u001b[38;5;66;03m# only wrap the first output for cross decomposition\u001b[39;00m\n\u001b[0;32m    298\u001b[0m         return_tuple \u001b[38;5;241m=\u001b[39m (\n\u001b[0;32m    299\u001b[0m             _wrap_data_with_container(method, data_to_wrap[\u001b[38;5;241m0\u001b[39m], X, \u001b[38;5;28mself\u001b[39m),\n\u001b[0;32m    300\u001b[0m             \u001b[38;5;241m*\u001b[39mdata_to_wrap[\u001b[38;5;241m1\u001b[39m:],\n\u001b[0;32m    301\u001b[0m         )\n",
      "File \u001b[1;32mc:\\Users\\charl\\AppData\\Local\\Programs\\Python\\Python312\\Lib\\site-packages\\sklearn\\base.py:1474\u001b[0m, in \u001b[0;36m_fit_context.<locals>.decorator.<locals>.wrapper\u001b[1;34m(estimator, *args, **kwargs)\u001b[0m\n\u001b[0;32m   1467\u001b[0m     estimator\u001b[38;5;241m.\u001b[39m_validate_params()\n\u001b[0;32m   1469\u001b[0m \u001b[38;5;28;01mwith\u001b[39;00m config_context(\n\u001b[0;32m   1470\u001b[0m     skip_parameter_validation\u001b[38;5;241m=\u001b[39m(\n\u001b[0;32m   1471\u001b[0m         prefer_skip_nested_validation \u001b[38;5;129;01mor\u001b[39;00m global_skip_validation\n\u001b[0;32m   1472\u001b[0m     )\n\u001b[0;32m   1473\u001b[0m ):\n\u001b[1;32m-> 1474\u001b[0m     \u001b[38;5;28;01mreturn\u001b[39;00m \u001b[43mfit_method\u001b[49m\u001b[43m(\u001b[49m\u001b[43mestimator\u001b[49m\u001b[43m,\u001b[49m\u001b[43m \u001b[49m\u001b[38;5;241;43m*\u001b[39;49m\u001b[43margs\u001b[49m\u001b[43m,\u001b[49m\u001b[43m \u001b[49m\u001b[38;5;241;43m*\u001b[39;49m\u001b[38;5;241;43m*\u001b[39;49m\u001b[43mkwargs\u001b[49m\u001b[43m)\u001b[49m\n",
      "File \u001b[1;32mc:\\Users\\charl\\AppData\\Local\\Programs\\Python\\Python312\\Lib\\site-packages\\sklearn\\decomposition\\_pca.py:454\u001b[0m, in \u001b[0;36mPCA.fit_transform\u001b[1;34m(self, X, y)\u001b[0m\n\u001b[0;32m    431\u001b[0m \u001b[38;5;129m@_fit_context\u001b[39m(prefer_skip_nested_validation\u001b[38;5;241m=\u001b[39m\u001b[38;5;28;01mTrue\u001b[39;00m)\n\u001b[0;32m    432\u001b[0m \u001b[38;5;28;01mdef\u001b[39;00m \u001b[38;5;21mfit_transform\u001b[39m(\u001b[38;5;28mself\u001b[39m, X, y\u001b[38;5;241m=\u001b[39m\u001b[38;5;28;01mNone\u001b[39;00m):\n\u001b[0;32m    433\u001b[0m \u001b[38;5;250m    \u001b[39m\u001b[38;5;124;03m\"\"\"Fit the model with X and apply the dimensionality reduction on X.\u001b[39;00m\n\u001b[0;32m    434\u001b[0m \n\u001b[0;32m    435\u001b[0m \u001b[38;5;124;03m    Parameters\u001b[39;00m\n\u001b[1;32m   (...)\u001b[0m\n\u001b[0;32m    452\u001b[0m \u001b[38;5;124;03m    C-ordered array, use 'np.ascontiguousarray'.\u001b[39;00m\n\u001b[0;32m    453\u001b[0m \u001b[38;5;124;03m    \"\"\"\u001b[39;00m\n\u001b[1;32m--> 454\u001b[0m     U, S, Vt \u001b[38;5;241m=\u001b[39m \u001b[38;5;28;43mself\u001b[39;49m\u001b[38;5;241;43m.\u001b[39;49m\u001b[43m_fit\u001b[49m\u001b[43m(\u001b[49m\u001b[43mX\u001b[49m\u001b[43m)\u001b[49m\n\u001b[0;32m    455\u001b[0m     U \u001b[38;5;241m=\u001b[39m U[:, : \u001b[38;5;28mself\u001b[39m\u001b[38;5;241m.\u001b[39mn_components_]\n\u001b[0;32m    457\u001b[0m     \u001b[38;5;28;01mif\u001b[39;00m \u001b[38;5;28mself\u001b[39m\u001b[38;5;241m.\u001b[39mwhiten:\n\u001b[0;32m    458\u001b[0m         \u001b[38;5;66;03m# X_new = X * V / S * sqrt(n_samples) = U * sqrt(n_samples)\u001b[39;00m\n",
      "File \u001b[1;32mc:\\Users\\charl\\AppData\\Local\\Programs\\Python\\Python312\\Lib\\site-packages\\sklearn\\decomposition\\_pca.py:516\u001b[0m, in \u001b[0;36mPCA._fit\u001b[1;34m(self, X)\u001b[0m\n\u001b[0;32m    514\u001b[0m     \u001b[38;5;28;01mreturn\u001b[39;00m \u001b[38;5;28mself\u001b[39m\u001b[38;5;241m.\u001b[39m_fit_full(X, n_components)\n\u001b[0;32m    515\u001b[0m \u001b[38;5;28;01melif\u001b[39;00m \u001b[38;5;28mself\u001b[39m\u001b[38;5;241m.\u001b[39m_fit_svd_solver \u001b[38;5;129;01min\u001b[39;00m [\u001b[38;5;124m\"\u001b[39m\u001b[38;5;124marpack\u001b[39m\u001b[38;5;124m\"\u001b[39m, \u001b[38;5;124m\"\u001b[39m\u001b[38;5;124mrandomized\u001b[39m\u001b[38;5;124m\"\u001b[39m]:\n\u001b[1;32m--> 516\u001b[0m     \u001b[38;5;28;01mreturn\u001b[39;00m \u001b[38;5;28;43mself\u001b[39;49m\u001b[38;5;241;43m.\u001b[39;49m\u001b[43m_fit_truncated\u001b[49m\u001b[43m(\u001b[49m\u001b[43mX\u001b[49m\u001b[43m,\u001b[49m\u001b[43m \u001b[49m\u001b[43mn_components\u001b[49m\u001b[43m,\u001b[49m\u001b[43m \u001b[49m\u001b[38;5;28;43mself\u001b[39;49m\u001b[38;5;241;43m.\u001b[39;49m\u001b[43m_fit_svd_solver\u001b[49m\u001b[43m)\u001b[49m\n",
      "File \u001b[1;32mc:\\Users\\charl\\AppData\\Local\\Programs\\Python\\Python312\\Lib\\site-packages\\sklearn\\decomposition\\_pca.py:656\u001b[0m, in \u001b[0;36mPCA._fit_truncated\u001b[1;34m(self, X, n_components, svd_solver)\u001b[0m\n\u001b[0;32m    652\u001b[0m     U, Vt \u001b[38;5;241m=\u001b[39m svd_flip(U[:, ::\u001b[38;5;241m-\u001b[39m\u001b[38;5;241m1\u001b[39m], Vt[::\u001b[38;5;241m-\u001b[39m\u001b[38;5;241m1\u001b[39m])\n\u001b[0;32m    654\u001b[0m \u001b[38;5;28;01melif\u001b[39;00m svd_solver \u001b[38;5;241m==\u001b[39m \u001b[38;5;124m\"\u001b[39m\u001b[38;5;124mrandomized\u001b[39m\u001b[38;5;124m\"\u001b[39m:\n\u001b[0;32m    655\u001b[0m     \u001b[38;5;66;03m# sign flipping is done inside\u001b[39;00m\n\u001b[1;32m--> 656\u001b[0m     U, S, Vt \u001b[38;5;241m=\u001b[39m \u001b[43mrandomized_svd\u001b[49m\u001b[43m(\u001b[49m\n\u001b[0;32m    657\u001b[0m \u001b[43m        \u001b[49m\u001b[43mX\u001b[49m\u001b[43m,\u001b[49m\n\u001b[0;32m    658\u001b[0m \u001b[43m        \u001b[49m\u001b[43mn_components\u001b[49m\u001b[38;5;241;43m=\u001b[39;49m\u001b[43mn_components\u001b[49m\u001b[43m,\u001b[49m\n\u001b[0;32m    659\u001b[0m \u001b[43m        \u001b[49m\u001b[43mn_oversamples\u001b[49m\u001b[38;5;241;43m=\u001b[39;49m\u001b[38;5;28;43mself\u001b[39;49m\u001b[38;5;241;43m.\u001b[39;49m\u001b[43mn_oversamples\u001b[49m\u001b[43m,\u001b[49m\n\u001b[0;32m    660\u001b[0m \u001b[43m        \u001b[49m\u001b[43mn_iter\u001b[49m\u001b[38;5;241;43m=\u001b[39;49m\u001b[38;5;28;43mself\u001b[39;49m\u001b[38;5;241;43m.\u001b[39;49m\u001b[43miterated_power\u001b[49m\u001b[43m,\u001b[49m\n\u001b[0;32m    661\u001b[0m \u001b[43m        \u001b[49m\u001b[43mpower_iteration_normalizer\u001b[49m\u001b[38;5;241;43m=\u001b[39;49m\u001b[38;5;28;43mself\u001b[39;49m\u001b[38;5;241;43m.\u001b[39;49m\u001b[43mpower_iteration_normalizer\u001b[49m\u001b[43m,\u001b[49m\n\u001b[0;32m    662\u001b[0m \u001b[43m        \u001b[49m\u001b[43mflip_sign\u001b[49m\u001b[38;5;241;43m=\u001b[39;49m\u001b[38;5;28;43;01mTrue\u001b[39;49;00m\u001b[43m,\u001b[49m\n\u001b[0;32m    663\u001b[0m \u001b[43m        \u001b[49m\u001b[43mrandom_state\u001b[49m\u001b[38;5;241;43m=\u001b[39;49m\u001b[43mrandom_state\u001b[49m\u001b[43m,\u001b[49m\n\u001b[0;32m    664\u001b[0m \u001b[43m    \u001b[49m\u001b[43m)\u001b[49m\n\u001b[0;32m    666\u001b[0m \u001b[38;5;28mself\u001b[39m\u001b[38;5;241m.\u001b[39mn_samples_ \u001b[38;5;241m=\u001b[39m n_samples\n\u001b[0;32m    667\u001b[0m \u001b[38;5;28mself\u001b[39m\u001b[38;5;241m.\u001b[39mcomponents_ \u001b[38;5;241m=\u001b[39m Vt\n",
      "File \u001b[1;32mc:\\Users\\charl\\AppData\\Local\\Programs\\Python\\Python312\\Lib\\site-packages\\sklearn\\utils\\_param_validation.py:186\u001b[0m, in \u001b[0;36mvalidate_params.<locals>.decorator.<locals>.wrapper\u001b[1;34m(*args, **kwargs)\u001b[0m\n\u001b[0;32m    184\u001b[0m global_skip_validation \u001b[38;5;241m=\u001b[39m get_config()[\u001b[38;5;124m\"\u001b[39m\u001b[38;5;124mskip_parameter_validation\u001b[39m\u001b[38;5;124m\"\u001b[39m]\n\u001b[0;32m    185\u001b[0m \u001b[38;5;28;01mif\u001b[39;00m global_skip_validation:\n\u001b[1;32m--> 186\u001b[0m     \u001b[38;5;28;01mreturn\u001b[39;00m \u001b[43mfunc\u001b[49m\u001b[43m(\u001b[49m\u001b[38;5;241;43m*\u001b[39;49m\u001b[43margs\u001b[49m\u001b[43m,\u001b[49m\u001b[43m \u001b[49m\u001b[38;5;241;43m*\u001b[39;49m\u001b[38;5;241;43m*\u001b[39;49m\u001b[43mkwargs\u001b[49m\u001b[43m)\u001b[49m\n\u001b[0;32m    188\u001b[0m func_sig \u001b[38;5;241m=\u001b[39m signature(func)\n\u001b[0;32m    190\u001b[0m \u001b[38;5;66;03m# Map *args/**kwargs to the function signature\u001b[39;00m\n",
      "File \u001b[1;32mc:\\Users\\charl\\AppData\\Local\\Programs\\Python\\Python312\\Lib\\site-packages\\sklearn\\utils\\extmath.py:523\u001b[0m, in \u001b[0;36mrandomized_svd\u001b[1;34m(M, n_components, n_oversamples, n_iter, power_iteration_normalizer, transpose, flip_sign, random_state, svd_lapack_driver)\u001b[0m\n\u001b[0;32m    519\u001b[0m \u001b[38;5;28;01mif\u001b[39;00m transpose:\n\u001b[0;32m    520\u001b[0m     \u001b[38;5;66;03m# this implementation is a bit faster with smaller shape[1]\u001b[39;00m\n\u001b[0;32m    521\u001b[0m     M \u001b[38;5;241m=\u001b[39m M\u001b[38;5;241m.\u001b[39mT\n\u001b[1;32m--> 523\u001b[0m Q \u001b[38;5;241m=\u001b[39m \u001b[43mrandomized_range_finder\u001b[49m\u001b[43m(\u001b[49m\n\u001b[0;32m    524\u001b[0m \u001b[43m    \u001b[49m\u001b[43mM\u001b[49m\u001b[43m,\u001b[49m\n\u001b[0;32m    525\u001b[0m \u001b[43m    \u001b[49m\u001b[43msize\u001b[49m\u001b[38;5;241;43m=\u001b[39;49m\u001b[43mn_random\u001b[49m\u001b[43m,\u001b[49m\n\u001b[0;32m    526\u001b[0m \u001b[43m    \u001b[49m\u001b[43mn_iter\u001b[49m\u001b[38;5;241;43m=\u001b[39;49m\u001b[43mn_iter\u001b[49m\u001b[43m,\u001b[49m\n\u001b[0;32m    527\u001b[0m \u001b[43m    \u001b[49m\u001b[43mpower_iteration_normalizer\u001b[49m\u001b[38;5;241;43m=\u001b[39;49m\u001b[43mpower_iteration_normalizer\u001b[49m\u001b[43m,\u001b[49m\n\u001b[0;32m    528\u001b[0m \u001b[43m    \u001b[49m\u001b[43mrandom_state\u001b[49m\u001b[38;5;241;43m=\u001b[39;49m\u001b[43mrandom_state\u001b[49m\u001b[43m,\u001b[49m\n\u001b[0;32m    529\u001b[0m \u001b[43m\u001b[49m\u001b[43m)\u001b[49m\n\u001b[0;32m    531\u001b[0m \u001b[38;5;66;03m# project M to the (k + p) dimensional space using the basis vectors\u001b[39;00m\n\u001b[0;32m    532\u001b[0m B \u001b[38;5;241m=\u001b[39m Q\u001b[38;5;241m.\u001b[39mT \u001b[38;5;241m@\u001b[39m M\n",
      "File \u001b[1;32mc:\\Users\\charl\\AppData\\Local\\Programs\\Python\\Python312\\Lib\\site-packages\\sklearn\\utils\\extmath.py:345\u001b[0m, in \u001b[0;36mrandomized_range_finder\u001b[1;34m(A, size, n_iter, power_iteration_normalizer, random_state)\u001b[0m\n\u001b[0;32m    341\u001b[0m     Q, _ \u001b[38;5;241m=\u001b[39m normalizer(A\u001b[38;5;241m.\u001b[39mT \u001b[38;5;241m@\u001b[39m Q)\n\u001b[0;32m    343\u001b[0m \u001b[38;5;66;03m# Sample the range of A using by linear projection of Q\u001b[39;00m\n\u001b[0;32m    344\u001b[0m \u001b[38;5;66;03m# Extract an orthonormal basis\u001b[39;00m\n\u001b[1;32m--> 345\u001b[0m Q, _ \u001b[38;5;241m=\u001b[39m \u001b[43mqr_normalizer\u001b[49m\u001b[43m(\u001b[49m\u001b[43mA\u001b[49m\u001b[43m \u001b[49m\u001b[38;5;241;43m@\u001b[39;49m\u001b[43m \u001b[49m\u001b[43mQ\u001b[49m\u001b[43m)\u001b[49m\n\u001b[0;32m    347\u001b[0m \u001b[38;5;28;01mreturn\u001b[39;00m Q\n",
      "File \u001b[1;32mc:\\Users\\charl\\AppData\\Local\\Programs\\Python\\Python312\\Lib\\site-packages\\scipy\\linalg\\_decomp_qr.py:170\u001b[0m, in \u001b[0;36mqr\u001b[1;34m(a, overwrite_a, lwork, mode, pivoting, check_finite)\u001b[0m\n\u001b[0;32m    168\u001b[0m \u001b[38;5;28;01melse\u001b[39;00m:\n\u001b[0;32m    169\u001b[0m     geqrf, \u001b[38;5;241m=\u001b[39m get_lapack_funcs((\u001b[38;5;124m'\u001b[39m\u001b[38;5;124mgeqrf\u001b[39m\u001b[38;5;124m'\u001b[39m,), (a1,))\n\u001b[1;32m--> 170\u001b[0m     qr, tau \u001b[38;5;241m=\u001b[39m \u001b[43msafecall\u001b[49m\u001b[43m(\u001b[49m\u001b[43mgeqrf\u001b[49m\u001b[43m,\u001b[49m\u001b[43m \u001b[49m\u001b[38;5;124;43m\"\u001b[39;49m\u001b[38;5;124;43mgeqrf\u001b[39;49m\u001b[38;5;124;43m\"\u001b[39;49m\u001b[43m,\u001b[49m\u001b[43m \u001b[49m\u001b[43ma1\u001b[49m\u001b[43m,\u001b[49m\u001b[43m \u001b[49m\u001b[43mlwork\u001b[49m\u001b[38;5;241;43m=\u001b[39;49m\u001b[43mlwork\u001b[49m\u001b[43m,\u001b[49m\n\u001b[0;32m    171\u001b[0m \u001b[43m                       \u001b[49m\u001b[43moverwrite_a\u001b[49m\u001b[38;5;241;43m=\u001b[39;49m\u001b[43moverwrite_a\u001b[49m\u001b[43m)\u001b[49m\n\u001b[0;32m    173\u001b[0m \u001b[38;5;28;01mif\u001b[39;00m mode \u001b[38;5;129;01mnot\u001b[39;00m \u001b[38;5;129;01min\u001b[39;00m [\u001b[38;5;124m'\u001b[39m\u001b[38;5;124meconomic\u001b[39m\u001b[38;5;124m'\u001b[39m, \u001b[38;5;124m'\u001b[39m\u001b[38;5;124mraw\u001b[39m\u001b[38;5;124m'\u001b[39m] \u001b[38;5;129;01mor\u001b[39;00m M \u001b[38;5;241m<\u001b[39m N:\n\u001b[0;32m    174\u001b[0m     R \u001b[38;5;241m=\u001b[39m np\u001b[38;5;241m.\u001b[39mtriu(qr)\n",
      "File \u001b[1;32mc:\\Users\\charl\\AppData\\Local\\Programs\\Python\\Python312\\Lib\\site-packages\\scipy\\linalg\\_decomp_qr.py:19\u001b[0m, in \u001b[0;36msafecall\u001b[1;34m(f, name, *args, **kwargs)\u001b[0m\n\u001b[0;32m     17\u001b[0m     ret \u001b[38;5;241m=\u001b[39m f(\u001b[38;5;241m*\u001b[39margs, \u001b[38;5;241m*\u001b[39m\u001b[38;5;241m*\u001b[39mkwargs)\n\u001b[0;32m     18\u001b[0m     kwargs[\u001b[38;5;124m'\u001b[39m\u001b[38;5;124mlwork\u001b[39m\u001b[38;5;124m'\u001b[39m] \u001b[38;5;241m=\u001b[39m ret[\u001b[38;5;241m-\u001b[39m\u001b[38;5;241m2\u001b[39m][\u001b[38;5;241m0\u001b[39m]\u001b[38;5;241m.\u001b[39mreal\u001b[38;5;241m.\u001b[39mastype(np\u001b[38;5;241m.\u001b[39mint_)\n\u001b[1;32m---> 19\u001b[0m ret \u001b[38;5;241m=\u001b[39m \u001b[43mf\u001b[49m\u001b[43m(\u001b[49m\u001b[38;5;241;43m*\u001b[39;49m\u001b[43margs\u001b[49m\u001b[43m,\u001b[49m\u001b[43m \u001b[49m\u001b[38;5;241;43m*\u001b[39;49m\u001b[38;5;241;43m*\u001b[39;49m\u001b[43mkwargs\u001b[49m\u001b[43m)\u001b[49m\n\u001b[0;32m     20\u001b[0m \u001b[38;5;28;01mif\u001b[39;00m ret[\u001b[38;5;241m-\u001b[39m\u001b[38;5;241m1\u001b[39m] \u001b[38;5;241m<\u001b[39m \u001b[38;5;241m0\u001b[39m:\n\u001b[0;32m     21\u001b[0m     \u001b[38;5;28;01mraise\u001b[39;00m \u001b[38;5;167;01mValueError\u001b[39;00m(\u001b[38;5;124m\"\u001b[39m\u001b[38;5;124millegal value in \u001b[39m\u001b[38;5;132;01m%d\u001b[39;00m\u001b[38;5;124mth argument of internal \u001b[39m\u001b[38;5;132;01m%s\u001b[39;00m\u001b[38;5;124m\"\u001b[39m\n\u001b[0;32m     22\u001b[0m                      \u001b[38;5;241m%\u001b[39m (\u001b[38;5;241m-\u001b[39mret[\u001b[38;5;241m-\u001b[39m\u001b[38;5;241m1\u001b[39m], name))\n",
      "\u001b[1;31mKeyboardInterrupt\u001b[0m: "
     ]
    }
   ],
   "source": [
    "pca = PCA(n_components=2)\n",
    "df_pca_2d = pca.fit_transform(df)\n",
    "\n",
    "df_pca_with_labels = pd.DataFrame(df_pca_2d, columns=[\"PC1\", \"PC2\"])\n",
    "df_pca_with_labels[\"label\"] = labels[\"label\"] # ajout des labels\n",
    "\n",
    "plt.figure(figsize=(10, 8))\n",
    "for label in df_pca_with_labels[\"label\"].unique():\n",
    "    subset = df_pca_with_labels[df_pca_with_labels[\"label\"] == label]\n",
    "    plt.scatter(subset[\"PC1\"], subset[\"PC2\"], label=label, alpha=0.7, s=10)\n",
    "plt.xlabel(\"PC1 (%.2f%% Variance Expliquée)\" % (pca.explained_variance_ratio_[0] * 100))\n",
    "plt.ylabel(\"PC2 (%.2f%% Variance Expliquée)\" % (pca.explained_variance_ratio_[1] * 100))\n",
    "plt.title(\"Projection PCA avec Labels\")\n",
    "plt.legend(title=\"Labels\", loc=\"best\")\n",
    "plt.grid(True)\n",
    "plt.show()"
   ]
  },
  {
   "cell_type": "markdown",
   "metadata": {},
   "source": [
    "#### 3 premières dimensions de la PCA"
   ]
  },
  {
   "cell_type": "code",
   "execution_count": null,
   "metadata": {},
   "outputs": [
    {
     "data": {
      "image/png": "[encoded data removed]",
      "text/plain": [
       "<Figure size 1000x800 with 1 Axes>"
      ]
     },
     "metadata": {},
     "output_type": "display_data"
    }
   ],
   "source": [
    "pca = PCA(n_components=3)\n",
    "df_pca_3d = pca.fit_transform(df)\n",
    "\n",
    "df_pca_with_labels = pd.DataFrame(df_pca_3d, columns=[\"PC1\", \"PC2\", \"PC3\"])\n",
    "df_pca_with_labels[\"label\"] = labels[\"label\"]\n",
    "\n",
    "fig = plt.figure(figsize=(10, 8))\n",
    "ax = fig.add_subplot(111, projection='3d')\n",
    "\n",
    "for label in df_pca_with_labels[\"label\"].unique():\n",
    "    subset = df_pca_with_labels[df_pca_with_labels[\"label\"] == label]\n",
    "    ax.scatter(subset[\"PC1\"], subset[\"PC2\"], subset[\"PC3\"], label=label, alpha=0.7, s=10)\n",
    "\n",
    "ax.set_xlabel(\"PC1 (%.2f%% Variance Expliquée)\" % (pca.explained_variance_ratio_[0] * 100))\n",
    "ax.set_ylabel(\"PC2 (%.2f%% Variance Expliquée)\" % (pca.explained_variance_ratio_[1] * 100))\n",
    "ax.set_zlabel(\"PC3 (%.2f%% Variance Expliquée)\" % (pca.explained_variance_ratio_[2] * 100))\n",
    "ax.set_title(\"Projection PCA en 3D\")\n",
    "ax.legend(title=\"Labels\", loc=\"best\")\n",
    "plt.show()"
   ]
  },
  {
   "cell_type": "markdown",
   "metadata": {},
   "source": [
    "La réduction de dimension par PCA n’a pas produit de résultats significatifs sur ce dataset.  \n",
    "Une explication possible réside dans la nature des données : la majorité des colonnes sont composées de valeurs discrètes, tandis que la PCA est principalement conçue pour capturer des variations dans des données continues."
   ]
  },
  {
   "cell_type": "markdown",
   "metadata": {},
   "source": [
    "## Enregistrement données"
   ]
  },
  {
   "cell_type": "code",
   "execution_count": 23,
   "metadata": {},
   "outputs": [],
   "source": [
    "# Calcul de la PCA et transformation en df\n",
    "pca = PCA(n_components=6) \n",
    "df_pca = pca.fit_transform(df)\n",
    "\n",
    "df_pca_result = pd.DataFrame(df_pca, columns=[f'PC{i+1}' for i in range(df_pca.shape[1])])"
   ]
  },
  {
   "cell_type": "code",
   "execution_count": 25,
   "metadata": {},
   "outputs": [],
   "source": [
    "# Enregistrement sans les labels\n",
    "db['pca_result_no_label'] = df_pca_result"
   ]
  },
  {
   "cell_type": "code",
   "execution_count": 24,
   "metadata": {},
   "outputs": [
    {
     "name": "stdout",
     "output_type": "stream",
     "text": [
      "        PC1       PC2       PC3       PC4       PC5       PC6\n",
      "0  1.498925  0.556185  1.480718  0.252996  0.353333 -0.520257\n",
      "1  1.706914 -0.422343 -0.500192  0.359408  0.379628 -0.639800\n",
      "2  1.415219 -0.666727 -1.073973  0.437852  0.346161 -0.873749\n",
      "3 -1.659086 -1.339491  0.920439  0.063398  0.901587 -0.198749\n",
      "4 -1.537352  1.033390 -0.322859 -0.886858  1.098948 -0.231037\n"
     ]
    }
   ],
   "source": [
    "print(df_pca_result.head())"
   ]
  },
  {
   "cell_type": "code",
   "execution_count": 27,
   "metadata": {},
   "outputs": [],
   "source": [
    "# Enregistrement avec les labels\n",
    "df_pca_result_with_labels = pd.concat([df_pca_result, labels.reset_index(drop=True)], axis=1)\n",
    "db['pca_result_with_labels'] = df_pca_result_with_labels"
   ]
  },
  {
   "cell_type": "code",
   "execution_count": 28,
   "metadata": {},
   "outputs": [
    {
     "name": "stdout",
     "output_type": "stream",
     "text": [
      "        PC1       PC2       PC3       PC4       PC5       PC6   label  label_n\n",
      "0  1.498925  0.556185  1.480718  0.252996  0.353333 -0.520257  normal    False\n",
      "1  1.706914 -0.422343 -0.500192  0.359408  0.379628 -0.639800  normal    False\n",
      "2  1.415219 -0.666727 -1.073973  0.437852  0.346161 -0.873749  normal    False\n",
      "3 -1.659086 -1.339491  0.920439  0.063398  0.901587 -0.198749  normal    False\n",
      "4 -1.537352  1.033390 -0.322859 -0.886858  1.098948 -0.231037  normal    False\n"
     ]
    }
   ],
   "source": [
    "print(df_pca_result_with_labels.head())"
   ]
  }
 ],
 "metadata": {
  "kernelspec": {
   "display_name": "Python 3",
   "language": "python",
   "name": "python3"
  },
  "language_info": {
   "codemirror_mode": {
    "name": "ipython",
    "version": 3
   },
   "file_extension": ".py",
   "mimetype": "text/x-python",
   "name": "python",
   "nbconvert_exporter": "python",
   "pygments_lexer": "ipython3",
   "version": "3.12.1"
  }
 },
 "nbformat": 4,
 "nbformat_minor": 2
}
