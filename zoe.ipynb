{
 "cells": [
  {
   "cell_type": "markdown",
   "metadata": {},
   "source": [
    "# Notebook v0 : juste phy_att_1\n",
    "_Zoé_"
   ]
  },
  {
   "cell_type": "code",
   "execution_count": 1,
   "metadata": {},
   "outputs": [],
   "source": [
    "import numpy as np\n",
    "import pandas as pd\n",
    "import plotly as plt"
   ]
  },
  {
   "cell_type": "markdown",
   "metadata": {},
   "source": [
    "## Load data"
   ]
  },
  {
   "cell_type": "code",
   "execution_count": 47,
   "metadata": {},
   "outputs": [],
   "source": [
    "def load_data(file, encoding='utf-16', sep='\\t'):\n",
    "    data = pd.read_csv(f'dataset/Physical dataset/{file}.csv', encoding=encoding, sep=sep)\n",
    "    return data"
   ]
  },
  {
   "cell_type": "code",
   "execution_count": 3,
   "metadata": {},
   "outputs": [],
   "source": [
    "df_phy1 = load_data('phy_att_1')\n",
    "# df_phy2 = load_data('phy_att_2')\n",
    "# df_phy3 = load_data('phy_att_3')\n",
    "# df_phy4 = load_data('phy_att_4')\n",
    "# df_phy_norm = load_data('phy_norm')"
   ]
  },
  {
   "cell_type": "code",
   "execution_count": 4,
   "metadata": {},
   "outputs": [
    {
     "name": "stdout",
     "output_type": "stream",
     "text": [
      "                  Time  Tank_1  Tank_2  Tank_3  Tank_4  Tank_5  Tank_6  \\\n",
      "0  09/04/2021 18:23:28       0       0       0       0       0       0   \n",
      "1  09/04/2021 18:23:29       0       0       0       0       0       0   \n",
      "2  09/04/2021 18:23:30       0       0       0       0       0       0   \n",
      "3  09/04/2021 18:23:31       0       0       0       0       0       0   \n",
      "4  09/04/2021 18:23:32       0       0       0       0       0       0   \n",
      "\n",
      "   Tank_7  Tank_8  Pump_1  ...  Valv_15  Valv_16  Valv_17  Valv_18  Valv_19  \\\n",
      "0       0       0   False  ...    False    False    False    False    False   \n",
      "1       0       0   False  ...    False    False    False    False    False   \n",
      "2       0       0   False  ...    False    False    False    False    False   \n",
      "3       0       0   False  ...    False    False    False    False    False   \n",
      "4       0       0    True  ...    False    False    False    False    False   \n",
      "\n",
      "   Valv_20  Valv_21  Valv_22  Label_n   Label  \n",
      "0    False    False    False        0  normal  \n",
      "1    False    False    False        0  normal  \n",
      "2    False    False    False        0  normal  \n",
      "3    False    False    False        0  normal  \n",
      "4    False    False    False        0  normal  \n",
      "\n",
      "[5 rows x 43 columns]\n"
     ]
    }
   ],
   "source": [
    "print(df_phy1.head())"
   ]
  },
  {
   "cell_type": "code",
   "execution_count": 21,
   "metadata": {},
   "outputs": [
    {
     "name": "stdout",
     "output_type": "stream",
     "text": [
      "(2420, 43)\n"
     ]
    }
   ],
   "source": [
    "# dimensions\n",
    "print(df_phy1.shape)"
   ]
  },
  {
   "cell_type": "code",
   "execution_count": 6,
   "metadata": {},
   "outputs": [
    {
     "name": "stdout",
     "output_type": "stream",
     "text": [
      "<class 'pandas.core.frame.DataFrame'>\n",
      "RangeIndex: 2420 entries, 0 to 2419\n",
      "Data columns (total 43 columns):\n",
      " #   Column         Non-Null Count  Dtype \n",
      "---  ------         --------------  ----- \n",
      " 0   Time           2420 non-null   object\n",
      " 1   Tank_1         2420 non-null   int64 \n",
      " 2   Tank_2         2420 non-null   int64 \n",
      " 3   Tank_3         2420 non-null   int64 \n",
      " 4   Tank_4         2420 non-null   int64 \n",
      " 5   Tank_5         2420 non-null   int64 \n",
      " 6   Tank_6         2420 non-null   int64 \n",
      " 7   Tank_7         2420 non-null   int64 \n",
      " 8   Tank_8         2420 non-null   int64 \n",
      " 9   Pump_1         2420 non-null   bool  \n",
      " 10  Pump_2         2420 non-null   bool  \n",
      " 11  Pump_3         2420 non-null   bool  \n",
      " 12  Pump_4         2420 non-null   bool  \n",
      " 13  Pump_5         2420 non-null   bool  \n",
      " 14  Pump_6         2420 non-null   bool  \n",
      " 15  Flow_sensor_1  2420 non-null   int64 \n",
      " 16  Flow_sensor_2  2420 non-null   int64 \n",
      " 17  Flow_sensor_3  2420 non-null   int64 \n",
      " 18  Flow_sensor_4  2420 non-null   int64 \n",
      " 19  Valv_1         2420 non-null   bool  \n",
      " 20  Valv_2         2420 non-null   bool  \n",
      " 21  Valv_3         2420 non-null   bool  \n",
      " 22  Valv_4         2420 non-null   bool  \n",
      " 23  Valv_5         2420 non-null   bool  \n",
      " 24  Valv_6         2420 non-null   bool  \n",
      " 25  Valv_7         2420 non-null   bool  \n",
      " 26  Valv_8         2420 non-null   bool  \n",
      " 27  Valv_9         2420 non-null   bool  \n",
      " 28  Valv_10        2420 non-null   bool  \n",
      " 29  Valv_11        2420 non-null   bool  \n",
      " 30  Valv_12        2420 non-null   bool  \n",
      " 31  Valv_13        2420 non-null   bool  \n",
      " 32  Valv_14        2420 non-null   bool  \n",
      " 33  Valv_15        2420 non-null   bool  \n",
      " 34  Valv_16        2420 non-null   bool  \n",
      " 35  Valv_17        2420 non-null   bool  \n",
      " 36  Valv_18        2420 non-null   bool  \n",
      " 37  Valv_19        2420 non-null   bool  \n",
      " 38  Valv_20        2420 non-null   bool  \n",
      " 39  Valv_21        2420 non-null   bool  \n",
      " 40  Valv_22        2420 non-null   bool  \n",
      " 41  Label_n        2420 non-null   int64 \n",
      " 42  Label          2420 non-null   object\n",
      "dtypes: bool(28), int64(13), object(2)\n",
      "memory usage: 349.9+ KB\n",
      "None\n"
     ]
    }
   ],
   "source": [
    "print(df_phy1.info())"
   ]
  },
  {
   "cell_type": "markdown",
   "metadata": {},
   "source": [
    "On voit qu'on a une colonne de temps, à convertir en timestamp peut etre ? étudier les différents intervalles de temps ?  \n",
    "8 de tank, : entier  \n",
    "6 de pump, : booléen  \n",
    "4 folw sensor,  : entier  \n",
    "22 valv, : booléen  \n",
    "2 colonnes de label, une int et une catégorielle\n",
    "\n",
    "On va regarder ce qu'il y a dans label"
   ]
  },
  {
   "cell_type": "code",
   "execution_count": 12,
   "metadata": {},
   "outputs": [
    {
     "name": "stdout",
     "output_type": "stream",
     "text": [
      "Label\n",
      "normal            1610\n",
      "MITM               533\n",
      "physical fault     277\n",
      "Name: count, dtype: int64\n"
     ]
    }
   ],
   "source": [
    "# allons voir ce qu'il y a dans label\n",
    "print(df_phy1['Label'].value_counts())"
   ]
  },
  {
   "cell_type": "code",
   "execution_count": 15,
   "metadata": {},
   "outputs": [
    {
     "name": "stdout",
     "output_type": "stream",
     "text": [
      "Label      3\n",
      "Label_n    2\n",
      "dtype: int64\n"
     ]
    }
   ],
   "source": [
    "# afficher à la fois Label et Label_n avec le nombre de valeurs uniques\n",
    "print(df_phy1[['Label', 'Label_n']].nunique())"
   ]
  },
  {
   "cell_type": "code",
   "execution_count": 16,
   "metadata": {},
   "outputs": [
    {
     "name": "stdout",
     "output_type": "stream",
     "text": [
      "Label           Label_n\n",
      "normal          0          1610\n",
      "MITM            1           533\n",
      "physical fault  1           277\n",
      "Name: count, dtype: int64\n"
     ]
    }
   ],
   "source": [
    "# afficher à la fois Label et Label_n avec le nombre de fois qu'ils apparaissent en commun\n",
    "print(df_phy1[['Label', 'Label_n']].value_counts())"
   ]
  },
  {
   "cell_type": "code",
   "execution_count": null,
   "metadata": {},
   "outputs": [],
   "source": [
    "# on peut déduire de que Label_n 0 -> normal -> benign\n",
    "# 1 -> MITM ou physical fault -> attack ? chercher à quoi ça correspond "
   ]
  },
  {
   "cell_type": "code",
   "execution_count": 17,
   "metadata": {},
   "outputs": [
    {
     "name": "stdout",
     "output_type": "stream",
     "text": [
      "Label_n\n",
      "0    1610\n",
      "1     810\n",
      "Name: count, dtype: int64\n"
     ]
    }
   ],
   "source": [
    "# afficher le nombre de normal et d'attaque\n",
    "print(df_phy1['Label_n'].value_counts())"
   ]
  },
  {
   "cell_type": "code",
   "execution_count": 18,
   "metadata": {},
   "outputs": [
    {
     "name": "stdout",
     "output_type": "stream",
     "text": [
      "datetime64[ns]\n"
     ]
    }
   ],
   "source": [
    "# on veut regarder ce qu'il se passe au niveau du temps\n",
    "# pour l'instant la colonne est catégorielle mais on aimerait la basculer en timestamp\n",
    "# on va donc transformer la colonne en datetime\n",
    "df_phy1['Time'] = pd.to_datetime(df_phy1['Time'])\n",
    "print(df_phy1['Time'].dtype)"
   ]
  },
  {
   "cell_type": "code",
   "execution_count": 19,
   "metadata": {},
   "outputs": [
    {
     "name": "stdout",
     "output_type": "stream",
     "text": [
      "Time\n",
      "2021-09-04 19:03:47    1\n",
      "2021-09-04 18:23:28    1\n",
      "2021-09-04 18:23:29    1\n",
      "2021-09-04 18:23:30    1\n",
      "2021-09-04 19:03:31    1\n",
      "                      ..\n",
      "2021-09-04 18:23:36    1\n",
      "2021-09-04 18:23:35    1\n",
      "2021-09-04 18:23:34    1\n",
      "2021-09-04 18:23:33    1\n",
      "2021-09-04 18:23:32    1\n",
      "Name: count, Length: 2420, dtype: int64\n"
     ]
    }
   ],
   "source": [
    "# afficher les différentes valeurs de Time\n",
    "print(df_phy1['Time'].value_counts())"
   ]
  },
  {
   "cell_type": "code",
   "execution_count": 20,
   "metadata": {},
   "outputs": [
    {
     "name": "stdout",
     "output_type": "stream",
     "text": [
      "Time\n",
      "0 days 00:00:01    2419\n",
      "Name: count, dtype: int64\n"
     ]
    }
   ],
   "source": [
    "# regarder la différence entre chaque valeur de Time\n",
    "print(df_phy1['Time'].diff().value_counts())"
   ]
  },
  {
   "cell_type": "code",
   "execution_count": null,
   "metadata": {},
   "outputs": [],
   "source": [
    "# série temporelle avec 1 seconde d'intervalles -> CNN 1D ?"
   ]
  },
  {
   "cell_type": "code",
   "execution_count": 24,
   "metadata": {},
   "outputs": [
    {
     "name": "stdout",
     "output_type": "stream",
     "text": [
      "       Flow_sensor_1  Flow_sensor_2  Flow_sensor_3  Flow_sensor_4\n",
      "count    2420.000000    2420.000000         2420.0    2420.000000\n",
      "mean     1634.090909    1595.041322            0.0    1283.821488\n",
      "std      1963.983001    1958.977859            0.0    1738.336519\n",
      "min         0.000000       0.000000            0.0       0.000000\n",
      "25%         0.000000       0.000000            0.0       0.000000\n",
      "50%         0.000000       0.000000            0.0       0.000000\n",
      "75%      4000.000000    4000.000000            0.0    2769.000000\n",
      "max      4000.000000    4000.000000            0.0    4789.000000\n"
     ]
    }
   ],
   "source": [
    "# regarder la distribution des valeurs numériques pour Flow_sensor_1, Flow_sensor_2, Flow_sensor_3, Flow_sensor_4\n",
    "print(df_phy1[['Flow_sensor_1', 'Flow_sensor_2', 'Flow_sensor_3', 'Flow_sensor_4']].describe())"
   ]
  },
  {
   "cell_type": "code",
   "execution_count": 29,
   "metadata": {},
   "outputs": [
    {
     "name": "stdout",
     "output_type": "stream",
     "text": [
      "Flow_sensor_1\n",
      "0                1368\n",
      "4000              987\n",
      "100                65\n",
      "Name: count, dtype: int64\n",
      "Flow_sensor_2\n",
      "0                1455\n",
      "4000              965\n",
      "Name: count, dtype: int64\n",
      "Flow_sensor_3\n",
      "0                2420\n",
      "Name: count, dtype: int64\n",
      "Flow_sensor_4\n",
      "0                1372\n",
      "4635                6\n",
      "4668                6\n",
      "4527                5\n",
      "4478                5\n",
      "                 ... \n",
      "1412                1\n",
      "3025                1\n",
      "3023                1\n",
      "1421                1\n",
      "3096                1\n",
      "Name: count, Length: 686, dtype: int64\n"
     ]
    }
   ],
   "source": [
    "print(df_phy1[['Flow_sensor_1']].value_counts())\n",
    "print(df_phy1[['Flow_sensor_2']].value_counts())\n",
    "print(df_phy1[['Flow_sensor_3']].value_counts())\n",
    "print(df_phy1[['Flow_sensor_4']].value_counts())"
   ]
  },
  {
   "cell_type": "code",
   "execution_count": null,
   "metadata": {},
   "outputs": [],
   "source": [
    "# 0, 100, 4k pour Flow_sensor_1\n",
    "# 0, 4k pour Flow_sensor_2\n",
    "# 0 pour Flow_sensor_3 -> inutile : si identique dans autres physical datasets on peut le supprimer\n",
    "# beaucoup de valeurs pour Flow_sensor_4"
   ]
  },
  {
   "cell_type": "code",
   "execution_count": 32,
   "metadata": {},
   "outputs": [
    {
     "name": "stdout",
     "output_type": "stream",
     "text": [
      "Flow_sensor_1      3\n",
      "Flow_sensor_2      2\n",
      "Flow_sensor_3      1\n",
      "Flow_sensor_4    686\n",
      "dtype: int64\n"
     ]
    }
   ],
   "source": [
    "# combien y a t il de valeurs différentes pour Flow_sensor_1, Flow_sensor_2, Flow_sensor_3, Flow_sensor_4\n",
    "print(df_phy1[['Flow_sensor_1', 'Flow_sensor_2', 'Flow_sensor_3', 'Flow_sensor_4']].nunique())"
   ]
  },
  {
   "cell_type": "code",
   "execution_count": 25,
   "metadata": {},
   "outputs": [
    {
     "name": "stdout",
     "output_type": "stream",
     "text": [
      "[[<Axes: title={'center': 'Flow_sensor_1'}>\n",
      "  <Axes: title={'center': 'Flow_sensor_2'}>]\n",
      " [<Axes: title={'center': 'Flow_sensor_3'}>\n",
      "  <Axes: title={'center': 'Flow_sensor_4'}>]]\n"
     ]
    },
    {
     "data": {
      "image/png": "[encoded data removed]",
      "text/plain": [
       "<Figure size 640x480 with 4 Axes>"
      ]
     },
     "metadata": {},
     "output_type": "display_data"
    }
   ],
   "source": [
    "print(df_phy1[['Flow_sensor_1', 'Flow_sensor_2', 'Flow_sensor_3', 'Flow_sensor_4']].hist())"
   ]
  },
  {
   "cell_type": "code",
   "execution_count": 34,
   "metadata": {},
   "outputs": [
    {
     "name": "stdout",
     "output_type": "stream",
     "text": [
      "            Tank_1       Tank_2       Tank_3       Tank_4       Tank_5  \\\n",
      "count  2420.000000  2420.000000  2420.000000  2420.000000  2420.000000   \n",
      "mean    686.320661   714.946281   922.677686   362.064463   361.733058   \n",
      "std     654.955181   656.051613   942.572849   366.970644   278.799110   \n",
      "min       0.000000     0.000000     0.000000     0.000000     0.000000   \n",
      "25%       2.000000     5.000000    73.250000    27.000000    30.500000   \n",
      "50%     598.000000   639.500000   747.500000   231.000000   370.000000   \n",
      "75%    1244.000000  1293.250000  1226.250000   692.250000   605.250000   \n",
      "max    1980.000000  1952.000000  3427.000000  1134.000000   835.000000   \n",
      "\n",
      "            Tank_6       Tank_7       Tank_8  \n",
      "count  2420.000000  2420.000000  2420.000000  \n",
      "mean    198.284298   207.890083   163.835124  \n",
      "std     190.497343   216.415569   179.054521  \n",
      "min       0.000000     0.000000     0.000000  \n",
      "25%       3.000000     0.000000     0.000000  \n",
      "50%     165.500000   144.000000    86.000000  \n",
      "75%     380.250000   450.000000   358.250000  \n",
      "max     800.000000   812.000000   507.000000  \n"
     ]
    }
   ],
   "source": [
    "# idem pour les différent tank\n",
    "print(df_phy1[['Tank_1', 'Tank_2', 'Tank_3', 'Tank_4', 'Tank_5', 'Tank_6', 'Tank_7', 'Tank_8']].describe())"
   ]
  },
  {
   "cell_type": "code",
   "execution_count": 36,
   "metadata": {},
   "outputs": [
    {
     "name": "stdout",
     "output_type": "stream",
     "text": [
      "Tank_1    1049\n",
      "Tank_2    1120\n",
      "Tank_3    1234\n",
      "Tank_4     807\n",
      "Tank_5     721\n",
      "Tank_6     482\n",
      "Tank_7      99\n",
      "Tank_8     424\n",
      "dtype: int64\n"
     ]
    }
   ],
   "source": [
    "print(df_phy1[['Tank_1', 'Tank_2', 'Tank_3', 'Tank_4', 'Tank_5', 'Tank_6', 'Tank_7', 'Tank_8']].nunique())"
   ]
  },
  {
   "cell_type": "code",
   "execution_count": 37,
   "metadata": {},
   "outputs": [
    {
     "name": "stdout",
     "output_type": "stream",
     "text": [
      "[[<Axes: title={'center': 'Tank_1'}> <Axes: title={'center': 'Tank_2'}>\n",
      "  <Axes: title={'center': 'Tank_3'}>]\n",
      " [<Axes: title={'center': 'Tank_4'}> <Axes: title={'center': 'Tank_5'}>\n",
      "  <Axes: title={'center': 'Tank_6'}>]\n",
      " [<Axes: title={'center': 'Tank_7'}> <Axes: title={'center': 'Tank_8'}>\n",
      "  <Axes: >]]\n"
     ]
    },
    {
     "data": {
      "image/png": "[encoded data removed]",
      "text/plain": [
       "<Figure size 640x480 with 9 Axes>"
      ]
     },
     "metadata": {},
     "output_type": "display_data"
    }
   ],
   "source": [
    "print(df_phy1[['Tank_1', 'Tank_2', 'Tank_3', 'Tank_4', 'Tank_5', 'Tank_6', 'Tank_7', 'Tank_8']].hist())"
   ]
  },
  {
   "cell_type": "code",
   "execution_count": null,
   "metadata": {},
   "outputs": [],
   "source": []
  },
  {
   "cell_type": "code",
   "execution_count": null,
   "metadata": {},
   "outputs": [],
   "source": []
  },
  {
   "cell_type": "code",
   "execution_count": null,
   "metadata": {},
   "outputs": [],
   "source": [
    "# vérifions qu'on a les memes données pour les autres datasets\n",
    "# 1. les memes colonnes\n",
    "# 2. combien de ligne \n",
    "# 3. comparer les labels\n",
    "# 4. comparer la répartition des valeurs numériques"
   ]
  },
  {
   "cell_type": "code",
   "execution_count": 50,
   "metadata": {},
   "outputs": [],
   "source": [
    "df_phy2 = load_data('phy_att_2')\n",
    "df_phy3 = load_data('phy_att_3')\n",
    "df_phy4 = load_data('phy_att_4', encoding='utf-8', sep=',')"
   ]
  },
  {
   "cell_type": "code",
   "execution_count": 51,
   "metadata": {},
   "outputs": [
    {
     "name": "stdout",
     "output_type": "stream",
     "text": [
      "(2420, 43)\n",
      "(2104, 43)\n",
      "(1254, 43)\n",
      "(1717, 43)\n"
     ]
    }
   ],
   "source": [
    "print(df_phy1.shape)\n",
    "print(df_phy2.shape)\n",
    "print(df_phy3.shape)\n",
    "print(df_phy4.shape)"
   ]
  },
  {
   "cell_type": "code",
   "execution_count": 64,
   "metadata": {},
   "outputs": [
    {
     "name": "stdout",
     "output_type": "stream",
     "text": [
      "['Label_n']\n",
      "['Lable_n']\n",
      "[]\n",
      "[]\n",
      "[]\n",
      "[]\n"
     ]
    }
   ],
   "source": [
    "# comment vérifier que les colonnes sont les mêmes ?   \n",
    "\n",
    "# convertir columns en list et comparer les deux listes avec diff\n",
    "print(list(df_phy1.columns.difference(df_phy2.columns)))\n",
    "print(list(df_phy2.columns.difference(df_phy1.columns)))\n",
    "print(list(df_phy1.columns.difference(df_phy3.columns)))\n",
    "print(list(df_phy3.columns.difference(df_phy1.columns)))\n",
    "print(list(df_phy1.columns.difference(df_phy4.columns)))\n",
    "print(list(df_phy4.columns.difference(df_phy1.columns)))"
   ]
  },
  {
   "cell_type": "code",
   "execution_count": 65,
   "metadata": {},
   "outputs": [],
   "source": [
    "# on voit qu'il faut renommer la colonne Lable_n en Label_n pour phy_2  pour avoir exactement les memes colonnes dans chaque dataset\n",
    "df_phy2.rename(columns={'Lable_n': 'Label_n'}, inplace=True)"
   ]
  },
  {
   "cell_type": "code",
   "execution_count": 66,
   "metadata": {},
   "outputs": [
    {
     "name": "stdout",
     "output_type": "stream",
     "text": [
      "Label_n\n",
      "0    1610\n",
      "1     810\n",
      "Name: count, dtype: int64\n",
      "Label_n\n",
      "0    1798\n",
      "1     306\n",
      "Name: count, dtype: int64\n",
      "Label_n\n",
      "0    911\n",
      "1    343\n",
      "Name: count, dtype: int64\n",
      "Label_n\n",
      "0    1159\n",
      "1     558\n",
      "Name: count, dtype: int64\n"
     ]
    }
   ],
   "source": [
    "print(df_phy1['Label_n'].value_counts())\n",
    "print(df_phy2['Label_n'].value_counts())\n",
    "print(df_phy3['Label_n'].value_counts())\n",
    "print(df_phy4['Label_n'].value_counts())\n",
    "# bien que des 0 -> benign, 1 -> attack"
   ]
  },
  {
   "cell_type": "code",
   "execution_count": 100,
   "metadata": {},
   "outputs": [
    {
     "name": "stdout",
     "output_type": "stream",
     "text": [
      "{'normal': 1610}\n",
      "{'normal': 1798}\n",
      "{'normal': 911}\n",
      "{'normal': 1159}\n",
      "--------------------------------------------------\n",
      "{'MITM': 533, 'physical fault': 277}\n",
      "{'physical fault': 123, 'MITM': 96, 'DoS': 80, 'scan': 7}\n",
      "{'physical fault': 152, 'MITM': 114, 'DoS': 77}\n",
      "{'MITM': 265, 'DoS': 153, 'physical fault': 133, 'scan': 7}\n"
     ]
    }
   ],
   "source": [
    "# vérifier pour chaque dataset que 0 dans Label_n correspond à normal et 1 à != normal\n",
    "print(df_phy1[df_phy1['Label_n'] == 0]['Label'].value_counts().to_dict())\n",
    "print(df_phy2[df_phy2['Label_n'] == 0]['Label'].value_counts().to_dict())\n",
    "print(df_phy3[df_phy3['Label_n'] == 0]['Label'].value_counts().to_dict())\n",
    "print(df_phy4[df_phy4['Label_n'] == 0]['Label'].value_counts().to_dict())\n",
    "print('-'*50)\n",
    "\n",
    "print(df_phy1[df_phy1['Label_n'] == 1]['Label'].value_counts().to_dict())\n",
    "print(df_phy2[df_phy2['Label_n'] == 1]['Label'].value_counts().to_dict())\n",
    "print(df_phy3[df_phy3['Label_n'] == 1]['Label'].value_counts().to_dict())\n",
    "print(df_phy4[df_phy4['Label_n'] == 1]['Label'].value_counts().to_dict())"
   ]
  },
  {
   "cell_type": "code",
   "execution_count": 76,
   "metadata": {},
   "outputs": [],
   "source": [
    "# on voit que dans df_phy2 il y a des problèmes -> renommer \"nomal\" en normal 249 fois\n",
    "df_phy2['Label'] = df_phy2['Label'].str.replace('nomal', 'normal')"
   ]
  },
  {
   "cell_type": "code",
   "execution_count": 80,
   "metadata": {},
   "outputs": [
    {
     "name": "stdout",
     "output_type": "stream",
     "text": [
      "(0, 43)\n",
      "(0, 43)\n",
      "(0, 43)\n",
      "(0, 43)\n"
     ]
    }
   ],
   "source": [
    "# vérifier qu'il y a zéro Label_n = 0 et Label != normal \n",
    "print(df_phy1[(df_phy1['Label_n'] == 0) & (df_phy1['Label'] != 'normal')].shape)\n",
    "print(df_phy2[(df_phy2['Label_n'] == 0) & (df_phy2['Label'] != 'normal')].shape)\n",
    "print(df_phy3[(df_phy3['Label_n'] == 0) & (df_phy3['Label'] != 'normal')].shape)\n",
    "print(df_phy4[(df_phy4['Label_n'] == 0) & (df_phy4['Label'] != 'normal')].shape)\n"
   ]
  },
  {
   "cell_type": "code",
   "execution_count": 81,
   "metadata": {},
   "outputs": [
    {
     "name": "stdout",
     "output_type": "stream",
     "text": [
      "(0, 43)\n",
      "(0, 43)\n",
      "(0, 43)\n",
      "(0, 43)\n"
     ]
    }
   ],
   "source": [
    "# vérifier qu'il y a zéro Label_n = 1 et Label = normal \n",
    "print(df_phy1[(df_phy1['Label_n'] == 1) & (df_phy1['Label'] == 'normal')].shape)\n",
    "print(df_phy2[(df_phy2['Label_n'] == 1) & (df_phy2['Label'] == 'normal')].shape)\n",
    "print(df_phy3[(df_phy3['Label_n'] == 1) & (df_phy3['Label'] == 'normal')].shape)\n",
    "print(df_phy4[(df_phy4['Label_n'] == 1) & (df_phy4['Label'] == 'normal')].shape)"
   ]
  },
  {
   "cell_type": "code",
   "execution_count": 82,
   "metadata": {},
   "outputs": [
    {
     "name": "stdout",
     "output_type": "stream",
     "text": [
      "['normal' 'MITM' 'physical fault']\n",
      "['normal' 'scan' 'DoS' 'physical fault' 'MITM']\n",
      "['normal' 'physical fault' 'DoS' 'MITM']\n",
      "['normal' 'scan' 'DoS' 'physical fault' 'MITM']\n"
     ]
    }
   ],
   "source": [
    "# comment vérifier que les labels sont les mêmes ?\n",
    "# lister tous les labels différents\n",
    "print(df_phy1['Label'].unique())\n",
    "print(df_phy2['Label'].unique())\n",
    "print(df_phy3['Label'].unique())\n",
    "print(df_phy4['Label'].unique())"
   ]
  },
  {
   "cell_type": "code",
   "execution_count": 84,
   "metadata": {},
   "outputs": [
    {
     "name": "stderr",
     "output_type": "stream",
     "text": [
      "/tmp/ipykernel_85706/2652067358.py:2: UserWarning: Parsing dates in %d/%m/%Y %H:%M:%S format when dayfirst=False (the default) was specified. Pass `dayfirst=True` or specify a format to silence this warning.\n",
      "  df_phy2['Time'] = pd.to_datetime(df_phy2['Time'])\n",
      "/tmp/ipykernel_85706/2652067358.py:4: UserWarning: Parsing dates in %d/%m/%Y %H:%M:%S format when dayfirst=False (the default) was specified. Pass `dayfirst=True` or specify a format to silence this warning.\n",
      "  df_phy4['Time'] = pd.to_datetime(df_phy4['Time'])\n"
     ]
    }
   ],
   "source": [
    "# transform time \n",
    "df_phy2['Time'] = pd.to_datetime(df_phy2['Time'])\n",
    "df_phy3['Time'] = pd.to_datetime(df_phy3['Time'])\n",
    "df_phy4['Time'] = pd.to_datetime(df_phy4['Time'])"
   ]
  },
  {
   "cell_type": "code",
   "execution_count": 85,
   "metadata": {},
   "outputs": [
    {
     "name": "stdout",
     "output_type": "stream",
     "text": [
      "Time\n",
      "0 days 00:00:01    2419\n",
      "Name: count, dtype: int64\n",
      "Time\n",
      "0 days 00:00:01    2102\n",
      "0 days 00:00:02       1\n",
      "Name: count, dtype: int64\n",
      "Time\n",
      "0 days 00:00:01    1253\n",
      "Name: count, dtype: int64\n",
      "Time\n",
      "0 days 00:00:01    1716\n",
      "Name: count, dtype: int64\n"
     ]
    }
   ],
   "source": [
    "# vérifier que toujours qu'une seconde entre chaque valeur\n",
    "print(df_phy1['Time'].diff().value_counts())\n",
    "print(df_phy2['Time'].diff().value_counts())\n",
    "print(df_phy3['Time'].diff().value_counts())\n",
    "print(df_phy4['Time'].diff().value_counts())"
   ]
  },
  {
   "cell_type": "code",
   "execution_count": null,
   "metadata": {},
   "outputs": [],
   "source": [
    "# investiguer : il y a 2 secondes UNE SEULE FOIS dans phy2 -> peut etre que la conversion en timestamp s'est mal passée\n",
    "# que faire si vraiment 2 secondes -> est ce qu'on comble le trou en dupliquant la valeur précédente ?"
   ]
  },
  {
   "cell_type": "code",
   "execution_count": null,
   "metadata": {},
   "outputs": [],
   "source": []
  },
  {
   "cell_type": "code",
   "execution_count": 83,
   "metadata": {},
   "outputs": [],
   "source": [
    "# EDA de normal dataset\n",
    "df_phy_norm = load_data('phy_norm')"
   ]
  },
  {
   "cell_type": "code",
   "execution_count": 86,
   "metadata": {},
   "outputs": [
    {
     "name": "stdout",
     "output_type": "stream",
     "text": [
      "                  Time  Tank_1  Tank_2  Tank_3  Tank_4  Tank_5  Tank_6  \\\n",
      "0  09/04/2021 11:30:50       0       0       0       0       0       0   \n",
      "1  09/04/2021 11:30:51       0       0       0       0       0       0   \n",
      "2  09/04/2021 11:30:52       0       0       0       0       0       0   \n",
      "3  09/04/2021 11:30:53       0       0       0       0       0       0   \n",
      "4  09/04/2021 11:30:54       0       0       0       0       0       0   \n",
      "\n",
      "   Tank_7  Tank_8  Pump_1  ...  Valv_15  Valv_16  Valv_17  Valv_18  Valv_19  \\\n",
      "0       0       0   False  ...    False    False    False    False    False   \n",
      "1       0       0   False  ...    False    False    False    False    False   \n",
      "2       0       0   False  ...    False    False    False    False    False   \n",
      "3       0       0   False  ...    False    False    False    False    False   \n",
      "4       0       0   False  ...    False    False    False    False    False   \n",
      "\n",
      "   Valv_20  Valv_21  Valv_22  Label_n   Label  \n",
      "0    False    False    False        0  normal  \n",
      "1    False    False    False        0  normal  \n",
      "2    False    False    False        0  normal  \n",
      "3    False    False    False        0  normal  \n",
      "4    False    False    False        0  normal  \n",
      "\n",
      "[5 rows x 43 columns]\n"
     ]
    }
   ],
   "source": [
    "print(df_phy_norm.head())   "
   ]
  },
  {
   "cell_type": "code",
   "execution_count": 87,
   "metadata": {},
   "outputs": [
    {
     "name": "stdout",
     "output_type": "stream",
     "text": [
      "(3428, 43)\n"
     ]
    }
   ],
   "source": [
    "print(df_phy_norm.shape)"
   ]
  },
  {
   "cell_type": "code",
   "execution_count": 90,
   "metadata": {},
   "outputs": [
    {
     "name": "stdout",
     "output_type": "stream",
     "text": [
      "set()\n",
      "set()\n"
     ]
    }
   ],
   "source": [
    "# regardons les colonnes\n",
    "attack_col = set(df_phy1.columns)\n",
    "normal_col = set(df_phy_norm.columns)\n",
    "print(attack_col.difference(normal_col))\n",
    "print(normal_col.difference(attack_col))"
   ]
  },
  {
   "cell_type": "code",
   "execution_count": 95,
   "metadata": {},
   "outputs": [
    {
     "name": "stdout",
     "output_type": "stream",
     "text": [
      "{'normal': 3428}\n",
      "{0: 3428}\n"
     ]
    }
   ],
   "source": [
    "# regardons les labels\n",
    "print(df_phy_norm['Label'].value_counts().to_dict())\n",
    "print(df_phy_norm['Label_n'].value_counts().to_dict())"
   ]
  },
  {
   "cell_type": "code",
   "execution_count": 106,
   "metadata": {},
   "outputs": [
    {
     "name": "stdout",
     "output_type": "stream",
     "text": [
      "{}\n"
     ]
    }
   ],
   "source": [
    "# regardons les null pour chaque dataset \n",
    "# si = 0 -> on peut les supprimer\n",
    "\n",
    "dict_1 = df_phy1.isnull().sum().to_dict()\n",
    "dict_2 = df_phy2.isnull().sum().to_dict()\n",
    "dict_3 = df_phy3.isnull().sum().to_dict()\n",
    "dict_4 = df_phy4.isnull().sum().to_dict()\n",
    "dict_norm = df_phy_norm.isnull().sum().to_dict()\n",
    "\n",
    "print({k: v for k, v in dict_1.items() if v > 0})\n",
    "# aucune valeur nulle"
   ]
  },
  {
   "cell_type": "code",
   "execution_count": 111,
   "metadata": {},
   "outputs": [
    {
     "name": "stdout",
     "output_type": "stream",
     "text": [
      "nb ligne dans phy1 :  2420\n",
      "726 590 0 461 991 966\n",
      "3734\n"
     ]
    }
   ],
   "source": [
    "# lorsque booléen, est ce que seulement un true à la fois ? pump de 1 à 6 et valv de 1 à 22\n",
    "# regardons juste pour phy1\n",
    "print(\"nb ligne dans phy1 : \", df_phy1.shape[0])\n",
    "val_1 = df_phy1['Pump_1'].sum()\n",
    "val_2 = df_phy1['Pump_2'].sum()\n",
    "val_3 = df_phy1['Pump_3'].sum()\n",
    "val_4 = df_phy1['Pump_4'].sum()\n",
    "val_5 = df_phy1['Pump_5'].sum()\n",
    "val_6 = df_phy1['Pump_6'].sum()\n",
    "print(val_1, val_2, val_3, val_4, val_5, val_6)\n",
    "print(val_1 + val_2 + val_3 + val_4 + val_5 + val_6)\n",
    "# non -> plusieurs valeurs à true en même temps possible\n",
    "# mais on voit que pour phy1 pump_3 est toujours à false -> on peut le supprimer si idem dans autre dataset"
   ]
  },
  {
   "cell_type": "code",
   "execution_count": 113,
   "metadata": {},
   "outputs": [
    {
     "name": "stdout",
     "output_type": "stream",
     "text": [
      "{False: 2420}\n",
      "{False: 2104}\n",
      "{False: 1254}\n",
      "{False: 1717}\n",
      "{False: 3428}\n"
     ]
    }
   ],
   "source": [
    "print(df_phy1['Pump_3'].value_counts().to_dict())\n",
    "print(df_phy2['Pump_3'].value_counts().to_dict())\n",
    "print(df_phy3['Pump_3'].value_counts().to_dict())\n",
    "print(df_phy4['Pump_3'].value_counts().to_dict())\n",
    "print(df_phy_norm['Pump_3'].value_counts().to_dict())\n",
    "# que des false -> colonne à supprimer"
   ]
  },
  {
   "cell_type": "code",
   "execution_count": 116,
   "metadata": {},
   "outputs": [
    {
     "name": "stdout",
     "output_type": "stream",
     "text": [
      "nb ligne dans phy1 :  2420\n",
      "Valv_1 {False: 2420}\n",
      "Valv_2 {False: 2420}\n",
      "Valv_3 {False: 2420}\n",
      "Valv_4 {False: 2420}\n",
      "Valv_5 {False: 2420}\n",
      "Valv_6 {False: 2420}\n",
      "Valv_7 {False: 2420}\n",
      "Valv_8 {False: 2420}\n",
      "Valv_9 {False: 2420}\n",
      "Valv_10 {True: 1615, False: 805}\n",
      "Valv_11 {True: 1615, False: 805}\n",
      "Valv_12 {True: 1614, False: 806}\n",
      "Valv_13 {True: 1269, False: 1151}\n",
      "Valv_14 {True: 1269, False: 1151}\n",
      "Valv_15 {True: 1269, False: 1151}\n",
      "Valv_16 {False: 2420}\n",
      "Valv_17 {False: 1486, True: 934}\n",
      "Valv_18 {False: 1861, True: 559}\n",
      "Valv_19 {False: 2420}\n",
      "Valv_20 {True: 1500, False: 920}\n",
      "Valv_21 {False: 2420}\n",
      "Valv_22 {False: 1372, True: 1048}\n",
      "12692\n"
     ]
    }
   ],
   "source": [
    "# regardons pour valv pour phy1\n",
    "print(\"nb ligne dans phy1 : \", df_phy1.shape[0])\n",
    "sum_valv = 0\n",
    "for i in range(1, 23):\n",
    "    sum_valv += df_phy1[f'Valv_{i}'].sum()\n",
    "    print(f'Valv_{i}',df_phy1[f'Valv_{i}'].value_counts().to_dict())\n",
    "print(sum_valv)\n",
    "# idem : ne sommes pas à 1 true par valv \n",
    "# mais on voit plein de colonnes à valeur constante à false, regardons dans les autres datasets"
   ]
  },
  {
   "cell_type": "code",
   "execution_count": 122,
   "metadata": {},
   "outputs": [
    {
     "name": "stdout",
     "output_type": "stream",
     "text": [
      "Valv_1 :  0 5\n",
      "Valv_2 :  0 5\n",
      "Valv_3 :  0 5\n",
      "Valv_4 :  0 5\n",
      "Valv_5 :  0 5\n",
      "Valv_6 :  0 5\n",
      "Valv_7 :  0 5\n",
      "Valv_8 :  0 5\n",
      "Valv_9 :  0 5\n",
      "Valv_16 :  0 5\n",
      "Valv_19 :  0 5\n",
      "Valv_21 :  0 5\n"
     ]
    }
   ],
   "source": [
    "# combien de valeurs dans chaque dataset pour chaque colonne de valv \n",
    "for i in range(1, 23):\n",
    "    _true = 0\n",
    "    _false = 0\n",
    "\n",
    "    dict_1 = df_phy1[f'Valv_{i}'].value_counts().to_dict()\n",
    "    dict_2 = df_phy2[f'Valv_{i}'].value_counts().to_dict()\n",
    "    dict_3 = df_phy3[f'Valv_{i}'].value_counts().to_dict()\n",
    "    dict_4 = df_phy4[f'Valv_{i}'].value_counts().to_dict()\n",
    "    dict_norm = df_phy_norm[f'Valv_{i}'].value_counts().to_dict()\n",
    "\n",
    "    if len(dict_1) == 1:\n",
    "        if dict_1.get(True):\n",
    "            _true += 1\n",
    "        if dict_1.get(False):\n",
    "            _false += 1\n",
    "    if len(dict_2) == 1:\n",
    "        if dict_2.get(True):\n",
    "            _true += 1\n",
    "        if dict_2.get(False):\n",
    "            _false += 1\n",
    "    if len(dict_3) == 1:\n",
    "        if dict_3.get(True):\n",
    "            _true += 1\n",
    "        if dict_3.get(False):\n",
    "            _false += 1\n",
    "    if len(dict_4) == 1:\n",
    "        if dict_4.get(True):\n",
    "            _true += 1\n",
    "        if dict_4.get(False):\n",
    "            _false += 1\n",
    "    if len(dict_norm) == 1:\n",
    "        if dict_norm.get(True):\n",
    "            _true += 1\n",
    "        if dict_norm.get(False):\n",
    "            _false += 1\n",
    "\n",
    "    if _true == 5 or _false == 5:\n",
    "        print(f'Valv_{i} : ', _true, _false)\n"
   ]
  },
  {
   "cell_type": "code",
   "execution_count": null,
   "metadata": {},
   "outputs": [],
   "source": [
    "# on voit qu'on a 12 colonnes à supprimer car seulement des False -> TODO"
   ]
  },
  {
   "cell_type": "code",
   "execution_count": null,
   "metadata": {},
   "outputs": [],
   "source": [
    "# ??? est ce qu'on doit ajouter les données norm dans notre grand dataframe ou pas ?\n",
    "# time -> transformer en 1 à n secondes ?\n",
    "# 1 gros dataframe ou on concatène les données norm et les données attaque, on ajoute une colonne pour dire de quel dataset ça vient"
   ]
  },
  {
   "cell_type": "code",
   "execution_count": null,
   "metadata": {},
   "outputs": [],
   "source": [
    "# Observation des données \n",
    "\n",
    "# Clean data\n",
    "    # noms des colonnes\n",
    "    # cohérence\n",
    "    # valeurs manquantes\n",
    "\n",
    "# Analyse exploratoire : EDA -> première vizs \n",
    "\n",
    "# Visualisations \n",
    "# Analyses statistiques (PCA, correlations)\n",
    "# Analyse par Machine learning"
   ]
  },
  {
   "cell_type": "code",
   "execution_count": null,
   "metadata": {},
   "outputs": [],
   "source": []
  },
  {
   "cell_type": "code",
   "execution_count": null,
   "metadata": {},
   "outputs": [],
   "source": []
  },
  {
   "cell_type": "code",
   "execution_count": null,
   "metadata": {},
   "outputs": [],
   "source": []
  }
 ],
 "metadata": {
  "kernelspec": {
   "display_name": "Python 3",
   "language": "python",
   "name": "python3"
  },
  "language_info": {
   "codemirror_mode": {
    "name": "ipython",
    "version": 3
   },
   "file_extension": ".py",
   "mimetype": "text/x-python",
   "name": "python",
   "nbconvert_exporter": "python",
   "pygments_lexer": "ipython3",
   "version": "3.10.12"
  }
 },
 "nbformat": 4,
 "nbformat_minor": 2
}
